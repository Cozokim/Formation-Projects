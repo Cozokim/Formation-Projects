{
  "nbformat": 4,
  "nbformat_minor": 0,
  "metadata": {
    "colab": {
      "name": "déploiement.ipynb",
      "provenance": [],
      "collapsed_sections": []
    },
    "kernelspec": {
      "name": "python3",
      "display_name": "Python 3"
    },
    "language_info": {
      "name": "python"
    }
  },
  "cells": [
    {
      "cell_type": "code",
      "metadata": {
        "id": "Ju8Bq296A8ma"
      },
      "source": [
        "# Import libraries\n",
        "import pandas as pd\n",
        "import numpy as np\n",
        "from pathlib import Path\n",
        "import pickle\n",
        "from sklearn.metrics.pairwise import cosine_similarity"
      ],
      "execution_count": null,
      "outputs": []
    },
    {
      "cell_type": "code",
      "source": [
        ""
      ],
      "metadata": {
        "id": "qQaZRka1Teto"
      },
      "execution_count": null,
      "outputs": []
    },
    {
      "cell_type": "code",
      "source": [
        "from google.colab import drive\n",
        "drive.mount('/content/drive')"
      ],
      "metadata": {
        "colab": {
          "base_uri": "https://localhost:8080/"
        },
        "id": "NgicF47mTfcz",
        "outputId": "e0ca8961-bedc-4c39-bb2b-e4b446628022"
      },
      "execution_count": null,
      "outputs": [
        {
          "output_type": "stream",
          "name": "stdout",
          "text": [
            "Mounted at /content/drive\n"
          ]
        }
      ]
    },
    {
      "cell_type": "code",
      "metadata": {
        "id": "t9mDDAozsxeW"
      },
      "source": [
        "src_path = Path('/content/drive/MyDrive/P9')"
      ],
      "execution_count": null,
      "outputs": []
    },
    {
      "cell_type": "code",
      "metadata": {
        "colab": {
          "base_uri": "https://localhost:8080/",
          "height": 350
        },
        "id": "dO0sIRTOBDRi",
        "outputId": "3012880e-e084-4604-e4c0-ce129282cc68"
      },
      "source": [
        "clicks = pd.read_csv(src_path / 'clicks.csv')\n",
        "\n",
        "small_clicks = clicks[clicks.user_id.isin(range(0,10000))]\n",
        "\n",
        "print(small_clicks.shape)\n",
        "small_clicks.head()"
      ],
      "execution_count": null,
      "outputs": [
        {
          "output_type": "stream",
          "name": "stdout",
          "text": [
            "(225648, 13)\n"
          ]
        },
        {
          "output_type": "execute_result",
          "data": {
            "text/html": [
              "\n",
              "  <div id=\"df-762413b0-777a-4bcc-be32-a46fa3fbe903\">\n",
              "    <div class=\"colab-df-container\">\n",
              "      <div>\n",
              "<style scoped>\n",
              "    .dataframe tbody tr th:only-of-type {\n",
              "        vertical-align: middle;\n",
              "    }\n",
              "\n",
              "    .dataframe tbody tr th {\n",
              "        vertical-align: top;\n",
              "    }\n",
              "\n",
              "    .dataframe thead th {\n",
              "        text-align: right;\n",
              "    }\n",
              "</style>\n",
              "<table border=\"1\" class=\"dataframe\">\n",
              "  <thead>\n",
              "    <tr style=\"text-align: right;\">\n",
              "      <th></th>\n",
              "      <th>user_id</th>\n",
              "      <th>session_id</th>\n",
              "      <th>session_start</th>\n",
              "      <th>session_size</th>\n",
              "      <th>article_id</th>\n",
              "      <th>click_timestamp</th>\n",
              "      <th>click_environment</th>\n",
              "      <th>click_deviceGroup</th>\n",
              "      <th>click_os</th>\n",
              "      <th>click_country</th>\n",
              "      <th>click_region</th>\n",
              "      <th>click_referrer_type</th>\n",
              "      <th>filename</th>\n",
              "    </tr>\n",
              "  </thead>\n",
              "  <tbody>\n",
              "    <tr>\n",
              "      <th>0</th>\n",
              "      <td>0</td>\n",
              "      <td>1506825423271737</td>\n",
              "      <td>2017-10-01 02:37:03</td>\n",
              "      <td>2</td>\n",
              "      <td>157541</td>\n",
              "      <td>2017-10-01 03:00:28.020</td>\n",
              "      <td>4</td>\n",
              "      <td>3</td>\n",
              "      <td>20</td>\n",
              "      <td>1</td>\n",
              "      <td>20</td>\n",
              "      <td>2</td>\n",
              "      <td>0</td>\n",
              "    </tr>\n",
              "    <tr>\n",
              "      <th>1</th>\n",
              "      <td>0</td>\n",
              "      <td>1506825423271737</td>\n",
              "      <td>2017-10-01 02:37:03</td>\n",
              "      <td>2</td>\n",
              "      <td>68866</td>\n",
              "      <td>2017-10-01 03:00:58.020</td>\n",
              "      <td>4</td>\n",
              "      <td>3</td>\n",
              "      <td>20</td>\n",
              "      <td>1</td>\n",
              "      <td>20</td>\n",
              "      <td>2</td>\n",
              "      <td>0</td>\n",
              "    </tr>\n",
              "    <tr>\n",
              "      <th>2</th>\n",
              "      <td>1</td>\n",
              "      <td>1506825426267738</td>\n",
              "      <td>2017-10-01 02:37:06</td>\n",
              "      <td>2</td>\n",
              "      <td>235840</td>\n",
              "      <td>2017-10-01 03:03:37.951</td>\n",
              "      <td>4</td>\n",
              "      <td>1</td>\n",
              "      <td>17</td>\n",
              "      <td>1</td>\n",
              "      <td>16</td>\n",
              "      <td>2</td>\n",
              "      <td>0</td>\n",
              "    </tr>\n",
              "    <tr>\n",
              "      <th>3</th>\n",
              "      <td>1</td>\n",
              "      <td>1506825426267738</td>\n",
              "      <td>2017-10-01 02:37:06</td>\n",
              "      <td>2</td>\n",
              "      <td>96663</td>\n",
              "      <td>2017-10-01 03:04:07.951</td>\n",
              "      <td>4</td>\n",
              "      <td>1</td>\n",
              "      <td>17</td>\n",
              "      <td>1</td>\n",
              "      <td>16</td>\n",
              "      <td>2</td>\n",
              "      <td>0</td>\n",
              "    </tr>\n",
              "    <tr>\n",
              "      <th>4</th>\n",
              "      <td>2</td>\n",
              "      <td>1506825435299739</td>\n",
              "      <td>2017-10-01 02:37:15</td>\n",
              "      <td>2</td>\n",
              "      <td>119592</td>\n",
              "      <td>2017-10-01 03:04:50.575</td>\n",
              "      <td>4</td>\n",
              "      <td>1</td>\n",
              "      <td>17</td>\n",
              "      <td>1</td>\n",
              "      <td>24</td>\n",
              "      <td>2</td>\n",
              "      <td>0</td>\n",
              "    </tr>\n",
              "  </tbody>\n",
              "</table>\n",
              "</div>\n",
              "      <button class=\"colab-df-convert\" onclick=\"convertToInteractive('df-762413b0-777a-4bcc-be32-a46fa3fbe903')\"\n",
              "              title=\"Convert this dataframe to an interactive table.\"\n",
              "              style=\"display:none;\">\n",
              "        \n",
              "  <svg xmlns=\"http://www.w3.org/2000/svg\" height=\"24px\"viewBox=\"0 0 24 24\"\n",
              "       width=\"24px\">\n",
              "    <path d=\"M0 0h24v24H0V0z\" fill=\"none\"/>\n",
              "    <path d=\"M18.56 5.44l.94 2.06.94-2.06 2.06-.94-2.06-.94-.94-2.06-.94 2.06-2.06.94zm-11 1L8.5 8.5l.94-2.06 2.06-.94-2.06-.94L8.5 2.5l-.94 2.06-2.06.94zm10 10l.94 2.06.94-2.06 2.06-.94-2.06-.94-.94-2.06-.94 2.06-2.06.94z\"/><path d=\"M17.41 7.96l-1.37-1.37c-.4-.4-.92-.59-1.43-.59-.52 0-1.04.2-1.43.59L10.3 9.45l-7.72 7.72c-.78.78-.78 2.05 0 2.83L4 21.41c.39.39.9.59 1.41.59.51 0 1.02-.2 1.41-.59l7.78-7.78 2.81-2.81c.8-.78.8-2.07 0-2.86zM5.41 20L4 18.59l7.72-7.72 1.47 1.35L5.41 20z\"/>\n",
              "  </svg>\n",
              "      </button>\n",
              "      \n",
              "  <style>\n",
              "    .colab-df-container {\n",
              "      display:flex;\n",
              "      flex-wrap:wrap;\n",
              "      gap: 12px;\n",
              "    }\n",
              "\n",
              "    .colab-df-convert {\n",
              "      background-color: #E8F0FE;\n",
              "      border: none;\n",
              "      border-radius: 50%;\n",
              "      cursor: pointer;\n",
              "      display: none;\n",
              "      fill: #1967D2;\n",
              "      height: 32px;\n",
              "      padding: 0 0 0 0;\n",
              "      width: 32px;\n",
              "    }\n",
              "\n",
              "    .colab-df-convert:hover {\n",
              "      background-color: #E2EBFA;\n",
              "      box-shadow: 0px 1px 2px rgba(60, 64, 67, 0.3), 0px 1px 3px 1px rgba(60, 64, 67, 0.15);\n",
              "      fill: #174EA6;\n",
              "    }\n",
              "\n",
              "    [theme=dark] .colab-df-convert {\n",
              "      background-color: #3B4455;\n",
              "      fill: #D2E3FC;\n",
              "    }\n",
              "\n",
              "    [theme=dark] .colab-df-convert:hover {\n",
              "      background-color: #434B5C;\n",
              "      box-shadow: 0px 1px 3px 1px rgba(0, 0, 0, 0.15);\n",
              "      filter: drop-shadow(0px 1px 2px rgba(0, 0, 0, 0.3));\n",
              "      fill: #FFFFFF;\n",
              "    }\n",
              "  </style>\n",
              "\n",
              "      <script>\n",
              "        const buttonEl =\n",
              "          document.querySelector('#df-762413b0-777a-4bcc-be32-a46fa3fbe903 button.colab-df-convert');\n",
              "        buttonEl.style.display =\n",
              "          google.colab.kernel.accessAllowed ? 'block' : 'none';\n",
              "\n",
              "        async function convertToInteractive(key) {\n",
              "          const element = document.querySelector('#df-762413b0-777a-4bcc-be32-a46fa3fbe903');\n",
              "          const dataTable =\n",
              "            await google.colab.kernel.invokeFunction('convertToInteractive',\n",
              "                                                     [key], {});\n",
              "          if (!dataTable) return;\n",
              "\n",
              "          const docLinkHtml = 'Like what you see? Visit the ' +\n",
              "            '<a target=\"_blank\" href=https://colab.research.google.com/notebooks/data_table.ipynb>data table notebook</a>'\n",
              "            + ' to learn more about interactive tables.';\n",
              "          element.innerHTML = '';\n",
              "          dataTable['output_type'] = 'display_data';\n",
              "          await google.colab.output.renderOutput(dataTable, element);\n",
              "          const docLink = document.createElement('div');\n",
              "          docLink.innerHTML = docLinkHtml;\n",
              "          element.appendChild(docLink);\n",
              "        }\n",
              "      </script>\n",
              "    </div>\n",
              "  </div>\n",
              "  "
            ],
            "text/plain": [
              "   user_id        session_id  ... click_referrer_type  filename\n",
              "0        0  1506825423271737  ...                   2         0\n",
              "1        0  1506825423271737  ...                   2         0\n",
              "2        1  1506825426267738  ...                   2         0\n",
              "3        1  1506825426267738  ...                   2         0\n",
              "4        2  1506825435299739  ...                   2         0\n",
              "\n",
              "[5 rows x 13 columns]"
            ]
          },
          "metadata": {},
          "execution_count": 4
        }
      ]
    },
    {
      "cell_type": "code",
      "metadata": {
        "colab": {
          "base_uri": "https://localhost:8080/"
        },
        "id": "P6XJinNeJ39a",
        "outputId": "9400ec60-c770-4251-f080-074f669ee87b"
      },
      "source": [
        "small_clicks.article_id.nunique()"
      ],
      "execution_count": null,
      "outputs": [
        {
          "output_type": "execute_result",
          "data": {
            "text/plain": [
              "12423"
            ]
          },
          "metadata": {},
          "execution_count": 5
        }
      ]
    },
    {
      "cell_type": "code",
      "metadata": {
        "id": "8N9d4xtRKA9e"
      },
      "source": [
        "small_clicks.to_csv(src_path / 'small_clicks.csv', index=False)"
      ],
      "execution_count": null,
      "outputs": []
    },
    {
      "cell_type": "code",
      "metadata": {
        "colab": {
          "base_uri": "https://localhost:8080/"
        },
        "id": "jpUTbcuHDAbJ",
        "outputId": "1e55133c-1a26-47ff-909f-48378519acde"
      },
      "source": [
        "embeddings = pd.read_pickle(src_path / 'articles_embeddings.pickle')\n",
        "df_embeddings = pd.DataFrame(embeddings)\n",
        "\n",
        "# Build the article IDs list\n",
        "list_articleID = sorted(list(small_clicks.article_id.unique()))\n",
        "\n",
        "test_embeddings = df_embeddings[df_embeddings.index.isin(list_articleID)]\n",
        "\n",
        "small_embeddings = test_embeddings.to_numpy()\n",
        "small_embeddings.shape"
      ],
      "execution_count": null,
      "outputs": [
        {
          "output_type": "execute_result",
          "data": {
            "text/plain": [
              "(12423, 250)"
            ]
          },
          "metadata": {},
          "execution_count": 6
        }
      ]
    },
    {
      "cell_type": "code",
      "metadata": {
        "id": "kCdOQ7-Ym6ic"
      },
      "source": [
        "# Save as Pickle\n",
        "pickle.dump(small_embeddings, open(src_path / 'small_embeddings.pickle', 'wb'))\n",
        "\n",
        "small_embeddings = pd.read_pickle(src_path / 'small_embeddings.pickle')"
      ],
      "execution_count": null,
      "outputs": []
    },
    {
      "cell_type": "code",
      "metadata": {
        "id": "x1w2TZvHnRAZ"
      },
      "source": [
        "import numpy as np\n",
        "from sklearn.metrics.pairwise import cosine_similarity\n",
        "\n",
        "def get_ContentBased_Reco(userID, small_clicks, small_embeddings, n_reco=5):\n",
        "    '''Return 5 recommended articles ID to user'''\n",
        "\n",
        "    # Get the list of articles viewed by the user\n",
        "    var = small_clicks.loc[small_clicks.user_id == userID]['article_id'].to_list()\n",
        "\n",
        "    # Get the list of unique article_ID in small_clicks\n",
        "    list_articleID = sorted(list(small_clicks.article_id.unique()))\n",
        "\n",
        "    # Retrieve the corresponding index of the articles viewed by userID in var\n",
        "    idx_var = []\n",
        "    for i in range(0, len(var)):\n",
        "        for idx, item in enumerate(list(list_articleID)):\n",
        "            if item == var[i]:\n",
        "                idx_var.append(idx)\n",
        "\n",
        "    # Select the last element of the list\n",
        "    value = idx_var[-1]\n",
        "    # print(value)\n",
        "\n",
        "    # Compute the cosine similarity\n",
        "    emb = small_embeddings\n",
        "    distances = cosine_similarity([emb[value]], emb)[0]\n",
        "\n",
        "    # Save the result in Pandas DataFrame\n",
        "    df_reco = pd.DataFrame(list(zip(list_articleID, distances)),\n",
        "                           columns=([\"reco_article_id\", \"similarity\"]))\n",
        "    \n",
        "    # Sort the DF by similarity\n",
        "    df_reco.sort_values(by='similarity', ascending=False, inplace=True)\n",
        "\n",
        "    # Exclude already viewed articles\n",
        "    top_reco = df_reco[~df_reco.reco_article_id.isin(var)]\n",
        "\n",
        "    # Give the list of recommended articles\n",
        "    result = list(top_reco[\"reco_article_id\"].iloc[:(n_reco)].values)\n",
        "\n",
        "    return result"
      ],
      "execution_count": null,
      "outputs": []
    },
    {
      "cell_type": "code",
      "metadata": {
        "colab": {
          "base_uri": "https://localhost:8080/"
        },
        "id": "ZJcqpycFAK_L",
        "outputId": "d4d9d45b-ad73-4825-fb21-e0c57ad0f2cb"
      },
      "source": [
        "#### Test the function ####\n",
        "# Choose a userID\n",
        "userID = 20\n",
        "\n",
        "# Save the function in a variable\n",
        "reco5 = get_ContentBased_Reco(userID, small_clicks, small_embeddings, n_reco=5)\n",
        "\n",
        "# Display the result\n",
        "reco5"
      ],
      "execution_count": null,
      "outputs": [
        {
          "output_type": "execute_result",
          "data": {
            "text/plain": [
              "[70397, 157507, 157865, 157496, 157802]"
            ]
          },
          "metadata": {},
          "execution_count": 11
        }
      ]
    }
  ]
}