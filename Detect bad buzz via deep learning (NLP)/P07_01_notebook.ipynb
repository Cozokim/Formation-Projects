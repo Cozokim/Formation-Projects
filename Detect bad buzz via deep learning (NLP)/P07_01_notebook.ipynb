{
  "nbformat": 4,
  "nbformat_minor": 0,
  "metadata": {
    "kernelspec": {
      "display_name": "Python 3 (ipykernel)",
      "language": "python",
      "name": "python3"
    },
    "language_info": {
      "codemirror_mode": {
        "name": "ipython",
        "version": 3
      },
      "file_extension": ".py",
      "mimetype": "text/x-python",
      "name": "python",
      "nbconvert_exporter": "python",
      "pygments_lexer": "ipython3",
      "version": "3.8.5"
    },
    "colab": {
      "name": "P07_01_notebook.ipynb",
      "provenance": [],
      "collapsed_sections": []
    }
  },
  "cells": [
    {
      "cell_type": "code",
      "metadata": {
        "colab": {
          "base_uri": "https://localhost:8080/"
        },
        "id": "vO1AHFCvjfhG",
        "outputId": "a1cb7dc7-da4f-4c5a-c55f-1abe2a043885"
      },
      "source": [
        "from google.colab import drive\n",
        "drive.mount(\"/content/drive\")"
      ],
      "execution_count": null,
      "outputs": [
        {
          "output_type": "stream",
          "name": "stdout",
          "text": [
            "Drive already mounted at /content/drive; to attempt to forcibly remount, call drive.mount(\"/content/drive\", force_remount=True).\n"
          ]
        }
      ]
    },
    {
      "cell_type": "code",
      "metadata": {
        "execution": {
          "iopub.execute_input": "2021-07-10T16:56:44.039816Z",
          "iopub.status.busy": "2021-07-10T16:56:44.039334Z",
          "iopub.status.idle": "2021-07-10T16:56:51.354910Z",
          "shell.execute_reply": "2021-07-10T16:56:51.353957Z",
          "shell.execute_reply.started": "2021-07-10T16:56:44.039690Z"
        },
        "id": "gKOOOxAOjfhL"
      },
      "source": [
        "import pandas as pd\n",
        "import numpy as np\n",
        "from matplotlib import pyplot as plt\n",
        "import seaborn as sns\n",
        "\n",
        "import nltk\n",
        "from nltk.corpus import stopwords\n",
        "from nltk.stem import WordNetLemmatizer\n",
        "from nltk.stem import PorterStemmer\n",
        "from nltk.probability import FreqDist\n",
        "  \n",
        "\n",
        "import tensorflow as tf\n",
        "import sklearn\n",
        "\n",
        "import codecs\n",
        "from tqdm import tqdm"
      ],
      "execution_count": null,
      "outputs": []
    },
    {
      "cell_type": "code",
      "metadata": {
        "execution": {
          "iopub.execute_input": "2021-07-10T16:56:51.356587Z",
          "iopub.status.busy": "2021-07-10T16:56:51.356208Z",
          "iopub.status.idle": "2021-07-10T16:56:59.443218Z",
          "shell.execute_reply": "2021-07-10T16:56:59.442246Z",
          "shell.execute_reply.started": "2021-07-10T16:56:51.356558Z"
        },
        "id": "2W9iCP_mjfhN"
      },
      "source": [
        "raw = pd.read_csv('/content/drive/MyDrive/P7/training.1600000.processed.noemoticon.csv',encoding='latin-1', header=None)"
      ],
      "execution_count": null,
      "outputs": []
    },
    {
      "cell_type": "markdown",
      "metadata": {
        "id": "KPq6m-kIvgXR"
      },
      "source": [
        "##Analyse exploratoire"
      ]
    },
    {
      "cell_type": "code",
      "metadata": {
        "colab": {
          "base_uri": "https://localhost:8080/",
          "height": 419
        },
        "id": "Fy_f92NmwxHc",
        "outputId": "62e81bb8-1eed-4015-990f-186134824e4d"
      },
      "source": [
        "raw"
      ],
      "execution_count": null,
      "outputs": [
        {
          "output_type": "execute_result",
          "data": {
            "text/html": [
              "<div>\n",
              "<style scoped>\n",
              "    .dataframe tbody tr th:only-of-type {\n",
              "        vertical-align: middle;\n",
              "    }\n",
              "\n",
              "    .dataframe tbody tr th {\n",
              "        vertical-align: top;\n",
              "    }\n",
              "\n",
              "    .dataframe thead th {\n",
              "        text-align: right;\n",
              "    }\n",
              "</style>\n",
              "<table border=\"1\" class=\"dataframe\">\n",
              "  <thead>\n",
              "    <tr style=\"text-align: right;\">\n",
              "      <th></th>\n",
              "      <th>0</th>\n",
              "      <th>1</th>\n",
              "      <th>2</th>\n",
              "      <th>3</th>\n",
              "      <th>4</th>\n",
              "      <th>5</th>\n",
              "    </tr>\n",
              "  </thead>\n",
              "  <tbody>\n",
              "    <tr>\n",
              "      <th>0</th>\n",
              "      <td>0</td>\n",
              "      <td>1467810369</td>\n",
              "      <td>Mon Apr 06 22:19:45 PDT 2009</td>\n",
              "      <td>NO_QUERY</td>\n",
              "      <td>_TheSpecialOne_</td>\n",
              "      <td>@switchfoot http://twitpic.com/2y1zl - Awww, t...</td>\n",
              "    </tr>\n",
              "    <tr>\n",
              "      <th>1</th>\n",
              "      <td>0</td>\n",
              "      <td>1467810672</td>\n",
              "      <td>Mon Apr 06 22:19:49 PDT 2009</td>\n",
              "      <td>NO_QUERY</td>\n",
              "      <td>scotthamilton</td>\n",
              "      <td>is upset that he can't update his Facebook by ...</td>\n",
              "    </tr>\n",
              "    <tr>\n",
              "      <th>2</th>\n",
              "      <td>0</td>\n",
              "      <td>1467810917</td>\n",
              "      <td>Mon Apr 06 22:19:53 PDT 2009</td>\n",
              "      <td>NO_QUERY</td>\n",
              "      <td>mattycus</td>\n",
              "      <td>@Kenichan I dived many times for the ball. Man...</td>\n",
              "    </tr>\n",
              "    <tr>\n",
              "      <th>3</th>\n",
              "      <td>0</td>\n",
              "      <td>1467811184</td>\n",
              "      <td>Mon Apr 06 22:19:57 PDT 2009</td>\n",
              "      <td>NO_QUERY</td>\n",
              "      <td>ElleCTF</td>\n",
              "      <td>my whole body feels itchy and like its on fire</td>\n",
              "    </tr>\n",
              "    <tr>\n",
              "      <th>4</th>\n",
              "      <td>0</td>\n",
              "      <td>1467811193</td>\n",
              "      <td>Mon Apr 06 22:19:57 PDT 2009</td>\n",
              "      <td>NO_QUERY</td>\n",
              "      <td>Karoli</td>\n",
              "      <td>@nationwideclass no, it's not behaving at all....</td>\n",
              "    </tr>\n",
              "    <tr>\n",
              "      <th>...</th>\n",
              "      <td>...</td>\n",
              "      <td>...</td>\n",
              "      <td>...</td>\n",
              "      <td>...</td>\n",
              "      <td>...</td>\n",
              "      <td>...</td>\n",
              "    </tr>\n",
              "    <tr>\n",
              "      <th>1599995</th>\n",
              "      <td>4</td>\n",
              "      <td>2193601966</td>\n",
              "      <td>Tue Jun 16 08:40:49 PDT 2009</td>\n",
              "      <td>NO_QUERY</td>\n",
              "      <td>AmandaMarie1028</td>\n",
              "      <td>Just woke up. Having no school is the best fee...</td>\n",
              "    </tr>\n",
              "    <tr>\n",
              "      <th>1599996</th>\n",
              "      <td>4</td>\n",
              "      <td>2193601969</td>\n",
              "      <td>Tue Jun 16 08:40:49 PDT 2009</td>\n",
              "      <td>NO_QUERY</td>\n",
              "      <td>TheWDBoards</td>\n",
              "      <td>TheWDB.com - Very cool to hear old Walt interv...</td>\n",
              "    </tr>\n",
              "    <tr>\n",
              "      <th>1599997</th>\n",
              "      <td>4</td>\n",
              "      <td>2193601991</td>\n",
              "      <td>Tue Jun 16 08:40:49 PDT 2009</td>\n",
              "      <td>NO_QUERY</td>\n",
              "      <td>bpbabe</td>\n",
              "      <td>Are you ready for your MoJo Makeover? Ask me f...</td>\n",
              "    </tr>\n",
              "    <tr>\n",
              "      <th>1599998</th>\n",
              "      <td>4</td>\n",
              "      <td>2193602064</td>\n",
              "      <td>Tue Jun 16 08:40:49 PDT 2009</td>\n",
              "      <td>NO_QUERY</td>\n",
              "      <td>tinydiamondz</td>\n",
              "      <td>Happy 38th Birthday to my boo of alll time!!! ...</td>\n",
              "    </tr>\n",
              "    <tr>\n",
              "      <th>1599999</th>\n",
              "      <td>4</td>\n",
              "      <td>2193602129</td>\n",
              "      <td>Tue Jun 16 08:40:50 PDT 2009</td>\n",
              "      <td>NO_QUERY</td>\n",
              "      <td>RyanTrevMorris</td>\n",
              "      <td>happy #charitytuesday @theNSPCC @SparksCharity...</td>\n",
              "    </tr>\n",
              "  </tbody>\n",
              "</table>\n",
              "<p>1600000 rows × 6 columns</p>\n",
              "</div>"
            ],
            "text/plain": [
              "         0  ...                                                  5\n",
              "0        0  ...  @switchfoot http://twitpic.com/2y1zl - Awww, t...\n",
              "1        0  ...  is upset that he can't update his Facebook by ...\n",
              "2        0  ...  @Kenichan I dived many times for the ball. Man...\n",
              "3        0  ...    my whole body feels itchy and like its on fire \n",
              "4        0  ...  @nationwideclass no, it's not behaving at all....\n",
              "...     ..  ...                                                ...\n",
              "1599995  4  ...  Just woke up. Having no school is the best fee...\n",
              "1599996  4  ...  TheWDB.com - Very cool to hear old Walt interv...\n",
              "1599997  4  ...  Are you ready for your MoJo Makeover? Ask me f...\n",
              "1599998  4  ...  Happy 38th Birthday to my boo of alll time!!! ...\n",
              "1599999  4  ...  happy #charitytuesday @theNSPCC @SparksCharity...\n",
              "\n",
              "[1600000 rows x 6 columns]"
            ]
          },
          "metadata": {},
          "execution_count": 126
        }
      ]
    },
    {
      "cell_type": "code",
      "metadata": {
        "id": "pOLYJb3AK8F-",
        "colab": {
          "base_uri": "https://localhost:8080/",
          "height": 297
        },
        "outputId": "0e46d0bc-748f-4096-c008-8425283d4a3e"
      },
      "source": [
        "raw.describe()"
      ],
      "execution_count": null,
      "outputs": [
        {
          "output_type": "execute_result",
          "data": {
            "text/html": [
              "<div>\n",
              "<style scoped>\n",
              "    .dataframe tbody tr th:only-of-type {\n",
              "        vertical-align: middle;\n",
              "    }\n",
              "\n",
              "    .dataframe tbody tr th {\n",
              "        vertical-align: top;\n",
              "    }\n",
              "\n",
              "    .dataframe thead th {\n",
              "        text-align: right;\n",
              "    }\n",
              "</style>\n",
              "<table border=\"1\" class=\"dataframe\">\n",
              "  <thead>\n",
              "    <tr style=\"text-align: right;\">\n",
              "      <th></th>\n",
              "      <th>0</th>\n",
              "      <th>1</th>\n",
              "    </tr>\n",
              "  </thead>\n",
              "  <tbody>\n",
              "    <tr>\n",
              "      <th>count</th>\n",
              "      <td>1.600000e+06</td>\n",
              "      <td>1.600000e+06</td>\n",
              "    </tr>\n",
              "    <tr>\n",
              "      <th>mean</th>\n",
              "      <td>2.000000e+00</td>\n",
              "      <td>1.998818e+09</td>\n",
              "    </tr>\n",
              "    <tr>\n",
              "      <th>std</th>\n",
              "      <td>2.000001e+00</td>\n",
              "      <td>1.935761e+08</td>\n",
              "    </tr>\n",
              "    <tr>\n",
              "      <th>min</th>\n",
              "      <td>0.000000e+00</td>\n",
              "      <td>1.467810e+09</td>\n",
              "    </tr>\n",
              "    <tr>\n",
              "      <th>25%</th>\n",
              "      <td>0.000000e+00</td>\n",
              "      <td>1.956916e+09</td>\n",
              "    </tr>\n",
              "    <tr>\n",
              "      <th>50%</th>\n",
              "      <td>2.000000e+00</td>\n",
              "      <td>2.002102e+09</td>\n",
              "    </tr>\n",
              "    <tr>\n",
              "      <th>75%</th>\n",
              "      <td>4.000000e+00</td>\n",
              "      <td>2.177059e+09</td>\n",
              "    </tr>\n",
              "    <tr>\n",
              "      <th>max</th>\n",
              "      <td>4.000000e+00</td>\n",
              "      <td>2.329206e+09</td>\n",
              "    </tr>\n",
              "  </tbody>\n",
              "</table>\n",
              "</div>"
            ],
            "text/plain": [
              "                  0             1\n",
              "count  1.600000e+06  1.600000e+06\n",
              "mean   2.000000e+00  1.998818e+09\n",
              "std    2.000001e+00  1.935761e+08\n",
              "min    0.000000e+00  1.467810e+09\n",
              "25%    0.000000e+00  1.956916e+09\n",
              "50%    2.000000e+00  2.002102e+09\n",
              "75%    4.000000e+00  2.177059e+09\n",
              "max    4.000000e+00  2.329206e+09"
            ]
          },
          "metadata": {},
          "execution_count": 127
        }
      ]
    },
    {
      "cell_type": "markdown",
      "metadata": {
        "id": "eurN_25mwG5q"
      },
      "source": [
        "La target est de 0 ou de 4 :\n",
        "0 -> Sentiment négatif\n",
        "4 -> Sentiment positif"
      ]
    },
    {
      "cell_type": "code",
      "metadata": {
        "colab": {
          "base_uri": "https://localhost:8080/",
          "height": 386
        },
        "id": "aARipiFXwGjq",
        "outputId": "4635fb4b-ecc6-46ed-dfce-ae1bdedd35fe"
      },
      "source": [
        "fig, (ax1, ax2) = plt.subplots(1, 2, figsize=(20,6))\n",
        "sns.set_style('darkgrid')\n",
        "        \n",
        "list_nb_characters = [len(x) for x in raw[5]]\n",
        "list_nb_of_words = [len(x.split()) for x in raw[5]]\n",
        "\n",
        "ax1.set_title('Nombre de caractères par tweets')\n",
        "sns.histplot(list_nb_characters, ax = ax1)\n",
        "ax1.set_xlim([0, 175])\n",
        "\n",
        "ax2.set_title('Nombre de mots par tweets')\n",
        "sns.histplot(list_nb_of_words, ax = ax2)\n",
        "ax2.set_xlim([0, 40])\n",
        "\n",
        "plt.show()"
      ],
      "execution_count": null,
      "outputs": [
        {
          "output_type": "display_data",
          "data": {
            "image/png": "[encoded data removed]",
            "text/plain": [
              "<Figure size 1440x432 with 2 Axes>"
            ]
          },
          "metadata": {}
        }
      ]
    },
    {
      "cell_type": "markdown",
      "metadata": {
        "id": "qHcpcgvL5mJ-"
      },
      "source": [
        "Rien de notable a en tirer si ce n'est que nos données ne présente aucune anomalie visible"
      ]
    },
    {
      "cell_type": "markdown",
      "metadata": {
        "id": "ReZvxx4qjfhP"
      },
      "source": [
        "## Echantillonage"
      ]
    },
    {
      "cell_type": "markdown",
      "metadata": {
        "id": "3XOZjdxDj4wH"
      },
      "source": [
        "On prend un échantillon le dataset étant très grand. On prend autant de target = 4 que de target = 0 afin d'avoir un echantillon équilibré"
      ]
    },
    {
      "cell_type": "code",
      "metadata": {
        "execution": {
          "iopub.execute_input": "2021-07-10T16:56:59.474045Z",
          "iopub.status.busy": "2021-07-10T16:56:59.473736Z",
          "iopub.status.idle": "2021-07-10T16:56:59.480729Z",
          "shell.execute_reply": "2021-07-10T16:56:59.479588Z",
          "shell.execute_reply.started": "2021-07-10T16:56:59.474015Z"
        },
        "id": "RHCtS7-TjfhP"
      },
      "source": [
        "def stratified_sample_df(df, col, n_samples):\n",
        "    n = min(n_samples, df[col].value_counts().min())\n",
        "    df_ = df.groupby(col).apply(lambda x: x.sample(n))\n",
        "    df_.index = df_.index.droplevel(0)\n",
        "    return df_"
      ],
      "execution_count": null,
      "outputs": []
    },
    {
      "cell_type": "code",
      "metadata": {
        "execution": {
          "iopub.execute_input": "2021-07-10T16:56:59.482962Z",
          "iopub.status.busy": "2021-07-10T16:56:59.482538Z",
          "iopub.status.idle": "2021-07-10T16:57:00.248697Z",
          "shell.execute_reply": "2021-07-10T16:57:00.247780Z",
          "shell.execute_reply.started": "2021-07-10T16:56:59.482915Z"
        },
        "colab": {
          "base_uri": "https://localhost:8080/",
          "height": 419
        },
        "id": "OVMSpb4xjfhQ",
        "outputId": "f2f086aa-ff57-4f59-ad57-bc5e0b024335"
      },
      "source": [
        "df = stratified_sample_df(raw, 0, 100000).reset_index(drop=True)\n",
        "df"
      ],
      "execution_count": null,
      "outputs": [
        {
          "output_type": "execute_result",
          "data": {
            "text/html": [
              "<div>\n",
              "<style scoped>\n",
              "    .dataframe tbody tr th:only-of-type {\n",
              "        vertical-align: middle;\n",
              "    }\n",
              "\n",
              "    .dataframe tbody tr th {\n",
              "        vertical-align: top;\n",
              "    }\n",
              "\n",
              "    .dataframe thead th {\n",
              "        text-align: right;\n",
              "    }\n",
              "</style>\n",
              "<table border=\"1\" class=\"dataframe\">\n",
              "  <thead>\n",
              "    <tr style=\"text-align: right;\">\n",
              "      <th></th>\n",
              "      <th>0</th>\n",
              "      <th>1</th>\n",
              "      <th>2</th>\n",
              "      <th>3</th>\n",
              "      <th>4</th>\n",
              "      <th>5</th>\n",
              "    </tr>\n",
              "  </thead>\n",
              "  <tbody>\n",
              "    <tr>\n",
              "      <th>0</th>\n",
              "      <td>0</td>\n",
              "      <td>2251355041</td>\n",
              "      <td>Sat Jun 20 03:14:05 PDT 2009</td>\n",
              "      <td>NO_QUERY</td>\n",
              "      <td>TracyLynn78</td>\n",
              "      <td>@JonathanRKnight couldnt afford 2make it out 2...</td>\n",
              "    </tr>\n",
              "    <tr>\n",
              "      <th>1</th>\n",
              "      <td>0</td>\n",
              "      <td>2261594725</td>\n",
              "      <td>Sat Jun 20 21:02:08 PDT 2009</td>\n",
              "      <td>NO_QUERY</td>\n",
              "      <td>meganeliza</td>\n",
              "      <td>I hate when it's too hot to hide from the worl...</td>\n",
              "    </tr>\n",
              "    <tr>\n",
              "      <th>2</th>\n",
              "      <td>0</td>\n",
              "      <td>2187247392</td>\n",
              "      <td>Mon Jun 15 20:00:23 PDT 2009</td>\n",
              "      <td>NO_QUERY</td>\n",
              "      <td>phattie_V</td>\n",
              "      <td>not feeling goood anybody ever drunk v8 n it m...</td>\n",
              "    </tr>\n",
              "    <tr>\n",
              "      <th>3</th>\n",
              "      <td>0</td>\n",
              "      <td>1974394194</td>\n",
              "      <td>Sat May 30 13:02:52 PDT 2009</td>\n",
              "      <td>NO_QUERY</td>\n",
              "      <td>JessInOttawa</td>\n",
              "      <td>Arghhh I wish this headache would go away  I a...</td>\n",
              "    </tr>\n",
              "    <tr>\n",
              "      <th>4</th>\n",
              "      <td>0</td>\n",
              "      <td>2203278744</td>\n",
              "      <td>Tue Jun 16 23:23:38 PDT 2009</td>\n",
              "      <td>NO_QUERY</td>\n",
              "      <td>livnb</td>\n",
              "      <td>trying to calll bradie..but hees number is bus...</td>\n",
              "    </tr>\n",
              "    <tr>\n",
              "      <th>...</th>\n",
              "      <td>...</td>\n",
              "      <td>...</td>\n",
              "      <td>...</td>\n",
              "      <td>...</td>\n",
              "      <td>...</td>\n",
              "      <td>...</td>\n",
              "    </tr>\n",
              "    <tr>\n",
              "      <th>199995</th>\n",
              "      <td>4</td>\n",
              "      <td>1973586553</td>\n",
              "      <td>Sat May 30 11:26:31 PDT 2009</td>\n",
              "      <td>NO_QUERY</td>\n",
              "      <td>xsteffenx</td>\n",
              "      <td>@caramelthighsxo ill put you name on just say ...</td>\n",
              "    </tr>\n",
              "    <tr>\n",
              "      <th>199996</th>\n",
              "      <td>4</td>\n",
              "      <td>1970903287</td>\n",
              "      <td>Sat May 30 05:36:21 PDT 2009</td>\n",
              "      <td>NO_QUERY</td>\n",
              "      <td>stargatejohn</td>\n",
              "      <td>Qt inlaws. Going to take pics ready for tom as...</td>\n",
              "    </tr>\n",
              "    <tr>\n",
              "      <th>199997</th>\n",
              "      <td>4</td>\n",
              "      <td>2052657546</td>\n",
              "      <td>Sat Jun 06 01:31:11 PDT 2009</td>\n",
              "      <td>NO_QUERY</td>\n",
              "      <td>NurulAyn07</td>\n",
              "      <td>Just had Hot wedges and hot sauce.yummiii..</td>\n",
              "    </tr>\n",
              "    <tr>\n",
              "      <th>199998</th>\n",
              "      <td>4</td>\n",
              "      <td>1879996685</td>\n",
              "      <td>Thu May 21 23:46:35 PDT 2009</td>\n",
              "      <td>NO_QUERY</td>\n",
              "      <td>caitiebecker</td>\n",
              "      <td>@emilyhayes is that why you carry smaller purs...</td>\n",
              "    </tr>\n",
              "    <tr>\n",
              "      <th>199999</th>\n",
              "      <td>4</td>\n",
              "      <td>2057709407</td>\n",
              "      <td>Sat Jun 06 13:30:52 PDT 2009</td>\n",
              "      <td>NO_QUERY</td>\n",
              "      <td>tessacrowe</td>\n",
              "      <td>eating sour skittles</td>\n",
              "    </tr>\n",
              "  </tbody>\n",
              "</table>\n",
              "<p>200000 rows × 6 columns</p>\n",
              "</div>"
            ],
            "text/plain": [
              "        0  ...                                                  5\n",
              "0       0  ...  @JonathanRKnight couldnt afford 2make it out 2...\n",
              "1       0  ...  I hate when it's too hot to hide from the worl...\n",
              "2       0  ...  not feeling goood anybody ever drunk v8 n it m...\n",
              "3       0  ...  Arghhh I wish this headache would go away  I a...\n",
              "4       0  ...  trying to calll bradie..but hees number is bus...\n",
              "...    ..  ...                                                ...\n",
              "199995  4  ...  @caramelthighsxo ill put you name on just say ...\n",
              "199996  4  ...  Qt inlaws. Going to take pics ready for tom as...\n",
              "199997  4  ...       Just had Hot wedges and hot sauce.yummiii.. \n",
              "199998  4  ...  @emilyhayes is that why you carry smaller purs...\n",
              "199999  4  ...                              eating sour skittles \n",
              "\n",
              "[200000 rows x 6 columns]"
            ]
          },
          "metadata": {},
          "execution_count": 130
        }
      ]
    },
    {
      "cell_type": "markdown",
      "metadata": {
        "id": "y1HbPdzcjfhQ"
      },
      "source": [
        "## Nettoyage du dataset"
      ]
    },
    {
      "cell_type": "markdown",
      "metadata": {
        "id": "hfM6JRUljPwX"
      },
      "source": [
        "On supprime les colonnes inutiles et donne un nom aux colonnes que l'on garde"
      ]
    },
    {
      "cell_type": "code",
      "metadata": {
        "execution": {
          "iopub.execute_input": "2021-07-10T16:57:00.250288Z",
          "iopub.status.busy": "2021-07-10T16:57:00.249966Z",
          "iopub.status.idle": "2021-07-10T16:57:00.256282Z",
          "shell.execute_reply": "2021-07-10T16:57:00.255033Z",
          "shell.execute_reply.started": "2021-07-10T16:57:00.250259Z"
        },
        "id": "VFWNgyzgjfhQ"
      },
      "source": [
        "df.rename(columns = {0:'target', 5:'text'}, inplace = True)"
      ],
      "execution_count": null,
      "outputs": []
    },
    {
      "cell_type": "code",
      "metadata": {
        "execution": {
          "iopub.execute_input": "2021-07-10T16:57:00.258093Z",
          "iopub.status.busy": "2021-07-10T16:57:00.257712Z",
          "iopub.status.idle": "2021-07-10T16:57:00.276854Z",
          "shell.execute_reply": "2021-07-10T16:57:00.275669Z",
          "shell.execute_reply.started": "2021-07-10T16:57:00.258054Z"
        },
        "id": "aPFbVHrYjfhR"
      },
      "source": [
        "df = df.drop([1, 2, 3, 4], axis=1)"
      ],
      "execution_count": null,
      "outputs": []
    },
    {
      "cell_type": "code",
      "metadata": {
        "execution": {
          "iopub.execute_input": "2021-07-10T16:57:00.279698Z",
          "iopub.status.busy": "2021-07-10T16:57:00.279404Z",
          "iopub.status.idle": "2021-07-10T16:57:00.294091Z",
          "shell.execute_reply": "2021-07-10T16:57:00.293283Z",
          "shell.execute_reply.started": "2021-07-10T16:57:00.279670Z"
        },
        "colab": {
          "base_uri": "https://localhost:8080/",
          "height": 204
        },
        "id": "R7Lo-gtnjfhR",
        "outputId": "f65810db-d0de-417c-af11-6e2ee9f5b808"
      },
      "source": [
        "df.head()"
      ],
      "execution_count": null,
      "outputs": [
        {
          "output_type": "execute_result",
          "data": {
            "text/html": [
              "<div>\n",
              "<style scoped>\n",
              "    .dataframe tbody tr th:only-of-type {\n",
              "        vertical-align: middle;\n",
              "    }\n",
              "\n",
              "    .dataframe tbody tr th {\n",
              "        vertical-align: top;\n",
              "    }\n",
              "\n",
              "    .dataframe thead th {\n",
              "        text-align: right;\n",
              "    }\n",
              "</style>\n",
              "<table border=\"1\" class=\"dataframe\">\n",
              "  <thead>\n",
              "    <tr style=\"text-align: right;\">\n",
              "      <th></th>\n",
              "      <th>target</th>\n",
              "      <th>text</th>\n",
              "    </tr>\n",
              "  </thead>\n",
              "  <tbody>\n",
              "    <tr>\n",
              "      <th>0</th>\n",
              "      <td>0</td>\n",
              "      <td>@JonathanRKnight couldnt afford 2make it out 2...</td>\n",
              "    </tr>\n",
              "    <tr>\n",
              "      <th>1</th>\n",
              "      <td>0</td>\n",
              "      <td>I hate when it's too hot to hide from the worl...</td>\n",
              "    </tr>\n",
              "    <tr>\n",
              "      <th>2</th>\n",
              "      <td>0</td>\n",
              "      <td>not feeling goood anybody ever drunk v8 n it m...</td>\n",
              "    </tr>\n",
              "    <tr>\n",
              "      <th>3</th>\n",
              "      <td>0</td>\n",
              "      <td>Arghhh I wish this headache would go away  I a...</td>\n",
              "    </tr>\n",
              "    <tr>\n",
              "      <th>4</th>\n",
              "      <td>0</td>\n",
              "      <td>trying to calll bradie..but hees number is bus...</td>\n",
              "    </tr>\n",
              "  </tbody>\n",
              "</table>\n",
              "</div>"
            ],
            "text/plain": [
              "   target                                               text\n",
              "0       0  @JonathanRKnight couldnt afford 2make it out 2...\n",
              "1       0  I hate when it's too hot to hide from the worl...\n",
              "2       0  not feeling goood anybody ever drunk v8 n it m...\n",
              "3       0  Arghhh I wish this headache would go away  I a...\n",
              "4       0  trying to calll bradie..but hees number is bus..."
            ]
          },
          "metadata": {},
          "execution_count": 133
        }
      ]
    },
    {
      "cell_type": "markdown",
      "metadata": {
        "id": "YmCKH7lKjfhR"
      },
      "source": [
        "## Prétraitement des données texte"
      ]
    },
    {
      "cell_type": "code",
      "metadata": {
        "execution": {
          "iopub.execute_input": "2021-07-10T16:57:00.296692Z",
          "iopub.status.busy": "2021-07-10T16:57:00.296092Z",
          "iopub.status.idle": "2021-07-10T16:57:00.310657Z",
          "shell.execute_reply": "2021-07-10T16:57:00.309791Z",
          "shell.execute_reply.started": "2021-07-10T16:57:00.296662Z"
        },
        "id": "SYBlw9DUjfhS"
      },
      "source": [
        "df_preprocess = df.copy()"
      ],
      "execution_count": null,
      "outputs": []
    },
    {
      "cell_type": "code",
      "metadata": {
        "execution": {
          "iopub.execute_input": "2021-07-10T16:57:00.312834Z",
          "iopub.status.busy": "2021-07-10T16:57:00.312144Z",
          "iopub.status.idle": "2021-07-10T16:57:00.322729Z",
          "shell.execute_reply": "2021-07-10T16:57:00.321979Z",
          "shell.execute_reply.started": "2021-07-10T16:57:00.312802Z"
        },
        "id": "0PPa2I2qjfhS"
      },
      "source": [
        "tweets = df_preprocess.text.copy()"
      ],
      "execution_count": null,
      "outputs": []
    },
    {
      "cell_type": "code",
      "metadata": {
        "execution": {
          "iopub.execute_input": "2021-07-10T16:57:00.324862Z",
          "iopub.status.busy": "2021-07-10T16:57:00.324362Z",
          "iopub.status.idle": "2021-07-10T16:57:00.338643Z",
          "shell.execute_reply": "2021-07-10T16:57:00.337849Z",
          "shell.execute_reply.started": "2021-07-10T16:57:00.324830Z"
        },
        "colab": {
          "base_uri": "https://localhost:8080/"
        },
        "id": "SHms8Ym-jfhS",
        "outputId": "1ef7605f-46f2-48b6-c6e9-60d809252031"
      },
      "source": [
        "tweets"
      ],
      "execution_count": null,
      "outputs": [
        {
          "output_type": "execute_result",
          "data": {
            "text/plain": [
              "0         @JonathanRKnight couldnt afford 2make it out 2...\n",
              "1         I hate when it's too hot to hide from the worl...\n",
              "2         not feeling goood anybody ever drunk v8 n it m...\n",
              "3         Arghhh I wish this headache would go away  I a...\n",
              "4         trying to calll bradie..but hees number is bus...\n",
              "                                ...                        \n",
              "199995    @caramelthighsxo ill put you name on just say ...\n",
              "199996    Qt inlaws. Going to take pics ready for tom as...\n",
              "199997         Just had Hot wedges and hot sauce.yummiii.. \n",
              "199998    @emilyhayes is that why you carry smaller purs...\n",
              "199999                                eating sour skittles \n",
              "Name: text, Length: 200000, dtype: object"
            ]
          },
          "metadata": {},
          "execution_count": 136
        }
      ]
    },
    {
      "cell_type": "markdown",
      "metadata": {
        "id": "XOSvHsaNjfhS"
      },
      "source": [
        "On enlève les caractères spéciaux (@,#) et les liens"
      ]
    },
    {
      "cell_type": "code",
      "metadata": {
        "execution": {
          "iopub.execute_input": "2021-07-10T16:57:00.340467Z",
          "iopub.status.busy": "2021-07-10T16:57:00.340022Z",
          "iopub.status.idle": "2021-07-10T16:57:00.348218Z",
          "shell.execute_reply": "2021-07-10T16:57:00.347517Z",
          "shell.execute_reply.started": "2021-07-10T16:57:00.340432Z"
        },
        "colab": {
          "base_uri": "https://localhost:8080/",
          "height": 35
        },
        "id": "dCLClpPgjfhT",
        "outputId": "026e1394-334f-4b34-d290-8975f4250703"
      },
      "source": [
        "def removeWordWithChar(text, char_list):\n",
        "    #Remove words in a text that contains a char from the list.\n",
        "    text = text.split()\n",
        "    res = [ele for ele in text if all(ch not in ele for ch in char_list)]\n",
        "    res = ' '.join(res)\n",
        "    return res\n",
        "\n",
        "char_list = ['@', '#', 'http', 'www', '/']\n",
        "\n",
        "removeWordWithChar(tweets[1], char_list)"
      ],
      "execution_count": null,
      "outputs": [
        {
          "output_type": "execute_result",
          "data": {
            "application/vnd.google.colaboratory.intrinsic+json": {
              "type": "string"
            },
            "text/plain": [
              "\"I hate when it's too hot to hide from the world in my big comfy bed under the blankets\""
            ]
          },
          "metadata": {},
          "execution_count": 137
        }
      ]
    },
    {
      "cell_type": "code",
      "metadata": {
        "execution": {
          "iopub.execute_input": "2021-07-10T16:57:00.349975Z",
          "iopub.status.busy": "2021-07-10T16:57:00.349473Z",
          "iopub.status.idle": "2021-07-10T16:57:03.199381Z",
          "shell.execute_reply": "2021-07-10T16:57:03.198565Z",
          "shell.execute_reply.started": "2021-07-10T16:57:00.349933Z"
        },
        "id": "2plA0gDTjfhT"
      },
      "source": [
        "tweets_cleaned = []\n",
        "for t in tweets:\n",
        "    tweets_cleaned.append(removeWordWithChar(t, char_list))"
      ],
      "execution_count": null,
      "outputs": []
    },
    {
      "cell_type": "code",
      "metadata": {
        "execution": {
          "iopub.execute_input": "2021-07-10T16:57:03.201455Z",
          "iopub.status.busy": "2021-07-10T16:57:03.200853Z",
          "iopub.status.idle": "2021-07-10T16:57:03.207412Z",
          "shell.execute_reply": "2021-07-10T16:57:03.206485Z",
          "shell.execute_reply.started": "2021-07-10T16:57:03.201408Z"
        },
        "colab": {
          "base_uri": "https://localhost:8080/",
          "height": 35
        },
        "id": "jNM555uKjfhT",
        "outputId": "4b4ddd89-244f-4982-9900-d654af83d99b"
      },
      "source": [
        "tweets_cleaned[1]"
      ],
      "execution_count": null,
      "outputs": [
        {
          "output_type": "execute_result",
          "data": {
            "application/vnd.google.colaboratory.intrinsic+json": {
              "type": "string"
            },
            "text/plain": [
              "\"I hate when it's too hot to hide from the world in my big comfy bed under the blankets\""
            ]
          },
          "metadata": {},
          "execution_count": 139
        }
      ]
    },
    {
      "cell_type": "code",
      "metadata": {
        "execution": {
          "iopub.execute_input": "2021-07-10T16:57:03.209635Z",
          "iopub.status.busy": "2021-07-10T16:57:03.208993Z",
          "iopub.status.idle": "2021-07-10T16:57:03.221348Z",
          "shell.execute_reply": "2021-07-10T16:57:03.220182Z",
          "shell.execute_reply.started": "2021-07-10T16:57:03.209592Z"
        },
        "colab": {
          "base_uri": "https://localhost:8080/"
        },
        "id": "2NX6pCZIjfhU",
        "outputId": "982c7695-3e85-4f40-8941-fd8a7bf6986b"
      },
      "source": [
        "len(tweets_cleaned)"
      ],
      "execution_count": null,
      "outputs": [
        {
          "output_type": "execute_result",
          "data": {
            "text/plain": [
              "200000"
            ]
          },
          "metadata": {},
          "execution_count": 140
        }
      ]
    },
    {
      "cell_type": "markdown",
      "metadata": {
        "id": "3NtJKxTWjfhU"
      },
      "source": [
        "### Tokenization"
      ]
    },
    {
      "cell_type": "code",
      "metadata": {
        "execution": {
          "iopub.execute_input": "2021-07-10T16:57:03.223578Z",
          "iopub.status.busy": "2021-07-10T16:57:03.223161Z",
          "iopub.status.idle": "2021-07-10T16:57:03.236148Z",
          "shell.execute_reply": "2021-07-10T16:57:03.235254Z",
          "shell.execute_reply.started": "2021-07-10T16:57:03.223542Z"
        },
        "id": "yNtYDyE1jfhU"
      },
      "source": [
        "def tokenize(texts):\n",
        "    tokenizer = nltk.RegexpTokenizer(r'\\w+')\n",
        "\n",
        "    texts_tokens = []\n",
        "    for i, val in enumerate(texts):\n",
        "        text_tokens = tokenizer.tokenize(val.lower())\n",
        "\n",
        "        for i in range(len(text_tokens) - 1, -1, -1):\n",
        "            if len(text_tokens[i]) < 4:\n",
        "                del(text_tokens[i])\n",
        "\n",
        "        texts_tokens.append(text_tokens)\n",
        "        \n",
        "    return texts_tokens"
      ],
      "execution_count": null,
      "outputs": []
    },
    {
      "cell_type": "code",
      "metadata": {
        "execution": {
          "iopub.execute_input": "2021-07-10T16:57:03.237972Z",
          "iopub.status.busy": "2021-07-10T16:57:03.237376Z",
          "iopub.status.idle": "2021-07-10T16:57:05.343415Z",
          "shell.execute_reply": "2021-07-10T16:57:05.342308Z",
          "shell.execute_reply.started": "2021-07-10T16:57:03.237929Z"
        },
        "colab": {
          "base_uri": "https://localhost:8080/"
        },
        "id": "Uq2MLpOIjfhU",
        "outputId": "3482db77-ea0e-4e05-9947-0e9c91bcb900"
      },
      "source": [
        "tweets_tokens = tokenize(tweets_cleaned)\n",
        "\n",
        "tweets_tokens[1]"
      ],
      "execution_count": null,
      "outputs": [
        {
          "output_type": "execute_result",
          "data": {
            "text/plain": [
              "['hate', 'when', 'hide', 'from', 'world', 'comfy', 'under', 'blankets']"
            ]
          },
          "metadata": {},
          "execution_count": 142
        }
      ]
    },
    {
      "cell_type": "code",
      "metadata": {
        "colab": {
          "base_uri": "https://localhost:8080/"
        },
        "id": "LyfAbSZN9xhA",
        "outputId": "17016a92-a7dc-45c6-a881-5a436b24b070"
      },
      "source": [
        "type(tweets_tokens)"
      ],
      "execution_count": null,
      "outputs": [
        {
          "output_type": "execute_result",
          "data": {
            "text/plain": [
              "list"
            ]
          },
          "metadata": {},
          "execution_count": 143
        }
      ]
    },
    {
      "cell_type": "markdown",
      "metadata": {
        "id": "urjCZc06jfhV"
      },
      "source": [
        "### Retraits des stopwords"
      ]
    },
    {
      "cell_type": "code",
      "metadata": {
        "execution": {
          "iopub.execute_input": "2021-07-10T16:57:05.345287Z",
          "iopub.status.busy": "2021-07-10T16:57:05.344924Z",
          "iopub.status.idle": "2021-07-10T16:57:05.350534Z",
          "shell.execute_reply": "2021-07-10T16:57:05.349604Z",
          "shell.execute_reply.started": "2021-07-10T16:57:05.345257Z"
        },
        "id": "tWCw_Yu0jfhV"
      },
      "source": [
        "def removeSW(texts_tokens):\n",
        "    stopWords = set(stopwords.words('english'))\n",
        "    texts_filtered = []\n",
        "\n",
        "    for i, val in enumerate(texts_tokens):\n",
        "        text_filtered = []\n",
        "        for w in val:\n",
        "            if w not in stopWords:\n",
        "                text_filtered.append(w)\n",
        "        texts_filtered.append(text_filtered)\n",
        "        \n",
        "    return texts_filtered"
      ],
      "execution_count": null,
      "outputs": []
    },
    {
      "cell_type": "code",
      "metadata": {
        "colab": {
          "base_uri": "https://localhost:8080/"
        },
        "id": "eDKAFxLZk8Qp",
        "outputId": "39acce5c-0192-4330-aebd-eb4b2c8f5322"
      },
      "source": [
        "nltk.download('stopwords')"
      ],
      "execution_count": null,
      "outputs": [
        {
          "output_type": "stream",
          "name": "stdout",
          "text": [
            "[nltk_data] Downloading package stopwords to /root/nltk_data...\n",
            "[nltk_data]   Package stopwords is already up-to-date!\n"
          ]
        },
        {
          "output_type": "execute_result",
          "data": {
            "text/plain": [
              "True"
            ]
          },
          "metadata": {},
          "execution_count": 145
        }
      ]
    },
    {
      "cell_type": "code",
      "metadata": {
        "execution": {
          "iopub.execute_input": "2021-07-10T16:57:05.352374Z",
          "iopub.status.busy": "2021-07-10T16:57:05.351865Z",
          "iopub.status.idle": "2021-07-10T16:57:06.108423Z",
          "shell.execute_reply": "2021-07-10T16:57:06.107290Z",
          "shell.execute_reply.started": "2021-07-10T16:57:05.352335Z"
        },
        "colab": {
          "base_uri": "https://localhost:8080/"
        },
        "id": "Gz00LyAhjfhV",
        "outputId": "8a0f95d3-ec30-421e-9baf-16a5b62c4451"
      },
      "source": [
        "tweets_filtered = removeSW(tweets_tokens)\n",
        "\n",
        "tweets_filtered[1]"
      ],
      "execution_count": null,
      "outputs": [
        {
          "output_type": "execute_result",
          "data": {
            "text/plain": [
              "['hate', 'hide', 'world', 'comfy', 'blankets']"
            ]
          },
          "metadata": {},
          "execution_count": 146
        }
      ]
    },
    {
      "cell_type": "markdown",
      "metadata": {
        "id": "Ab18_P_SjfhW"
      },
      "source": [
        "### Lemmatization"
      ]
    },
    {
      "cell_type": "markdown",
      "metadata": {
        "id": "p6l-V5V5lOto"
      },
      "source": [
        "Lemmatisons le texte puis ajoutons le résultat dans le dataframe"
      ]
    },
    {
      "cell_type": "code",
      "metadata": {
        "execution": {
          "iopub.execute_input": "2021-07-10T16:57:06.110255Z",
          "iopub.status.busy": "2021-07-10T16:57:06.109936Z",
          "iopub.status.idle": "2021-07-10T16:57:06.115862Z",
          "shell.execute_reply": "2021-07-10T16:57:06.114725Z",
          "shell.execute_reply.started": "2021-07-10T16:57:06.110223Z"
        },
        "id": "U7E9SGNSjfhW"
      },
      "source": [
        "def lemma(texts_filtered):\n",
        "    wordnet_lemmatizer = WordNetLemmatizer()\n",
        "    texts_lem = []\n",
        "\n",
        "    for i, val in enumerate(texts_filtered):\n",
        "        text_lem = []\n",
        "        for word in val:\n",
        "            text_lem.append(wordnet_lemmatizer.lemmatize(word, pos=\"v\"))\n",
        "        texts_lem.append(text_lem)\n",
        "    \n",
        "    return texts_lem"
      ],
      "execution_count": null,
      "outputs": []
    },
    {
      "cell_type": "code",
      "metadata": {
        "execution": {
          "iopub.execute_input": "2021-07-10T16:57:06.117388Z",
          "iopub.status.busy": "2021-07-10T16:57:06.117023Z",
          "iopub.status.idle": "2021-07-10T16:57:15.767402Z",
          "shell.execute_reply": "2021-07-10T16:57:15.766532Z",
          "shell.execute_reply.started": "2021-07-10T16:57:06.117361Z"
        },
        "colab": {
          "base_uri": "https://localhost:8080/"
        },
        "id": "bbixh4UDjfhW",
        "outputId": "d8a45e57-93e0-499a-82b3-328dd1f54b27"
      },
      "source": [
        "nltk.download('wordnet')\n",
        "\n",
        "tweets_lem = lemma(tweets_filtered)"
      ],
      "execution_count": null,
      "outputs": [
        {
          "output_type": "stream",
          "name": "stdout",
          "text": [
            "[nltk_data] Downloading package wordnet to /root/nltk_data...\n",
            "[nltk_data]   Package wordnet is already up-to-date!\n"
          ]
        }
      ]
    },
    {
      "cell_type": "code",
      "metadata": {
        "colab": {
          "base_uri": "https://localhost:8080/",
          "height": 35
        },
        "id": "m6IsPftoLO75",
        "outputId": "c0aa4383-0103-4cea-8a10-335f119e3523"
      },
      "source": [
        "tweets[4]\n"
      ],
      "execution_count": null,
      "outputs": [
        {
          "output_type": "execute_result",
          "data": {
            "application/vnd.google.colaboratory.intrinsic+json": {
              "type": "string"
            },
            "text/plain": [
              "'trying to calll bradie..but hees number is busy  it cant be busy allll the time'"
            ]
          },
          "metadata": {},
          "execution_count": 149
        }
      ]
    },
    {
      "cell_type": "code",
      "metadata": {
        "colab": {
          "base_uri": "https://localhost:8080/"
        },
        "id": "ECDZN1M-LpMV",
        "outputId": "2e3ae623-f89d-45b9-d303-942093f931df"
      },
      "source": [
        "tweets_lem[4]\n"
      ],
      "execution_count": null,
      "outputs": [
        {
          "output_type": "execute_result",
          "data": {
            "text/plain": [
              "['try',\n",
              " 'calll',\n",
              " 'bradie',\n",
              " 'hees',\n",
              " 'number',\n",
              " 'busy',\n",
              " 'cant',\n",
              " 'busy',\n",
              " 'allll',\n",
              " 'time']"
            ]
          },
          "metadata": {},
          "execution_count": 150
        }
      ]
    },
    {
      "cell_type": "code",
      "metadata": {
        "execution": {
          "iopub.execute_input": "2021-07-10T16:57:15.770527Z",
          "iopub.status.busy": "2021-07-10T16:57:15.770204Z",
          "iopub.status.idle": "2021-07-10T16:57:15.911265Z",
          "shell.execute_reply": "2021-07-10T16:57:15.910465Z",
          "shell.execute_reply.started": "2021-07-10T16:57:15.770497Z"
        },
        "id": "rxkqy-MVjfhX"
      },
      "source": [
        "tweets_ready_lem = []\n",
        "for tweet in tweets_lem:\n",
        "    string = ' '\n",
        "    string = string.join(tweet)\n",
        "    tweets_ready_lem.append(string)"
      ],
      "execution_count": null,
      "outputs": []
    },
    {
      "cell_type": "code",
      "metadata": {
        "execution": {
          "iopub.execute_input": "2021-07-10T16:57:15.917448Z",
          "iopub.status.busy": "2021-07-10T16:57:15.916970Z",
          "iopub.status.idle": "2021-07-10T16:57:15.924123Z",
          "shell.execute_reply": "2021-07-10T16:57:15.923093Z",
          "shell.execute_reply.started": "2021-07-10T16:57:15.917413Z"
        },
        "colab": {
          "base_uri": "https://localhost:8080/"
        },
        "id": "PgTwLDRdjfhX",
        "outputId": "8b6dff33-bff5-47f6-84b5-e06ec04fbd91"
      },
      "source": [
        "len(tweets_ready_lem)"
      ],
      "execution_count": null,
      "outputs": [
        {
          "output_type": "execute_result",
          "data": {
            "text/plain": [
              "200000"
            ]
          },
          "metadata": {},
          "execution_count": 152
        }
      ]
    },
    {
      "cell_type": "code",
      "metadata": {
        "execution": {
          "iopub.execute_input": "2021-07-10T16:57:15.926898Z",
          "iopub.status.busy": "2021-07-10T16:57:15.926548Z",
          "iopub.status.idle": "2021-07-10T16:57:15.958763Z",
          "shell.execute_reply": "2021-07-10T16:57:15.957904Z",
          "shell.execute_reply.started": "2021-07-10T16:57:15.926867Z"
        },
        "id": "QMxgSZ2_jfhX"
      },
      "source": [
        "df_preprocess['tweet_lemmatize'] = tweets_ready_lem\n",
        "df_preprocess['target'] = df.target.replace(4, 1)"
      ],
      "execution_count": null,
      "outputs": []
    },
    {
      "cell_type": "markdown",
      "metadata": {
        "id": "ETfgYahthKtz"
      },
      "source": [
        "# Stemmatization"
      ]
    },
    {
      "cell_type": "markdown",
      "metadata": {
        "id": "GKnZSy5XhOxd"
      },
      "source": [
        "Nous allons également stematiser les données afin de comparer les deux méthodes. "
      ]
    },
    {
      "cell_type": "code",
      "metadata": {
        "id": "ASU08NfVMjgz"
      },
      "source": [
        "from nltk.stem import PorterStemmer\n",
        "ps = PorterStemmer()"
      ],
      "execution_count": null,
      "outputs": []
    },
    {
      "cell_type": "code",
      "metadata": {
        "id": "dg6bA8SYhEVy"
      },
      "source": [
        "def stemma(texts_filtered):\n",
        "    \n",
        "    texts_stem = []\n",
        "\n",
        "    for i, val in enumerate(texts_filtered):\n",
        "        text_stem = []\n",
        "        for word in val:\n",
        "            text_stem.append(ps.stem(word))\n",
        "        texts_stem.append(text_stem)\n",
        "    \n",
        "    return texts_stem"
      ],
      "execution_count": null,
      "outputs": []
    },
    {
      "cell_type": "code",
      "metadata": {
        "id": "wns5frR3hErx"
      },
      "source": [
        "tweets_stem = stemma(tweets_filtered)"
      ],
      "execution_count": null,
      "outputs": []
    },
    {
      "cell_type": "code",
      "metadata": {
        "id": "37QtzC5xhE4J"
      },
      "source": [
        "tweets_ready_stem = []\n",
        "for tweet in tweets_stem:\n",
        "    string = ' '\n",
        "    string = string.join(tweet)\n",
        "    tweets_ready_stem.append(string)"
      ],
      "execution_count": null,
      "outputs": []
    },
    {
      "cell_type": "code",
      "metadata": {
        "id": "0yLaALfkhFDR"
      },
      "source": [
        "df_preprocess['tweet_stemmatize'] = tweets_ready_stem\n"
      ],
      "execution_count": null,
      "outputs": []
    },
    {
      "cell_type": "code",
      "metadata": {
        "colab": {
          "base_uri": "https://localhost:8080/",
          "height": 419
        },
        "id": "CEOsQIUnYnKW",
        "outputId": "aed3b0d5-bbaa-4905-f80e-d9fdf7b0c3a4"
      },
      "source": [
        "df_preprocess"
      ],
      "execution_count": null,
      "outputs": [
        {
          "output_type": "execute_result",
          "data": {
            "text/html": [
              "<div>\n",
              "<style scoped>\n",
              "    .dataframe tbody tr th:only-of-type {\n",
              "        vertical-align: middle;\n",
              "    }\n",
              "\n",
              "    .dataframe tbody tr th {\n",
              "        vertical-align: top;\n",
              "    }\n",
              "\n",
              "    .dataframe thead th {\n",
              "        text-align: right;\n",
              "    }\n",
              "</style>\n",
              "<table border=\"1\" class=\"dataframe\">\n",
              "  <thead>\n",
              "    <tr style=\"text-align: right;\">\n",
              "      <th></th>\n",
              "      <th>target</th>\n",
              "      <th>text</th>\n",
              "      <th>tweet_lemmatize</th>\n",
              "      <th>tweet_stemmatize</th>\n",
              "    </tr>\n",
              "  </thead>\n",
              "  <tbody>\n",
              "    <tr>\n",
              "      <th>0</th>\n",
              "      <td>0</td>\n",
              "      <td>@JonathanRKnight couldnt afford 2make it out 2...</td>\n",
              "      <td>couldnt afford 2make hometown show time around...</td>\n",
              "      <td>couldnt afford 2make hometown show time around...</td>\n",
              "    </tr>\n",
              "    <tr>\n",
              "      <th>1</th>\n",
              "      <td>0</td>\n",
              "      <td>I hate when it's too hot to hide from the worl...</td>\n",
              "      <td>hate hide world comfy blanket</td>\n",
              "      <td>hate hide world comfi blanket</td>\n",
              "    </tr>\n",
              "    <tr>\n",
              "      <th>2</th>\n",
              "      <td>0</td>\n",
              "      <td>not feeling goood anybody ever drunk v8 n it m...</td>\n",
              "      <td>feel goood anybody ever drink mess tummmy fuck</td>\n",
              "      <td>feel goood anybodi ever drunk mess tummmi fuck</td>\n",
              "    </tr>\n",
              "    <tr>\n",
              "      <th>3</th>\n",
              "      <td>0</td>\n",
              "      <td>Arghhh I wish this headache would go away  I a...</td>\n",
              "      <td>arghhh wish headache would away already allerg...</td>\n",
              "      <td>arghhh wish headach would away alreadi allergi...</td>\n",
              "    </tr>\n",
              "    <tr>\n",
              "      <th>4</th>\n",
              "      <td>0</td>\n",
              "      <td>trying to calll bradie..but hees number is bus...</td>\n",
              "      <td>try calll bradie hees number busy cant busy al...</td>\n",
              "      <td>tri calll bradi hee number busi cant busi alll...</td>\n",
              "    </tr>\n",
              "    <tr>\n",
              "      <th>...</th>\n",
              "      <td>...</td>\n",
              "      <td>...</td>\n",
              "      <td>...</td>\n",
              "      <td>...</td>\n",
              "    </tr>\n",
              "    <tr>\n",
              "      <th>199995</th>\n",
              "      <td>1</td>\n",
              "      <td>@caramelthighsxo ill put you name on just say ...</td>\n",
              "      <td>name door need anymore</td>\n",
              "      <td>name door need anymor</td>\n",
              "    </tr>\n",
              "    <tr>\n",
              "      <th>199996</th>\n",
              "      <td>1</td>\n",
              "      <td>Qt inlaws. Going to take pics ready for tom as...</td>\n",
              "      <td>inlaws go take pics ready photography course p...</td>\n",
              "      <td>inlaw go take pic readi photographi cours pic ...</td>\n",
              "    </tr>\n",
              "    <tr>\n",
              "      <th>199997</th>\n",
              "      <td>1</td>\n",
              "      <td>Just had Hot wedges and hot sauce.yummiii..</td>\n",
              "      <td>wedge sauce yummiii</td>\n",
              "      <td>wedg sauc yummiii</td>\n",
              "    </tr>\n",
              "    <tr>\n",
              "      <th>199998</th>\n",
              "      <td>1</td>\n",
              "      <td>@emilyhayes is that why you carry smaller purs...</td>\n",
              "      <td>carry smaller purse</td>\n",
              "      <td>carri smaller purs</td>\n",
              "    </tr>\n",
              "    <tr>\n",
              "      <th>199999</th>\n",
              "      <td>1</td>\n",
              "      <td>eating sour skittles</td>\n",
              "      <td>eat sour skittle</td>\n",
              "      <td>eat sour skittl</td>\n",
              "    </tr>\n",
              "  </tbody>\n",
              "</table>\n",
              "<p>200000 rows × 4 columns</p>\n",
              "</div>"
            ],
            "text/plain": [
              "        target  ...                                   tweet_stemmatize\n",
              "0            0  ...  couldnt afford 2make hometown show time around...\n",
              "1            0  ...                      hate hide world comfi blanket\n",
              "2            0  ...     feel goood anybodi ever drunk mess tummmi fuck\n",
              "3            0  ...  arghhh wish headach would away alreadi allergi...\n",
              "4            0  ...  tri calll bradi hee number busi cant busi alll...\n",
              "...        ...  ...                                                ...\n",
              "199995       1  ...                              name door need anymor\n",
              "199996       1  ...  inlaw go take pic readi photographi cours pic ...\n",
              "199997       1  ...                                  wedg sauc yummiii\n",
              "199998       1  ...                                 carri smaller purs\n",
              "199999       1  ...                                    eat sour skittl\n",
              "\n",
              "[200000 rows x 4 columns]"
            ]
          },
          "metadata": {},
          "execution_count": 159
        }
      ]
    },
    {
      "cell_type": "code",
      "metadata": {
        "id": "_FQ6ZxRwL88Q"
      },
      "source": [
        "df_preprocess.to_csv(\"df_preprocess.csv\")"
      ],
      "execution_count": null,
      "outputs": []
    },
    {
      "cell_type": "markdown",
      "metadata": {
        "id": "FsZ-ZaNwjfhY"
      },
      "source": [
        "## Word embedding : Glove"
      ]
    },
    {
      "cell_type": "markdown",
      "metadata": {
        "id": "CqtN0sRnl192"
      },
      "source": [
        "On telecharge glove via kaggle"
      ]
    },
    {
      "cell_type": "code",
      "metadata": {
        "colab": {
          "resources": {
            "http://localhost:8080/nbextensions/google.colab/files.js": {
              "data": "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",
              "ok": true,
              "headers": [
                [
                  "content-type",
                  "application/javascript"
                ]
              ],
              "status": 200,
              "status_text": ""
            }
          },
          "base_uri": "https://localhost:8080/",
          "height": 89
        },
        "id": "fixyN9puls3f",
        "outputId": "be6c0269-cd35-4639-df2d-5037f78b4fff"
      },
      "source": [
        "from google.colab import files\n",
        "files.upload()"
      ],
      "execution_count": null,
      "outputs": [
        {
          "output_type": "display_data",
          "data": {
            "text/html": [
              "\n",
              "     <input type=\"file\" id=\"files-d621b04f-f205-4a0f-aea3-4e4ff6fbf8dd\" name=\"files[]\" multiple disabled\n",
              "        style=\"border:none\" />\n",
              "     <output id=\"result-d621b04f-f205-4a0f-aea3-4e4ff6fbf8dd\">\n",
              "      Upload widget is only available when the cell has been executed in the\n",
              "      current browser session. Please rerun this cell to enable.\n",
              "      </output>\n",
              "      <script src=\"/nbextensions/google.colab/files.js\"></script> "
            ],
            "text/plain": [
              "<IPython.core.display.HTML object>"
            ]
          },
          "metadata": {}
        },
        {
          "output_type": "stream",
          "name": "stdout",
          "text": [
            "Saving kaggle.json to kaggle (1).json\n"
          ]
        },
        {
          "output_type": "execute_result",
          "data": {
            "text/plain": [
              "{'kaggle.json': b'{\"username\":\"pauljacko\",\"key\":\"2fc2555168ae782838a0ec163fb06a8b\"}'}"
            ]
          },
          "metadata": {},
          "execution_count": 161
        }
      ]
    },
    {
      "cell_type": "code",
      "metadata": {
        "id": "7Q-I6OVAmfRP"
      },
      "source": [
        "!pip install -q kaggle"
      ],
      "execution_count": null,
      "outputs": []
    },
    {
      "cell_type": "code",
      "metadata": {
        "id": "lQIu-ugBmqYD"
      },
      "source": [
        "# The Kaggle API client expects this file to be in ~/.kaggle,\n",
        "# so move it there.\n",
        "!mkdir -p ~/.kaggle\n",
        "!cp kaggle.json ~/.kaggle/\n",
        "\n",
        "# This permissions change avoids a warning on Kaggle tool startup.\n",
        "!chmod 600 ~/.kaggle/kaggle.json"
      ],
      "execution_count": null,
      "outputs": []
    },
    {
      "cell_type": "code",
      "metadata": {
        "colab": {
          "base_uri": "https://localhost:8080/"
        },
        "id": "-9GRKlKemuJf",
        "outputId": "e2313dea-a26a-40ff-f151-1037d2edac4a"
      },
      "source": [
        "!kaggle datasets download -d yutanakamura/glove42b300dtxt"
      ],
      "execution_count": null,
      "outputs": [
        {
          "output_type": "stream",
          "name": "stdout",
          "text": [
            "glove42b300dtxt.zip: Skipping, found more recently modified local copy (use --force to force download)\n"
          ]
        }
      ]
    },
    {
      "cell_type": "code",
      "metadata": {
        "colab": {
          "base_uri": "https://localhost:8080/"
        },
        "id": "jd75D5PGnr4g",
        "outputId": "ccb99730-2bfe-4db8-b5d2-977858a33d1d"
      },
      "source": [
        "!unzip '/content/glove42b300dtxt.zip'\n"
      ],
      "execution_count": null,
      "outputs": [
        {
          "output_type": "stream",
          "name": "stdout",
          "text": [
            "Archive:  /content/glove42b300dtxt.zip\n",
            "replace glove.42B.300d.txt? [y]es, [n]o, [A]ll, [N]one, [r]ename: n\n"
          ]
        }
      ]
    },
    {
      "cell_type": "code",
      "metadata": {
        "id": "7WnngOyjp1ru"
      },
      "source": [
        "GLOVE_EMB = '/content/glove.42B.300d.txt'\n",
        "EMBEDDING_DIM = 300"
      ],
      "execution_count": null,
      "outputs": []
    },
    {
      "cell_type": "code",
      "metadata": {
        "execution": {
          "iopub.execute_input": "2021-07-10T16:57:15.993143Z",
          "iopub.status.busy": "2021-07-10T16:57:15.992504Z",
          "iopub.status.idle": "2021-07-10T17:03:31.932413Z",
          "shell.execute_reply": "2021-07-10T17:03:31.931278Z",
          "shell.execute_reply.started": "2021-07-10T16:57:15.993096Z"
        },
        "colab": {
          "base_uri": "https://localhost:8080/"
        },
        "id": "C-jGccN8jfhY",
        "outputId": "b60e289d-6caa-43ff-b79e-3216a5c61cff"
      },
      "source": [
        "%%time\n",
        "embeddings_index = {}\n",
        "f = codecs.open(GLOVE_EMB, encoding='utf-8')\n",
        "for line in tqdm(f):\n",
        "  values = line.split()\n",
        "  word = value = values[0]\n",
        "  coefs = np.asarray(values[1:], dtype='float32')\n",
        "  embeddings_index[word] = coefs\n",
        "f.close()\n",
        "\n",
        "print('Found %s word vectors.' %len(embeddings_index))"
      ],
      "execution_count": null,
      "outputs": [
        {
          "output_type": "stream",
          "name": "stderr",
          "text": [
            "1917494it [03:43, 8576.83it/s]"
          ]
        },
        {
          "output_type": "stream",
          "name": "stdout",
          "text": [
            "Found 1917494 word vectors.\n",
            "CPU times: user 3min 33s, sys: 8.47 s, total: 3min 42s\n",
            "Wall time: 3min 43s\n"
          ]
        },
        {
          "output_type": "stream",
          "name": "stderr",
          "text": [
            "\n"
          ]
        }
      ]
    },
    {
      "cell_type": "code",
      "metadata": {
        "execution": {
          "iopub.execute_input": "2021-07-10T17:03:31.934955Z",
          "iopub.status.busy": "2021-07-10T17:03:31.934526Z",
          "iopub.status.idle": "2021-07-10T17:03:34.950194Z",
          "shell.execute_reply": "2021-07-10T17:03:34.948633Z",
          "shell.execute_reply.started": "2021-07-10T17:03:31.934913Z"
        },
        "colab": {
          "base_uri": "https://localhost:8080/"
        },
        "id": "KsVccPWcjfhZ",
        "outputId": "3ffb8b14-6e15-44db-9d0b-4e507536e6e5"
      },
      "source": [
        "from keras.preprocessing.text import Tokenizer\n",
        "\n",
        "tokenizer = Tokenizer()\n",
        "tokenizer.fit_on_texts(df_preprocess.tweet_lemmatize)\n",
        "\n",
        "word_index = tokenizer.word_index\n",
        "vocabulary_size = len(tokenizer.word_index) + 1\n",
        "print(\"Vocabulary Size :\", vocabulary_size)"
      ],
      "execution_count": null,
      "outputs": [
        {
          "output_type": "stream",
          "name": "stdout",
          "text": [
            "Vocabulary Size : 66426\n"
          ]
        }
      ]
    },
    {
      "cell_type": "markdown",
      "metadata": {
        "id": "vl06OnzWmNek"
      },
      "source": [
        "On enregistre le tokenizer afin de l'utiliser plus tard\n"
      ]
    },
    {
      "cell_type": "code",
      "metadata": {
        "id": "A3Kp9ijumTZ_"
      },
      "source": [
        "import json\n",
        "import pickle"
      ],
      "execution_count": null,
      "outputs": []
    },
    {
      "cell_type": "code",
      "metadata": {
        "id": "5uB-ntBEvX9W"
      },
      "source": [
        "#Saving to json\n",
        "with open('tokenizer.json', 'w', encoding='utf-8') as f:\n",
        "    f.write(json.dumps(tokenizer.to_json(), ensure_ascii=False))\n",
        "    f.close()\n",
        "    \n",
        "# saving to .pickle\n",
        "with open('tokenizer.pickle', 'wb') as handle:\n",
        "    pickle.dump(tokenizer, handle, protocol=pickle.HIGHEST_PROTOCOL)\n"
      ],
      "execution_count": null,
      "outputs": []
    },
    {
      "cell_type": "code",
      "metadata": {
        "execution": {
          "iopub.execute_input": "2021-07-10T17:03:34.953019Z",
          "iopub.status.busy": "2021-07-10T17:03:34.952659Z",
          "iopub.status.idle": "2021-07-10T17:03:35.373921Z",
          "shell.execute_reply": "2021-07-10T17:03:35.372819Z",
          "shell.execute_reply.started": "2021-07-10T17:03:34.952988Z"
        },
        "id": "93hpAQiKjfhZ"
      },
      "source": [
        "embedding_matrix = np.zeros((vocabulary_size, EMBEDDING_DIM))\n",
        "for word, i in word_index.items():\n",
        "  embedding_vector = embeddings_index.get(word)\n",
        "  if embedding_vector is not None:\n",
        "    embedding_matrix[i] = embedding_vector"
      ],
      "execution_count": null,
      "outputs": []
    },
    {
      "cell_type": "code",
      "metadata": {
        "execution": {
          "iopub.execute_input": "2021-07-10T17:03:35.375959Z",
          "iopub.status.busy": "2021-07-10T17:03:35.375612Z",
          "iopub.status.idle": "2021-07-10T17:03:35.382329Z",
          "shell.execute_reply": "2021-07-10T17:03:35.381441Z",
          "shell.execute_reply.started": "2021-07-10T17:03:35.375925Z"
        },
        "colab": {
          "base_uri": "https://localhost:8080/"
        },
        "id": "XIlAf4HGjfhZ",
        "outputId": "9506c4f2-4e31-4687-8e79-268ae7adbcdb"
      },
      "source": [
        "embedding_matrix.shape"
      ],
      "execution_count": null,
      "outputs": [
        {
          "output_type": "execute_result",
          "data": {
            "text/plain": [
              "(66426, 300)"
            ]
          },
          "metadata": {},
          "execution_count": 172
        }
      ]
    },
    {
      "cell_type": "markdown",
      "metadata": {
        "id": "hw2WQkxIjfha"
      },
      "source": [
        "## Préparation de l'entrainement"
      ]
    },
    {
      "cell_type": "code",
      "metadata": {
        "execution": {
          "iopub.execute_input": "2021-07-10T17:03:35.384071Z",
          "iopub.status.busy": "2021-07-10T17:03:35.383743Z",
          "iopub.status.idle": "2021-07-10T17:03:35.394000Z",
          "shell.execute_reply": "2021-07-10T17:03:35.393022Z",
          "shell.execute_reply.started": "2021-07-10T17:03:35.384041Z"
        },
        "id": "MN95pJfwjfha"
      },
      "source": [
        "from tensorflow.keras.layers import Conv1D, Bidirectional, LSTM, Dense, Input, Dropout, SpatialDropout1D, GlobalMaxPooling1D\n",
        "from tensorflow.keras.callbacks import ModelCheckpoint\n",
        "from tensorflow.keras.optimizers import Adam\n",
        "from tensorflow.keras.callbacks import ReduceLROnPlateau, EarlyStopping"
      ],
      "execution_count": null,
      "outputs": []
    },
    {
      "cell_type": "code",
      "metadata": {
        "execution": {
          "iopub.execute_input": "2021-07-10T17:03:35.395577Z",
          "iopub.status.busy": "2021-07-10T17:03:35.395266Z",
          "iopub.status.idle": "2021-07-10T17:03:35.411406Z",
          "shell.execute_reply": "2021-07-10T17:03:35.410353Z",
          "shell.execute_reply.started": "2021-07-10T17:03:35.395547Z"
        },
        "id": "6hxFWlFijfha"
      },
      "source": [
        "BATCH_SIZE = 1024\n",
        "EPOCHS = 30"
      ],
      "execution_count": null,
      "outputs": []
    },
    {
      "cell_type": "markdown",
      "metadata": {
        "id": "zyeVEbrojfha"
      },
      "source": [
        "### Création des train sets et test sets"
      ]
    },
    {
      "cell_type": "code",
      "metadata": {
        "execution": {
          "iopub.execute_input": "2021-07-10T17:03:35.413124Z",
          "iopub.status.busy": "2021-07-10T17:03:35.412791Z",
          "iopub.status.idle": "2021-07-10T17:03:35.476831Z",
          "shell.execute_reply": "2021-07-10T17:03:35.475574Z",
          "shell.execute_reply.started": "2021-07-10T17:03:35.413082Z"
        },
        "colab": {
          "base_uri": "https://localhost:8080/"
        },
        "id": "z5-WkweXjfha",
        "outputId": "0262379e-48dc-460f-b2e5-3d5ab79773b6"
      },
      "source": [
        "X_train, X_test, y_train, y_test = sklearn.model_selection.train_test_split(df_preprocess['tweet_lemmatize'], df_preprocess['target'], test_size=0.2, random_state=123)\n",
        "print(\"Train Data size:\", len(X_train))\n",
        "print(\"Test Data size\", len(X_test))"
      ],
      "execution_count": null,
      "outputs": [
        {
          "output_type": "stream",
          "name": "stdout",
          "text": [
            "Train Data size: 160000\n",
            "Test Data size 40000\n"
          ]
        }
      ]
    },
    {
      "cell_type": "code",
      "metadata": {
        "execution": {
          "iopub.execute_input": "2021-07-10T17:03:35.478397Z",
          "iopub.status.busy": "2021-07-10T17:03:35.478093Z",
          "iopub.status.idle": "2021-07-10T17:03:35.483830Z",
          "shell.execute_reply": "2021-07-10T17:03:35.482604Z",
          "shell.execute_reply.started": "2021-07-10T17:03:35.478365Z"
        },
        "id": "p5lll7OTjfhb"
      },
      "source": [
        "MAX_SEQUENCE_LENGTH = 30"
      ],
      "execution_count": null,
      "outputs": []
    },
    {
      "cell_type": "code",
      "metadata": {
        "execution": {
          "iopub.execute_input": "2021-07-10T17:03:35.485327Z",
          "iopub.status.busy": "2021-07-10T17:03:35.485025Z",
          "iopub.status.idle": "2021-07-10T17:03:39.186699Z",
          "shell.execute_reply": "2021-07-10T17:03:39.185714Z",
          "shell.execute_reply.started": "2021-07-10T17:03:35.485289Z"
        },
        "colab": {
          "base_uri": "https://localhost:8080/"
        },
        "id": "KWE1gnGajfhb",
        "outputId": "ce424b4e-eeaa-4389-a5f7-c41e8054488d"
      },
      "source": [
        "from keras.preprocessing.sequence import pad_sequences\n",
        "\n",
        "X_train = pad_sequences(tokenizer.texts_to_sequences(X_train),\n",
        "                        maxlen = MAX_SEQUENCE_LENGTH)\n",
        "X_test = pad_sequences(tokenizer.texts_to_sequences(X_test),\n",
        "                       maxlen = MAX_SEQUENCE_LENGTH)\n",
        "\n",
        "print(\"Training X Shape:\",X_train.shape)\n",
        "print(\"Testing X Shape:\",X_test.shape)"
      ],
      "execution_count": null,
      "outputs": [
        {
          "output_type": "stream",
          "name": "stdout",
          "text": [
            "Training X Shape: (160000, 30)\n",
            "Testing X Shape: (40000, 30)\n"
          ]
        }
      ]
    },
    {
      "cell_type": "markdown",
      "metadata": {
        "id": "OAx0pJFDjfhc"
      },
      "source": [
        "### Embedding layer (glove)"
      ]
    },
    {
      "cell_type": "code",
      "metadata": {
        "execution": {
          "iopub.execute_input": "2021-07-10T17:03:39.188987Z",
          "iopub.status.busy": "2021-07-10T17:03:39.188312Z",
          "iopub.status.idle": "2021-07-10T17:03:39.196494Z",
          "shell.execute_reply": "2021-07-10T17:03:39.195367Z",
          "shell.execute_reply.started": "2021-07-10T17:03:39.188941Z"
        },
        "colab": {
          "base_uri": "https://localhost:8080/"
        },
        "id": "1PPiRGIQjfhc",
        "outputId": "e21eded6-40b1-4512-8939-bda85d74b050"
      },
      "source": [
        "embedding_matrix.shape"
      ],
      "execution_count": null,
      "outputs": [
        {
          "output_type": "execute_result",
          "data": {
            "text/plain": [
              "(66426, 300)"
            ]
          },
          "metadata": {},
          "execution_count": 178
        }
      ]
    },
    {
      "cell_type": "code",
      "metadata": {
        "execution": {
          "iopub.execute_input": "2021-07-10T17:03:39.198125Z",
          "iopub.status.busy": "2021-07-10T17:03:39.197841Z",
          "iopub.status.idle": "2021-07-10T17:03:39.237331Z",
          "shell.execute_reply": "2021-07-10T17:03:39.236086Z",
          "shell.execute_reply.started": "2021-07-10T17:03:39.198097Z"
        },
        "id": "4-SRSVzmjfhc"
      },
      "source": [
        "embedding_layer_glv = tf.keras.layers.Embedding(vocabulary_size,\n",
        "                                          EMBEDDING_DIM,\n",
        "                                          weights=[embedding_matrix],\n",
        "                                          input_length=MAX_SEQUENCE_LENGTH,\n",
        "                                          trainable=False)"
      ],
      "execution_count": null,
      "outputs": []
    },
    {
      "cell_type": "markdown",
      "metadata": {
        "id": "12yQVnLOjfhd"
      },
      "source": [
        "### Callbacks"
      ]
    },
    {
      "cell_type": "code",
      "metadata": {
        "execution": {
          "iopub.execute_input": "2021-07-10T17:03:39.239241Z",
          "iopub.status.busy": "2021-07-10T17:03:39.238913Z",
          "iopub.status.idle": "2021-07-10T17:03:39.244308Z",
          "shell.execute_reply": "2021-07-10T17:03:39.243528Z",
          "shell.execute_reply.started": "2021-07-10T17:03:39.239208Z"
        },
        "id": "b91l0fnNjfhd"
      },
      "source": [
        "es=EarlyStopping(monitor='val_loss',\n",
        "                 mode='min',\n",
        "                 verbose=1,\n",
        "                 patience=5)\n",
        "\n",
        "reduce_lr = ReduceLROnPlateau(factor=0.1,\n",
        "                                     min_lr = 0.01,\n",
        "                                     monitor = 'val_loss',\n",
        "                                     verbose = 1)"
      ],
      "execution_count": null,
      "outputs": []
    },
    {
      "cell_type": "markdown",
      "metadata": {
        "id": "9TA4dWhLD35v"
      },
      "source": [
        "# Modèle 0: RNN \"basique\" avec Glove"
      ]
    },
    {
      "cell_type": "markdown",
      "metadata": {
        "id": "TsFt-0Qt4VDi"
      },
      "source": [
        "Nous allons dans cette partie essayer plusieurs modèles avec différentes combinaisons (differentes layer embedding, complexification des modeles, et utilisation de lemmatisation et de la stemmatisation) et voir lesquels sont les plus performants.\n"
      ]
    },
    {
      "cell_type": "markdown",
      "metadata": {
        "id": "fGu0CaWV5WcU"
      },
      "source": [
        "Notre but étant de detecter les bad buzz (autrement dit ici de detecter au mieux les targe = 0), nous allons utiliser la précision comme métrique d'évaluation pour nos modèles"
      ]
    },
    {
      "cell_type": "code",
      "metadata": {
        "id": "RVf5LjbDDxcw"
      },
      "source": [
        "inputs = tf.keras.Input(shape=(MAX_SEQUENCE_LENGTH,), dtype=\"int32\")\n",
        "\n",
        "x = embedding_layer_glv(inputs)\n",
        "x = LSTM(64, dropout=0.2, recurrent_dropout=0.2)(x)\n",
        "\n",
        "outputs = Dense(1, activation=\"sigmoid\")(x)\n",
        "\n",
        "model_A = tf.keras.Model(inputs, outputs)"
      ],
      "execution_count": null,
      "outputs": []
    },
    {
      "cell_type": "code",
      "metadata": {
        "colab": {
          "base_uri": "https://localhost:8080/"
        },
        "id": "6AYfXVAlDxRM",
        "outputId": "5bc7dc38-1842-4541-f51d-98ce39f67919"
      },
      "source": [
        "model_A.summary()"
      ],
      "execution_count": null,
      "outputs": [
        {
          "output_type": "stream",
          "name": "stdout",
          "text": [
            "Model: \"model_4\"\n",
            "_________________________________________________________________\n",
            "Layer (type)                 Output Shape              Param #   \n",
            "=================================================================\n",
            "input_6 (InputLayer)         [(None, 30)]              0         \n",
            "_________________________________________________________________\n",
            "embedding_2 (Embedding)      (None, 30, 300)           19927800  \n",
            "_________________________________________________________________\n",
            "lstm_4 (LSTM)                (None, 64)                93440     \n",
            "_________________________________________________________________\n",
            "dense_7 (Dense)              (None, 1)                 65        \n",
            "=================================================================\n",
            "Total params: 20,021,305\n",
            "Trainable params: 93,505\n",
            "Non-trainable params: 19,927,800\n",
            "_________________________________________________________________\n"
          ]
        }
      ]
    },
    {
      "cell_type": "code",
      "metadata": {
        "id": "FTYQaQ3aDxF2"
      },
      "source": [
        "model_A.compile(optimizer=Adam(), loss='binary_crossentropy',\n",
        "              metrics=['accuracy'])"
      ],
      "execution_count": null,
      "outputs": []
    },
    {
      "cell_type": "code",
      "metadata": {
        "colab": {
          "base_uri": "https://localhost:8080/"
        },
        "id": "IOJOMCtsDw6O",
        "outputId": "7c442969-a5b2-42d9-d630-74ad64cbf001"
      },
      "source": [
        "%%time\n",
        "history_A = model_A.fit(X_train, y_train, batch_size=BATCH_SIZE, epochs=EPOCHS,\n",
        "                    validation_data=(X_test, y_test), callbacks=[es, reduce_lr])"
      ],
      "execution_count": null,
      "outputs": [
        {
          "output_type": "stream",
          "name": "stdout",
          "text": [
            "Epoch 1/30\n",
            "157/157 [==============================] - 142s 888ms/step - loss: 0.5638 - accuracy: 0.7073 - val_loss: 0.5329 - val_accuracy: 0.7286\n",
            "Epoch 2/30\n",
            "157/157 [==============================] - 139s 883ms/step - loss: 0.5294 - accuracy: 0.7334 - val_loss: 0.5213 - val_accuracy: 0.7369\n",
            "Epoch 3/30\n",
            "157/157 [==============================] - 139s 884ms/step - loss: 0.5182 - accuracy: 0.7409 - val_loss: 0.5142 - val_accuracy: 0.7417\n",
            "Epoch 4/30\n",
            "157/157 [==============================] - 138s 879ms/step - loss: 0.5085 - accuracy: 0.7483 - val_loss: 0.5087 - val_accuracy: 0.7458\n",
            "Epoch 5/30\n",
            "157/157 [==============================] - 136s 867ms/step - loss: 0.5013 - accuracy: 0.7529 - val_loss: 0.5042 - val_accuracy: 0.7498\n",
            "Epoch 6/30\n",
            "157/157 [==============================] - 137s 873ms/step - loss: 0.4943 - accuracy: 0.7575 - val_loss: 0.5014 - val_accuracy: 0.7527\n",
            "Epoch 7/30\n",
            "157/157 [==============================] - 136s 869ms/step - loss: 0.4891 - accuracy: 0.7610 - val_loss: 0.4987 - val_accuracy: 0.7530\n",
            "Epoch 8/30\n",
            "157/157 [==============================] - 137s 871ms/step - loss: 0.4834 - accuracy: 0.7646 - val_loss: 0.4991 - val_accuracy: 0.7534\n",
            "Epoch 9/30\n",
            "157/157 [==============================] - 138s 876ms/step - loss: 0.4796 - accuracy: 0.7669 - val_loss: 0.4985 - val_accuracy: 0.7540\n",
            "Epoch 10/30\n",
            "157/157 [==============================] - 137s 873ms/step - loss: 0.4746 - accuracy: 0.7700 - val_loss: 0.5010 - val_accuracy: 0.7546\n",
            "Epoch 11/30\n",
            "157/157 [==============================] - 136s 867ms/step - loss: 0.4715 - accuracy: 0.7724 - val_loss: 0.4963 - val_accuracy: 0.7555\n",
            "Epoch 12/30\n",
            "157/157 [==============================] - 136s 868ms/step - loss: 0.4673 - accuracy: 0.7760 - val_loss: 0.4969 - val_accuracy: 0.7555\n",
            "Epoch 13/30\n",
            "157/157 [==============================] - 137s 870ms/step - loss: 0.4638 - accuracy: 0.7779 - val_loss: 0.4983 - val_accuracy: 0.7545\n",
            "Epoch 14/30\n",
            "157/157 [==============================] - 137s 871ms/step - loss: 0.4606 - accuracy: 0.7798 - val_loss: 0.4978 - val_accuracy: 0.7553\n",
            "Epoch 15/30\n",
            "157/157 [==============================] - 136s 868ms/step - loss: 0.4564 - accuracy: 0.7819 - val_loss: 0.4984 - val_accuracy: 0.7553\n",
            "Epoch 16/30\n",
            "157/157 [==============================] - 138s 877ms/step - loss: 0.4535 - accuracy: 0.7832 - val_loss: 0.4987 - val_accuracy: 0.7557\n",
            "Epoch 00016: early stopping\n",
            "CPU times: user 1h 4min 12s, sys: 4min 55s, total: 1h 9min 7s\n",
            "Wall time: 36min 38s\n"
          ]
        }
      ]
    },
    {
      "cell_type": "code",
      "metadata": {
        "colab": {
          "base_uri": "https://localhost:8080/",
          "height": 312
        },
        "id": "N4uEWxT_Dwum",
        "outputId": "f490fc09-34d5-49b5-ad81-4ceba0435a6b"
      },
      "source": [
        "plt.xlim([0, 14])\n",
        "plt.ylim([0, 1])\n",
        "plt.plot(history_A.history['accuracy'])\n",
        "plt.plot(history_A.history['val_accuracy'])\n",
        "plt.ylabel('Accuracy')\n",
        "plt.title('RNN simple avec word embedding Glove')\n",
        "plt.xlabel('Epoch')\n",
        "plt.legend(['Train', 'Validation'], loc='upper left')"
      ],
      "execution_count": null,
      "outputs": [
        {
          "output_type": "execute_result",
          "data": {
            "text/plain": [
              "<matplotlib.legend.Legend at 0x7fd5bc3cedd0>"
            ]
          },
          "metadata": {},
          "execution_count": 237
        },
        {
          "output_type": "display_data",
          "data": {
            "image/png": "[encoded data removed]",
            "text/plain": [
              "<Figure size 432x288 with 1 Axes>"
            ]
          },
          "metadata": {}
        }
      ]
    },
    {
      "cell_type": "markdown",
      "metadata": {
        "id": "mGQbE0RGHhzj"
      },
      "source": [
        "0.78 pour un modèle simple. Ce n'est pas mal ! voyons si on peut faire mieux avec un modèle plus complexe"
      ]
    },
    {
      "cell_type": "code",
      "metadata": {
        "colab": {
          "base_uri": "https://localhost:8080/"
        },
        "id": "rpzVdboKDwi2",
        "outputId": "53ba6d7c-1234-4616-f2d3-def9949a09e4"
      },
      "source": [
        "history_A.history['accuracy'][-1]"
      ],
      "execution_count": null,
      "outputs": [
        {
          "output_type": "execute_result",
          "data": {
            "text/plain": [
              "0.7832124829292297"
            ]
          },
          "metadata": {},
          "execution_count": 186
        }
      ]
    },
    {
      "cell_type": "markdown",
      "metadata": {
        "id": "YVp15aIpjfhf"
      },
      "source": [
        "## Premier modèle : Ajouts de couches"
      ]
    },
    {
      "cell_type": "markdown",
      "metadata": {
        "id": "6fbS4o-4QASs"
      },
      "source": [
        "Maintenant que nous avons notre baseline, nous allons essayer de complexifier le modele pour avoir de meilleurs résultats. ajoutons quelque couches et changeons la couche LSTM en bidirectionelle"
      ]
    },
    {
      "cell_type": "code",
      "metadata": {
        "execution": {
          "iopub.execute_input": "2021-07-10T17:25:55.886125Z",
          "iopub.status.busy": "2021-07-10T17:25:55.885732Z",
          "iopub.status.idle": "2021-07-10T17:25:56.251432Z",
          "shell.execute_reply": "2021-07-10T17:25:56.250317Z",
          "shell.execute_reply.started": "2021-07-10T17:25:55.886093Z"
        },
        "id": "27mMkcsIjfhf"
      },
      "source": [
        "inputs = tf.keras.Input(shape=(MAX_SEQUENCE_LENGTH,), dtype=\"int32\")\n",
        "\n",
        "x = embedding_layer_glv(inputs)\n",
        "x = SpatialDropout1D(0.2)(x)\n",
        "\n",
        "# Conv1D + LSTM (bidirectional)\n",
        "x = Conv1D(64, 5, activation='relu')(x)\n",
        "x = Bidirectional(LSTM(64, dropout=0.2, recurrent_dropout=0.2))(x)\n",
        "\n",
        "# Vanilla hidden layer:\n",
        "x = Dense(512, activation=\"relu\")(x)\n",
        "x = Dropout(0.5)(x)\n",
        "\n",
        "outputs = Dense(1, activation=\"sigmoid\")(x)\n",
        "\n",
        "model_B = tf.keras.Model(inputs, outputs)"
      ],
      "execution_count": null,
      "outputs": []
    },
    {
      "cell_type": "code",
      "metadata": {
        "execution": {
          "iopub.execute_input": "2021-07-10T17:25:56.253071Z",
          "iopub.status.busy": "2021-07-10T17:25:56.252803Z",
          "iopub.status.idle": "2021-07-10T17:25:56.266020Z",
          "shell.execute_reply": "2021-07-10T17:25:56.264616Z",
          "shell.execute_reply.started": "2021-07-10T17:25:56.253044Z"
        },
        "colab": {
          "base_uri": "https://localhost:8080/"
        },
        "id": "Y5My8_Ldjfhf",
        "outputId": "9dd768ca-6b38-4b4e-87e3-81532f8a929e"
      },
      "source": [
        "model_B.summary()"
      ],
      "execution_count": null,
      "outputs": [
        {
          "output_type": "stream",
          "name": "stdout",
          "text": [
            "Model: \"model_5\"\n",
            "_________________________________________________________________\n",
            "Layer (type)                 Output Shape              Param #   \n",
            "=================================================================\n",
            "input_7 (InputLayer)         [(None, 30)]              0         \n",
            "_________________________________________________________________\n",
            "embedding_2 (Embedding)      (None, 30, 300)           19927800  \n",
            "_________________________________________________________________\n",
            "spatial_dropout1d_3 (Spatial (None, 30, 300)           0         \n",
            "_________________________________________________________________\n",
            "conv1d_3 (Conv1D)            (None, 26, 64)            96064     \n",
            "_________________________________________________________________\n",
            "bidirectional_3 (Bidirection (None, 128)               66048     \n",
            "_________________________________________________________________\n",
            "dense_8 (Dense)              (None, 512)               66048     \n",
            "_________________________________________________________________\n",
            "dropout_3 (Dropout)          (None, 512)               0         \n",
            "_________________________________________________________________\n",
            "dense_9 (Dense)              (None, 1)                 513       \n",
            "=================================================================\n",
            "Total params: 20,156,473\n",
            "Trainable params: 228,673\n",
            "Non-trainable params: 19,927,800\n",
            "_________________________________________________________________\n"
          ]
        }
      ]
    },
    {
      "cell_type": "code",
      "metadata": {
        "execution": {
          "iopub.execute_input": "2021-07-10T17:25:56.268417Z",
          "iopub.status.busy": "2021-07-10T17:25:56.267959Z",
          "iopub.status.idle": "2021-07-10T17:25:56.283257Z",
          "shell.execute_reply": "2021-07-10T17:25:56.282074Z",
          "shell.execute_reply.started": "2021-07-10T17:25:56.268363Z"
        },
        "id": "IaK7XHJpjfhg"
      },
      "source": [
        "model_B.compile(optimizer=Adam(), loss='binary_crossentropy',\n",
        "              metrics=['accuracy'])"
      ],
      "execution_count": null,
      "outputs": []
    },
    {
      "cell_type": "code",
      "metadata": {
        "execution": {
          "iopub.execute_input": "2021-07-10T17:25:56.285037Z",
          "iopub.status.busy": "2021-07-10T17:25:56.284642Z",
          "iopub.status.idle": "2021-07-10T17:47:39.753430Z",
          "shell.execute_reply": "2021-07-10T17:47:39.752191Z",
          "shell.execute_reply.started": "2021-07-10T17:25:56.285006Z"
        },
        "colab": {
          "base_uri": "https://localhost:8080/"
        },
        "id": "WV4eSbipjfhg",
        "outputId": "37511a14-7250-4c33-d944-edb3e3c3e13b"
      },
      "source": [
        "%%time\n",
        "history_B = model_B.fit(X_train, y_train, batch_size=BATCH_SIZE, epochs=EPOCHS,\n",
        "                    validation_data=(X_test, y_test), callbacks=[es, reduce_lr])"
      ],
      "execution_count": null,
      "outputs": [
        {
          "output_type": "stream",
          "name": "stdout",
          "text": [
            "Epoch 1/30\n",
            "157/157 [==============================] - 168s 1s/step - loss: 0.5709 - accuracy: 0.6973 - val_loss: 0.5327 - val_accuracy: 0.7273\n",
            "Epoch 2/30\n",
            "157/157 [==============================] - 162s 1s/step - loss: 0.5305 - accuracy: 0.7315 - val_loss: 0.5195 - val_accuracy: 0.7380\n",
            "Epoch 3/30\n",
            "157/157 [==============================] - 162s 1s/step - loss: 0.5147 - accuracy: 0.7436 - val_loss: 0.5209 - val_accuracy: 0.7388\n",
            "Epoch 4/30\n",
            "157/157 [==============================] - 161s 1s/step - loss: 0.5021 - accuracy: 0.7518 - val_loss: 0.5106 - val_accuracy: 0.7449\n",
            "Epoch 5/30\n",
            "157/157 [==============================] - 161s 1s/step - loss: 0.4901 - accuracy: 0.7612 - val_loss: 0.5119 - val_accuracy: 0.7440\n",
            "Epoch 6/30\n",
            "157/157 [==============================] - 162s 1s/step - loss: 0.4815 - accuracy: 0.7656 - val_loss: 0.5123 - val_accuracy: 0.7440\n",
            "Epoch 7/30\n",
            "157/157 [==============================] - 161s 1s/step - loss: 0.4724 - accuracy: 0.7723 - val_loss: 0.5133 - val_accuracy: 0.7447\n",
            "Epoch 8/30\n",
            "157/157 [==============================] - 161s 1s/step - loss: 0.4633 - accuracy: 0.7770 - val_loss: 0.5189 - val_accuracy: 0.7429\n",
            "Epoch 9/30\n",
            "157/157 [==============================] - 162s 1s/step - loss: 0.4557 - accuracy: 0.7820 - val_loss: 0.5248 - val_accuracy: 0.7414\n",
            "Epoch 00009: early stopping\n",
            "CPU times: user 43min 24s, sys: 3min 10s, total: 46min 35s\n",
            "Wall time: 24min 19s\n"
          ]
        }
      ]
    },
    {
      "cell_type": "code",
      "metadata": {
        "execution": {
          "iopub.execute_input": "2021-07-10T18:16:44.241293Z",
          "iopub.status.busy": "2021-07-10T18:16:44.240856Z",
          "iopub.status.idle": "2021-07-10T18:16:44.407892Z",
          "shell.execute_reply": "2021-07-10T18:16:44.406797Z",
          "shell.execute_reply.started": "2021-07-10T18:16:44.241258Z"
        },
        "id": "8sJmjuhbjfhg",
        "colab": {
          "base_uri": "https://localhost:8080/",
          "height": 312
        },
        "outputId": "bbc48929-91af-43e8-f8d2-2f8b41b82c71"
      },
      "source": [
        "plt.xlim([0, 8])\n",
        "plt.ylim([0, 1])\n",
        "plt.plot(history_B.history['accuracy'])\n",
        "plt.plot(history_B.history['val_accuracy'])\n",
        "plt.ylabel('Accuracy')\n",
        "plt.title('RNN avec word embedding Glove')\n",
        "plt.xlabel('Epoch')\n",
        "plt.legend(['Train', 'Validation'], loc='upper left')"
      ],
      "execution_count": null,
      "outputs": [
        {
          "output_type": "execute_result",
          "data": {
            "text/plain": [
              "<matplotlib.legend.Legend at 0x7fd5711fcdd0>"
            ]
          },
          "metadata": {},
          "execution_count": 191
        },
        {
          "output_type": "display_data",
          "data": {
            "image/png": "[encoded data removed]",
            "text/plain": [
              "<Figure size 432x288 with 1 Axes>"
            ]
          },
          "metadata": {}
        }
      ]
    },
    {
      "cell_type": "markdown",
      "metadata": {
        "id": "uIyhT_Wv4BvB"
      },
      "source": [
        "Les résultats sont plus ou moins similaires, ajouter des couches ne semble pas aider dans notre cas "
      ]
    },
    {
      "cell_type": "markdown",
      "metadata": {
        "id": "nSao1iDSjfhg"
      },
      "source": [
        " ## Deuxieme modele : RNN avec FastText"
      ]
    },
    {
      "cell_type": "markdown",
      "metadata": {
        "id": "wplUSHiLQSF4"
      },
      "source": [
        "On va maintenant essayer le même modèle que le premier mais en changeant la couche embedding"
      ]
    },
    {
      "cell_type": "markdown",
      "metadata": {
        "id": "4Zb-0vHHqW_5"
      },
      "source": [
        "On telecharge Fastext"
      ]
    },
    {
      "cell_type": "code",
      "metadata": {
        "id": "TmVO8jnW48eB",
        "colab": {
          "base_uri": "https://localhost:8080/"
        },
        "outputId": "17533f7b-aae3-4562-c2f2-0e9173040958"
      },
      "source": [
        "!kaggle datasets download -d vsmolyakov/fasttext"
      ],
      "execution_count": null,
      "outputs": [
        {
          "output_type": "stream",
          "name": "stdout",
          "text": [
            "fasttext.zip: Skipping, found more recently modified local copy (use --force to force download)\n"
          ]
        }
      ]
    },
    {
      "cell_type": "code",
      "metadata": {
        "id": "7ADwi9AV5B-U",
        "colab": {
          "base_uri": "https://localhost:8080/"
        },
        "outputId": "d8d17d5e-29db-4aa8-845d-c498aec20df0"
      },
      "source": [
        "!unzip \"/content/fasttext.zip\""
      ],
      "execution_count": null,
      "outputs": [
        {
          "output_type": "stream",
          "name": "stdout",
          "text": [
            "Archive:  /content/fasttext.zip\n",
            "replace wiki.simple.vec? [y]es, [n]o, [A]ll, [N]one, [r]ename: n\n"
          ]
        }
      ]
    },
    {
      "cell_type": "code",
      "metadata": {
        "execution": {
          "iopub.execute_input": "2021-07-10T17:47:39.922926Z",
          "iopub.status.busy": "2021-07-10T17:47:39.922587Z",
          "iopub.status.idle": "2021-07-10T17:48:06.438807Z",
          "shell.execute_reply": "2021-07-10T17:48:06.437879Z",
          "shell.execute_reply.started": "2021-07-10T17:47:39.922893Z"
        },
        "id": "8btG4b88jfhh",
        "colab": {
          "base_uri": "https://localhost:8080/"
        },
        "outputId": "8b88f7c0-9918-45ba-e51e-cd847a6bd632"
      },
      "source": [
        "import codecs\n",
        "from tqdm import tqdm\n",
        "embeddings_index = {}\n",
        "f = codecs.open('/content/wiki.simple.vec', encoding='utf-8')\n",
        "for line in tqdm(f):\n",
        "    values = line.rstrip().rsplit(' ')\n",
        "    word = values[0]\n",
        "    coefs = np.asarray(values[1:], dtype='float32')\n",
        "    embeddings_index[word] = coefs\n",
        "f.close()\n",
        "print('found %s word vectors' % len(embeddings_index))"
      ],
      "execution_count": null,
      "outputs": [
        {
          "output_type": "stream",
          "name": "stderr",
          "text": [
            "111052it [00:12, 8802.27it/s]"
          ]
        },
        {
          "output_type": "stream",
          "name": "stdout",
          "text": [
            "found 111052 word vectors\n"
          ]
        },
        {
          "output_type": "stream",
          "name": "stderr",
          "text": [
            "\n"
          ]
        }
      ]
    },
    {
      "cell_type": "code",
      "metadata": {
        "execution": {
          "iopub.execute_input": "2021-07-10T17:48:06.440840Z",
          "iopub.status.busy": "2021-07-10T17:48:06.440518Z",
          "iopub.status.idle": "2021-07-10T17:48:06.610332Z",
          "shell.execute_reply": "2021-07-10T17:48:06.609182Z",
          "shell.execute_reply.started": "2021-07-10T17:48:06.440808Z"
        },
        "id": "FXu6cSzrjfhh"
      },
      "source": [
        "embedding_matrix = np.zeros((vocabulary_size, EMBEDDING_DIM))\n",
        "for word, i in word_index.items():\n",
        "  embedding_vector = embeddings_index.get(word)\n",
        "  if embedding_vector is not None:\n",
        "    embedding_matrix[i] = embedding_vector"
      ],
      "execution_count": null,
      "outputs": []
    },
    {
      "cell_type": "code",
      "metadata": {
        "execution": {
          "iopub.execute_input": "2021-07-10T17:48:06.612271Z",
          "iopub.status.busy": "2021-07-10T17:48:06.611957Z",
          "iopub.status.idle": "2021-07-10T17:48:06.618097Z",
          "shell.execute_reply": "2021-07-10T17:48:06.617048Z",
          "shell.execute_reply.started": "2021-07-10T17:48:06.612240Z"
        },
        "id": "-61qIlipjfhh",
        "colab": {
          "base_uri": "https://localhost:8080/"
        },
        "outputId": "79d539d5-2916-4fdc-c11b-487c910cc876"
      },
      "source": [
        "embedding_matrix.shape"
      ],
      "execution_count": null,
      "outputs": [
        {
          "output_type": "execute_result",
          "data": {
            "text/plain": [
              "(66426, 300)"
            ]
          },
          "metadata": {},
          "execution_count": 196
        }
      ]
    },
    {
      "cell_type": "code",
      "metadata": {
        "execution": {
          "iopub.execute_input": "2021-07-10T17:48:06.620033Z",
          "iopub.status.busy": "2021-07-10T17:48:06.619711Z",
          "iopub.status.idle": "2021-07-10T17:48:06.633014Z",
          "shell.execute_reply": "2021-07-10T17:48:06.631705Z",
          "shell.execute_reply.started": "2021-07-10T17:48:06.620003Z"
        },
        "id": "8qcHdjcAjfhh"
      },
      "source": [
        "embedding_layer_fasttext = tf.keras.layers.Embedding(vocabulary_size,\n",
        "                                          EMBEDDING_DIM,\n",
        "                                          weights=[embedding_matrix],\n",
        "                                          input_length=MAX_SEQUENCE_LENGTH,\n",
        "                                          trainable=False)"
      ],
      "execution_count": null,
      "outputs": []
    },
    {
      "cell_type": "code",
      "metadata": {
        "execution": {
          "iopub.execute_input": "2021-07-10T17:48:06.635403Z",
          "iopub.status.busy": "2021-07-10T17:48:06.634963Z",
          "iopub.status.idle": "2021-07-10T17:48:07.334370Z",
          "shell.execute_reply": "2021-07-10T17:48:07.333526Z",
          "shell.execute_reply.started": "2021-07-10T17:48:06.635356Z"
        },
        "id": "fJHaHz7Zjfhi"
      },
      "source": [
        "inputs = tf.keras.Input(shape=(MAX_SEQUENCE_LENGTH,), dtype=\"int32\")\n",
        "\n",
        "x = embedding_layer_fasttext(inputs)\n",
        "x = SpatialDropout1D(0.2)(x)\n",
        "\n",
        "# Conv1D + LSTM (bidirectional)\n",
        "x = Conv1D(64, 5, activation='relu')(x)\n",
        "x = Bidirectional(LSTM(64, dropout=0.2, recurrent_dropout=0.2))(x)\n",
        "\n",
        "# Vanilla hidden layer:\n",
        "x = Dense(512, activation=\"relu\")(x)\n",
        "x = Dropout(0.5)(x)\n",
        "\n",
        "outputs = Dense(1, activation=\"sigmoid\")(x)\n",
        "\n",
        "model_C = tf.keras.Model(inputs, outputs)"
      ],
      "execution_count": null,
      "outputs": []
    },
    {
      "cell_type": "code",
      "metadata": {
        "colab": {
          "base_uri": "https://localhost:8080/"
        },
        "id": "wN_pkBdZJji5",
        "outputId": "869d63d1-4cc2-4103-f3a1-d4f086f8445c"
      },
      "source": [
        "model_C.summary()"
      ],
      "execution_count": null,
      "outputs": [
        {
          "output_type": "stream",
          "name": "stdout",
          "text": [
            "Model: \"model_6\"\n",
            "_________________________________________________________________\n",
            "Layer (type)                 Output Shape              Param #   \n",
            "=================================================================\n",
            "input_8 (InputLayer)         [(None, 30)]              0         \n",
            "_________________________________________________________________\n",
            "embedding_3 (Embedding)      (None, 30, 300)           19927800  \n",
            "_________________________________________________________________\n",
            "spatial_dropout1d_4 (Spatial (None, 30, 300)           0         \n",
            "_________________________________________________________________\n",
            "conv1d_4 (Conv1D)            (None, 26, 64)            96064     \n",
            "_________________________________________________________________\n",
            "bidirectional_4 (Bidirection (None, 128)               66048     \n",
            "_________________________________________________________________\n",
            "dense_10 (Dense)             (None, 512)               66048     \n",
            "_________________________________________________________________\n",
            "dropout_4 (Dropout)          (None, 512)               0         \n",
            "_________________________________________________________________\n",
            "dense_11 (Dense)             (None, 1)                 513       \n",
            "=================================================================\n",
            "Total params: 20,156,473\n",
            "Trainable params: 228,673\n",
            "Non-trainable params: 19,927,800\n",
            "_________________________________________________________________\n"
          ]
        }
      ]
    },
    {
      "cell_type": "code",
      "metadata": {
        "execution": {
          "iopub.execute_input": "2021-07-10T17:48:07.335891Z",
          "iopub.status.busy": "2021-07-10T17:48:07.335466Z",
          "iopub.status.idle": "2021-07-10T17:48:07.348673Z",
          "shell.execute_reply": "2021-07-10T17:48:07.347806Z",
          "shell.execute_reply.started": "2021-07-10T17:48:07.335860Z"
        },
        "id": "WYAbp177jfhi"
      },
      "source": [
        "model_C.compile(optimizer=Adam(), loss='binary_crossentropy',\n",
        "              metrics=['accuracy'])"
      ],
      "execution_count": null,
      "outputs": []
    },
    {
      "cell_type": "code",
      "metadata": {
        "execution": {
          "iopub.execute_input": "2021-07-10T17:48:07.350375Z",
          "iopub.status.busy": "2021-07-10T17:48:07.349889Z",
          "iopub.status.idle": "2021-07-10T18:06:09.712546Z",
          "shell.execute_reply": "2021-07-10T18:06:09.711680Z",
          "shell.execute_reply.started": "2021-07-10T17:48:07.350346Z"
        },
        "id": "eQnTS37Ljfhi",
        "colab": {
          "base_uri": "https://localhost:8080/"
        },
        "outputId": "15ceabe8-0e7f-4e76-d624-eb056f2f2a85"
      },
      "source": [
        "%%time\n",
        "history_C = model_C.fit(X_train, y_train, batch_size=BATCH_SIZE, epochs=EPOCHS,\n",
        "                    validation_data=(X_test, y_test), callbacks=[es, reduce_lr])"
      ],
      "execution_count": null,
      "outputs": [
        {
          "output_type": "stream",
          "name": "stdout",
          "text": [
            "Epoch 1/30\n",
            "157/157 [==============================] - 165s 1s/step - loss: 0.6009 - accuracy: 0.6674 - val_loss: 0.5571 - val_accuracy: 0.7115\n",
            "Epoch 2/30\n",
            "157/157 [==============================] - 159s 1s/step - loss: 0.5537 - accuracy: 0.7120 - val_loss: 0.5409 - val_accuracy: 0.7220\n",
            "Epoch 3/30\n",
            "157/157 [==============================] - 160s 1s/step - loss: 0.5344 - accuracy: 0.7290 - val_loss: 0.5339 - val_accuracy: 0.7266\n",
            "Epoch 4/30\n",
            "157/157 [==============================] - 159s 1s/step - loss: 0.5215 - accuracy: 0.7392 - val_loss: 0.5328 - val_accuracy: 0.7293\n",
            "Epoch 5/30\n",
            "157/157 [==============================] - 159s 1s/step - loss: 0.5107 - accuracy: 0.7465 - val_loss: 0.5300 - val_accuracy: 0.7292\n",
            "Epoch 6/30\n",
            "157/157 [==============================] - 159s 1s/step - loss: 0.5002 - accuracy: 0.7545 - val_loss: 0.5314 - val_accuracy: 0.7296\n",
            "Epoch 7/30\n",
            "157/157 [==============================] - 159s 1s/step - loss: 0.4916 - accuracy: 0.7605 - val_loss: 0.5351 - val_accuracy: 0.7282\n",
            "Epoch 8/30\n",
            "157/157 [==============================] - 160s 1s/step - loss: 0.4818 - accuracy: 0.7663 - val_loss: 0.5425 - val_accuracy: 0.7246\n",
            "Epoch 9/30\n",
            "157/157 [==============================] - 159s 1s/step - loss: 0.4744 - accuracy: 0.7718 - val_loss: 0.5460 - val_accuracy: 0.7254\n",
            "Epoch 10/30\n",
            "157/157 [==============================] - 159s 1s/step - loss: 0.4681 - accuracy: 0.7763 - val_loss: 0.5438 - val_accuracy: 0.7266\n",
            "Epoch 00010: early stopping\n",
            "CPU times: user 48min 5s, sys: 3min 3s, total: 51min 8s\n",
            "Wall time: 26min 38s\n"
          ]
        }
      ]
    },
    {
      "cell_type": "code",
      "metadata": {
        "execution": {
          "iopub.execute_input": "2021-07-10T18:16:41.152070Z",
          "iopub.status.busy": "2021-07-10T18:16:41.151635Z",
          "iopub.status.idle": "2021-07-10T18:16:41.318505Z",
          "shell.execute_reply": "2021-07-10T18:16:41.317486Z",
          "shell.execute_reply.started": "2021-07-10T18:16:41.152035Z"
        },
        "id": "n8cT7A-6jfhj",
        "colab": {
          "base_uri": "https://localhost:8080/",
          "height": 312
        },
        "outputId": "33bc1802-21c9-44ba-8abd-454ceab3c163"
      },
      "source": [
        "plt.xlim([0, 9])\n",
        "plt.ylim([0, 1])\n",
        "plt.plot(history_C.history['accuracy'])\n",
        "plt.plot(history_C.history['val_accuracy'])\n",
        "plt.ylabel('Accuracy')\n",
        "plt.title('RNN avec word embedding fasttext') \n",
        "plt.xlabel('Epoch')\n",
        "plt.legend(['Train', 'Validation'], loc='upper left')"
      ],
      "execution_count": null,
      "outputs": [
        {
          "output_type": "execute_result",
          "data": {
            "text/plain": [
              "<matplotlib.legend.Legend at 0x7fd5affdadd0>"
            ]
          },
          "metadata": {},
          "execution_count": 202
        },
        {
          "output_type": "display_data",
          "data": {
            "image/png": "[encoded data removed]",
            "text/plain": [
              "<Figure size 432x288 with 1 Axes>"
            ]
          },
          "metadata": {}
        }
      ]
    },
    {
      "cell_type": "code",
      "metadata": {
        "id": "ZywcIXjrjfhj",
        "colab": {
          "base_uri": "https://localhost:8080/"
        },
        "outputId": "112fa119-d2e3-4183-d82b-1174aaaf47be"
      },
      "source": [
        "history_C.history['accuracy']"
      ],
      "execution_count": null,
      "outputs": [
        {
          "output_type": "execute_result",
          "data": {
            "text/plain": [
              "[0.6674437522888184,\n",
              " 0.7119812369346619,\n",
              " 0.72904372215271,\n",
              " 0.7392187714576721,\n",
              " 0.7465312480926514,\n",
              " 0.7545312643051147,\n",
              " 0.7604687213897705,\n",
              " 0.7662875056266785,\n",
              " 0.7718312740325928,\n",
              " 0.7763187289237976]"
            ]
          },
          "metadata": {},
          "execution_count": 203
        }
      ]
    },
    {
      "cell_type": "markdown",
      "metadata": {
        "id": "B97VR8FKzv-j"
      },
      "source": [
        "Les résultats sont également plus ou moins similaire au modele simple"
      ]
    },
    {
      "cell_type": "markdown",
      "metadata": {
        "id": "i9QyN_bQ1Zc_"
      },
      "source": [
        "# Troisieme modèle : RNN (glove) avec stematization"
      ]
    },
    {
      "cell_type": "markdown",
      "metadata": {
        "id": "ndFUBdSv1WLa"
      },
      "source": [
        "Essayons maintenant le meilleur modele mais avec une stematisation a la place de la  lemmatization pour voir si il y a une différence notable "
      ]
    },
    {
      "cell_type": "code",
      "metadata": {
        "id": "HA2TAN9M1h-_"
      },
      "source": [
        "X_train_stem, X_test_stem, y_train_stem, y_test_stem = sklearn.model_selection.train_test_split(df_preprocess['tweet_stemmatize'], df_preprocess['target'], test_size=0.2, random_state=123)\n"
      ],
      "execution_count": null,
      "outputs": []
    },
    {
      "cell_type": "code",
      "metadata": {
        "colab": {
          "base_uri": "https://localhost:8080/"
        },
        "id": "EbI8SJ4wa_zx",
        "outputId": "f0a4682c-76e7-4f43-affe-65600d853bad"
      },
      "source": [
        "from keras.preprocessing.sequence import pad_sequences\n",
        "\n",
        "X_train_stem = pad_sequences(tokenizer.texts_to_sequences(X_train_stem),\n",
        "                        maxlen = MAX_SEQUENCE_LENGTH)\n",
        "X_test_stem = pad_sequences(tokenizer.texts_to_sequences(X_test_stem),\n",
        "                       maxlen = MAX_SEQUENCE_LENGTH)\n",
        "\n",
        "print(\"Training X Shape:\",X_train.shape)\n",
        "print(\"Testing X Shape:\",X_test.shape)"
      ],
      "execution_count": null,
      "outputs": [
        {
          "output_type": "stream",
          "name": "stdout",
          "text": [
            "Training X Shape: (160000, 30)\n",
            "Testing X Shape: (40000, 30)\n"
          ]
        }
      ]
    },
    {
      "cell_type": "code",
      "metadata": {
        "id": "EQ5ZOptOPakI"
      },
      "source": [
        "inputs = tf.keras.Input(shape=(MAX_SEQUENCE_LENGTH,), dtype=\"int32\")\n",
        "\n",
        "x = embedding_layer_fasttext(inputs)\n",
        "x = SpatialDropout1D(0.2)(x)\n",
        "\n",
        "# Conv1D + LSTM (bidirectional)\n",
        "x = Conv1D(64, 5, activation='relu')(x)\n",
        "x = Bidirectional(LSTM(64, dropout=0.2, recurrent_dropout=0.2))(x)\n",
        "\n",
        "# Vanilla hidden layer:\n",
        "x = Dense(512, activation=\"relu\")(x)\n",
        "x = Dropout(0.5)(x)\n",
        "\n",
        "outputs = Dense(1, activation=\"sigmoid\")(x)\n",
        "\n",
        "model_D = tf.keras.Model(inputs, outputs)"
      ],
      "execution_count": null,
      "outputs": []
    },
    {
      "cell_type": "code",
      "metadata": {
        "colab": {
          "base_uri": "https://localhost:8080/"
        },
        "id": "vHUBmtu5PayG",
        "outputId": "b191c76b-8adc-41d8-b297-e54fca03ba45"
      },
      "source": [
        "model_D.summary()"
      ],
      "execution_count": null,
      "outputs": [
        {
          "output_type": "stream",
          "name": "stdout",
          "text": [
            "Model: \"model_7\"\n",
            "_________________________________________________________________\n",
            "Layer (type)                 Output Shape              Param #   \n",
            "=================================================================\n",
            "input_9 (InputLayer)         [(None, 30)]              0         \n",
            "_________________________________________________________________\n",
            "embedding_3 (Embedding)      (None, 30, 300)           19927800  \n",
            "_________________________________________________________________\n",
            "spatial_dropout1d_5 (Spatial (None, 30, 300)           0         \n",
            "_________________________________________________________________\n",
            "conv1d_5 (Conv1D)            (None, 26, 64)            96064     \n",
            "_________________________________________________________________\n",
            "bidirectional_5 (Bidirection (None, 128)               66048     \n",
            "_________________________________________________________________\n",
            "dense_12 (Dense)             (None, 512)               66048     \n",
            "_________________________________________________________________\n",
            "dropout_5 (Dropout)          (None, 512)               0         \n",
            "_________________________________________________________________\n",
            "dense_13 (Dense)             (None, 1)                 513       \n",
            "=================================================================\n",
            "Total params: 20,156,473\n",
            "Trainable params: 228,673\n",
            "Non-trainable params: 19,927,800\n",
            "_________________________________________________________________\n"
          ]
        }
      ]
    },
    {
      "cell_type": "code",
      "metadata": {
        "id": "93pM_JyAPa9d"
      },
      "source": [
        "model_D.compile(optimizer=Adam(), loss='binary_crossentropy',\n",
        "              metrics=['accuracy'])"
      ],
      "execution_count": null,
      "outputs": []
    },
    {
      "cell_type": "code",
      "metadata": {
        "colab": {
          "base_uri": "https://localhost:8080/"
        },
        "id": "Xn2jjr0mRMI0",
        "outputId": "beb82fdf-a979-4fde-88a4-c0c44f7cbd22"
      },
      "source": [
        "%%time\n",
        "history_D = model_D.fit(X_train, y_train, batch_size=BATCH_SIZE, epochs=EPOCHS,\n",
        "                    validation_data=(X_test, y_test), callbacks=[es, reduce_lr])"
      ],
      "execution_count": null,
      "outputs": [
        {
          "output_type": "stream",
          "name": "stdout",
          "text": [
            "Epoch 1/30\n",
            "157/157 [==============================] - 164s 1s/step - loss: 0.6003 - accuracy: 0.6687 - val_loss: 0.5563 - val_accuracy: 0.7110\n",
            "Epoch 2/30\n",
            "157/157 [==============================] - 159s 1s/step - loss: 0.5529 - accuracy: 0.7134 - val_loss: 0.5454 - val_accuracy: 0.7206\n",
            "Epoch 3/30\n",
            "157/157 [==============================] - 157s 1s/step - loss: 0.5354 - accuracy: 0.7275 - val_loss: 0.5347 - val_accuracy: 0.7268\n",
            "Epoch 4/30\n",
            "157/157 [==============================] - 158s 1s/step - loss: 0.5221 - accuracy: 0.7380 - val_loss: 0.5310 - val_accuracy: 0.7313\n",
            "Epoch 5/30\n",
            "157/157 [==============================] - 157s 1s/step - loss: 0.5127 - accuracy: 0.7448 - val_loss: 0.5399 - val_accuracy: 0.7220\n",
            "Epoch 6/30\n",
            "157/157 [==============================] - 158s 1s/step - loss: 0.5006 - accuracy: 0.7550 - val_loss: 0.5334 - val_accuracy: 0.7296\n",
            "Epoch 7/30\n",
            "157/157 [==============================] - 158s 1s/step - loss: 0.4914 - accuracy: 0.7603 - val_loss: 0.5342 - val_accuracy: 0.7307\n",
            "Epoch 8/30\n",
            "157/157 [==============================] - 158s 1s/step - loss: 0.4832 - accuracy: 0.7659 - val_loss: 0.5395 - val_accuracy: 0.7305\n",
            "Epoch 9/30\n",
            "157/157 [==============================] - 157s 1s/step - loss: 0.4774 - accuracy: 0.7704 - val_loss: 0.5347 - val_accuracy: 0.7282\n",
            "Epoch 00009: early stopping\n",
            "CPU times: user 42min 54s, sys: 2min 38s, total: 45min 33s\n",
            "Wall time: 23min 45s\n"
          ]
        }
      ]
    },
    {
      "cell_type": "code",
      "metadata": {
        "colab": {
          "base_uri": "https://localhost:8080/",
          "height": 312
        },
        "id": "RbEmoTdePbGK",
        "outputId": "54d2beed-5985-4a82-e8c3-7de29ce42518"
      },
      "source": [
        "plt.xlim([0,8])\n",
        "plt.ylim([0, 1])\n",
        "plt.plot(history_D.history['accuracy'])\n",
        "plt.plot(history_D.history['val_accuracy'])\n",
        "plt.ylabel('Accuracy')\n",
        "plt.title('RNN avec stemmatisation')\n",
        "plt.xlabel('Epoch')\n",
        "plt.legend(['Train', 'Validation'], loc='upper left')"
      ],
      "execution_count": null,
      "outputs": [
        {
          "output_type": "execute_result",
          "data": {
            "text/plain": [
              "<matplotlib.legend.Legend at 0x7fd5bf500d50>"
            ]
          },
          "metadata": {},
          "execution_count": 239
        },
        {
          "output_type": "display_data",
          "data": {
            "image/png": "[encoded data removed]",
            "text/plain": [
              "<Figure size 432x288 with 1 Axes>"
            ]
          },
          "metadata": {}
        }
      ]
    },
    {
      "cell_type": "markdown",
      "metadata": {
        "id": "dj58PP-MhVUE"
      },
      "source": [
        "Nos modèles étant tous sensiblement équivalent, on pourrait déployer n'importe lequel des quatre. prenons celui qui a la meilleure précision"
      ]
    },
    {
      "cell_type": "markdown",
      "metadata": {
        "id": "Qq99enkR0QZ8"
      },
      "source": [
        "On sauve maintenant le modele pour pouvoir le déployer sur azure plus tard. On le sauvegardera en local pour l'utiliser dans le script du déploiement"
      ]
    },
    {
      "cell_type": "code",
      "metadata": {
        "id": "ShJyRJ1T9604",
        "colab": {
          "base_uri": "https://localhost:8080/"
        },
        "outputId": "43078d26-d330-4e5a-f254-7d33d99ced8b"
      },
      "source": [
        "model_A.save('/content/drive/MyDrive/P7/model')\n"
      ],
      "execution_count": null,
      "outputs": [
        {
          "output_type": "stream",
          "name": "stdout",
          "text": [
            "INFO:tensorflow:Assets written to: /content/drive/MyDrive/P7/model/assets\n"
          ]
        }
      ]
    },
    {
      "cell_type": "markdown",
      "metadata": {
        "id": "Fq480YCwKzmS"
      },
      "source": [
        "# Résumé"
      ]
    },
    {
      "cell_type": "code",
      "metadata": {
        "colab": {
          "base_uri": "https://localhost:8080/",
          "height": 295
        },
        "id": "bf-dIfNZaTrE",
        "outputId": "c46997b3-3b7e-4cb9-879e-4e3c7ff3a11e"
      },
      "source": [
        "x = [\"Modele A\", 'Modele B', 'Modele C', 'Modele D']\n",
        "y = [round(history_A.history['accuracy'][-1],3),round(history_B.history['accuracy'][-1],3),round(history_C.history['accuracy'][-1],3),round(history_D.history['accuracy'][-1],3)]\n",
        "fig, ax = plt.subplots()    \n",
        "width = 0.5 # the width of the bars \n",
        "ind = np.arange(len(y))  # the x locations for the groups\n",
        "ax.barh(ind, y, width, color=\"blue\")\n",
        "ax.set_yticks(ind+width/2)\n",
        "ax.set_yticklabels(x, minor=False)\n",
        "plt.title('Précision des différents modèles')\n",
        "plt.xlabel('Précision')\n",
        "plt.ylabel('Modèles')\n",
        "\n",
        "for i, v in enumerate(y):\n",
        "    ax.text(v+0.1, i, str(v), color='blue', fontweight='bold')\n"
      ],
      "execution_count": null,
      "outputs": [
        {
          "output_type": "display_data",
          "data": {
            "image/png": "[encoded data removed]",
            "text/plain": [
              "<Figure size 432x288 with 1 Axes>"
            ]
          },
          "metadata": {}
        }
      ]
    },
    {
      "cell_type": "markdown",
      "metadata": {
        "id": "XbKfLdNd3ccF"
      },
      "source": [
        "Tout les modèles sont plus ou moins similaires, nos tentatives d'amélioration n'ont pas été fructueuse mais la précision reste bonne "
      ]
    },
    {
      "cell_type": "markdown",
      "metadata": {
        "id": "x069FJNik7yb"
      },
      "source": [
        "# Déploiement dans le cloud"
      ]
    },
    {
      "cell_type": "code",
      "metadata": {
        "colab": {
          "base_uri": "https://localhost:8080/"
        },
        "id": "FtwLO_L-lovZ",
        "outputId": "b2b56fed-ba06-4a2b-a082-46059bcbceac"
      },
      "source": [
        "pip install azureml-core"
      ],
      "execution_count": null,
      "outputs": [
        {
          "output_type": "stream",
          "name": "stdout",
          "text": [
            "Requirement already satisfied: azureml-core in /usr/local/lib/python3.7/dist-packages (1.34.0)\n",
            "Requirement already satisfied: urllib3<=1.26.6,>=1.23 in /usr/local/lib/python3.7/dist-packages (from azureml-core) (1.24.3)\n",
            "Requirement already satisfied: backports.tempfile in /usr/local/lib/python3.7/dist-packages (from azureml-core) (1.0)\n",
            "Requirement already satisfied: pathspec<1.0.0 in /usr/local/lib/python3.7/dist-packages (from azureml-core) (0.9.0)\n",
            "Requirement already satisfied: msrest<1.0.0,>=0.5.1 in /usr/local/lib/python3.7/dist-packages (from azureml-core) (0.6.21)\n",
            "Requirement already satisfied: SecretStorage<4.0.0 in /usr/local/lib/python3.7/dist-packages (from azureml-core) (3.3.1)\n",
            "Requirement already satisfied: msrestazure<=0.6.4,>=0.4.33 in /usr/local/lib/python3.7/dist-packages (from azureml-core) (0.6.4)\n",
            "Requirement already satisfied: azure-common<2.0.0,>=1.1.12 in /usr/local/lib/python3.7/dist-packages (from azureml-core) (1.1.27)\n",
            "Requirement already satisfied: ndg-httpsclient<=0.5.1 in /usr/local/lib/python3.7/dist-packages (from azureml-core) (0.5.1)\n",
            "Requirement already satisfied: requests<3.0.0,>=2.19.1 in /usr/local/lib/python3.7/dist-packages (from azureml-core) (2.23.0)\n",
            "Requirement already satisfied: pytz in /usr/local/lib/python3.7/dist-packages (from azureml-core) (2018.9)\n",
            "Requirement already satisfied: PyJWT<3.0.0 in /usr/local/lib/python3.7/dist-packages (from azureml-core) (2.1.0)\n",
            "Requirement already satisfied: python-dateutil<3.0.0,>=2.7.3 in /usr/local/lib/python3.7/dist-packages (from azureml-core) (2.8.2)\n",
            "Requirement already satisfied: jmespath<1.0.0 in /usr/local/lib/python3.7/dist-packages (from azureml-core) (0.10.0)\n",
            "Requirement already satisfied: azure-graphrbac<1.0.0,>=0.40.0 in /usr/local/lib/python3.7/dist-packages (from azureml-core) (0.61.1)\n",
            "Requirement already satisfied: adal<=1.2.7,>=1.2.0 in /usr/local/lib/python3.7/dist-packages (from azureml-core) (1.2.7)\n",
            "Requirement already satisfied: cryptography!=1.9,!=2.0.*,!=2.1.*,!=2.2.*,<4.0.0 in /usr/local/lib/python3.7/dist-packages (from azureml-core) (3.4.8)\n",
            "Requirement already satisfied: contextlib2<22.0.0 in /usr/local/lib/python3.7/dist-packages (from azureml-core) (0.5.5)\n",
            "Requirement already satisfied: azure-mgmt-containerregistry>=2.0.0 in /usr/local/lib/python3.7/dist-packages (from azureml-core) (8.1.0)\n",
            "Requirement already satisfied: ruamel.yaml<0.17.5,>=0.15.35 in /usr/local/lib/python3.7/dist-packages (from azureml-core) (0.17.4)\n",
            "Requirement already satisfied: azure-mgmt-storage<16.0.0,>=1.5.0 in /usr/local/lib/python3.7/dist-packages (from azureml-core) (11.2.0)\n",
            "Requirement already satisfied: azure-mgmt-keyvault<10.0.0,>=0.40.0 in /usr/local/lib/python3.7/dist-packages (from azureml-core) (9.1.0)\n",
            "Requirement already satisfied: docker<6.0.0 in /usr/local/lib/python3.7/dist-packages (from azureml-core) (5.0.2)\n",
            "Requirement already satisfied: azure-mgmt-authorization<1.0.0,>=0.40.0 in /usr/local/lib/python3.7/dist-packages (from azureml-core) (0.61.0)\n",
            "Requirement already satisfied: pyopenssl<21.0.0 in /usr/local/lib/python3.7/dist-packages (from azureml-core) (20.0.1)\n",
            "Requirement already satisfied: jsonpickle<3.0.0 in /usr/local/lib/python3.7/dist-packages (from azureml-core) (2.0.0)\n",
            "Requirement already satisfied: azure-mgmt-resource<15.0.0,>=1.2.1 in /usr/local/lib/python3.7/dist-packages (from azureml-core) (13.0.0)\n",
            "Requirement already satisfied: azure-mgmt-core<2.0.0,>=1.2.0 in /usr/local/lib/python3.7/dist-packages (from azure-mgmt-containerregistry>=2.0.0->azureml-core) (1.3.0)\n",
            "Requirement already satisfied: azure-core<2.0.0,>=1.15.0 in /usr/local/lib/python3.7/dist-packages (from azure-mgmt-core<2.0.0,>=1.2.0->azure-mgmt-containerregistry>=2.0.0->azureml-core) (1.18.0)\n",
            "Requirement already satisfied: six>=1.11.0 in /usr/local/lib/python3.7/dist-packages (from azure-core<2.0.0,>=1.15.0->azure-mgmt-core<2.0.0,>=1.2.0->azure-mgmt-containerregistry>=2.0.0->azureml-core) (1.15.0)\n",
            "Requirement already satisfied: cffi>=1.12 in /usr/local/lib/python3.7/dist-packages (from cryptography!=1.9,!=2.0.*,!=2.1.*,!=2.2.*,<4.0.0->azureml-core) (1.14.6)\n",
            "Requirement already satisfied: pycparser in /usr/local/lib/python3.7/dist-packages (from cffi>=1.12->cryptography!=1.9,!=2.0.*,!=2.1.*,!=2.2.*,<4.0.0->azureml-core) (2.20)\n",
            "Requirement already satisfied: websocket-client>=0.32.0 in /usr/local/lib/python3.7/dist-packages (from docker<6.0.0->azureml-core) (1.2.1)\n",
            "Requirement already satisfied: importlib-metadata in /usr/local/lib/python3.7/dist-packages (from jsonpickle<3.0.0->azureml-core) (4.8.1)\n",
            "Requirement already satisfied: requests-oauthlib>=0.5.0 in /usr/local/lib/python3.7/dist-packages (from msrest<1.0.0,>=0.5.1->azureml-core) (1.3.0)\n",
            "Requirement already satisfied: isodate>=0.6.0 in /usr/local/lib/python3.7/dist-packages (from msrest<1.0.0,>=0.5.1->azureml-core) (0.6.0)\n",
            "Requirement already satisfied: certifi>=2017.4.17 in /usr/local/lib/python3.7/dist-packages (from msrest<1.0.0,>=0.5.1->azureml-core) (2021.5.30)\n",
            "Requirement already satisfied: pyasn1>=0.1.1 in /usr/local/lib/python3.7/dist-packages (from ndg-httpsclient<=0.5.1->azureml-core) (0.4.8)\n",
            "Requirement already satisfied: chardet<4,>=3.0.2 in /usr/local/lib/python3.7/dist-packages (from requests<3.0.0,>=2.19.1->azureml-core) (3.0.4)\n",
            "Requirement already satisfied: idna<3,>=2.5 in /usr/local/lib/python3.7/dist-packages (from requests<3.0.0,>=2.19.1->azureml-core) (2.10)\n",
            "Requirement already satisfied: oauthlib>=3.0.0 in /usr/local/lib/python3.7/dist-packages (from requests-oauthlib>=0.5.0->msrest<1.0.0,>=0.5.1->azureml-core) (3.1.1)\n",
            "Requirement already satisfied: ruamel.yaml.clib>=0.1.2 in /usr/local/lib/python3.7/dist-packages (from ruamel.yaml<0.17.5,>=0.15.35->azureml-core) (0.2.6)\n",
            "Requirement already satisfied: jeepney>=0.6 in /usr/local/lib/python3.7/dist-packages (from SecretStorage<4.0.0->azureml-core) (0.7.1)\n",
            "Requirement already satisfied: backports.weakref in /usr/local/lib/python3.7/dist-packages (from backports.tempfile->azureml-core) (1.0.post1)\n",
            "Requirement already satisfied: zipp>=0.5 in /usr/local/lib/python3.7/dist-packages (from importlib-metadata->jsonpickle<3.0.0->azureml-core) (3.5.0)\n",
            "Requirement already satisfied: typing-extensions>=3.6.4 in /usr/local/lib/python3.7/dist-packages (from importlib-metadata->jsonpickle<3.0.0->azureml-core) (3.7.4.3)\n"
          ]
        }
      ]
    },
    {
      "cell_type": "code",
      "metadata": {
        "id": "adCVYYjYk6mv"
      },
      "source": [
        "from azureml.core import Workspace"
      ],
      "execution_count": null,
      "outputs": []
    },
    {
      "cell_type": "markdown",
      "metadata": {
        "id": "h5dwc1s6pJGo"
      },
      "source": [
        "Je me connecte a mon environnement"
      ]
    },
    {
      "cell_type": "code",
      "metadata": {
        "id": "tqbApoABk6iB"
      },
      "source": [
        "ws = Workspace(subscription_id=\"715a2323-3efe-463c-8fcd-30a7c50758c2\",\n",
        "               resource_group=\"OpenClassrooms\",\n",
        "               workspace_name=\"p7_modele_avance\")"
      ],
      "execution_count": null,
      "outputs": []
    },
    {
      "cell_type": "markdown",
      "metadata": {
        "id": "if6xATpBpNB0"
      },
      "source": [
        "Je charge le modèle puis l'enregistre sur Azure"
      ]
    },
    {
      "cell_type": "code",
      "metadata": {
        "id": "1q5pj9jrmIt9"
      },
      "source": [
        "model=tf.keras.models.load_model('/content/drive/MyDrive/P7/model')"
      ],
      "execution_count": null,
      "outputs": []
    },
    {
      "cell_type": "code",
      "metadata": {
        "id": "ecsm7gezmVUu"
      },
      "source": [
        "chemin_modele = \"/content/drive/MyDrive/P7/model\""
      ],
      "execution_count": null,
      "outputs": []
    },
    {
      "cell_type": "code",
      "metadata": {
        "colab": {
          "base_uri": "https://localhost:8080/"
        },
        "id": "y0J1rT2xk6de",
        "outputId": "3333b899-7a31-4d39-cffb-2e583c431325"
      },
      "source": [
        "from azureml.core.model import Model\n",
        "\n",
        "# Register model\n",
        "model = Model.register(ws, model_name=\"ultimate\", model_path=chemin_modele)"
      ],
      "execution_count": null,
      "outputs": [
        {
          "output_type": "stream",
          "name": "stdout",
          "text": [
            "Registering model ultimate\n"
          ]
        }
      ]
    },
    {
      "cell_type": "code",
      "metadata": {
        "colab": {
          "base_uri": "https://localhost:8080/"
        },
        "id": "ozK4jB8Dk6X8",
        "outputId": "284fd05b-3af2-437f-8df7-4dd6f3a7f257"
      },
      "source": [
        "print(model.name, model.id, model.version, sep='\\t')"
      ],
      "execution_count": null,
      "outputs": [
        {
          "output_type": "stream",
          "name": "stdout",
          "text": [
            "ultimate\tultimate:5\t5\n"
          ]
        }
      ]
    },
    {
      "cell_type": "code",
      "metadata": {
        "id": "mWSEmDTgk6Rq"
      },
      "source": [
        "from azureml.core import Environment\n",
        "from azureml.core.model import InferenceConfig\n"
      ],
      "execution_count": null,
      "outputs": []
    },
    {
      "cell_type": "markdown",
      "metadata": {
        "id": "BXZFYnEHo5js"
      },
      "source": [
        "Même si elle n'est pas utilisé dans le notebook je met une copie ci dessous du score.py envoyer un initier la requête et recupérer la réponse du modèle"
      ]
    },
    {
      "cell_type": "code",
      "metadata": {
        "id": "2-Ivwp-_k6C4"
      },
      "source": [
        "import tensorflow as tf\n",
        "import json\n",
        "import joblib\n",
        "import numpy as np\n",
        "from azureml.core.model import Model\n",
        "from azureml.core import Workspace\n",
        "from tensorflow.keras.models import model_from_json\n",
        "from tensorflow.keras.preprocessing.text import Tokenizer\n",
        "from tensorflow.keras.preprocessing.sequence import pad_sequences\n",
        "import os\n",
        "import pickle\n",
        "import nltk\n",
        "\n",
        "\n",
        "# Called when the service is loaded\n",
        "def init():\n",
        "    global tokenizer\n",
        "    global modele\n",
        "    # load model\n",
        "    model_root = Model.get_model_path('ultimate')\n",
        "    modele=tf.keras.models.load_model(model_root)\n",
        "    # tokenizer\n",
        "    token_file = open(os.path.join(model_root, 'tokenizer.pickle'), 'rb')\n",
        "    tokenizer = pickle.load(token_file)\n",
        "    \n",
        "# Called when a request is received\n",
        "def run(raw_data):\n",
        "    print(raw_data)\n",
        "    \n",
        "\n",
        "    tokeniz = nltk.RegexpTokenizer(r'\\w+')\n",
        "    raw_data = tokeniz.tokenize(raw_data)\n",
        "\n",
        "    # Tokenize texte\n",
        "    x_test = pad_sequences(tokenizer.texts_to_sequences([raw_data]), maxlen=30)\n",
        "    # Prediction\n",
        "    score = modele.predict([x_test])[0]\n",
        "    # Sentiment\n",
        "    sentiment = 'neutral'\n",
        "    if score <= 0.4: \n",
        "        sentiment = \"negatif\"\n",
        "    elif score >= 0.6: \n",
        "        sentiment = \"positif\"\n",
        "\n",
        "    return {\"score\": float(score),\"sentiment\": sentiment}  "
      ],
      "execution_count": null,
      "outputs": []
    },
    {
      "cell_type": "markdown",
      "metadata": {
        "id": "YnAL_sTRpTVB"
      },
      "source": [
        "Je définis les dépendances de l'environnement virtuel sur le cloud"
      ]
    },
    {
      "cell_type": "code",
      "metadata": {
        "id": "tZI6kVPRk56V"
      },
      "source": [
        "env = Environment(name='myenv')\n",
        "python_packages = ['nltk', 'numpy','tensorflow']\n",
        "for package in python_packages:\n",
        "    env.python.conda_dependencies.add_pip_package(package)\n",
        "\n",
        "inf_config = InferenceConfig(environment=env, source_directory='/content/drive/MyDrive/P7/source_dir', entry_script='./echo_score.py')"
      ],
      "execution_count": null,
      "outputs": []
    },
    {
      "cell_type": "markdown",
      "metadata": {
        "id": "siA-XgcDpZji"
      },
      "source": [
        "Maintenant, nous allons définir la machine que l'on veut qui s'occupe du service. la plus petite possible est le mieux car elle aura très peu de trafic a gérer"
      ]
    },
    {
      "cell_type": "code",
      "metadata": {
        "id": "i4QSGyc5k5v-"
      },
      "source": [
        "from azureml.core.webservice import Webservice\n",
        "from azureml.core.model import InferenceConfig\n",
        "from azureml.core.environment import Environment\n",
        "from azureml.core import Workspace\n",
        "from azureml.core.model import Model"
      ],
      "execution_count": null,
      "outputs": []
    },
    {
      "cell_type": "code",
      "metadata": {
        "id": "YsRigbKzn6Nf"
      },
      "source": [
        "from azureml.core.webservice import AciWebservice\n",
        "\n",
        "aciconfig = AciWebservice.deploy_configuration(cpu_cores=1, \n",
        "                                               memory_gb=1, \n",
        "                                               tags={\"data\": \"tweets\",  \"method\" : \"CNN\"}, \n",
        "                                               description='Sentiment detection of tweets')\n"
      ],
      "execution_count": null,
      "outputs": []
    },
    {
      "cell_type": "code",
      "metadata": {
        "id": "lqUw4z3hn686"
      },
      "source": [
        "model = Model(ws, 'ultimate')"
      ],
      "execution_count": null,
      "outputs": []
    },
    {
      "cell_type": "markdown",
      "metadata": {
        "id": "4ctZGTh5piik"
      },
      "source": [
        "On ce connecte a l'environnement préfini avant \"myenv\""
      ]
    },
    {
      "cell_type": "code",
      "metadata": {
        "id": "5nhHmRmTn6xm"
      },
      "source": [
        "myenv = Environment.get(workspace=ws, name=\"myenv\", version=\"1\")"
      ],
      "execution_count": null,
      "outputs": []
    },
    {
      "cell_type": "code",
      "metadata": {
        "id": "LS-0agknn6iJ"
      },
      "source": [
        "myenv.inferencing_stack_version = \"latest\""
      ],
      "execution_count": null,
      "outputs": []
    },
    {
      "cell_type": "code",
      "metadata": {
        "colab": {
          "base_uri": "https://localhost:8080/"
        },
        "id": "6YG6I1ack5c8",
        "outputId": "d4ebea07-b6a4-4ff0-f35e-5bb1d1e56310"
      },
      "source": [
        "service = Model.deploy(workspace=ws, \n",
        "                       name='service', \n",
        "                       models=[model], \n",
        "                       inference_config=inf_config, \n",
        "                       deployment_config=aciconfig)\n",
        "\n",
        "service.wait_for_deployment(show_output=True)"
      ],
      "execution_count": null,
      "outputs": [
        {
          "output_type": "stream",
          "name": "stdout",
          "text": [
            "Tips: You can try get_logs(): https://aka.ms/debugimage#dockerlog or local deployment: https://aka.ms/debugimage#debug-locally to debug if deployment takes longer than 10 minutes.\n",
            "Running\n",
            "2021-09-22 19:57:11+00:00 Creating Container Registry if not exists.\n",
            "2021-09-22 19:57:12+00:00 Registering the environment.\n",
            "2021-09-22 19:57:14+00:00 Use the existing image.\n",
            "2021-09-22 19:57:14+00:00 Generating deployment configuration.\n",
            "2021-09-22 19:57:15+00:00 Submitting deployment to compute..\n",
            "2021-09-22 19:57:23+00:00 Checking the status of deployment service..\n",
            "2021-09-22 20:00:01+00:00 Checking the status of inference endpoint service.\n",
            "Succeeded\n",
            "ACI service creation operation finished, operation \"Succeeded\"\n"
          ]
        }
      ]
    },
    {
      "cell_type": "code",
      "metadata": {
        "colab": {
          "base_uri": "https://localhost:8080/"
        },
        "id": "s2iwd4u-k4Wp",
        "outputId": "3e546757-c819-49f9-a0d7-70c67c657b21"
      },
      "source": [
        "print(service.scoring_uri)"
      ],
      "execution_count": null,
      "outputs": [
        {
          "output_type": "stream",
          "name": "stdout",
          "text": [
            "http://f3328218-a29d-41bd-9df4-5f7f647a6363.westeurope.azurecontainer.io/score\n"
          ]
        }
      ]
    },
    {
      "cell_type": "code",
      "metadata": {
        "colab": {
          "base_uri": "https://localhost:8080/"
        },
        "id": "pTpxzK8Iom-i",
        "outputId": "b9a2d2e9-2ef6-42c1-fb24-2b2cf8c77e43"
      },
      "source": [
        "import requests\n",
        "import json\n",
        "\n",
        "uri = service.scoring_uri\n",
        "requests.get(service.scoring_uri)\n",
        "headers = {\"Content-Type\": \"application/json\"}\n",
        "raw_data = {\n",
        "    \"query\":\"the food was horrible. really sad !\",\n",
        "}\n",
        "data = json.dumps(raw_data)\n",
        "response = requests.post(uri, data=raw_data, headers=headers)\n",
        "print(response.json())\n"
      ],
      "execution_count": null,
      "outputs": [
        {
          "output_type": "stream",
          "name": "stdout",
          "text": [
            "{'score': 0.18462970852851868, 'sentiment': 'negatif'}\n"
          ]
        }
      ]
    },
    {
      "cell_type": "code",
      "metadata": {
        "colab": {
          "base_uri": "https://localhost:8080/"
        },
        "id": "EzyQwGp1rxZq",
        "outputId": "5b907547-80e4-4cd4-b61a-a5e6e260011c"
      },
      "source": [
        "import requests\n",
        "import json\n",
        "\n",
        "uri = service.scoring_uri\n",
        "requests.get(service.scoring_uri)\n",
        "headers = {\"Content-Type\": \"application/json\"}\n",
        "raw_data = {\n",
        "    \"query\":\"That was a really pleasant flight\",\n",
        "}\n",
        "data = json.dumps(raw_data)\n",
        "response = requests.post(uri, data=raw_data, headers=headers)\n",
        "print(response.json())\n"
      ],
      "execution_count": null,
      "outputs": [
        {
          "output_type": "stream",
          "name": "stdout",
          "text": [
            "{'score': 0.8108097910881042, 'sentiment': 'positif'}\n"
          ]
        }
      ]
    },
    {
      "cell_type": "markdown",
      "metadata": {
        "id": "kmHd15XTxjUd"
      },
      "source": [
        "# Méthode 1 : Microsoft Azure cognitive API"
      ]
    },
    {
      "cell_type": "code",
      "metadata": {
        "colab": {
          "base_uri": "https://localhost:8080/"
        },
        "id": "grLi0vDOxhCL",
        "outputId": "30aa9c29-0ef4-4c59-faaa-9a105eb3839a"
      },
      "source": [
        "pip install azure-ai-textanalytics==5.1.0b7"
      ],
      "execution_count": null,
      "outputs": [
        {
          "output_type": "stream",
          "name": "stdout",
          "text": [
            "Requirement already satisfied: azure-ai-textanalytics==5.1.0b7 in /usr/local/lib/python3.7/dist-packages (5.1.0b7)\n",
            "Requirement already satisfied: azure-common~=1.1 in /usr/local/lib/python3.7/dist-packages (from azure-ai-textanalytics==5.1.0b7) (1.1.27)\n",
            "Requirement already satisfied: six>=1.11.0 in /usr/local/lib/python3.7/dist-packages (from azure-ai-textanalytics==5.1.0b7) (1.15.0)\n",
            "Requirement already satisfied: msrest>=0.6.0 in /usr/local/lib/python3.7/dist-packages (from azure-ai-textanalytics==5.1.0b7) (0.6.21)\n",
            "Requirement already satisfied: azure-core<2.0.0,>=1.14.0 in /usr/local/lib/python3.7/dist-packages (from azure-ai-textanalytics==5.1.0b7) (1.18.0)\n",
            "Requirement already satisfied: requests>=2.18.4 in /usr/local/lib/python3.7/dist-packages (from azure-core<2.0.0,>=1.14.0->azure-ai-textanalytics==5.1.0b7) (2.23.0)\n",
            "Requirement already satisfied: certifi>=2017.4.17 in /usr/local/lib/python3.7/dist-packages (from msrest>=0.6.0->azure-ai-textanalytics==5.1.0b7) (2021.5.30)\n",
            "Requirement already satisfied: isodate>=0.6.0 in /usr/local/lib/python3.7/dist-packages (from msrest>=0.6.0->azure-ai-textanalytics==5.1.0b7) (0.6.0)\n",
            "Requirement already satisfied: requests-oauthlib>=0.5.0 in /usr/local/lib/python3.7/dist-packages (from msrest>=0.6.0->azure-ai-textanalytics==5.1.0b7) (1.3.0)\n",
            "Requirement already satisfied: chardet<4,>=3.0.2 in /usr/local/lib/python3.7/dist-packages (from requests>=2.18.4->azure-core<2.0.0,>=1.14.0->azure-ai-textanalytics==5.1.0b7) (3.0.4)\n",
            "Requirement already satisfied: idna<3,>=2.5 in /usr/local/lib/python3.7/dist-packages (from requests>=2.18.4->azure-core<2.0.0,>=1.14.0->azure-ai-textanalytics==5.1.0b7) (2.10)\n",
            "Requirement already satisfied: urllib3!=1.25.0,!=1.25.1,<1.26,>=1.21.1 in /usr/local/lib/python3.7/dist-packages (from requests>=2.18.4->azure-core<2.0.0,>=1.14.0->azure-ai-textanalytics==5.1.0b7) (1.24.3)\n",
            "Requirement already satisfied: oauthlib>=3.0.0 in /usr/local/lib/python3.7/dist-packages (from requests-oauthlib>=0.5.0->msrest>=0.6.0->azure-ai-textanalytics==5.1.0b7) (3.1.1)\n"
          ]
        }
      ]
    },
    {
      "cell_type": "code",
      "metadata": {
        "id": "DutuLFj1xhjF"
      },
      "source": [
        "from azure.ai.textanalytics import TextAnalyticsClient\n",
        "from azure.core.credentials import AzureKeyCredential"
      ],
      "execution_count": null,
      "outputs": []
    },
    {
      "cell_type": "markdown",
      "metadata": {
        "id": "AhqIt7EEFLmc"
      },
      "source": [
        "On charge la clé propre au service dédié puis on fait un appel pour tester si tout fonctionne correctement"
      ]
    },
    {
      "cell_type": "code",
      "metadata": {
        "id": "5-CdI_pMEIvN"
      },
      "source": [
        "Key_1 = open('/content/drive/MyDrive/P7/Key.txt', encoding='utf-8-sig')\n",
        "key = Key_1.read()"
      ],
      "execution_count": null,
      "outputs": []
    },
    {
      "cell_type": "code",
      "metadata": {
        "id": "TGnGAWsMoxB8"
      },
      "source": [
        ""
      ],
      "execution_count": null,
      "outputs": []
    },
    {
      "cell_type": "markdown",
      "metadata": {
        "id": "PvDBzzAnoxwC"
      },
      "source": [
        "On ce connecte au service"
      ]
    },
    {
      "cell_type": "code",
      "metadata": {
        "id": "HypmlUoXEPlj"
      },
      "source": [
        "def authenticate_client():\n",
        "    ta_credential = AzureKeyCredential(key)\n",
        "    text_analytics_client = TextAnalyticsClient(\n",
        "            endpoint=\"https://cognitivesservice.cognitiveservices.azure.com\", \n",
        "            credential=ta_credential)\n",
        "    return text_analytics_client\n",
        "\n",
        "client = authenticate_client()"
      ],
      "execution_count": null,
      "outputs": []
    },
    {
      "cell_type": "markdown",
      "metadata": {
        "id": "fPPuxe7Ko1dl"
      },
      "source": [
        "On fait la requête"
      ]
    },
    {
      "cell_type": "code",
      "metadata": {
        "colab": {
          "base_uri": "https://localhost:8080/"
        },
        "id": "0wbLXoDcEQKE",
        "outputId": "f278144f-1bbc-4774-8038-3b69d39d75c4"
      },
      "source": [
        "def sentiment_analysis_example(client):\n",
        "\n",
        "    documents = [\"I had the best day of my life. The only bad part is that you were here.\"]\n",
        "    response = client.analyze_sentiment(documents=documents)[0]\n",
        "    print(\"Document Sentiment: {}\".format(response.sentiment))\n",
        "    print(\"Overall scores: positive={0:.2f}; neutral={1:.2f}; negative={2:.2f} \\n\".format(\n",
        "        response.confidence_scores.positive,\n",
        "        response.confidence_scores.neutral,\n",
        "        response.confidence_scores.negative,\n",
        "    ))\n",
        "    for idx, sentence in enumerate(response.sentences):\n",
        "        print(\"Sentence: {}\".format(sentence.text))\n",
        "        print(\"Sentence {} sentiment: {}\".format(idx+1, sentence.sentiment))\n",
        "        print(\"Sentence score:\\nPositive={0:.2f}\\nNeutral={1:.2f}\\nNegative={2:.2f}\\n\".format(\n",
        "            sentence.confidence_scores.positive,\n",
        "            sentence.confidence_scores.neutral,\n",
        "            sentence.confidence_scores.negative,\n",
        "        ))\n",
        "          \n",
        "sentiment_analysis_example(client)\n",
        "\n"
      ],
      "execution_count": null,
      "outputs": [
        {
          "output_type": "stream",
          "name": "stdout",
          "text": [
            "Document Sentiment: mixed\n",
            "Overall scores: positive=0.50; neutral=0.00; negative=0.50 \n",
            "\n",
            "Sentence: I had the best day of my life.\n",
            "Sentence 1 sentiment: positive\n",
            "Sentence score:\n",
            "Positive=1.00\n",
            "Neutral=0.00\n",
            "Negative=0.00\n",
            "\n",
            "Sentence: The only bad part is that you were here.\n",
            "Sentence 2 sentiment: negative\n",
            "Sentence score:\n",
            "Positive=0.00\n",
            "Neutral=0.00\n",
            "Negative=1.00\n",
            "\n"
          ]
        }
      ]
    },
    {
      "cell_type": "markdown",
      "metadata": {
        "id": "RpveCXWA6EYX"
      },
      "source": [
        "# Méthode 2 : Modèle sur mesure simple"
      ]
    },
    {
      "cell_type": "markdown",
      "metadata": {
        "id": "hGQN98cJ6K8N"
      },
      "source": [
        "![Etape 2.png](data:image/png;base64,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)"
      ]
    },
    {
      "cell_type": "markdown",
      "metadata": {
        "id": "-M4yHrq_54GW"
      },
      "source": [
        "![Etape 2 result.png](data:image/png;base64,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)"
      ]
    },
    {
      "cell_type": "code",
      "metadata": {
        "id": "Fro-PQtzlajK"
      },
      "source": [
        ""
      ],
      "execution_count": null,
      "outputs": []
    }
  ]
}