{
 "cells": [
  {
   "cell_type": "markdown",
   "metadata": {},
   "source": [
    "# Imports librairies et jeu de données"
   ]
  },
  {
   "cell_type": "code",
   "execution_count": 1,
   "metadata": {
    "ExecuteTime": {
     "end_time": "2020-01-16T07:25:16.794737Z",
     "start_time": "2020-01-16T07:25:16.779829Z"
    }
   },
   "outputs": [],
   "source": [
    "import pandas as pd\n",
    "import matplotlib.pyplot as plt\n",
    "from matplotlib.patches import Circle\n",
    "import folium\n",
    "import seaborn as sns\n",
    "import numpy as np\n",
    "import pickle\n",
    "\n",
    "from sklearn.preprocessing import OneHotEncoder, StandardScaler\n",
    "\n",
    "from sklearn.decomposition import PCA\n",
    "from sklearn.manifold import TSNE\n",
    "from sklearn.cluster import KMeans\n",
    "from sklearn.cluster import DBSCAN\n",
    "from sklearn.cluster import AgglomerativeClustering\n",
    "from sklearn.metrics import davies_bouldin_score\n",
    "from sklearn.metrics import silhouette_score\n",
    "\n",
    "pd.set_option(\"display.max_rows\", 101)\n",
    "pd.options.display.max_columns = 999"
   ]
  },
  {
   "cell_type": "code",
   "execution_count": 2,
   "metadata": {
    "ExecuteTime": {
     "end_time": "2020-01-16T07:25:17.354598Z",
     "start_time": "2020-01-16T07:25:16.798057Z"
    }
   },
   "outputs": [],
   "source": [
    "data = pd.read_csv('sample.csv')"
   ]
  },
  {
   "cell_type": "code",
   "execution_count": 3,
   "metadata": {
    "ExecuteTime": {
     "end_time": "2020-01-16T07:25:17.388036Z",
     "start_time": "2020-01-16T07:25:17.363682Z"
    }
   },
   "outputs": [
    {
     "data": {
      "text/plain": [
       "(6000, 101)"
      ]
     },
     "execution_count": 3,
     "metadata": {},
     "output_type": "execute_result"
    }
   ],
   "source": [
    "data.shape"
   ]
  },
  {
   "cell_type": "code",
   "execution_count": 4,
   "metadata": {
    "ExecuteTime": {
     "end_time": "2020-01-16T07:25:17.488109Z",
     "start_time": "2020-01-16T07:25:17.390893Z"
    }
   },
   "outputs": [],
   "source": [
    "data.dropna(inplace=True)"
   ]
  },
  {
   "cell_type": "code",
   "execution_count": 5,
   "metadata": {
    "ExecuteTime": {
     "end_time": "2020-01-16T07:25:17.509856Z",
     "start_time": "2020-01-16T07:25:17.494134Z"
    }
   },
   "outputs": [
    {
     "data": {
      "text/plain": [
       "(6000, 101)"
      ]
     },
     "execution_count": 5,
     "metadata": {},
     "output_type": "execute_result"
    }
   ],
   "source": [
    "data.shape"
   ]
  },
  {
   "cell_type": "code",
   "execution_count": 6,
   "metadata": {},
   "outputs": [
    {
     "data": {
      "text/html": [
       "<div>\n",
       "<style scoped>\n",
       "    .dataframe tbody tr th:only-of-type {\n",
       "        vertical-align: middle;\n",
       "    }\n",
       "\n",
       "    .dataframe tbody tr th {\n",
       "        vertical-align: top;\n",
       "    }\n",
       "\n",
       "    .dataframe thead th {\n",
       "        text-align: right;\n",
       "    }\n",
       "</style>\n",
       "<table border=\"1\" class=\"dataframe\">\n",
       "  <thead>\n",
       "    <tr style=\"text-align: right;\">\n",
       "      <th></th>\n",
       "      <th>Unnamed: 0</th>\n",
       "      <th>customer_id</th>\n",
       "      <th>n_order</th>\n",
       "      <th>total_price</th>\n",
       "      <th>total_freight_value</th>\n",
       "      <th>payement_type_boleto</th>\n",
       "      <th>payement_type_credit_card</th>\n",
       "      <th>payement_type_debit_card</th>\n",
       "      <th>payement_type_voucher</th>\n",
       "      <th>costumer_state_AC</th>\n",
       "      <th>costumer_state_AL</th>\n",
       "      <th>costumer_state_AM</th>\n",
       "      <th>costumer_state_AP</th>\n",
       "      <th>costumer_state_BA</th>\n",
       "      <th>costumer_state_CE</th>\n",
       "      <th>costumer_state_DF</th>\n",
       "      <th>costumer_state_ES</th>\n",
       "      <th>costumer_state_GO</th>\n",
       "      <th>costumer_state_MA</th>\n",
       "      <th>costumer_state_MG</th>\n",
       "      <th>costumer_state_MS</th>\n",
       "      <th>costumer_state_MT</th>\n",
       "      <th>costumer_state_PA</th>\n",
       "      <th>costumer_state_PB</th>\n",
       "      <th>costumer_state_PE</th>\n",
       "      <th>costumer_state_PI</th>\n",
       "      <th>costumer_state_PR</th>\n",
       "      <th>costumer_state_RJ</th>\n",
       "      <th>costumer_state_RN</th>\n",
       "      <th>costumer_state_RO</th>\n",
       "      <th>costumer_state_RR</th>\n",
       "      <th>costumer_state_RS</th>\n",
       "      <th>costumer_state_SC</th>\n",
       "      <th>costumer_state_SE</th>\n",
       "      <th>costumer_state_SP</th>\n",
       "      <th>costumer_state_TO</th>\n",
       "      <th>catgarden_tools</th>\n",
       "      <th>cattoys</th>\n",
       "      <th>cattelephony</th>\n",
       "      <th>catauto</th>\n",
       "      <th>cathealth_beauty</th>\n",
       "      <th>catwatches_gifts</th>\n",
       "      <th>catsports_leisure</th>\n",
       "      <th>catelectronics</th>\n",
       "      <th>catfood</th>\n",
       "      <th>catbed_bath_table</th>\n",
       "      <th>catbaby</th>\n",
       "      <th>catoffice_furniture</th>\n",
       "      <th>catconstruction_tools_construction</th>\n",
       "      <th>cathousewares</th>\n",
       "      <th>cathome_appliances</th>\n",
       "      <th>catperfumery</th>\n",
       "      <th>catcool_stuff</th>\n",
       "      <th>catmusical_instruments</th>\n",
       "      <th>catfashion_bags_accessories</th>\n",
       "      <th>catfurniture_decor</th>\n",
       "      <th>catnan</th>\n",
       "      <th>catcomputers_accessories</th>\n",
       "      <th>catstationery</th>\n",
       "      <th>cathome_construction</th>\n",
       "      <th>catdrinks</th>\n",
       "      <th>catconstruction_tools_lights</th>\n",
       "      <th>catair_conditioning</th>\n",
       "      <th>catsmall_appliances</th>\n",
       "      <th>catpet_shop</th>\n",
       "      <th>catconsoles_games</th>\n",
       "      <th>catfood_drink</th>\n",
       "      <th>cathome_confort</th>\n",
       "      <th>catfashion_shoes</th>\n",
       "      <th>cataudio</th>\n",
       "      <th>catbooks_general_interest</th>\n",
       "      <th>catluggage_accessories</th>\n",
       "      <th>catsignaling_and_security</th>\n",
       "      <th>catkitchen_dining_laundry_garden_furniture</th>\n",
       "      <th>catfurniture_bedroom</th>\n",
       "      <th>catart</th>\n",
       "      <th>cathome_appliances_2</th>\n",
       "      <th>catbooks_technical</th>\n",
       "      <th>catfurniture_living_room</th>\n",
       "      <th>catindustry_commerce_and_business</th>\n",
       "      <th>catcostruction_tools_garden</th>\n",
       "      <th>catcine_photo</th>\n",
       "      <th>catcostruction_tools_tools</th>\n",
       "      <th>catconstruction_tools_safety</th>\n",
       "      <th>cathome_comfort_2</th>\n",
       "      <th>catchristmas_supplies</th>\n",
       "      <th>catagro_industry_and_commerce</th>\n",
       "      <th>catmarket_place</th>\n",
       "      <th>catfixed_telephony</th>\n",
       "      <th>catcomputers</th>\n",
       "      <th>cattablets_printing_image</th>\n",
       "      <th>catdiapers_and_hygiene</th>\n",
       "      <th>catflowers</th>\n",
       "      <th>catfashion_male_clothing</th>\n",
       "      <th>catarts_and_craftmanship</th>\n",
       "      <th>catbooks_imported</th>\n",
       "      <th>catdvds_blu_ray</th>\n",
       "      <th>catmusic</th>\n",
       "      <th>catsmall_appliances_home_oven_and_coffee</th>\n",
       "      <th>catparty_supplies</th>\n",
       "      <th>catfashion_underwear_beach</th>\n",
       "    </tr>\n",
       "  </thead>\n",
       "  <tbody>\n",
       "    <tr>\n",
       "      <th>0</th>\n",
       "      <td>1</td>\n",
       "      <td>7dddd924d92a307ffa2261b855b4ac27</td>\n",
       "      <td>1</td>\n",
       "      <td>53.90</td>\n",
       "      <td>21.35</td>\n",
       "      <td>0</td>\n",
       "      <td>1</td>\n",
       "      <td>0</td>\n",
       "      <td>0</td>\n",
       "      <td>0</td>\n",
       "      <td>0</td>\n",
       "      <td>0</td>\n",
       "      <td>0</td>\n",
       "      <td>0</td>\n",
       "      <td>0</td>\n",
       "      <td>0</td>\n",
       "      <td>0</td>\n",
       "      <td>0</td>\n",
       "      <td>0</td>\n",
       "      <td>0</td>\n",
       "      <td>0</td>\n",
       "      <td>0</td>\n",
       "      <td>0</td>\n",
       "      <td>0</td>\n",
       "      <td>0</td>\n",
       "      <td>0</td>\n",
       "      <td>1</td>\n",
       "      <td>0</td>\n",
       "      <td>0</td>\n",
       "      <td>0</td>\n",
       "      <td>0</td>\n",
       "      <td>0</td>\n",
       "      <td>0</td>\n",
       "      <td>0</td>\n",
       "      <td>0</td>\n",
       "      <td>0</td>\n",
       "      <td>1</td>\n",
       "      <td>0</td>\n",
       "      <td>0</td>\n",
       "      <td>0</td>\n",
       "      <td>0</td>\n",
       "      <td>0</td>\n",
       "      <td>0</td>\n",
       "      <td>0</td>\n",
       "      <td>0</td>\n",
       "      <td>0</td>\n",
       "      <td>0</td>\n",
       "      <td>0</td>\n",
       "      <td>0</td>\n",
       "      <td>0</td>\n",
       "      <td>0</td>\n",
       "      <td>0</td>\n",
       "      <td>0</td>\n",
       "      <td>0</td>\n",
       "      <td>0</td>\n",
       "      <td>0</td>\n",
       "      <td>0</td>\n",
       "      <td>0</td>\n",
       "      <td>0</td>\n",
       "      <td>0</td>\n",
       "      <td>0</td>\n",
       "      <td>0</td>\n",
       "      <td>0</td>\n",
       "      <td>0</td>\n",
       "      <td>0</td>\n",
       "      <td>0</td>\n",
       "      <td>0</td>\n",
       "      <td>0</td>\n",
       "      <td>0</td>\n",
       "      <td>0</td>\n",
       "      <td>0</td>\n",
       "      <td>0</td>\n",
       "      <td>0</td>\n",
       "      <td>0</td>\n",
       "      <td>0</td>\n",
       "      <td>0</td>\n",
       "      <td>0</td>\n",
       "      <td>0</td>\n",
       "      <td>0</td>\n",
       "      <td>0</td>\n",
       "      <td>0</td>\n",
       "      <td>0</td>\n",
       "      <td>0</td>\n",
       "      <td>0</td>\n",
       "      <td>0</td>\n",
       "      <td>0</td>\n",
       "      <td>0</td>\n",
       "      <td>0</td>\n",
       "      <td>0</td>\n",
       "      <td>0</td>\n",
       "      <td>0</td>\n",
       "      <td>0</td>\n",
       "      <td>0</td>\n",
       "      <td>0</td>\n",
       "      <td>0</td>\n",
       "      <td>0</td>\n",
       "      <td>0</td>\n",
       "      <td>0</td>\n",
       "      <td>0</td>\n",
       "      <td>0</td>\n",
       "      <td>0</td>\n",
       "    </tr>\n",
       "    <tr>\n",
       "      <th>1</th>\n",
       "      <td>2</td>\n",
       "      <td>40d1b774d9f5917163eb39116957442d</td>\n",
       "      <td>1</td>\n",
       "      <td>38.25</td>\n",
       "      <td>17.92</td>\n",
       "      <td>0</td>\n",
       "      <td>1</td>\n",
       "      <td>0</td>\n",
       "      <td>0</td>\n",
       "      <td>0</td>\n",
       "      <td>0</td>\n",
       "      <td>0</td>\n",
       "      <td>0</td>\n",
       "      <td>0</td>\n",
       "      <td>0</td>\n",
       "      <td>0</td>\n",
       "      <td>0</td>\n",
       "      <td>0</td>\n",
       "      <td>0</td>\n",
       "      <td>1</td>\n",
       "      <td>0</td>\n",
       "      <td>0</td>\n",
       "      <td>0</td>\n",
       "      <td>0</td>\n",
       "      <td>0</td>\n",
       "      <td>0</td>\n",
       "      <td>0</td>\n",
       "      <td>0</td>\n",
       "      <td>0</td>\n",
       "      <td>0</td>\n",
       "      <td>0</td>\n",
       "      <td>0</td>\n",
       "      <td>0</td>\n",
       "      <td>0</td>\n",
       "      <td>0</td>\n",
       "      <td>0</td>\n",
       "      <td>0</td>\n",
       "      <td>1</td>\n",
       "      <td>0</td>\n",
       "      <td>0</td>\n",
       "      <td>0</td>\n",
       "      <td>0</td>\n",
       "      <td>0</td>\n",
       "      <td>0</td>\n",
       "      <td>0</td>\n",
       "      <td>0</td>\n",
       "      <td>0</td>\n",
       "      <td>0</td>\n",
       "      <td>0</td>\n",
       "      <td>0</td>\n",
       "      <td>0</td>\n",
       "      <td>0</td>\n",
       "      <td>0</td>\n",
       "      <td>0</td>\n",
       "      <td>0</td>\n",
       "      <td>0</td>\n",
       "      <td>0</td>\n",
       "      <td>0</td>\n",
       "      <td>0</td>\n",
       "      <td>0</td>\n",
       "      <td>0</td>\n",
       "      <td>0</td>\n",
       "      <td>0</td>\n",
       "      <td>0</td>\n",
       "      <td>0</td>\n",
       "      <td>0</td>\n",
       "      <td>0</td>\n",
       "      <td>0</td>\n",
       "      <td>0</td>\n",
       "      <td>0</td>\n",
       "      <td>0</td>\n",
       "      <td>0</td>\n",
       "      <td>0</td>\n",
       "      <td>0</td>\n",
       "      <td>0</td>\n",
       "      <td>0</td>\n",
       "      <td>0</td>\n",
       "      <td>0</td>\n",
       "      <td>0</td>\n",
       "      <td>0</td>\n",
       "      <td>0</td>\n",
       "      <td>0</td>\n",
       "      <td>0</td>\n",
       "      <td>0</td>\n",
       "      <td>0</td>\n",
       "      <td>0</td>\n",
       "      <td>0</td>\n",
       "      <td>0</td>\n",
       "      <td>0</td>\n",
       "      <td>0</td>\n",
       "      <td>0</td>\n",
       "      <td>0</td>\n",
       "      <td>0</td>\n",
       "      <td>0</td>\n",
       "      <td>0</td>\n",
       "      <td>0</td>\n",
       "      <td>0</td>\n",
       "      <td>0</td>\n",
       "      <td>0</td>\n",
       "      <td>0</td>\n",
       "      <td>0</td>\n",
       "    </tr>\n",
       "    <tr>\n",
       "      <th>2</th>\n",
       "      <td>3</td>\n",
       "      <td>785829119d434b68719c0a1edfeecf89</td>\n",
       "      <td>1</td>\n",
       "      <td>79.98</td>\n",
       "      <td>30.46</td>\n",
       "      <td>0</td>\n",
       "      <td>1</td>\n",
       "      <td>0</td>\n",
       "      <td>0</td>\n",
       "      <td>0</td>\n",
       "      <td>0</td>\n",
       "      <td>0</td>\n",
       "      <td>0</td>\n",
       "      <td>0</td>\n",
       "      <td>0</td>\n",
       "      <td>1</td>\n",
       "      <td>0</td>\n",
       "      <td>0</td>\n",
       "      <td>0</td>\n",
       "      <td>0</td>\n",
       "      <td>0</td>\n",
       "      <td>0</td>\n",
       "      <td>0</td>\n",
       "      <td>0</td>\n",
       "      <td>0</td>\n",
       "      <td>0</td>\n",
       "      <td>0</td>\n",
       "      <td>0</td>\n",
       "      <td>0</td>\n",
       "      <td>0</td>\n",
       "      <td>0</td>\n",
       "      <td>0</td>\n",
       "      <td>0</td>\n",
       "      <td>0</td>\n",
       "      <td>0</td>\n",
       "      <td>0</td>\n",
       "      <td>0</td>\n",
       "      <td>0</td>\n",
       "      <td>1</td>\n",
       "      <td>0</td>\n",
       "      <td>0</td>\n",
       "      <td>0</td>\n",
       "      <td>0</td>\n",
       "      <td>0</td>\n",
       "      <td>0</td>\n",
       "      <td>0</td>\n",
       "      <td>0</td>\n",
       "      <td>0</td>\n",
       "      <td>0</td>\n",
       "      <td>0</td>\n",
       "      <td>0</td>\n",
       "      <td>0</td>\n",
       "      <td>0</td>\n",
       "      <td>0</td>\n",
       "      <td>0</td>\n",
       "      <td>0</td>\n",
       "      <td>0</td>\n",
       "      <td>0</td>\n",
       "      <td>0</td>\n",
       "      <td>0</td>\n",
       "      <td>0</td>\n",
       "      <td>0</td>\n",
       "      <td>0</td>\n",
       "      <td>0</td>\n",
       "      <td>0</td>\n",
       "      <td>0</td>\n",
       "      <td>0</td>\n",
       "      <td>0</td>\n",
       "      <td>0</td>\n",
       "      <td>0</td>\n",
       "      <td>0</td>\n",
       "      <td>0</td>\n",
       "      <td>0</td>\n",
       "      <td>0</td>\n",
       "      <td>0</td>\n",
       "      <td>0</td>\n",
       "      <td>0</td>\n",
       "      <td>0</td>\n",
       "      <td>0</td>\n",
       "      <td>0</td>\n",
       "      <td>0</td>\n",
       "      <td>0</td>\n",
       "      <td>0</td>\n",
       "      <td>0</td>\n",
       "      <td>0</td>\n",
       "      <td>0</td>\n",
       "      <td>0</td>\n",
       "      <td>0</td>\n",
       "      <td>0</td>\n",
       "      <td>0</td>\n",
       "      <td>0</td>\n",
       "      <td>0</td>\n",
       "      <td>0</td>\n",
       "      <td>0</td>\n",
       "      <td>0</td>\n",
       "      <td>0</td>\n",
       "      <td>0</td>\n",
       "      <td>0</td>\n",
       "      <td>0</td>\n",
       "      <td>0</td>\n",
       "      <td>0</td>\n",
       "    </tr>\n",
       "    <tr>\n",
       "      <th>3</th>\n",
       "      <td>4</td>\n",
       "      <td>54f3534b06647f1edaf5eea3d12c698f</td>\n",
       "      <td>1</td>\n",
       "      <td>199.99</td>\n",
       "      <td>19.28</td>\n",
       "      <td>0</td>\n",
       "      <td>1</td>\n",
       "      <td>0</td>\n",
       "      <td>0</td>\n",
       "      <td>0</td>\n",
       "      <td>0</td>\n",
       "      <td>0</td>\n",
       "      <td>0</td>\n",
       "      <td>0</td>\n",
       "      <td>0</td>\n",
       "      <td>0</td>\n",
       "      <td>0</td>\n",
       "      <td>0</td>\n",
       "      <td>0</td>\n",
       "      <td>1</td>\n",
       "      <td>0</td>\n",
       "      <td>0</td>\n",
       "      <td>0</td>\n",
       "      <td>0</td>\n",
       "      <td>0</td>\n",
       "      <td>0</td>\n",
       "      <td>0</td>\n",
       "      <td>0</td>\n",
       "      <td>0</td>\n",
       "      <td>0</td>\n",
       "      <td>0</td>\n",
       "      <td>0</td>\n",
       "      <td>0</td>\n",
       "      <td>0</td>\n",
       "      <td>0</td>\n",
       "      <td>0</td>\n",
       "      <td>0</td>\n",
       "      <td>0</td>\n",
       "      <td>0</td>\n",
       "      <td>1</td>\n",
       "      <td>0</td>\n",
       "      <td>0</td>\n",
       "      <td>0</td>\n",
       "      <td>0</td>\n",
       "      <td>0</td>\n",
       "      <td>0</td>\n",
       "      <td>0</td>\n",
       "      <td>0</td>\n",
       "      <td>0</td>\n",
       "      <td>0</td>\n",
       "      <td>0</td>\n",
       "      <td>0</td>\n",
       "      <td>0</td>\n",
       "      <td>0</td>\n",
       "      <td>0</td>\n",
       "      <td>0</td>\n",
       "      <td>0</td>\n",
       "      <td>0</td>\n",
       "      <td>0</td>\n",
       "      <td>0</td>\n",
       "      <td>0</td>\n",
       "      <td>0</td>\n",
       "      <td>0</td>\n",
       "      <td>0</td>\n",
       "      <td>0</td>\n",
       "      <td>0</td>\n",
       "      <td>0</td>\n",
       "      <td>0</td>\n",
       "      <td>0</td>\n",
       "      <td>0</td>\n",
       "      <td>0</td>\n",
       "      <td>0</td>\n",
       "      <td>0</td>\n",
       "      <td>0</td>\n",
       "      <td>0</td>\n",
       "      <td>0</td>\n",
       "      <td>0</td>\n",
       "      <td>0</td>\n",
       "      <td>0</td>\n",
       "      <td>0</td>\n",
       "      <td>0</td>\n",
       "      <td>0</td>\n",
       "      <td>0</td>\n",
       "      <td>0</td>\n",
       "      <td>0</td>\n",
       "      <td>0</td>\n",
       "      <td>0</td>\n",
       "      <td>0</td>\n",
       "      <td>0</td>\n",
       "      <td>0</td>\n",
       "      <td>0</td>\n",
       "      <td>0</td>\n",
       "      <td>0</td>\n",
       "      <td>0</td>\n",
       "      <td>0</td>\n",
       "      <td>0</td>\n",
       "      <td>0</td>\n",
       "      <td>0</td>\n",
       "      <td>0</td>\n",
       "      <td>0</td>\n",
       "      <td>0</td>\n",
       "    </tr>\n",
       "    <tr>\n",
       "      <th>4</th>\n",
       "      <td>5</td>\n",
       "      <td>44b499b7dffa8c208c44f6094e84da72</td>\n",
       "      <td>1</td>\n",
       "      <td>122.99</td>\n",
       "      <td>19.83</td>\n",
       "      <td>0</td>\n",
       "      <td>1</td>\n",
       "      <td>0</td>\n",
       "      <td>0</td>\n",
       "      <td>0</td>\n",
       "      <td>0</td>\n",
       "      <td>0</td>\n",
       "      <td>0</td>\n",
       "      <td>0</td>\n",
       "      <td>0</td>\n",
       "      <td>0</td>\n",
       "      <td>0</td>\n",
       "      <td>0</td>\n",
       "      <td>0</td>\n",
       "      <td>0</td>\n",
       "      <td>0</td>\n",
       "      <td>0</td>\n",
       "      <td>1</td>\n",
       "      <td>0</td>\n",
       "      <td>0</td>\n",
       "      <td>0</td>\n",
       "      <td>0</td>\n",
       "      <td>0</td>\n",
       "      <td>0</td>\n",
       "      <td>0</td>\n",
       "      <td>0</td>\n",
       "      <td>0</td>\n",
       "      <td>0</td>\n",
       "      <td>0</td>\n",
       "      <td>0</td>\n",
       "      <td>0</td>\n",
       "      <td>0</td>\n",
       "      <td>0</td>\n",
       "      <td>0</td>\n",
       "      <td>0</td>\n",
       "      <td>1</td>\n",
       "      <td>0</td>\n",
       "      <td>0</td>\n",
       "      <td>0</td>\n",
       "      <td>0</td>\n",
       "      <td>0</td>\n",
       "      <td>0</td>\n",
       "      <td>0</td>\n",
       "      <td>0</td>\n",
       "      <td>0</td>\n",
       "      <td>0</td>\n",
       "      <td>0</td>\n",
       "      <td>0</td>\n",
       "      <td>0</td>\n",
       "      <td>0</td>\n",
       "      <td>0</td>\n",
       "      <td>0</td>\n",
       "      <td>0</td>\n",
       "      <td>0</td>\n",
       "      <td>0</td>\n",
       "      <td>0</td>\n",
       "      <td>0</td>\n",
       "      <td>0</td>\n",
       "      <td>0</td>\n",
       "      <td>0</td>\n",
       "      <td>0</td>\n",
       "      <td>0</td>\n",
       "      <td>0</td>\n",
       "      <td>0</td>\n",
       "      <td>0</td>\n",
       "      <td>0</td>\n",
       "      <td>0</td>\n",
       "      <td>0</td>\n",
       "      <td>0</td>\n",
       "      <td>0</td>\n",
       "      <td>0</td>\n",
       "      <td>0</td>\n",
       "      <td>0</td>\n",
       "      <td>0</td>\n",
       "      <td>0</td>\n",
       "      <td>0</td>\n",
       "      <td>0</td>\n",
       "      <td>0</td>\n",
       "      <td>0</td>\n",
       "      <td>0</td>\n",
       "      <td>0</td>\n",
       "      <td>0</td>\n",
       "      <td>0</td>\n",
       "      <td>0</td>\n",
       "      <td>0</td>\n",
       "      <td>0</td>\n",
       "      <td>0</td>\n",
       "      <td>0</td>\n",
       "      <td>0</td>\n",
       "      <td>0</td>\n",
       "      <td>0</td>\n",
       "      <td>0</td>\n",
       "      <td>0</td>\n",
       "      <td>0</td>\n",
       "      <td>0</td>\n",
       "      <td>0</td>\n",
       "    </tr>\n",
       "    <tr>\n",
       "      <th>...</th>\n",
       "      <td>...</td>\n",
       "      <td>...</td>\n",
       "      <td>...</td>\n",
       "      <td>...</td>\n",
       "      <td>...</td>\n",
       "      <td>...</td>\n",
       "      <td>...</td>\n",
       "      <td>...</td>\n",
       "      <td>...</td>\n",
       "      <td>...</td>\n",
       "      <td>...</td>\n",
       "      <td>...</td>\n",
       "      <td>...</td>\n",
       "      <td>...</td>\n",
       "      <td>...</td>\n",
       "      <td>...</td>\n",
       "      <td>...</td>\n",
       "      <td>...</td>\n",
       "      <td>...</td>\n",
       "      <td>...</td>\n",
       "      <td>...</td>\n",
       "      <td>...</td>\n",
       "      <td>...</td>\n",
       "      <td>...</td>\n",
       "      <td>...</td>\n",
       "      <td>...</td>\n",
       "      <td>...</td>\n",
       "      <td>...</td>\n",
       "      <td>...</td>\n",
       "      <td>...</td>\n",
       "      <td>...</td>\n",
       "      <td>...</td>\n",
       "      <td>...</td>\n",
       "      <td>...</td>\n",
       "      <td>...</td>\n",
       "      <td>...</td>\n",
       "      <td>...</td>\n",
       "      <td>...</td>\n",
       "      <td>...</td>\n",
       "      <td>...</td>\n",
       "      <td>...</td>\n",
       "      <td>...</td>\n",
       "      <td>...</td>\n",
       "      <td>...</td>\n",
       "      <td>...</td>\n",
       "      <td>...</td>\n",
       "      <td>...</td>\n",
       "      <td>...</td>\n",
       "      <td>...</td>\n",
       "      <td>...</td>\n",
       "      <td>...</td>\n",
       "      <td>...</td>\n",
       "      <td>...</td>\n",
       "      <td>...</td>\n",
       "      <td>...</td>\n",
       "      <td>...</td>\n",
       "      <td>...</td>\n",
       "      <td>...</td>\n",
       "      <td>...</td>\n",
       "      <td>...</td>\n",
       "      <td>...</td>\n",
       "      <td>...</td>\n",
       "      <td>...</td>\n",
       "      <td>...</td>\n",
       "      <td>...</td>\n",
       "      <td>...</td>\n",
       "      <td>...</td>\n",
       "      <td>...</td>\n",
       "      <td>...</td>\n",
       "      <td>...</td>\n",
       "      <td>...</td>\n",
       "      <td>...</td>\n",
       "      <td>...</td>\n",
       "      <td>...</td>\n",
       "      <td>...</td>\n",
       "      <td>...</td>\n",
       "      <td>...</td>\n",
       "      <td>...</td>\n",
       "      <td>...</td>\n",
       "      <td>...</td>\n",
       "      <td>...</td>\n",
       "      <td>...</td>\n",
       "      <td>...</td>\n",
       "      <td>...</td>\n",
       "      <td>...</td>\n",
       "      <td>...</td>\n",
       "      <td>...</td>\n",
       "      <td>...</td>\n",
       "      <td>...</td>\n",
       "      <td>...</td>\n",
       "      <td>...</td>\n",
       "      <td>...</td>\n",
       "      <td>...</td>\n",
       "      <td>...</td>\n",
       "      <td>...</td>\n",
       "      <td>...</td>\n",
       "      <td>...</td>\n",
       "      <td>...</td>\n",
       "      <td>...</td>\n",
       "      <td>...</td>\n",
       "      <td>...</td>\n",
       "    </tr>\n",
       "    <tr>\n",
       "      <th>5995</th>\n",
       "      <td>5996</td>\n",
       "      <td>ee57d2114c202ff5b2a2c97d73180c54</td>\n",
       "      <td>1</td>\n",
       "      <td>59.90</td>\n",
       "      <td>62.45</td>\n",
       "      <td>0</td>\n",
       "      <td>0</td>\n",
       "      <td>0</td>\n",
       "      <td>1</td>\n",
       "      <td>0</td>\n",
       "      <td>0</td>\n",
       "      <td>0</td>\n",
       "      <td>0</td>\n",
       "      <td>0</td>\n",
       "      <td>0</td>\n",
       "      <td>0</td>\n",
       "      <td>0</td>\n",
       "      <td>0</td>\n",
       "      <td>0</td>\n",
       "      <td>0</td>\n",
       "      <td>0</td>\n",
       "      <td>0</td>\n",
       "      <td>0</td>\n",
       "      <td>0</td>\n",
       "      <td>0</td>\n",
       "      <td>1</td>\n",
       "      <td>0</td>\n",
       "      <td>0</td>\n",
       "      <td>0</td>\n",
       "      <td>0</td>\n",
       "      <td>0</td>\n",
       "      <td>0</td>\n",
       "      <td>0</td>\n",
       "      <td>0</td>\n",
       "      <td>0</td>\n",
       "      <td>0</td>\n",
       "      <td>0</td>\n",
       "      <td>0</td>\n",
       "      <td>0</td>\n",
       "      <td>0</td>\n",
       "      <td>0</td>\n",
       "      <td>0</td>\n",
       "      <td>1</td>\n",
       "      <td>0</td>\n",
       "      <td>0</td>\n",
       "      <td>0</td>\n",
       "      <td>0</td>\n",
       "      <td>0</td>\n",
       "      <td>0</td>\n",
       "      <td>0</td>\n",
       "      <td>0</td>\n",
       "      <td>0</td>\n",
       "      <td>0</td>\n",
       "      <td>0</td>\n",
       "      <td>0</td>\n",
       "      <td>0</td>\n",
       "      <td>0</td>\n",
       "      <td>0</td>\n",
       "      <td>0</td>\n",
       "      <td>0</td>\n",
       "      <td>0</td>\n",
       "      <td>0</td>\n",
       "      <td>0</td>\n",
       "      <td>0</td>\n",
       "      <td>0</td>\n",
       "      <td>0</td>\n",
       "      <td>0</td>\n",
       "      <td>0</td>\n",
       "      <td>0</td>\n",
       "      <td>0</td>\n",
       "      <td>0</td>\n",
       "      <td>0</td>\n",
       "      <td>0</td>\n",
       "      <td>0</td>\n",
       "      <td>0</td>\n",
       "      <td>0</td>\n",
       "      <td>0</td>\n",
       "      <td>0</td>\n",
       "      <td>0</td>\n",
       "      <td>0</td>\n",
       "      <td>0</td>\n",
       "      <td>0</td>\n",
       "      <td>0</td>\n",
       "      <td>0</td>\n",
       "      <td>0</td>\n",
       "      <td>0</td>\n",
       "      <td>0</td>\n",
       "      <td>0</td>\n",
       "      <td>0</td>\n",
       "      <td>0</td>\n",
       "      <td>0</td>\n",
       "      <td>0</td>\n",
       "      <td>0</td>\n",
       "      <td>0</td>\n",
       "      <td>0</td>\n",
       "      <td>0</td>\n",
       "      <td>0</td>\n",
       "      <td>0</td>\n",
       "      <td>0</td>\n",
       "      <td>0</td>\n",
       "      <td>0</td>\n",
       "    </tr>\n",
       "    <tr>\n",
       "      <th>5996</th>\n",
       "      <td>5997</td>\n",
       "      <td>9882759a457eb7251bbb978cc5adcd1b</td>\n",
       "      <td>1</td>\n",
       "      <td>73.98</td>\n",
       "      <td>19.71</td>\n",
       "      <td>1</td>\n",
       "      <td>0</td>\n",
       "      <td>0</td>\n",
       "      <td>0</td>\n",
       "      <td>0</td>\n",
       "      <td>0</td>\n",
       "      <td>0</td>\n",
       "      <td>0</td>\n",
       "      <td>0</td>\n",
       "      <td>0</td>\n",
       "      <td>0</td>\n",
       "      <td>0</td>\n",
       "      <td>0</td>\n",
       "      <td>0</td>\n",
       "      <td>0</td>\n",
       "      <td>0</td>\n",
       "      <td>0</td>\n",
       "      <td>0</td>\n",
       "      <td>0</td>\n",
       "      <td>0</td>\n",
       "      <td>0</td>\n",
       "      <td>1</td>\n",
       "      <td>0</td>\n",
       "      <td>0</td>\n",
       "      <td>0</td>\n",
       "      <td>0</td>\n",
       "      <td>0</td>\n",
       "      <td>0</td>\n",
       "      <td>0</td>\n",
       "      <td>0</td>\n",
       "      <td>0</td>\n",
       "      <td>0</td>\n",
       "      <td>0</td>\n",
       "      <td>0</td>\n",
       "      <td>0</td>\n",
       "      <td>0</td>\n",
       "      <td>0</td>\n",
       "      <td>1</td>\n",
       "      <td>0</td>\n",
       "      <td>0</td>\n",
       "      <td>0</td>\n",
       "      <td>0</td>\n",
       "      <td>0</td>\n",
       "      <td>0</td>\n",
       "      <td>0</td>\n",
       "      <td>0</td>\n",
       "      <td>0</td>\n",
       "      <td>0</td>\n",
       "      <td>0</td>\n",
       "      <td>0</td>\n",
       "      <td>0</td>\n",
       "      <td>0</td>\n",
       "      <td>0</td>\n",
       "      <td>0</td>\n",
       "      <td>0</td>\n",
       "      <td>0</td>\n",
       "      <td>0</td>\n",
       "      <td>0</td>\n",
       "      <td>0</td>\n",
       "      <td>0</td>\n",
       "      <td>0</td>\n",
       "      <td>0</td>\n",
       "      <td>0</td>\n",
       "      <td>0</td>\n",
       "      <td>0</td>\n",
       "      <td>0</td>\n",
       "      <td>0</td>\n",
       "      <td>0</td>\n",
       "      <td>0</td>\n",
       "      <td>0</td>\n",
       "      <td>0</td>\n",
       "      <td>0</td>\n",
       "      <td>0</td>\n",
       "      <td>0</td>\n",
       "      <td>0</td>\n",
       "      <td>0</td>\n",
       "      <td>0</td>\n",
       "      <td>0</td>\n",
       "      <td>0</td>\n",
       "      <td>0</td>\n",
       "      <td>0</td>\n",
       "      <td>0</td>\n",
       "      <td>0</td>\n",
       "      <td>0</td>\n",
       "      <td>0</td>\n",
       "      <td>0</td>\n",
       "      <td>0</td>\n",
       "      <td>0</td>\n",
       "      <td>0</td>\n",
       "      <td>0</td>\n",
       "      <td>0</td>\n",
       "      <td>0</td>\n",
       "      <td>0</td>\n",
       "      <td>0</td>\n",
       "      <td>0</td>\n",
       "      <td>0</td>\n",
       "    </tr>\n",
       "    <tr>\n",
       "      <th>5997</th>\n",
       "      <td>5998</td>\n",
       "      <td>ae16e6392fd04e6939f6b861725e6db6</td>\n",
       "      <td>1</td>\n",
       "      <td>33.80</td>\n",
       "      <td>44.12</td>\n",
       "      <td>0</td>\n",
       "      <td>1</td>\n",
       "      <td>0</td>\n",
       "      <td>0</td>\n",
       "      <td>0</td>\n",
       "      <td>0</td>\n",
       "      <td>0</td>\n",
       "      <td>0</td>\n",
       "      <td>0</td>\n",
       "      <td>0</td>\n",
       "      <td>0</td>\n",
       "      <td>0</td>\n",
       "      <td>0</td>\n",
       "      <td>0</td>\n",
       "      <td>0</td>\n",
       "      <td>0</td>\n",
       "      <td>0</td>\n",
       "      <td>0</td>\n",
       "      <td>0</td>\n",
       "      <td>0</td>\n",
       "      <td>0</td>\n",
       "      <td>0</td>\n",
       "      <td>1</td>\n",
       "      <td>0</td>\n",
       "      <td>0</td>\n",
       "      <td>0</td>\n",
       "      <td>0</td>\n",
       "      <td>0</td>\n",
       "      <td>0</td>\n",
       "      <td>0</td>\n",
       "      <td>0</td>\n",
       "      <td>0</td>\n",
       "      <td>0</td>\n",
       "      <td>0</td>\n",
       "      <td>0</td>\n",
       "      <td>0</td>\n",
       "      <td>0</td>\n",
       "      <td>0</td>\n",
       "      <td>0</td>\n",
       "      <td>0</td>\n",
       "      <td>0</td>\n",
       "      <td>0</td>\n",
       "      <td>0</td>\n",
       "      <td>0</td>\n",
       "      <td>0</td>\n",
       "      <td>0</td>\n",
       "      <td>0</td>\n",
       "      <td>0</td>\n",
       "      <td>0</td>\n",
       "      <td>0</td>\n",
       "      <td>1</td>\n",
       "      <td>0</td>\n",
       "      <td>0</td>\n",
       "      <td>0</td>\n",
       "      <td>0</td>\n",
       "      <td>0</td>\n",
       "      <td>0</td>\n",
       "      <td>0</td>\n",
       "      <td>0</td>\n",
       "      <td>0</td>\n",
       "      <td>0</td>\n",
       "      <td>0</td>\n",
       "      <td>0</td>\n",
       "      <td>0</td>\n",
       "      <td>0</td>\n",
       "      <td>0</td>\n",
       "      <td>0</td>\n",
       "      <td>0</td>\n",
       "      <td>0</td>\n",
       "      <td>0</td>\n",
       "      <td>0</td>\n",
       "      <td>0</td>\n",
       "      <td>0</td>\n",
       "      <td>0</td>\n",
       "      <td>0</td>\n",
       "      <td>0</td>\n",
       "      <td>0</td>\n",
       "      <td>0</td>\n",
       "      <td>0</td>\n",
       "      <td>0</td>\n",
       "      <td>0</td>\n",
       "      <td>0</td>\n",
       "      <td>0</td>\n",
       "      <td>0</td>\n",
       "      <td>0</td>\n",
       "      <td>0</td>\n",
       "      <td>0</td>\n",
       "      <td>0</td>\n",
       "      <td>0</td>\n",
       "      <td>0</td>\n",
       "      <td>0</td>\n",
       "      <td>0</td>\n",
       "      <td>0</td>\n",
       "      <td>0</td>\n",
       "      <td>0</td>\n",
       "      <td>0</td>\n",
       "    </tr>\n",
       "    <tr>\n",
       "      <th>5998</th>\n",
       "      <td>5999</td>\n",
       "      <td>3bf6d0a2b0719b5a2f9e8b2312975b33</td>\n",
       "      <td>1</td>\n",
       "      <td>79.00</td>\n",
       "      <td>18.43</td>\n",
       "      <td>0</td>\n",
       "      <td>1</td>\n",
       "      <td>0</td>\n",
       "      <td>0</td>\n",
       "      <td>0</td>\n",
       "      <td>0</td>\n",
       "      <td>0</td>\n",
       "      <td>0</td>\n",
       "      <td>0</td>\n",
       "      <td>0</td>\n",
       "      <td>0</td>\n",
       "      <td>0</td>\n",
       "      <td>0</td>\n",
       "      <td>0</td>\n",
       "      <td>0</td>\n",
       "      <td>0</td>\n",
       "      <td>0</td>\n",
       "      <td>0</td>\n",
       "      <td>0</td>\n",
       "      <td>0</td>\n",
       "      <td>0</td>\n",
       "      <td>0</td>\n",
       "      <td>0</td>\n",
       "      <td>0</td>\n",
       "      <td>0</td>\n",
       "      <td>0</td>\n",
       "      <td>0</td>\n",
       "      <td>0</td>\n",
       "      <td>0</td>\n",
       "      <td>1</td>\n",
       "      <td>0</td>\n",
       "      <td>0</td>\n",
       "      <td>0</td>\n",
       "      <td>0</td>\n",
       "      <td>0</td>\n",
       "      <td>0</td>\n",
       "      <td>0</td>\n",
       "      <td>0</td>\n",
       "      <td>0</td>\n",
       "      <td>0</td>\n",
       "      <td>0</td>\n",
       "      <td>0</td>\n",
       "      <td>0</td>\n",
       "      <td>0</td>\n",
       "      <td>0</td>\n",
       "      <td>0</td>\n",
       "      <td>0</td>\n",
       "      <td>0</td>\n",
       "      <td>0</td>\n",
       "      <td>0</td>\n",
       "      <td>0</td>\n",
       "      <td>0</td>\n",
       "      <td>0</td>\n",
       "      <td>0</td>\n",
       "      <td>0</td>\n",
       "      <td>0</td>\n",
       "      <td>0</td>\n",
       "      <td>0</td>\n",
       "      <td>0</td>\n",
       "      <td>0</td>\n",
       "      <td>1</td>\n",
       "      <td>0</td>\n",
       "      <td>0</td>\n",
       "      <td>0</td>\n",
       "      <td>0</td>\n",
       "      <td>0</td>\n",
       "      <td>0</td>\n",
       "      <td>0</td>\n",
       "      <td>0</td>\n",
       "      <td>0</td>\n",
       "      <td>0</td>\n",
       "      <td>0</td>\n",
       "      <td>0</td>\n",
       "      <td>0</td>\n",
       "      <td>0</td>\n",
       "      <td>0</td>\n",
       "      <td>0</td>\n",
       "      <td>0</td>\n",
       "      <td>0</td>\n",
       "      <td>0</td>\n",
       "      <td>0</td>\n",
       "      <td>0</td>\n",
       "      <td>0</td>\n",
       "      <td>0</td>\n",
       "      <td>0</td>\n",
       "      <td>0</td>\n",
       "      <td>0</td>\n",
       "      <td>0</td>\n",
       "      <td>0</td>\n",
       "      <td>0</td>\n",
       "      <td>0</td>\n",
       "      <td>0</td>\n",
       "      <td>0</td>\n",
       "      <td>0</td>\n",
       "      <td>0</td>\n",
       "      <td>0</td>\n",
       "    </tr>\n",
       "    <tr>\n",
       "      <th>5999</th>\n",
       "      <td>6000</td>\n",
       "      <td>a68aa5b6d22ffe2ac0fc2cb41a383072</td>\n",
       "      <td>1</td>\n",
       "      <td>44.99</td>\n",
       "      <td>18.42</td>\n",
       "      <td>0</td>\n",
       "      <td>1</td>\n",
       "      <td>0</td>\n",
       "      <td>0</td>\n",
       "      <td>0</td>\n",
       "      <td>0</td>\n",
       "      <td>0</td>\n",
       "      <td>0</td>\n",
       "      <td>0</td>\n",
       "      <td>0</td>\n",
       "      <td>0</td>\n",
       "      <td>0</td>\n",
       "      <td>0</td>\n",
       "      <td>0</td>\n",
       "      <td>1</td>\n",
       "      <td>0</td>\n",
       "      <td>0</td>\n",
       "      <td>0</td>\n",
       "      <td>0</td>\n",
       "      <td>0</td>\n",
       "      <td>0</td>\n",
       "      <td>0</td>\n",
       "      <td>0</td>\n",
       "      <td>0</td>\n",
       "      <td>0</td>\n",
       "      <td>0</td>\n",
       "      <td>0</td>\n",
       "      <td>0</td>\n",
       "      <td>0</td>\n",
       "      <td>0</td>\n",
       "      <td>0</td>\n",
       "      <td>0</td>\n",
       "      <td>0</td>\n",
       "      <td>0</td>\n",
       "      <td>0</td>\n",
       "      <td>0</td>\n",
       "      <td>0</td>\n",
       "      <td>0</td>\n",
       "      <td>0</td>\n",
       "      <td>0</td>\n",
       "      <td>0</td>\n",
       "      <td>0</td>\n",
       "      <td>0</td>\n",
       "      <td>0</td>\n",
       "      <td>0</td>\n",
       "      <td>0</td>\n",
       "      <td>0</td>\n",
       "      <td>0</td>\n",
       "      <td>0</td>\n",
       "      <td>0</td>\n",
       "      <td>1</td>\n",
       "      <td>0</td>\n",
       "      <td>0</td>\n",
       "      <td>0</td>\n",
       "      <td>0</td>\n",
       "      <td>0</td>\n",
       "      <td>0</td>\n",
       "      <td>0</td>\n",
       "      <td>0</td>\n",
       "      <td>0</td>\n",
       "      <td>0</td>\n",
       "      <td>0</td>\n",
       "      <td>0</td>\n",
       "      <td>0</td>\n",
       "      <td>0</td>\n",
       "      <td>0</td>\n",
       "      <td>0</td>\n",
       "      <td>0</td>\n",
       "      <td>0</td>\n",
       "      <td>0</td>\n",
       "      <td>0</td>\n",
       "      <td>0</td>\n",
       "      <td>0</td>\n",
       "      <td>0</td>\n",
       "      <td>0</td>\n",
       "      <td>0</td>\n",
       "      <td>0</td>\n",
       "      <td>0</td>\n",
       "      <td>0</td>\n",
       "      <td>0</td>\n",
       "      <td>0</td>\n",
       "      <td>0</td>\n",
       "      <td>0</td>\n",
       "      <td>0</td>\n",
       "      <td>0</td>\n",
       "      <td>0</td>\n",
       "      <td>0</td>\n",
       "      <td>0</td>\n",
       "      <td>0</td>\n",
       "      <td>0</td>\n",
       "      <td>0</td>\n",
       "      <td>0</td>\n",
       "      <td>0</td>\n",
       "      <td>0</td>\n",
       "      <td>0</td>\n",
       "      <td>0</td>\n",
       "    </tr>\n",
       "  </tbody>\n",
       "</table>\n",
       "<p>6000 rows × 101 columns</p>\n",
       "</div>"
      ],
      "text/plain": [
       "      Unnamed: 0                       customer_id  n_order  total_price  \\\n",
       "0              1  7dddd924d92a307ffa2261b855b4ac27        1        53.90   \n",
       "1              2  40d1b774d9f5917163eb39116957442d        1        38.25   \n",
       "2              3  785829119d434b68719c0a1edfeecf89        1        79.98   \n",
       "3              4  54f3534b06647f1edaf5eea3d12c698f        1       199.99   \n",
       "4              5  44b499b7dffa8c208c44f6094e84da72        1       122.99   \n",
       "...          ...                               ...      ...          ...   \n",
       "5995        5996  ee57d2114c202ff5b2a2c97d73180c54        1        59.90   \n",
       "5996        5997  9882759a457eb7251bbb978cc5adcd1b        1        73.98   \n",
       "5997        5998  ae16e6392fd04e6939f6b861725e6db6        1        33.80   \n",
       "5998        5999  3bf6d0a2b0719b5a2f9e8b2312975b33        1        79.00   \n",
       "5999        6000  a68aa5b6d22ffe2ac0fc2cb41a383072        1        44.99   \n",
       "\n",
       "      total_freight_value  payement_type_boleto  payement_type_credit_card  \\\n",
       "0                   21.35                     0                          1   \n",
       "1                   17.92                     0                          1   \n",
       "2                   30.46                     0                          1   \n",
       "3                   19.28                     0                          1   \n",
       "4                   19.83                     0                          1   \n",
       "...                   ...                   ...                        ...   \n",
       "5995                62.45                     0                          0   \n",
       "5996                19.71                     1                          0   \n",
       "5997                44.12                     0                          1   \n",
       "5998                18.43                     0                          1   \n",
       "5999                18.42                     0                          1   \n",
       "\n",
       "      payement_type_debit_card  payement_type_voucher  costumer_state_AC  \\\n",
       "0                            0                      0                  0   \n",
       "1                            0                      0                  0   \n",
       "2                            0                      0                  0   \n",
       "3                            0                      0                  0   \n",
       "4                            0                      0                  0   \n",
       "...                        ...                    ...                ...   \n",
       "5995                         0                      1                  0   \n",
       "5996                         0                      0                  0   \n",
       "5997                         0                      0                  0   \n",
       "5998                         0                      0                  0   \n",
       "5999                         0                      0                  0   \n",
       "\n",
       "      costumer_state_AL  costumer_state_AM  costumer_state_AP  \\\n",
       "0                     0                  0                  0   \n",
       "1                     0                  0                  0   \n",
       "2                     0                  0                  0   \n",
       "3                     0                  0                  0   \n",
       "4                     0                  0                  0   \n",
       "...                 ...                ...                ...   \n",
       "5995                  0                  0                  0   \n",
       "5996                  0                  0                  0   \n",
       "5997                  0                  0                  0   \n",
       "5998                  0                  0                  0   \n",
       "5999                  0                  0                  0   \n",
       "\n",
       "      costumer_state_BA  costumer_state_CE  costumer_state_DF  \\\n",
       "0                     0                  0                  0   \n",
       "1                     0                  0                  0   \n",
       "2                     0                  0                  1   \n",
       "3                     0                  0                  0   \n",
       "4                     0                  0                  0   \n",
       "...                 ...                ...                ...   \n",
       "5995                  0                  0                  0   \n",
       "5996                  0                  0                  0   \n",
       "5997                  0                  0                  0   \n",
       "5998                  0                  0                  0   \n",
       "5999                  0                  0                  0   \n",
       "\n",
       "      costumer_state_ES  costumer_state_GO  costumer_state_MA  \\\n",
       "0                     0                  0                  0   \n",
       "1                     0                  0                  0   \n",
       "2                     0                  0                  0   \n",
       "3                     0                  0                  0   \n",
       "4                     0                  0                  0   \n",
       "...                 ...                ...                ...   \n",
       "5995                  0                  0                  0   \n",
       "5996                  0                  0                  0   \n",
       "5997                  0                  0                  0   \n",
       "5998                  0                  0                  0   \n",
       "5999                  0                  0                  0   \n",
       "\n",
       "      costumer_state_MG  costumer_state_MS  costumer_state_MT  \\\n",
       "0                     0                  0                  0   \n",
       "1                     1                  0                  0   \n",
       "2                     0                  0                  0   \n",
       "3                     1                  0                  0   \n",
       "4                     0                  0                  0   \n",
       "...                 ...                ...                ...   \n",
       "5995                  0                  0                  0   \n",
       "5996                  0                  0                  0   \n",
       "5997                  0                  0                  0   \n",
       "5998                  0                  0                  0   \n",
       "5999                  1                  0                  0   \n",
       "\n",
       "      costumer_state_PA  costumer_state_PB  costumer_state_PE  \\\n",
       "0                     0                  0                  0   \n",
       "1                     0                  0                  0   \n",
       "2                     0                  0                  0   \n",
       "3                     0                  0                  0   \n",
       "4                     1                  0                  0   \n",
       "...                 ...                ...                ...   \n",
       "5995                  0                  0                  0   \n",
       "5996                  0                  0                  0   \n",
       "5997                  0                  0                  0   \n",
       "5998                  0                  0                  0   \n",
       "5999                  0                  0                  0   \n",
       "\n",
       "      costumer_state_PI  costumer_state_PR  costumer_state_RJ  \\\n",
       "0                     0                  1                  0   \n",
       "1                     0                  0                  0   \n",
       "2                     0                  0                  0   \n",
       "3                     0                  0                  0   \n",
       "4                     0                  0                  0   \n",
       "...                 ...                ...                ...   \n",
       "5995                  1                  0                  0   \n",
       "5996                  0                  1                  0   \n",
       "5997                  0                  0                  1   \n",
       "5998                  0                  0                  0   \n",
       "5999                  0                  0                  0   \n",
       "\n",
       "      costumer_state_RN  costumer_state_RO  costumer_state_RR  \\\n",
       "0                     0                  0                  0   \n",
       "1                     0                  0                  0   \n",
       "2                     0                  0                  0   \n",
       "3                     0                  0                  0   \n",
       "4                     0                  0                  0   \n",
       "...                 ...                ...                ...   \n",
       "5995                  0                  0                  0   \n",
       "5996                  0                  0                  0   \n",
       "5997                  0                  0                  0   \n",
       "5998                  0                  0                  0   \n",
       "5999                  0                  0                  0   \n",
       "\n",
       "      costumer_state_RS  costumer_state_SC  costumer_state_SE  \\\n",
       "0                     0                  0                  0   \n",
       "1                     0                  0                  0   \n",
       "2                     0                  0                  0   \n",
       "3                     0                  0                  0   \n",
       "4                     0                  0                  0   \n",
       "...                 ...                ...                ...   \n",
       "5995                  0                  0                  0   \n",
       "5996                  0                  0                  0   \n",
       "5997                  0                  0                  0   \n",
       "5998                  0                  0                  0   \n",
       "5999                  0                  0                  0   \n",
       "\n",
       "      costumer_state_SP  costumer_state_TO  catgarden_tools  cattoys  \\\n",
       "0                     0                  0                1        0   \n",
       "1                     0                  0                0        1   \n",
       "2                     0                  0                0        0   \n",
       "3                     0                  0                0        0   \n",
       "4                     0                  0                0        0   \n",
       "...                 ...                ...              ...      ...   \n",
       "5995                  0                  0                0        0   \n",
       "5996                  0                  0                0        0   \n",
       "5997                  0                  0                0        0   \n",
       "5998                  1                  0                0        0   \n",
       "5999                  0                  0                0        0   \n",
       "\n",
       "      cattelephony  catauto  cathealth_beauty  catwatches_gifts  \\\n",
       "0                0        0                 0                 0   \n",
       "1                0        0                 0                 0   \n",
       "2                1        0                 0                 0   \n",
       "3                0        1                 0                 0   \n",
       "4                0        0                 1                 0   \n",
       "...            ...      ...               ...               ...   \n",
       "5995             0        0                 0                 0   \n",
       "5996             0        0                 0                 0   \n",
       "5997             0        0                 0                 0   \n",
       "5998             0        0                 0                 0   \n",
       "5999             0        0                 0                 0   \n",
       "\n",
       "      catsports_leisure  catelectronics  catfood  catbed_bath_table  catbaby  \\\n",
       "0                     0               0        0                  0        0   \n",
       "1                     0               0        0                  0        0   \n",
       "2                     0               0        0                  0        0   \n",
       "3                     0               0        0                  0        0   \n",
       "4                     0               0        0                  0        0   \n",
       "...                 ...             ...      ...                ...      ...   \n",
       "5995                  1               0        0                  0        0   \n",
       "5996                  1               0        0                  0        0   \n",
       "5997                  0               0        0                  0        0   \n",
       "5998                  0               0        0                  0        0   \n",
       "5999                  0               0        0                  0        0   \n",
       "\n",
       "      catoffice_furniture  catconstruction_tools_construction  cathousewares  \\\n",
       "0                       0                                   0              0   \n",
       "1                       0                                   0              0   \n",
       "2                       0                                   0              0   \n",
       "3                       0                                   0              0   \n",
       "4                       0                                   0              0   \n",
       "...                   ...                                 ...            ...   \n",
       "5995                    0                                   0              0   \n",
       "5996                    0                                   0              0   \n",
       "5997                    0                                   0              0   \n",
       "5998                    0                                   0              0   \n",
       "5999                    0                                   0              0   \n",
       "\n",
       "      cathome_appliances  catperfumery  catcool_stuff  catmusical_instruments  \\\n",
       "0                      0             0              0                       0   \n",
       "1                      0             0              0                       0   \n",
       "2                      0             0              0                       0   \n",
       "3                      0             0              0                       0   \n",
       "4                      0             0              0                       0   \n",
       "...                  ...           ...            ...                     ...   \n",
       "5995                   0             0              0                       0   \n",
       "5996                   0             0              0                       0   \n",
       "5997                   0             0              0                       0   \n",
       "5998                   0             0              0                       0   \n",
       "5999                   0             0              0                       0   \n",
       "\n",
       "      catfashion_bags_accessories  catfurniture_decor  catnan  \\\n",
       "0                               0                   0       0   \n",
       "1                               0                   0       0   \n",
       "2                               0                   0       0   \n",
       "3                               0                   0       0   \n",
       "4                               0                   0       0   \n",
       "...                           ...                 ...     ...   \n",
       "5995                            0                   0       0   \n",
       "5996                            0                   0       0   \n",
       "5997                            0                   1       0   \n",
       "5998                            0                   0       0   \n",
       "5999                            0                   1       0   \n",
       "\n",
       "      catcomputers_accessories  catstationery  cathome_construction  \\\n",
       "0                            0              0                     0   \n",
       "1                            0              0                     0   \n",
       "2                            0              0                     0   \n",
       "3                            0              0                     0   \n",
       "4                            0              0                     0   \n",
       "...                        ...            ...                   ...   \n",
       "5995                         0              0                     0   \n",
       "5996                         0              0                     0   \n",
       "5997                         0              0                     0   \n",
       "5998                         0              0                     0   \n",
       "5999                         0              0                     0   \n",
       "\n",
       "      catdrinks  catconstruction_tools_lights  catair_conditioning  \\\n",
       "0             0                             0                    0   \n",
       "1             0                             0                    0   \n",
       "2             0                             0                    0   \n",
       "3             0                             0                    0   \n",
       "4             0                             0                    0   \n",
       "...         ...                           ...                  ...   \n",
       "5995          0                             0                    0   \n",
       "5996          0                             0                    0   \n",
       "5997          0                             0                    0   \n",
       "5998          0                             0                    0   \n",
       "5999          0                             0                    0   \n",
       "\n",
       "      catsmall_appliances  catpet_shop  catconsoles_games  catfood_drink  \\\n",
       "0                       0            0                  0              0   \n",
       "1                       0            0                  0              0   \n",
       "2                       0            0                  0              0   \n",
       "3                       0            0                  0              0   \n",
       "4                       0            0                  0              0   \n",
       "...                   ...          ...                ...            ...   \n",
       "5995                    0            0                  0              0   \n",
       "5996                    0            0                  0              0   \n",
       "5997                    0            0                  0              0   \n",
       "5998                    0            0                  1              0   \n",
       "5999                    0            0                  0              0   \n",
       "\n",
       "      cathome_confort  catfashion_shoes  cataudio  catbooks_general_interest  \\\n",
       "0                   0                 0         0                          0   \n",
       "1                   0                 0         0                          0   \n",
       "2                   0                 0         0                          0   \n",
       "3                   0                 0         0                          0   \n",
       "4                   0                 0         0                          0   \n",
       "...               ...               ...       ...                        ...   \n",
       "5995                0                 0         0                          0   \n",
       "5996                0                 0         0                          0   \n",
       "5997                0                 0         0                          0   \n",
       "5998                0                 0         0                          0   \n",
       "5999                0                 0         0                          0   \n",
       "\n",
       "      catluggage_accessories  catsignaling_and_security  \\\n",
       "0                          0                          0   \n",
       "1                          0                          0   \n",
       "2                          0                          0   \n",
       "3                          0                          0   \n",
       "4                          0                          0   \n",
       "...                      ...                        ...   \n",
       "5995                       0                          0   \n",
       "5996                       0                          0   \n",
       "5997                       0                          0   \n",
       "5998                       0                          0   \n",
       "5999                       0                          0   \n",
       "\n",
       "      catkitchen_dining_laundry_garden_furniture  catfurniture_bedroom  \\\n",
       "0                                              0                     0   \n",
       "1                                              0                     0   \n",
       "2                                              0                     0   \n",
       "3                                              0                     0   \n",
       "4                                              0                     0   \n",
       "...                                          ...                   ...   \n",
       "5995                                           0                     0   \n",
       "5996                                           0                     0   \n",
       "5997                                           0                     0   \n",
       "5998                                           0                     0   \n",
       "5999                                           0                     0   \n",
       "\n",
       "      catart  cathome_appliances_2  catbooks_technical  \\\n",
       "0          0                     0                   0   \n",
       "1          0                     0                   0   \n",
       "2          0                     0                   0   \n",
       "3          0                     0                   0   \n",
       "4          0                     0                   0   \n",
       "...      ...                   ...                 ...   \n",
       "5995       0                     0                   0   \n",
       "5996       0                     0                   0   \n",
       "5997       0                     0                   0   \n",
       "5998       0                     0                   0   \n",
       "5999       0                     0                   0   \n",
       "\n",
       "      catfurniture_living_room  catindustry_commerce_and_business  \\\n",
       "0                            0                                  0   \n",
       "1                            0                                  0   \n",
       "2                            0                                  0   \n",
       "3                            0                                  0   \n",
       "4                            0                                  0   \n",
       "...                        ...                                ...   \n",
       "5995                         0                                  0   \n",
       "5996                         0                                  0   \n",
       "5997                         0                                  0   \n",
       "5998                         0                                  0   \n",
       "5999                         0                                  0   \n",
       "\n",
       "      catcostruction_tools_garden  catcine_photo  catcostruction_tools_tools  \\\n",
       "0                               0              0                           0   \n",
       "1                               0              0                           0   \n",
       "2                               0              0                           0   \n",
       "3                               0              0                           0   \n",
       "4                               0              0                           0   \n",
       "...                           ...            ...                         ...   \n",
       "5995                            0              0                           0   \n",
       "5996                            0              0                           0   \n",
       "5997                            0              0                           0   \n",
       "5998                            0              0                           0   \n",
       "5999                            0              0                           0   \n",
       "\n",
       "      catconstruction_tools_safety  cathome_comfort_2  catchristmas_supplies  \\\n",
       "0                                0                  0                      0   \n",
       "1                                0                  0                      0   \n",
       "2                                0                  0                      0   \n",
       "3                                0                  0                      0   \n",
       "4                                0                  0                      0   \n",
       "...                            ...                ...                    ...   \n",
       "5995                             0                  0                      0   \n",
       "5996                             0                  0                      0   \n",
       "5997                             0                  0                      0   \n",
       "5998                             0                  0                      0   \n",
       "5999                             0                  0                      0   \n",
       "\n",
       "      catagro_industry_and_commerce  catmarket_place  catfixed_telephony  \\\n",
       "0                                 0                0                   0   \n",
       "1                                 0                0                   0   \n",
       "2                                 0                0                   0   \n",
       "3                                 0                0                   0   \n",
       "4                                 0                0                   0   \n",
       "...                             ...              ...                 ...   \n",
       "5995                              0                0                   0   \n",
       "5996                              0                0                   0   \n",
       "5997                              0                0                   0   \n",
       "5998                              0                0                   0   \n",
       "5999                              0                0                   0   \n",
       "\n",
       "      catcomputers  cattablets_printing_image  catdiapers_and_hygiene  \\\n",
       "0                0                          0                       0   \n",
       "1                0                          0                       0   \n",
       "2                0                          0                       0   \n",
       "3                0                          0                       0   \n",
       "4                0                          0                       0   \n",
       "...            ...                        ...                     ...   \n",
       "5995             0                          0                       0   \n",
       "5996             0                          0                       0   \n",
       "5997             0                          0                       0   \n",
       "5998             0                          0                       0   \n",
       "5999             0                          0                       0   \n",
       "\n",
       "      catflowers  catfashion_male_clothing  catarts_and_craftmanship  \\\n",
       "0              0                         0                         0   \n",
       "1              0                         0                         0   \n",
       "2              0                         0                         0   \n",
       "3              0                         0                         0   \n",
       "4              0                         0                         0   \n",
       "...          ...                       ...                       ...   \n",
       "5995           0                         0                         0   \n",
       "5996           0                         0                         0   \n",
       "5997           0                         0                         0   \n",
       "5998           0                         0                         0   \n",
       "5999           0                         0                         0   \n",
       "\n",
       "      catbooks_imported  catdvds_blu_ray  catmusic  \\\n",
       "0                     0                0         0   \n",
       "1                     0                0         0   \n",
       "2                     0                0         0   \n",
       "3                     0                0         0   \n",
       "4                     0                0         0   \n",
       "...                 ...              ...       ...   \n",
       "5995                  0                0         0   \n",
       "5996                  0                0         0   \n",
       "5997                  0                0         0   \n",
       "5998                  0                0         0   \n",
       "5999                  0                0         0   \n",
       "\n",
       "      catsmall_appliances_home_oven_and_coffee  catparty_supplies  \\\n",
       "0                                            0                  0   \n",
       "1                                            0                  0   \n",
       "2                                            0                  0   \n",
       "3                                            0                  0   \n",
       "4                                            0                  0   \n",
       "...                                        ...                ...   \n",
       "5995                                         0                  0   \n",
       "5996                                         0                  0   \n",
       "5997                                         0                  0   \n",
       "5998                                         0                  0   \n",
       "5999                                         0                  0   \n",
       "\n",
       "      catfashion_underwear_beach  \n",
       "0                              0  \n",
       "1                              0  \n",
       "2                              0  \n",
       "3                              0  \n",
       "4                              0  \n",
       "...                          ...  \n",
       "5995                           0  \n",
       "5996                           0  \n",
       "5997                           0  \n",
       "5998                           0  \n",
       "5999                           0  \n",
       "\n",
       "[6000 rows x 101 columns]"
      ]
     },
     "execution_count": 6,
     "metadata": {},
     "output_type": "execute_result"
    }
   ],
   "source": [
    "data"
   ]
  },
  {
   "cell_type": "code",
   "execution_count": 7,
   "metadata": {
    "ExecuteTime": {
     "end_time": "2020-01-16T07:25:17.538272Z",
     "start_time": "2020-01-16T07:25:17.513051Z"
    }
   },
   "outputs": [],
   "source": [
    "data.set_index('customer_id', inplace=True)"
   ]
  },
  {
   "cell_type": "code",
   "execution_count": 8,
   "metadata": {
    "ExecuteTime": {
     "end_time": "2020-01-16T07:25:17.621778Z",
     "start_time": "2020-01-16T07:25:17.541335Z"
    }
   },
   "outputs": [
    {
     "data": {
      "text/html": [
       "<div>\n",
       "<style scoped>\n",
       "    .dataframe tbody tr th:only-of-type {\n",
       "        vertical-align: middle;\n",
       "    }\n",
       "\n",
       "    .dataframe tbody tr th {\n",
       "        vertical-align: top;\n",
       "    }\n",
       "\n",
       "    .dataframe thead th {\n",
       "        text-align: right;\n",
       "    }\n",
       "</style>\n",
       "<table border=\"1\" class=\"dataframe\">\n",
       "  <thead>\n",
       "    <tr style=\"text-align: right;\">\n",
       "      <th></th>\n",
       "      <th>Unnamed: 0</th>\n",
       "      <th>n_order</th>\n",
       "      <th>total_price</th>\n",
       "      <th>total_freight_value</th>\n",
       "      <th>payement_type_boleto</th>\n",
       "      <th>payement_type_credit_card</th>\n",
       "      <th>payement_type_debit_card</th>\n",
       "      <th>payement_type_voucher</th>\n",
       "      <th>costumer_state_AC</th>\n",
       "      <th>costumer_state_AL</th>\n",
       "      <th>costumer_state_AM</th>\n",
       "      <th>costumer_state_AP</th>\n",
       "      <th>costumer_state_BA</th>\n",
       "      <th>costumer_state_CE</th>\n",
       "      <th>costumer_state_DF</th>\n",
       "      <th>costumer_state_ES</th>\n",
       "      <th>costumer_state_GO</th>\n",
       "      <th>costumer_state_MA</th>\n",
       "      <th>costumer_state_MG</th>\n",
       "      <th>costumer_state_MS</th>\n",
       "      <th>costumer_state_MT</th>\n",
       "      <th>costumer_state_PA</th>\n",
       "      <th>costumer_state_PB</th>\n",
       "      <th>costumer_state_PE</th>\n",
       "      <th>costumer_state_PI</th>\n",
       "      <th>costumer_state_PR</th>\n",
       "      <th>costumer_state_RJ</th>\n",
       "      <th>costumer_state_RN</th>\n",
       "      <th>costumer_state_RO</th>\n",
       "      <th>costumer_state_RR</th>\n",
       "      <th>costumer_state_RS</th>\n",
       "      <th>costumer_state_SC</th>\n",
       "      <th>costumer_state_SE</th>\n",
       "      <th>costumer_state_SP</th>\n",
       "      <th>costumer_state_TO</th>\n",
       "      <th>catgarden_tools</th>\n",
       "      <th>cattoys</th>\n",
       "      <th>cattelephony</th>\n",
       "      <th>catauto</th>\n",
       "      <th>cathealth_beauty</th>\n",
       "      <th>catwatches_gifts</th>\n",
       "      <th>catsports_leisure</th>\n",
       "      <th>catelectronics</th>\n",
       "      <th>catfood</th>\n",
       "      <th>catbed_bath_table</th>\n",
       "      <th>catbaby</th>\n",
       "      <th>catoffice_furniture</th>\n",
       "      <th>catconstruction_tools_construction</th>\n",
       "      <th>cathousewares</th>\n",
       "      <th>cathome_appliances</th>\n",
       "      <th>catperfumery</th>\n",
       "      <th>catcool_stuff</th>\n",
       "      <th>catmusical_instruments</th>\n",
       "      <th>catfashion_bags_accessories</th>\n",
       "      <th>catfurniture_decor</th>\n",
       "      <th>catnan</th>\n",
       "      <th>catcomputers_accessories</th>\n",
       "      <th>catstationery</th>\n",
       "      <th>cathome_construction</th>\n",
       "      <th>catdrinks</th>\n",
       "      <th>catconstruction_tools_lights</th>\n",
       "      <th>catair_conditioning</th>\n",
       "      <th>catsmall_appliances</th>\n",
       "      <th>catpet_shop</th>\n",
       "      <th>catconsoles_games</th>\n",
       "      <th>catfood_drink</th>\n",
       "      <th>cathome_confort</th>\n",
       "      <th>catfashion_shoes</th>\n",
       "      <th>cataudio</th>\n",
       "      <th>catbooks_general_interest</th>\n",
       "      <th>catluggage_accessories</th>\n",
       "      <th>catsignaling_and_security</th>\n",
       "      <th>catkitchen_dining_laundry_garden_furniture</th>\n",
       "      <th>catfurniture_bedroom</th>\n",
       "      <th>catart</th>\n",
       "      <th>cathome_appliances_2</th>\n",
       "      <th>catbooks_technical</th>\n",
       "      <th>catfurniture_living_room</th>\n",
       "      <th>catindustry_commerce_and_business</th>\n",
       "      <th>catcostruction_tools_garden</th>\n",
       "      <th>catcine_photo</th>\n",
       "      <th>catcostruction_tools_tools</th>\n",
       "      <th>catconstruction_tools_safety</th>\n",
       "      <th>cathome_comfort_2</th>\n",
       "      <th>catchristmas_supplies</th>\n",
       "      <th>catagro_industry_and_commerce</th>\n",
       "      <th>catmarket_place</th>\n",
       "      <th>catfixed_telephony</th>\n",
       "      <th>catcomputers</th>\n",
       "      <th>cattablets_printing_image</th>\n",
       "      <th>catdiapers_and_hygiene</th>\n",
       "      <th>catflowers</th>\n",
       "      <th>catfashion_male_clothing</th>\n",
       "      <th>catarts_and_craftmanship</th>\n",
       "      <th>catbooks_imported</th>\n",
       "      <th>catdvds_blu_ray</th>\n",
       "      <th>catmusic</th>\n",
       "      <th>catsmall_appliances_home_oven_and_coffee</th>\n",
       "      <th>catparty_supplies</th>\n",
       "      <th>catfashion_underwear_beach</th>\n",
       "    </tr>\n",
       "    <tr>\n",
       "      <th>customer_id</th>\n",
       "      <th></th>\n",
       "      <th></th>\n",
       "      <th></th>\n",
       "      <th></th>\n",
       "      <th></th>\n",
       "      <th></th>\n",
       "      <th></th>\n",
       "      <th></th>\n",
       "      <th></th>\n",
       "      <th></th>\n",
       "      <th></th>\n",
       "      <th></th>\n",
       "      <th></th>\n",
       "      <th></th>\n",
       "      <th></th>\n",
       "      <th></th>\n",
       "      <th></th>\n",
       "      <th></th>\n",
       "      <th></th>\n",
       "      <th></th>\n",
       "      <th></th>\n",
       "      <th></th>\n",
       "      <th></th>\n",
       "      <th></th>\n",
       "      <th></th>\n",
       "      <th></th>\n",
       "      <th></th>\n",
       "      <th></th>\n",
       "      <th></th>\n",
       "      <th></th>\n",
       "      <th></th>\n",
       "      <th></th>\n",
       "      <th></th>\n",
       "      <th></th>\n",
       "      <th></th>\n",
       "      <th></th>\n",
       "      <th></th>\n",
       "      <th></th>\n",
       "      <th></th>\n",
       "      <th></th>\n",
       "      <th></th>\n",
       "      <th></th>\n",
       "      <th></th>\n",
       "      <th></th>\n",
       "      <th></th>\n",
       "      <th></th>\n",
       "      <th></th>\n",
       "      <th></th>\n",
       "      <th></th>\n",
       "      <th></th>\n",
       "      <th></th>\n",
       "      <th></th>\n",
       "      <th></th>\n",
       "      <th></th>\n",
       "      <th></th>\n",
       "      <th></th>\n",
       "      <th></th>\n",
       "      <th></th>\n",
       "      <th></th>\n",
       "      <th></th>\n",
       "      <th></th>\n",
       "      <th></th>\n",
       "      <th></th>\n",
       "      <th></th>\n",
       "      <th></th>\n",
       "      <th></th>\n",
       "      <th></th>\n",
       "      <th></th>\n",
       "      <th></th>\n",
       "      <th></th>\n",
       "      <th></th>\n",
       "      <th></th>\n",
       "      <th></th>\n",
       "      <th></th>\n",
       "      <th></th>\n",
       "      <th></th>\n",
       "      <th></th>\n",
       "      <th></th>\n",
       "      <th></th>\n",
       "      <th></th>\n",
       "      <th></th>\n",
       "      <th></th>\n",
       "      <th></th>\n",
       "      <th></th>\n",
       "      <th></th>\n",
       "      <th></th>\n",
       "      <th></th>\n",
       "      <th></th>\n",
       "      <th></th>\n",
       "      <th></th>\n",
       "      <th></th>\n",
       "      <th></th>\n",
       "      <th></th>\n",
       "      <th></th>\n",
       "      <th></th>\n",
       "      <th></th>\n",
       "      <th></th>\n",
       "      <th></th>\n",
       "      <th></th>\n",
       "      <th></th>\n",
       "    </tr>\n",
       "  </thead>\n",
       "  <tbody>\n",
       "    <tr>\n",
       "      <th>7dddd924d92a307ffa2261b855b4ac27</th>\n",
       "      <td>1</td>\n",
       "      <td>1</td>\n",
       "      <td>53.90</td>\n",
       "      <td>21.35</td>\n",
       "      <td>0</td>\n",
       "      <td>1</td>\n",
       "      <td>0</td>\n",
       "      <td>0</td>\n",
       "      <td>0</td>\n",
       "      <td>0</td>\n",
       "      <td>0</td>\n",
       "      <td>0</td>\n",
       "      <td>0</td>\n",
       "      <td>0</td>\n",
       "      <td>0</td>\n",
       "      <td>0</td>\n",
       "      <td>0</td>\n",
       "      <td>0</td>\n",
       "      <td>0</td>\n",
       "      <td>0</td>\n",
       "      <td>0</td>\n",
       "      <td>0</td>\n",
       "      <td>0</td>\n",
       "      <td>0</td>\n",
       "      <td>0</td>\n",
       "      <td>1</td>\n",
       "      <td>0</td>\n",
       "      <td>0</td>\n",
       "      <td>0</td>\n",
       "      <td>0</td>\n",
       "      <td>0</td>\n",
       "      <td>0</td>\n",
       "      <td>0</td>\n",
       "      <td>0</td>\n",
       "      <td>0</td>\n",
       "      <td>1</td>\n",
       "      <td>0</td>\n",
       "      <td>0</td>\n",
       "      <td>0</td>\n",
       "      <td>0</td>\n",
       "      <td>0</td>\n",
       "      <td>0</td>\n",
       "      <td>0</td>\n",
       "      <td>0</td>\n",
       "      <td>0</td>\n",
       "      <td>0</td>\n",
       "      <td>0</td>\n",
       "      <td>0</td>\n",
       "      <td>0</td>\n",
       "      <td>0</td>\n",
       "      <td>0</td>\n",
       "      <td>0</td>\n",
       "      <td>0</td>\n",
       "      <td>0</td>\n",
       "      <td>0</td>\n",
       "      <td>0</td>\n",
       "      <td>0</td>\n",
       "      <td>0</td>\n",
       "      <td>0</td>\n",
       "      <td>0</td>\n",
       "      <td>0</td>\n",
       "      <td>0</td>\n",
       "      <td>0</td>\n",
       "      <td>0</td>\n",
       "      <td>0</td>\n",
       "      <td>0</td>\n",
       "      <td>0</td>\n",
       "      <td>0</td>\n",
       "      <td>0</td>\n",
       "      <td>0</td>\n",
       "      <td>0</td>\n",
       "      <td>0</td>\n",
       "      <td>0</td>\n",
       "      <td>0</td>\n",
       "      <td>0</td>\n",
       "      <td>0</td>\n",
       "      <td>0</td>\n",
       "      <td>0</td>\n",
       "      <td>0</td>\n",
       "      <td>0</td>\n",
       "      <td>0</td>\n",
       "      <td>0</td>\n",
       "      <td>0</td>\n",
       "      <td>0</td>\n",
       "      <td>0</td>\n",
       "      <td>0</td>\n",
       "      <td>0</td>\n",
       "      <td>0</td>\n",
       "      <td>0</td>\n",
       "      <td>0</td>\n",
       "      <td>0</td>\n",
       "      <td>0</td>\n",
       "      <td>0</td>\n",
       "      <td>0</td>\n",
       "      <td>0</td>\n",
       "      <td>0</td>\n",
       "      <td>0</td>\n",
       "      <td>0</td>\n",
       "      <td>0</td>\n",
       "      <td>0</td>\n",
       "    </tr>\n",
       "    <tr>\n",
       "      <th>40d1b774d9f5917163eb39116957442d</th>\n",
       "      <td>2</td>\n",
       "      <td>1</td>\n",
       "      <td>38.25</td>\n",
       "      <td>17.92</td>\n",
       "      <td>0</td>\n",
       "      <td>1</td>\n",
       "      <td>0</td>\n",
       "      <td>0</td>\n",
       "      <td>0</td>\n",
       "      <td>0</td>\n",
       "      <td>0</td>\n",
       "      <td>0</td>\n",
       "      <td>0</td>\n",
       "      <td>0</td>\n",
       "      <td>0</td>\n",
       "      <td>0</td>\n",
       "      <td>0</td>\n",
       "      <td>0</td>\n",
       "      <td>1</td>\n",
       "      <td>0</td>\n",
       "      <td>0</td>\n",
       "      <td>0</td>\n",
       "      <td>0</td>\n",
       "      <td>0</td>\n",
       "      <td>0</td>\n",
       "      <td>0</td>\n",
       "      <td>0</td>\n",
       "      <td>0</td>\n",
       "      <td>0</td>\n",
       "      <td>0</td>\n",
       "      <td>0</td>\n",
       "      <td>0</td>\n",
       "      <td>0</td>\n",
       "      <td>0</td>\n",
       "      <td>0</td>\n",
       "      <td>0</td>\n",
       "      <td>1</td>\n",
       "      <td>0</td>\n",
       "      <td>0</td>\n",
       "      <td>0</td>\n",
       "      <td>0</td>\n",
       "      <td>0</td>\n",
       "      <td>0</td>\n",
       "      <td>0</td>\n",
       "      <td>0</td>\n",
       "      <td>0</td>\n",
       "      <td>0</td>\n",
       "      <td>0</td>\n",
       "      <td>0</td>\n",
       "      <td>0</td>\n",
       "      <td>0</td>\n",
       "      <td>0</td>\n",
       "      <td>0</td>\n",
       "      <td>0</td>\n",
       "      <td>0</td>\n",
       "      <td>0</td>\n",
       "      <td>0</td>\n",
       "      <td>0</td>\n",
       "      <td>0</td>\n",
       "      <td>0</td>\n",
       "      <td>0</td>\n",
       "      <td>0</td>\n",
       "      <td>0</td>\n",
       "      <td>0</td>\n",
       "      <td>0</td>\n",
       "      <td>0</td>\n",
       "      <td>0</td>\n",
       "      <td>0</td>\n",
       "      <td>0</td>\n",
       "      <td>0</td>\n",
       "      <td>0</td>\n",
       "      <td>0</td>\n",
       "      <td>0</td>\n",
       "      <td>0</td>\n",
       "      <td>0</td>\n",
       "      <td>0</td>\n",
       "      <td>0</td>\n",
       "      <td>0</td>\n",
       "      <td>0</td>\n",
       "      <td>0</td>\n",
       "      <td>0</td>\n",
       "      <td>0</td>\n",
       "      <td>0</td>\n",
       "      <td>0</td>\n",
       "      <td>0</td>\n",
       "      <td>0</td>\n",
       "      <td>0</td>\n",
       "      <td>0</td>\n",
       "      <td>0</td>\n",
       "      <td>0</td>\n",
       "      <td>0</td>\n",
       "      <td>0</td>\n",
       "      <td>0</td>\n",
       "      <td>0</td>\n",
       "      <td>0</td>\n",
       "      <td>0</td>\n",
       "      <td>0</td>\n",
       "      <td>0</td>\n",
       "      <td>0</td>\n",
       "      <td>0</td>\n",
       "    </tr>\n",
       "    <tr>\n",
       "      <th>785829119d434b68719c0a1edfeecf89</th>\n",
       "      <td>3</td>\n",
       "      <td>1</td>\n",
       "      <td>79.98</td>\n",
       "      <td>30.46</td>\n",
       "      <td>0</td>\n",
       "      <td>1</td>\n",
       "      <td>0</td>\n",
       "      <td>0</td>\n",
       "      <td>0</td>\n",
       "      <td>0</td>\n",
       "      <td>0</td>\n",
       "      <td>0</td>\n",
       "      <td>0</td>\n",
       "      <td>0</td>\n",
       "      <td>1</td>\n",
       "      <td>0</td>\n",
       "      <td>0</td>\n",
       "      <td>0</td>\n",
       "      <td>0</td>\n",
       "      <td>0</td>\n",
       "      <td>0</td>\n",
       "      <td>0</td>\n",
       "      <td>0</td>\n",
       "      <td>0</td>\n",
       "      <td>0</td>\n",
       "      <td>0</td>\n",
       "      <td>0</td>\n",
       "      <td>0</td>\n",
       "      <td>0</td>\n",
       "      <td>0</td>\n",
       "      <td>0</td>\n",
       "      <td>0</td>\n",
       "      <td>0</td>\n",
       "      <td>0</td>\n",
       "      <td>0</td>\n",
       "      <td>0</td>\n",
       "      <td>0</td>\n",
       "      <td>1</td>\n",
       "      <td>0</td>\n",
       "      <td>0</td>\n",
       "      <td>0</td>\n",
       "      <td>0</td>\n",
       "      <td>0</td>\n",
       "      <td>0</td>\n",
       "      <td>0</td>\n",
       "      <td>0</td>\n",
       "      <td>0</td>\n",
       "      <td>0</td>\n",
       "      <td>0</td>\n",
       "      <td>0</td>\n",
       "      <td>0</td>\n",
       "      <td>0</td>\n",
       "      <td>0</td>\n",
       "      <td>0</td>\n",
       "      <td>0</td>\n",
       "      <td>0</td>\n",
       "      <td>0</td>\n",
       "      <td>0</td>\n",
       "      <td>0</td>\n",
       "      <td>0</td>\n",
       "      <td>0</td>\n",
       "      <td>0</td>\n",
       "      <td>0</td>\n",
       "      <td>0</td>\n",
       "      <td>0</td>\n",
       "      <td>0</td>\n",
       "      <td>0</td>\n",
       "      <td>0</td>\n",
       "      <td>0</td>\n",
       "      <td>0</td>\n",
       "      <td>0</td>\n",
       "      <td>0</td>\n",
       "      <td>0</td>\n",
       "      <td>0</td>\n",
       "      <td>0</td>\n",
       "      <td>0</td>\n",
       "      <td>0</td>\n",
       "      <td>0</td>\n",
       "      <td>0</td>\n",
       "      <td>0</td>\n",
       "      <td>0</td>\n",
       "      <td>0</td>\n",
       "      <td>0</td>\n",
       "      <td>0</td>\n",
       "      <td>0</td>\n",
       "      <td>0</td>\n",
       "      <td>0</td>\n",
       "      <td>0</td>\n",
       "      <td>0</td>\n",
       "      <td>0</td>\n",
       "      <td>0</td>\n",
       "      <td>0</td>\n",
       "      <td>0</td>\n",
       "      <td>0</td>\n",
       "      <td>0</td>\n",
       "      <td>0</td>\n",
       "      <td>0</td>\n",
       "      <td>0</td>\n",
       "      <td>0</td>\n",
       "      <td>0</td>\n",
       "    </tr>\n",
       "    <tr>\n",
       "      <th>54f3534b06647f1edaf5eea3d12c698f</th>\n",
       "      <td>4</td>\n",
       "      <td>1</td>\n",
       "      <td>199.99</td>\n",
       "      <td>19.28</td>\n",
       "      <td>0</td>\n",
       "      <td>1</td>\n",
       "      <td>0</td>\n",
       "      <td>0</td>\n",
       "      <td>0</td>\n",
       "      <td>0</td>\n",
       "      <td>0</td>\n",
       "      <td>0</td>\n",
       "      <td>0</td>\n",
       "      <td>0</td>\n",
       "      <td>0</td>\n",
       "      <td>0</td>\n",
       "      <td>0</td>\n",
       "      <td>0</td>\n",
       "      <td>1</td>\n",
       "      <td>0</td>\n",
       "      <td>0</td>\n",
       "      <td>0</td>\n",
       "      <td>0</td>\n",
       "      <td>0</td>\n",
       "      <td>0</td>\n",
       "      <td>0</td>\n",
       "      <td>0</td>\n",
       "      <td>0</td>\n",
       "      <td>0</td>\n",
       "      <td>0</td>\n",
       "      <td>0</td>\n",
       "      <td>0</td>\n",
       "      <td>0</td>\n",
       "      <td>0</td>\n",
       "      <td>0</td>\n",
       "      <td>0</td>\n",
       "      <td>0</td>\n",
       "      <td>0</td>\n",
       "      <td>1</td>\n",
       "      <td>0</td>\n",
       "      <td>0</td>\n",
       "      <td>0</td>\n",
       "      <td>0</td>\n",
       "      <td>0</td>\n",
       "      <td>0</td>\n",
       "      <td>0</td>\n",
       "      <td>0</td>\n",
       "      <td>0</td>\n",
       "      <td>0</td>\n",
       "      <td>0</td>\n",
       "      <td>0</td>\n",
       "      <td>0</td>\n",
       "      <td>0</td>\n",
       "      <td>0</td>\n",
       "      <td>0</td>\n",
       "      <td>0</td>\n",
       "      <td>0</td>\n",
       "      <td>0</td>\n",
       "      <td>0</td>\n",
       "      <td>0</td>\n",
       "      <td>0</td>\n",
       "      <td>0</td>\n",
       "      <td>0</td>\n",
       "      <td>0</td>\n",
       "      <td>0</td>\n",
       "      <td>0</td>\n",
       "      <td>0</td>\n",
       "      <td>0</td>\n",
       "      <td>0</td>\n",
       "      <td>0</td>\n",
       "      <td>0</td>\n",
       "      <td>0</td>\n",
       "      <td>0</td>\n",
       "      <td>0</td>\n",
       "      <td>0</td>\n",
       "      <td>0</td>\n",
       "      <td>0</td>\n",
       "      <td>0</td>\n",
       "      <td>0</td>\n",
       "      <td>0</td>\n",
       "      <td>0</td>\n",
       "      <td>0</td>\n",
       "      <td>0</td>\n",
       "      <td>0</td>\n",
       "      <td>0</td>\n",
       "      <td>0</td>\n",
       "      <td>0</td>\n",
       "      <td>0</td>\n",
       "      <td>0</td>\n",
       "      <td>0</td>\n",
       "      <td>0</td>\n",
       "      <td>0</td>\n",
       "      <td>0</td>\n",
       "      <td>0</td>\n",
       "      <td>0</td>\n",
       "      <td>0</td>\n",
       "      <td>0</td>\n",
       "      <td>0</td>\n",
       "      <td>0</td>\n",
       "      <td>0</td>\n",
       "    </tr>\n",
       "    <tr>\n",
       "      <th>44b499b7dffa8c208c44f6094e84da72</th>\n",
       "      <td>5</td>\n",
       "      <td>1</td>\n",
       "      <td>122.99</td>\n",
       "      <td>19.83</td>\n",
       "      <td>0</td>\n",
       "      <td>1</td>\n",
       "      <td>0</td>\n",
       "      <td>0</td>\n",
       "      <td>0</td>\n",
       "      <td>0</td>\n",
       "      <td>0</td>\n",
       "      <td>0</td>\n",
       "      <td>0</td>\n",
       "      <td>0</td>\n",
       "      <td>0</td>\n",
       "      <td>0</td>\n",
       "      <td>0</td>\n",
       "      <td>0</td>\n",
       "      <td>0</td>\n",
       "      <td>0</td>\n",
       "      <td>0</td>\n",
       "      <td>1</td>\n",
       "      <td>0</td>\n",
       "      <td>0</td>\n",
       "      <td>0</td>\n",
       "      <td>0</td>\n",
       "      <td>0</td>\n",
       "      <td>0</td>\n",
       "      <td>0</td>\n",
       "      <td>0</td>\n",
       "      <td>0</td>\n",
       "      <td>0</td>\n",
       "      <td>0</td>\n",
       "      <td>0</td>\n",
       "      <td>0</td>\n",
       "      <td>0</td>\n",
       "      <td>0</td>\n",
       "      <td>0</td>\n",
       "      <td>0</td>\n",
       "      <td>1</td>\n",
       "      <td>0</td>\n",
       "      <td>0</td>\n",
       "      <td>0</td>\n",
       "      <td>0</td>\n",
       "      <td>0</td>\n",
       "      <td>0</td>\n",
       "      <td>0</td>\n",
       "      <td>0</td>\n",
       "      <td>0</td>\n",
       "      <td>0</td>\n",
       "      <td>0</td>\n",
       "      <td>0</td>\n",
       "      <td>0</td>\n",
       "      <td>0</td>\n",
       "      <td>0</td>\n",
       "      <td>0</td>\n",
       "      <td>0</td>\n",
       "      <td>0</td>\n",
       "      <td>0</td>\n",
       "      <td>0</td>\n",
       "      <td>0</td>\n",
       "      <td>0</td>\n",
       "      <td>0</td>\n",
       "      <td>0</td>\n",
       "      <td>0</td>\n",
       "      <td>0</td>\n",
       "      <td>0</td>\n",
       "      <td>0</td>\n",
       "      <td>0</td>\n",
       "      <td>0</td>\n",
       "      <td>0</td>\n",
       "      <td>0</td>\n",
       "      <td>0</td>\n",
       "      <td>0</td>\n",
       "      <td>0</td>\n",
       "      <td>0</td>\n",
       "      <td>0</td>\n",
       "      <td>0</td>\n",
       "      <td>0</td>\n",
       "      <td>0</td>\n",
       "      <td>0</td>\n",
       "      <td>0</td>\n",
       "      <td>0</td>\n",
       "      <td>0</td>\n",
       "      <td>0</td>\n",
       "      <td>0</td>\n",
       "      <td>0</td>\n",
       "      <td>0</td>\n",
       "      <td>0</td>\n",
       "      <td>0</td>\n",
       "      <td>0</td>\n",
       "      <td>0</td>\n",
       "      <td>0</td>\n",
       "      <td>0</td>\n",
       "      <td>0</td>\n",
       "      <td>0</td>\n",
       "      <td>0</td>\n",
       "      <td>0</td>\n",
       "      <td>0</td>\n",
       "      <td>0</td>\n",
       "    </tr>\n",
       "  </tbody>\n",
       "</table>\n",
       "</div>"
      ],
      "text/plain": [
       "                                  Unnamed: 0  n_order  total_price  \\\n",
       "customer_id                                                          \n",
       "7dddd924d92a307ffa2261b855b4ac27           1        1        53.90   \n",
       "40d1b774d9f5917163eb39116957442d           2        1        38.25   \n",
       "785829119d434b68719c0a1edfeecf89           3        1        79.98   \n",
       "54f3534b06647f1edaf5eea3d12c698f           4        1       199.99   \n",
       "44b499b7dffa8c208c44f6094e84da72           5        1       122.99   \n",
       "\n",
       "                                  total_freight_value  payement_type_boleto  \\\n",
       "customer_id                                                                   \n",
       "7dddd924d92a307ffa2261b855b4ac27                21.35                     0   \n",
       "40d1b774d9f5917163eb39116957442d                17.92                     0   \n",
       "785829119d434b68719c0a1edfeecf89                30.46                     0   \n",
       "54f3534b06647f1edaf5eea3d12c698f                19.28                     0   \n",
       "44b499b7dffa8c208c44f6094e84da72                19.83                     0   \n",
       "\n",
       "                                  payement_type_credit_card  \\\n",
       "customer_id                                                   \n",
       "7dddd924d92a307ffa2261b855b4ac27                          1   \n",
       "40d1b774d9f5917163eb39116957442d                          1   \n",
       "785829119d434b68719c0a1edfeecf89                          1   \n",
       "54f3534b06647f1edaf5eea3d12c698f                          1   \n",
       "44b499b7dffa8c208c44f6094e84da72                          1   \n",
       "\n",
       "                                  payement_type_debit_card  \\\n",
       "customer_id                                                  \n",
       "7dddd924d92a307ffa2261b855b4ac27                         0   \n",
       "40d1b774d9f5917163eb39116957442d                         0   \n",
       "785829119d434b68719c0a1edfeecf89                         0   \n",
       "54f3534b06647f1edaf5eea3d12c698f                         0   \n",
       "44b499b7dffa8c208c44f6094e84da72                         0   \n",
       "\n",
       "                                  payement_type_voucher  costumer_state_AC  \\\n",
       "customer_id                                                                  \n",
       "7dddd924d92a307ffa2261b855b4ac27                      0                  0   \n",
       "40d1b774d9f5917163eb39116957442d                      0                  0   \n",
       "785829119d434b68719c0a1edfeecf89                      0                  0   \n",
       "54f3534b06647f1edaf5eea3d12c698f                      0                  0   \n",
       "44b499b7dffa8c208c44f6094e84da72                      0                  0   \n",
       "\n",
       "                                  costumer_state_AL  costumer_state_AM  \\\n",
       "customer_id                                                              \n",
       "7dddd924d92a307ffa2261b855b4ac27                  0                  0   \n",
       "40d1b774d9f5917163eb39116957442d                  0                  0   \n",
       "785829119d434b68719c0a1edfeecf89                  0                  0   \n",
       "54f3534b06647f1edaf5eea3d12c698f                  0                  0   \n",
       "44b499b7dffa8c208c44f6094e84da72                  0                  0   \n",
       "\n",
       "                                  costumer_state_AP  costumer_state_BA  \\\n",
       "customer_id                                                              \n",
       "7dddd924d92a307ffa2261b855b4ac27                  0                  0   \n",
       "40d1b774d9f5917163eb39116957442d                  0                  0   \n",
       "785829119d434b68719c0a1edfeecf89                  0                  0   \n",
       "54f3534b06647f1edaf5eea3d12c698f                  0                  0   \n",
       "44b499b7dffa8c208c44f6094e84da72                  0                  0   \n",
       "\n",
       "                                  costumer_state_CE  costumer_state_DF  \\\n",
       "customer_id                                                              \n",
       "7dddd924d92a307ffa2261b855b4ac27                  0                  0   \n",
       "40d1b774d9f5917163eb39116957442d                  0                  0   \n",
       "785829119d434b68719c0a1edfeecf89                  0                  1   \n",
       "54f3534b06647f1edaf5eea3d12c698f                  0                  0   \n",
       "44b499b7dffa8c208c44f6094e84da72                  0                  0   \n",
       "\n",
       "                                  costumer_state_ES  costumer_state_GO  \\\n",
       "customer_id                                                              \n",
       "7dddd924d92a307ffa2261b855b4ac27                  0                  0   \n",
       "40d1b774d9f5917163eb39116957442d                  0                  0   \n",
       "785829119d434b68719c0a1edfeecf89                  0                  0   \n",
       "54f3534b06647f1edaf5eea3d12c698f                  0                  0   \n",
       "44b499b7dffa8c208c44f6094e84da72                  0                  0   \n",
       "\n",
       "                                  costumer_state_MA  costumer_state_MG  \\\n",
       "customer_id                                                              \n",
       "7dddd924d92a307ffa2261b855b4ac27                  0                  0   \n",
       "40d1b774d9f5917163eb39116957442d                  0                  1   \n",
       "785829119d434b68719c0a1edfeecf89                  0                  0   \n",
       "54f3534b06647f1edaf5eea3d12c698f                  0                  1   \n",
       "44b499b7dffa8c208c44f6094e84da72                  0                  0   \n",
       "\n",
       "                                  costumer_state_MS  costumer_state_MT  \\\n",
       "customer_id                                                              \n",
       "7dddd924d92a307ffa2261b855b4ac27                  0                  0   \n",
       "40d1b774d9f5917163eb39116957442d                  0                  0   \n",
       "785829119d434b68719c0a1edfeecf89                  0                  0   \n",
       "54f3534b06647f1edaf5eea3d12c698f                  0                  0   \n",
       "44b499b7dffa8c208c44f6094e84da72                  0                  0   \n",
       "\n",
       "                                  costumer_state_PA  costumer_state_PB  \\\n",
       "customer_id                                                              \n",
       "7dddd924d92a307ffa2261b855b4ac27                  0                  0   \n",
       "40d1b774d9f5917163eb39116957442d                  0                  0   \n",
       "785829119d434b68719c0a1edfeecf89                  0                  0   \n",
       "54f3534b06647f1edaf5eea3d12c698f                  0                  0   \n",
       "44b499b7dffa8c208c44f6094e84da72                  1                  0   \n",
       "\n",
       "                                  costumer_state_PE  costumer_state_PI  \\\n",
       "customer_id                                                              \n",
       "7dddd924d92a307ffa2261b855b4ac27                  0                  0   \n",
       "40d1b774d9f5917163eb39116957442d                  0                  0   \n",
       "785829119d434b68719c0a1edfeecf89                  0                  0   \n",
       "54f3534b06647f1edaf5eea3d12c698f                  0                  0   \n",
       "44b499b7dffa8c208c44f6094e84da72                  0                  0   \n",
       "\n",
       "                                  costumer_state_PR  costumer_state_RJ  \\\n",
       "customer_id                                                              \n",
       "7dddd924d92a307ffa2261b855b4ac27                  1                  0   \n",
       "40d1b774d9f5917163eb39116957442d                  0                  0   \n",
       "785829119d434b68719c0a1edfeecf89                  0                  0   \n",
       "54f3534b06647f1edaf5eea3d12c698f                  0                  0   \n",
       "44b499b7dffa8c208c44f6094e84da72                  0                  0   \n",
       "\n",
       "                                  costumer_state_RN  costumer_state_RO  \\\n",
       "customer_id                                                              \n",
       "7dddd924d92a307ffa2261b855b4ac27                  0                  0   \n",
       "40d1b774d9f5917163eb39116957442d                  0                  0   \n",
       "785829119d434b68719c0a1edfeecf89                  0                  0   \n",
       "54f3534b06647f1edaf5eea3d12c698f                  0                  0   \n",
       "44b499b7dffa8c208c44f6094e84da72                  0                  0   \n",
       "\n",
       "                                  costumer_state_RR  costumer_state_RS  \\\n",
       "customer_id                                                              \n",
       "7dddd924d92a307ffa2261b855b4ac27                  0                  0   \n",
       "40d1b774d9f5917163eb39116957442d                  0                  0   \n",
       "785829119d434b68719c0a1edfeecf89                  0                  0   \n",
       "54f3534b06647f1edaf5eea3d12c698f                  0                  0   \n",
       "44b499b7dffa8c208c44f6094e84da72                  0                  0   \n",
       "\n",
       "                                  costumer_state_SC  costumer_state_SE  \\\n",
       "customer_id                                                              \n",
       "7dddd924d92a307ffa2261b855b4ac27                  0                  0   \n",
       "40d1b774d9f5917163eb39116957442d                  0                  0   \n",
       "785829119d434b68719c0a1edfeecf89                  0                  0   \n",
       "54f3534b06647f1edaf5eea3d12c698f                  0                  0   \n",
       "44b499b7dffa8c208c44f6094e84da72                  0                  0   \n",
       "\n",
       "                                  costumer_state_SP  costumer_state_TO  \\\n",
       "customer_id                                                              \n",
       "7dddd924d92a307ffa2261b855b4ac27                  0                  0   \n",
       "40d1b774d9f5917163eb39116957442d                  0                  0   \n",
       "785829119d434b68719c0a1edfeecf89                  0                  0   \n",
       "54f3534b06647f1edaf5eea3d12c698f                  0                  0   \n",
       "44b499b7dffa8c208c44f6094e84da72                  0                  0   \n",
       "\n",
       "                                  catgarden_tools  cattoys  cattelephony  \\\n",
       "customer_id                                                                \n",
       "7dddd924d92a307ffa2261b855b4ac27                1        0             0   \n",
       "40d1b774d9f5917163eb39116957442d                0        1             0   \n",
       "785829119d434b68719c0a1edfeecf89                0        0             1   \n",
       "54f3534b06647f1edaf5eea3d12c698f                0        0             0   \n",
       "44b499b7dffa8c208c44f6094e84da72                0        0             0   \n",
       "\n",
       "                                  catauto  cathealth_beauty  catwatches_gifts  \\\n",
       "customer_id                                                                     \n",
       "7dddd924d92a307ffa2261b855b4ac27        0                 0                 0   \n",
       "40d1b774d9f5917163eb39116957442d        0                 0                 0   \n",
       "785829119d434b68719c0a1edfeecf89        0                 0                 0   \n",
       "54f3534b06647f1edaf5eea3d12c698f        1                 0                 0   \n",
       "44b499b7dffa8c208c44f6094e84da72        0                 1                 0   \n",
       "\n",
       "                                  catsports_leisure  catelectronics  catfood  \\\n",
       "customer_id                                                                    \n",
       "7dddd924d92a307ffa2261b855b4ac27                  0               0        0   \n",
       "40d1b774d9f5917163eb39116957442d                  0               0        0   \n",
       "785829119d434b68719c0a1edfeecf89                  0               0        0   \n",
       "54f3534b06647f1edaf5eea3d12c698f                  0               0        0   \n",
       "44b499b7dffa8c208c44f6094e84da72                  0               0        0   \n",
       "\n",
       "                                  catbed_bath_table  catbaby  \\\n",
       "customer_id                                                    \n",
       "7dddd924d92a307ffa2261b855b4ac27                  0        0   \n",
       "40d1b774d9f5917163eb39116957442d                  0        0   \n",
       "785829119d434b68719c0a1edfeecf89                  0        0   \n",
       "54f3534b06647f1edaf5eea3d12c698f                  0        0   \n",
       "44b499b7dffa8c208c44f6094e84da72                  0        0   \n",
       "\n",
       "                                  catoffice_furniture  \\\n",
       "customer_id                                             \n",
       "7dddd924d92a307ffa2261b855b4ac27                    0   \n",
       "40d1b774d9f5917163eb39116957442d                    0   \n",
       "785829119d434b68719c0a1edfeecf89                    0   \n",
       "54f3534b06647f1edaf5eea3d12c698f                    0   \n",
       "44b499b7dffa8c208c44f6094e84da72                    0   \n",
       "\n",
       "                                  catconstruction_tools_construction  \\\n",
       "customer_id                                                            \n",
       "7dddd924d92a307ffa2261b855b4ac27                                   0   \n",
       "40d1b774d9f5917163eb39116957442d                                   0   \n",
       "785829119d434b68719c0a1edfeecf89                                   0   \n",
       "54f3534b06647f1edaf5eea3d12c698f                                   0   \n",
       "44b499b7dffa8c208c44f6094e84da72                                   0   \n",
       "\n",
       "                                  cathousewares  cathome_appliances  \\\n",
       "customer_id                                                           \n",
       "7dddd924d92a307ffa2261b855b4ac27              0                   0   \n",
       "40d1b774d9f5917163eb39116957442d              0                   0   \n",
       "785829119d434b68719c0a1edfeecf89              0                   0   \n",
       "54f3534b06647f1edaf5eea3d12c698f              0                   0   \n",
       "44b499b7dffa8c208c44f6094e84da72              0                   0   \n",
       "\n",
       "                                  catperfumery  catcool_stuff  \\\n",
       "customer_id                                                     \n",
       "7dddd924d92a307ffa2261b855b4ac27             0              0   \n",
       "40d1b774d9f5917163eb39116957442d             0              0   \n",
       "785829119d434b68719c0a1edfeecf89             0              0   \n",
       "54f3534b06647f1edaf5eea3d12c698f             0              0   \n",
       "44b499b7dffa8c208c44f6094e84da72             0              0   \n",
       "\n",
       "                                  catmusical_instruments  \\\n",
       "customer_id                                                \n",
       "7dddd924d92a307ffa2261b855b4ac27                       0   \n",
       "40d1b774d9f5917163eb39116957442d                       0   \n",
       "785829119d434b68719c0a1edfeecf89                       0   \n",
       "54f3534b06647f1edaf5eea3d12c698f                       0   \n",
       "44b499b7dffa8c208c44f6094e84da72                       0   \n",
       "\n",
       "                                  catfashion_bags_accessories  \\\n",
       "customer_id                                                     \n",
       "7dddd924d92a307ffa2261b855b4ac27                            0   \n",
       "40d1b774d9f5917163eb39116957442d                            0   \n",
       "785829119d434b68719c0a1edfeecf89                            0   \n",
       "54f3534b06647f1edaf5eea3d12c698f                            0   \n",
       "44b499b7dffa8c208c44f6094e84da72                            0   \n",
       "\n",
       "                                  catfurniture_decor  catnan  \\\n",
       "customer_id                                                    \n",
       "7dddd924d92a307ffa2261b855b4ac27                   0       0   \n",
       "40d1b774d9f5917163eb39116957442d                   0       0   \n",
       "785829119d434b68719c0a1edfeecf89                   0       0   \n",
       "54f3534b06647f1edaf5eea3d12c698f                   0       0   \n",
       "44b499b7dffa8c208c44f6094e84da72                   0       0   \n",
       "\n",
       "                                  catcomputers_accessories  catstationery  \\\n",
       "customer_id                                                                 \n",
       "7dddd924d92a307ffa2261b855b4ac27                         0              0   \n",
       "40d1b774d9f5917163eb39116957442d                         0              0   \n",
       "785829119d434b68719c0a1edfeecf89                         0              0   \n",
       "54f3534b06647f1edaf5eea3d12c698f                         0              0   \n",
       "44b499b7dffa8c208c44f6094e84da72                         0              0   \n",
       "\n",
       "                                  cathome_construction  catdrinks  \\\n",
       "customer_id                                                         \n",
       "7dddd924d92a307ffa2261b855b4ac27                     0          0   \n",
       "40d1b774d9f5917163eb39116957442d                     0          0   \n",
       "785829119d434b68719c0a1edfeecf89                     0          0   \n",
       "54f3534b06647f1edaf5eea3d12c698f                     0          0   \n",
       "44b499b7dffa8c208c44f6094e84da72                     0          0   \n",
       "\n",
       "                                  catconstruction_tools_lights  \\\n",
       "customer_id                                                      \n",
       "7dddd924d92a307ffa2261b855b4ac27                             0   \n",
       "40d1b774d9f5917163eb39116957442d                             0   \n",
       "785829119d434b68719c0a1edfeecf89                             0   \n",
       "54f3534b06647f1edaf5eea3d12c698f                             0   \n",
       "44b499b7dffa8c208c44f6094e84da72                             0   \n",
       "\n",
       "                                  catair_conditioning  catsmall_appliances  \\\n",
       "customer_id                                                                  \n",
       "7dddd924d92a307ffa2261b855b4ac27                    0                    0   \n",
       "40d1b774d9f5917163eb39116957442d                    0                    0   \n",
       "785829119d434b68719c0a1edfeecf89                    0                    0   \n",
       "54f3534b06647f1edaf5eea3d12c698f                    0                    0   \n",
       "44b499b7dffa8c208c44f6094e84da72                    0                    0   \n",
       "\n",
       "                                  catpet_shop  catconsoles_games  \\\n",
       "customer_id                                                        \n",
       "7dddd924d92a307ffa2261b855b4ac27            0                  0   \n",
       "40d1b774d9f5917163eb39116957442d            0                  0   \n",
       "785829119d434b68719c0a1edfeecf89            0                  0   \n",
       "54f3534b06647f1edaf5eea3d12c698f            0                  0   \n",
       "44b499b7dffa8c208c44f6094e84da72            0                  0   \n",
       "\n",
       "                                  catfood_drink  cathome_confort  \\\n",
       "customer_id                                                        \n",
       "7dddd924d92a307ffa2261b855b4ac27              0                0   \n",
       "40d1b774d9f5917163eb39116957442d              0                0   \n",
       "785829119d434b68719c0a1edfeecf89              0                0   \n",
       "54f3534b06647f1edaf5eea3d12c698f              0                0   \n",
       "44b499b7dffa8c208c44f6094e84da72              0                0   \n",
       "\n",
       "                                  catfashion_shoes  cataudio  \\\n",
       "customer_id                                                    \n",
       "7dddd924d92a307ffa2261b855b4ac27                 0         0   \n",
       "40d1b774d9f5917163eb39116957442d                 0         0   \n",
       "785829119d434b68719c0a1edfeecf89                 0         0   \n",
       "54f3534b06647f1edaf5eea3d12c698f                 0         0   \n",
       "44b499b7dffa8c208c44f6094e84da72                 0         0   \n",
       "\n",
       "                                  catbooks_general_interest  \\\n",
       "customer_id                                                   \n",
       "7dddd924d92a307ffa2261b855b4ac27                          0   \n",
       "40d1b774d9f5917163eb39116957442d                          0   \n",
       "785829119d434b68719c0a1edfeecf89                          0   \n",
       "54f3534b06647f1edaf5eea3d12c698f                          0   \n",
       "44b499b7dffa8c208c44f6094e84da72                          0   \n",
       "\n",
       "                                  catluggage_accessories  \\\n",
       "customer_id                                                \n",
       "7dddd924d92a307ffa2261b855b4ac27                       0   \n",
       "40d1b774d9f5917163eb39116957442d                       0   \n",
       "785829119d434b68719c0a1edfeecf89                       0   \n",
       "54f3534b06647f1edaf5eea3d12c698f                       0   \n",
       "44b499b7dffa8c208c44f6094e84da72                       0   \n",
       "\n",
       "                                  catsignaling_and_security  \\\n",
       "customer_id                                                   \n",
       "7dddd924d92a307ffa2261b855b4ac27                          0   \n",
       "40d1b774d9f5917163eb39116957442d                          0   \n",
       "785829119d434b68719c0a1edfeecf89                          0   \n",
       "54f3534b06647f1edaf5eea3d12c698f                          0   \n",
       "44b499b7dffa8c208c44f6094e84da72                          0   \n",
       "\n",
       "                                  catkitchen_dining_laundry_garden_furniture  \\\n",
       "customer_id                                                                    \n",
       "7dddd924d92a307ffa2261b855b4ac27                                           0   \n",
       "40d1b774d9f5917163eb39116957442d                                           0   \n",
       "785829119d434b68719c0a1edfeecf89                                           0   \n",
       "54f3534b06647f1edaf5eea3d12c698f                                           0   \n",
       "44b499b7dffa8c208c44f6094e84da72                                           0   \n",
       "\n",
       "                                  catfurniture_bedroom  catart  \\\n",
       "customer_id                                                      \n",
       "7dddd924d92a307ffa2261b855b4ac27                     0       0   \n",
       "40d1b774d9f5917163eb39116957442d                     0       0   \n",
       "785829119d434b68719c0a1edfeecf89                     0       0   \n",
       "54f3534b06647f1edaf5eea3d12c698f                     0       0   \n",
       "44b499b7dffa8c208c44f6094e84da72                     0       0   \n",
       "\n",
       "                                  cathome_appliances_2  catbooks_technical  \\\n",
       "customer_id                                                                  \n",
       "7dddd924d92a307ffa2261b855b4ac27                     0                   0   \n",
       "40d1b774d9f5917163eb39116957442d                     0                   0   \n",
       "785829119d434b68719c0a1edfeecf89                     0                   0   \n",
       "54f3534b06647f1edaf5eea3d12c698f                     0                   0   \n",
       "44b499b7dffa8c208c44f6094e84da72                     0                   0   \n",
       "\n",
       "                                  catfurniture_living_room  \\\n",
       "customer_id                                                  \n",
       "7dddd924d92a307ffa2261b855b4ac27                         0   \n",
       "40d1b774d9f5917163eb39116957442d                         0   \n",
       "785829119d434b68719c0a1edfeecf89                         0   \n",
       "54f3534b06647f1edaf5eea3d12c698f                         0   \n",
       "44b499b7dffa8c208c44f6094e84da72                         0   \n",
       "\n",
       "                                  catindustry_commerce_and_business  \\\n",
       "customer_id                                                           \n",
       "7dddd924d92a307ffa2261b855b4ac27                                  0   \n",
       "40d1b774d9f5917163eb39116957442d                                  0   \n",
       "785829119d434b68719c0a1edfeecf89                                  0   \n",
       "54f3534b06647f1edaf5eea3d12c698f                                  0   \n",
       "44b499b7dffa8c208c44f6094e84da72                                  0   \n",
       "\n",
       "                                  catcostruction_tools_garden  catcine_photo  \\\n",
       "customer_id                                                                    \n",
       "7dddd924d92a307ffa2261b855b4ac27                            0              0   \n",
       "40d1b774d9f5917163eb39116957442d                            0              0   \n",
       "785829119d434b68719c0a1edfeecf89                            0              0   \n",
       "54f3534b06647f1edaf5eea3d12c698f                            0              0   \n",
       "44b499b7dffa8c208c44f6094e84da72                            0              0   \n",
       "\n",
       "                                  catcostruction_tools_tools  \\\n",
       "customer_id                                                    \n",
       "7dddd924d92a307ffa2261b855b4ac27                           0   \n",
       "40d1b774d9f5917163eb39116957442d                           0   \n",
       "785829119d434b68719c0a1edfeecf89                           0   \n",
       "54f3534b06647f1edaf5eea3d12c698f                           0   \n",
       "44b499b7dffa8c208c44f6094e84da72                           0   \n",
       "\n",
       "                                  catconstruction_tools_safety  \\\n",
       "customer_id                                                      \n",
       "7dddd924d92a307ffa2261b855b4ac27                             0   \n",
       "40d1b774d9f5917163eb39116957442d                             0   \n",
       "785829119d434b68719c0a1edfeecf89                             0   \n",
       "54f3534b06647f1edaf5eea3d12c698f                             0   \n",
       "44b499b7dffa8c208c44f6094e84da72                             0   \n",
       "\n",
       "                                  cathome_comfort_2  catchristmas_supplies  \\\n",
       "customer_id                                                                  \n",
       "7dddd924d92a307ffa2261b855b4ac27                  0                      0   \n",
       "40d1b774d9f5917163eb39116957442d                  0                      0   \n",
       "785829119d434b68719c0a1edfeecf89                  0                      0   \n",
       "54f3534b06647f1edaf5eea3d12c698f                  0                      0   \n",
       "44b499b7dffa8c208c44f6094e84da72                  0                      0   \n",
       "\n",
       "                                  catagro_industry_and_commerce  \\\n",
       "customer_id                                                       \n",
       "7dddd924d92a307ffa2261b855b4ac27                              0   \n",
       "40d1b774d9f5917163eb39116957442d                              0   \n",
       "785829119d434b68719c0a1edfeecf89                              0   \n",
       "54f3534b06647f1edaf5eea3d12c698f                              0   \n",
       "44b499b7dffa8c208c44f6094e84da72                              0   \n",
       "\n",
       "                                  catmarket_place  catfixed_telephony  \\\n",
       "customer_id                                                             \n",
       "7dddd924d92a307ffa2261b855b4ac27                0                   0   \n",
       "40d1b774d9f5917163eb39116957442d                0                   0   \n",
       "785829119d434b68719c0a1edfeecf89                0                   0   \n",
       "54f3534b06647f1edaf5eea3d12c698f                0                   0   \n",
       "44b499b7dffa8c208c44f6094e84da72                0                   0   \n",
       "\n",
       "                                  catcomputers  cattablets_printing_image  \\\n",
       "customer_id                                                                 \n",
       "7dddd924d92a307ffa2261b855b4ac27             0                          0   \n",
       "40d1b774d9f5917163eb39116957442d             0                          0   \n",
       "785829119d434b68719c0a1edfeecf89             0                          0   \n",
       "54f3534b06647f1edaf5eea3d12c698f             0                          0   \n",
       "44b499b7dffa8c208c44f6094e84da72             0                          0   \n",
       "\n",
       "                                  catdiapers_and_hygiene  catflowers  \\\n",
       "customer_id                                                            \n",
       "7dddd924d92a307ffa2261b855b4ac27                       0           0   \n",
       "40d1b774d9f5917163eb39116957442d                       0           0   \n",
       "785829119d434b68719c0a1edfeecf89                       0           0   \n",
       "54f3534b06647f1edaf5eea3d12c698f                       0           0   \n",
       "44b499b7dffa8c208c44f6094e84da72                       0           0   \n",
       "\n",
       "                                  catfashion_male_clothing  \\\n",
       "customer_id                                                  \n",
       "7dddd924d92a307ffa2261b855b4ac27                         0   \n",
       "40d1b774d9f5917163eb39116957442d                         0   \n",
       "785829119d434b68719c0a1edfeecf89                         0   \n",
       "54f3534b06647f1edaf5eea3d12c698f                         0   \n",
       "44b499b7dffa8c208c44f6094e84da72                         0   \n",
       "\n",
       "                                  catarts_and_craftmanship  catbooks_imported  \\\n",
       "customer_id                                                                     \n",
       "7dddd924d92a307ffa2261b855b4ac27                         0                  0   \n",
       "40d1b774d9f5917163eb39116957442d                         0                  0   \n",
       "785829119d434b68719c0a1edfeecf89                         0                  0   \n",
       "54f3534b06647f1edaf5eea3d12c698f                         0                  0   \n",
       "44b499b7dffa8c208c44f6094e84da72                         0                  0   \n",
       "\n",
       "                                  catdvds_blu_ray  catmusic  \\\n",
       "customer_id                                                   \n",
       "7dddd924d92a307ffa2261b855b4ac27                0         0   \n",
       "40d1b774d9f5917163eb39116957442d                0         0   \n",
       "785829119d434b68719c0a1edfeecf89                0         0   \n",
       "54f3534b06647f1edaf5eea3d12c698f                0         0   \n",
       "44b499b7dffa8c208c44f6094e84da72                0         0   \n",
       "\n",
       "                                  catsmall_appliances_home_oven_and_coffee  \\\n",
       "customer_id                                                                  \n",
       "7dddd924d92a307ffa2261b855b4ac27                                         0   \n",
       "40d1b774d9f5917163eb39116957442d                                         0   \n",
       "785829119d434b68719c0a1edfeecf89                                         0   \n",
       "54f3534b06647f1edaf5eea3d12c698f                                         0   \n",
       "44b499b7dffa8c208c44f6094e84da72                                         0   \n",
       "\n",
       "                                  catparty_supplies  \\\n",
       "customer_id                                           \n",
       "7dddd924d92a307ffa2261b855b4ac27                  0   \n",
       "40d1b774d9f5917163eb39116957442d                  0   \n",
       "785829119d434b68719c0a1edfeecf89                  0   \n",
       "54f3534b06647f1edaf5eea3d12c698f                  0   \n",
       "44b499b7dffa8c208c44f6094e84da72                  0   \n",
       "\n",
       "                                  catfashion_underwear_beach  \n",
       "customer_id                                                   \n",
       "7dddd924d92a307ffa2261b855b4ac27                           0  \n",
       "40d1b774d9f5917163eb39116957442d                           0  \n",
       "785829119d434b68719c0a1edfeecf89                           0  \n",
       "54f3534b06647f1edaf5eea3d12c698f                           0  \n",
       "44b499b7dffa8c208c44f6094e84da72                           0  "
      ]
     },
     "execution_count": 8,
     "metadata": {},
     "output_type": "execute_result"
    }
   ],
   "source": [
    "data.head()"
   ]
  },
  {
   "cell_type": "code",
   "execution_count": null,
   "metadata": {
    "ExecuteTime": {
     "end_time": "2020-01-16T07:25:17.745407Z",
     "start_time": "2020-01-16T07:25:17.629085Z"
    }
   },
   "outputs": [],
   "source": []
  },
  {
   "cell_type": "code",
   "execution_count": 9,
   "metadata": {
    "ExecuteTime": {
     "end_time": "2020-01-16T07:25:17.813751Z",
     "start_time": "2020-01-16T07:25:17.748891Z"
    }
   },
   "outputs": [
    {
     "data": {
      "text/plain": [
       "Series([], dtype: float64)"
      ]
     },
     "execution_count": 9,
     "metadata": {},
     "output_type": "execute_result"
    }
   ],
   "source": [
    "data.select_dtypes(['object']).nunique()"
   ]
  },
  {
   "cell_type": "code",
   "execution_count": 10,
   "metadata": {
    "ExecuteTime": {
     "end_time": "2020-01-16T07:25:17.851783Z",
     "start_time": "2020-01-16T07:25:17.823357Z"
    }
   },
   "outputs": [
    {
     "data": {
      "text/plain": [
       "Unnamed: 0                                      int64\n",
       "n_order                                         int64\n",
       "total_price                                   float64\n",
       "total_freight_value                           float64\n",
       "payement_type_boleto                            int64\n",
       "payement_type_credit_card                       int64\n",
       "payement_type_debit_card                        int64\n",
       "payement_type_voucher                           int64\n",
       "costumer_state_AC                               int64\n",
       "costumer_state_AL                               int64\n",
       "costumer_state_AM                               int64\n",
       "costumer_state_AP                               int64\n",
       "costumer_state_BA                               int64\n",
       "costumer_state_CE                               int64\n",
       "costumer_state_DF                               int64\n",
       "costumer_state_ES                               int64\n",
       "costumer_state_GO                               int64\n",
       "costumer_state_MA                               int64\n",
       "costumer_state_MG                               int64\n",
       "costumer_state_MS                               int64\n",
       "costumer_state_MT                               int64\n",
       "costumer_state_PA                               int64\n",
       "costumer_state_PB                               int64\n",
       "costumer_state_PE                               int64\n",
       "costumer_state_PI                               int64\n",
       "costumer_state_PR                               int64\n",
       "costumer_state_RJ                               int64\n",
       "costumer_state_RN                               int64\n",
       "costumer_state_RO                               int64\n",
       "costumer_state_RR                               int64\n",
       "costumer_state_RS                               int64\n",
       "costumer_state_SC                               int64\n",
       "costumer_state_SE                               int64\n",
       "costumer_state_SP                               int64\n",
       "costumer_state_TO                               int64\n",
       "catgarden_tools                                 int64\n",
       "cattoys                                         int64\n",
       "cattelephony                                    int64\n",
       "catauto                                         int64\n",
       "cathealth_beauty                                int64\n",
       "catwatches_gifts                                int64\n",
       "catsports_leisure                               int64\n",
       "catelectronics                                  int64\n",
       "catfood                                         int64\n",
       "catbed_bath_table                               int64\n",
       "catbaby                                         int64\n",
       "catoffice_furniture                             int64\n",
       "catconstruction_tools_construction              int64\n",
       "cathousewares                                   int64\n",
       "cathome_appliances                              int64\n",
       "catperfumery                                    int64\n",
       "catcool_stuff                                   int64\n",
       "catmusical_instruments                          int64\n",
       "catfashion_bags_accessories                     int64\n",
       "catfurniture_decor                              int64\n",
       "catnan                                          int64\n",
       "catcomputers_accessories                        int64\n",
       "catstationery                                   int64\n",
       "cathome_construction                            int64\n",
       "catdrinks                                       int64\n",
       "catconstruction_tools_lights                    int64\n",
       "catair_conditioning                             int64\n",
       "catsmall_appliances                             int64\n",
       "catpet_shop                                     int64\n",
       "catconsoles_games                               int64\n",
       "catfood_drink                                   int64\n",
       "cathome_confort                                 int64\n",
       "catfashion_shoes                                int64\n",
       "cataudio                                        int64\n",
       "catbooks_general_interest                       int64\n",
       "catluggage_accessories                          int64\n",
       "catsignaling_and_security                       int64\n",
       "catkitchen_dining_laundry_garden_furniture      int64\n",
       "catfurniture_bedroom                            int64\n",
       "catart                                          int64\n",
       "cathome_appliances_2                            int64\n",
       "catbooks_technical                              int64\n",
       "catfurniture_living_room                        int64\n",
       "catindustry_commerce_and_business               int64\n",
       "catcostruction_tools_garden                     int64\n",
       "catcine_photo                                   int64\n",
       "catcostruction_tools_tools                      int64\n",
       "catconstruction_tools_safety                    int64\n",
       "cathome_comfort_2                               int64\n",
       "catchristmas_supplies                           int64\n",
       "catagro_industry_and_commerce                   int64\n",
       "catmarket_place                                 int64\n",
       "catfixed_telephony                              int64\n",
       "catcomputers                                    int64\n",
       "cattablets_printing_image                       int64\n",
       "catdiapers_and_hygiene                          int64\n",
       "catflowers                                      int64\n",
       "catfashion_male_clothing                        int64\n",
       "catarts_and_craftmanship                        int64\n",
       "catbooks_imported                               int64\n",
       "catdvds_blu_ray                                 int64\n",
       "catmusic                                        int64\n",
       "catsmall_appliances_home_oven_and_coffee        int64\n",
       "catparty_supplies                               int64\n",
       "catfashion_underwear_beach                      int64\n",
       "dtype: object"
      ]
     },
     "execution_count": 10,
     "metadata": {},
     "output_type": "execute_result"
    }
   ],
   "source": [
    "data.dtypes"
   ]
  },
  {
   "cell_type": "code",
   "execution_count": null,
   "metadata": {
    "ExecuteTime": {
     "end_time": "2020-01-16T07:25:17.878649Z",
     "start_time": "2020-01-16T07:25:17.855624Z"
    }
   },
   "outputs": [],
   "source": []
  },
  {
   "cell_type": "code",
   "execution_count": null,
   "metadata": {
    "ExecuteTime": {
     "end_time": "2020-01-16T07:25:17.939313Z",
     "start_time": "2020-01-16T07:25:17.883674Z"
    }
   },
   "outputs": [],
   "source": []
  },
  {
   "cell_type": "code",
   "execution_count": null,
   "metadata": {
    "ExecuteTime": {
     "end_time": "2020-01-16T07:25:17.977797Z",
     "start_time": "2020-01-16T07:25:17.943316Z"
    }
   },
   "outputs": [],
   "source": []
  },
  {
   "cell_type": "code",
   "execution_count": 23,
   "metadata": {
    "ExecuteTime": {
     "end_time": "2020-01-16T07:25:18.013343Z",
     "start_time": "2020-01-16T07:25:17.981050Z"
    }
   },
   "outputs": [
    {
     "data": {
      "text/plain": [
       "Index(['total_price', 'total_freight_value'], dtype='object')"
      ]
     },
     "execution_count": 23,
     "metadata": {},
     "output_type": "execute_result"
    }
   ],
   "source": [
    "numerical_columns"
   ]
  },
  {
   "cell_type": "markdown",
   "metadata": {},
   "source": [
    "# Echantillon réduit"
   ]
  },
  {
   "cell_type": "markdown",
   "metadata": {},
   "source": [
    "## Préparation"
   ]
  },
  {
   "cell_type": "code",
   "execution_count": 11,
   "metadata": {
    "ExecuteTime": {
     "end_time": "2020-01-16T07:25:18.138712Z",
     "start_time": "2020-01-16T07:25:18.016863Z"
    }
   },
   "outputs": [
    {
     "data": {
      "text/plain": [
       "OneHotEncoder(sparse=False)"
      ]
     },
     "execution_count": 11,
     "metadata": {},
     "output_type": "execute_result"
    }
   ],
   "source": [
    "X=data\n",
    "categorical_columns = X.select_dtypes(['category','object']).columns\n",
    "numerical_columns = X.select_dtypes(['int32','float64']).columns\n",
    "\n",
    "ohe = OneHotEncoder(sparse=False)\n",
    "ss = StandardScaler()\n",
    "X[numerical_columns] = ss.fit_transform(X[numerical_columns])\n",
    "ohe.fit(X[categorical_columns])"
   ]
  },
  {
   "cell_type": "code",
   "execution_count": 12,
   "metadata": {
    "ExecuteTime": {
     "end_time": "2020-01-16T07:25:18.189068Z",
     "start_time": "2020-01-16T07:25:18.142076Z"
    }
   },
   "outputs": [],
   "source": [
    "X = pd.merge(X[numerical_columns], \n",
    "          pd.DataFrame(columns = ohe.get_feature_names().tolist(),\n",
    "              data = ohe.fit_transform(X[categorical_columns])).set_index(X.index),\n",
    "        left_index = True, right_index = True)"
   ]
  },
  {
   "cell_type": "code",
   "execution_count": 13,
   "metadata": {
    "ExecuteTime": {
     "end_time": "2020-01-16T07:25:18.255953Z",
     "start_time": "2020-01-16T07:25:18.192662Z"
    }
   },
   "outputs": [
    {
     "data": {
      "text/html": [
       "<div>\n",
       "<style scoped>\n",
       "    .dataframe tbody tr th:only-of-type {\n",
       "        vertical-align: middle;\n",
       "    }\n",
       "\n",
       "    .dataframe tbody tr th {\n",
       "        vertical-align: top;\n",
       "    }\n",
       "\n",
       "    .dataframe thead th {\n",
       "        text-align: right;\n",
       "    }\n",
       "</style>\n",
       "<table border=\"1\" class=\"dataframe\">\n",
       "  <thead>\n",
       "    <tr style=\"text-align: right;\">\n",
       "      <th></th>\n",
       "      <th>total_price</th>\n",
       "      <th>total_freight_value</th>\n",
       "    </tr>\n",
       "    <tr>\n",
       "      <th>customer_id</th>\n",
       "      <th></th>\n",
       "      <th></th>\n",
       "    </tr>\n",
       "  </thead>\n",
       "  <tbody>\n",
       "    <tr>\n",
       "      <th>000ed48ceeb6f4bf8ad021a10a3c7b43</th>\n",
       "      <td>-0.517816</td>\n",
       "      <td>-0.539119</td>\n",
       "    </tr>\n",
       "    <tr>\n",
       "      <th>0027324a96d26a2bc7d69262f83c8403</th>\n",
       "      <td>-0.422335</td>\n",
       "      <td>-0.508235</td>\n",
       "    </tr>\n",
       "    <tr>\n",
       "      <th>002aba8c1af80acacef6e011f9f23262</th>\n",
       "      <td>0.195889</td>\n",
       "      <td>-0.234254</td>\n",
       "    </tr>\n",
       "    <tr>\n",
       "      <th>0034c76b7e6a17d738375b99afc2f01e</th>\n",
       "      <td>-0.467748</td>\n",
       "      <td>-0.222328</td>\n",
       "    </tr>\n",
       "    <tr>\n",
       "      <th>003fb95e849e71e732629d94bb92762f</th>\n",
       "      <td>-0.345667</td>\n",
       "      <td>-0.180436</td>\n",
       "    </tr>\n",
       "  </tbody>\n",
       "</table>\n",
       "</div>"
      ],
      "text/plain": [
       "                                  total_price  total_freight_value\n",
       "customer_id                                                       \n",
       "000ed48ceeb6f4bf8ad021a10a3c7b43    -0.517816            -0.539119\n",
       "0027324a96d26a2bc7d69262f83c8403    -0.422335            -0.508235\n",
       "002aba8c1af80acacef6e011f9f23262     0.195889            -0.234254\n",
       "0034c76b7e6a17d738375b99afc2f01e    -0.467748            -0.222328\n",
       "003fb95e849e71e732629d94bb92762f    -0.345667            -0.180436"
      ]
     },
     "execution_count": 13,
     "metadata": {},
     "output_type": "execute_result"
    }
   ],
   "source": [
    "X.head()"
   ]
  },
  {
   "cell_type": "markdown",
   "metadata": {},
   "source": [
    "## PCA Transformation "
   ]
  },
  {
   "cell_type": "code",
   "execution_count": 21,
   "metadata": {
    "ExecuteTime": {
     "end_time": "2020-01-15T14:32:19.890296Z",
     "start_time": "2020-01-15T14:32:19.457402Z"
    }
   },
   "outputs": [
    {
     "data": {
      "text/html": [
       "<div>\n",
       "<style scoped>\n",
       "    .dataframe tbody tr th:only-of-type {\n",
       "        vertical-align: middle;\n",
       "    }\n",
       "\n",
       "    .dataframe tbody tr th {\n",
       "        vertical-align: top;\n",
       "    }\n",
       "\n",
       "    .dataframe thead th {\n",
       "        text-align: right;\n",
       "    }\n",
       "</style>\n",
       "<table border=\"1\" class=\"dataframe\">\n",
       "  <thead>\n",
       "    <tr style=\"text-align: right;\">\n",
       "      <th></th>\n",
       "      <th>total_price</th>\n",
       "      <th>total_freight_value</th>\n",
       "    </tr>\n",
       "    <tr>\n",
       "      <th>customer_id</th>\n",
       "      <th></th>\n",
       "      <th></th>\n",
       "    </tr>\n",
       "  </thead>\n",
       "  <tbody>\n",
       "    <tr>\n",
       "      <th>000ed48ceeb6f4bf8ad021a10a3c7b43</th>\n",
       "      <td>-0.517816</td>\n",
       "      <td>-0.539119</td>\n",
       "    </tr>\n",
       "    <tr>\n",
       "      <th>0027324a96d26a2bc7d69262f83c8403</th>\n",
       "      <td>-0.422335</td>\n",
       "      <td>-0.508235</td>\n",
       "    </tr>\n",
       "    <tr>\n",
       "      <th>002aba8c1af80acacef6e011f9f23262</th>\n",
       "      <td>0.195889</td>\n",
       "      <td>-0.234254</td>\n",
       "    </tr>\n",
       "    <tr>\n",
       "      <th>0034c76b7e6a17d738375b99afc2f01e</th>\n",
       "      <td>-0.467748</td>\n",
       "      <td>-0.222328</td>\n",
       "    </tr>\n",
       "    <tr>\n",
       "      <th>003fb95e849e71e732629d94bb92762f</th>\n",
       "      <td>-0.345667</td>\n",
       "      <td>-0.180436</td>\n",
       "    </tr>\n",
       "    <tr>\n",
       "      <th>...</th>\n",
       "      <td>...</td>\n",
       "      <td>...</td>\n",
       "    </tr>\n",
       "    <tr>\n",
       "      <th>ffa323b33234124b58b25511035c2855</th>\n",
       "      <td>0.421426</td>\n",
       "      <td>0.514913</td>\n",
       "    </tr>\n",
       "    <tr>\n",
       "      <th>ffa323b33234124b58b25511035c2855</th>\n",
       "      <td>0.421426</td>\n",
       "      <td>0.514913</td>\n",
       "    </tr>\n",
       "    <tr>\n",
       "      <th>ffcb3eb07f2a033d45949fcecd160d98</th>\n",
       "      <td>0.142119</td>\n",
       "      <td>-0.159948</td>\n",
       "    </tr>\n",
       "    <tr>\n",
       "      <th>ffd2e2ad95719ab7fedc9e02c5e26a62</th>\n",
       "      <td>-0.456299</td>\n",
       "      <td>-0.314063</td>\n",
       "    </tr>\n",
       "    <tr>\n",
       "      <th>ffd402998b20b0b8325f54e770264733</th>\n",
       "      <td>-0.513923</td>\n",
       "      <td>-0.508235</td>\n",
       "    </tr>\n",
       "  </tbody>\n",
       "</table>\n",
       "<p>6872 rows × 2 columns</p>\n",
       "</div>"
      ],
      "text/plain": [
       "                                  total_price  total_freight_value\n",
       "customer_id                                                       \n",
       "000ed48ceeb6f4bf8ad021a10a3c7b43    -0.517816            -0.539119\n",
       "0027324a96d26a2bc7d69262f83c8403    -0.422335            -0.508235\n",
       "002aba8c1af80acacef6e011f9f23262     0.195889            -0.234254\n",
       "0034c76b7e6a17d738375b99afc2f01e    -0.467748            -0.222328\n",
       "003fb95e849e71e732629d94bb92762f    -0.345667            -0.180436\n",
       "...                                       ...                  ...\n",
       "ffa323b33234124b58b25511035c2855     0.421426             0.514913\n",
       "ffa323b33234124b58b25511035c2855     0.421426             0.514913\n",
       "ffcb3eb07f2a033d45949fcecd160d98     0.142119            -0.159948\n",
       "ffd2e2ad95719ab7fedc9e02c5e26a62    -0.456299            -0.314063\n",
       "ffd402998b20b0b8325f54e770264733    -0.513923            -0.508235\n",
       "\n",
       "[6872 rows x 2 columns]"
      ]
     },
     "execution_count": 21,
     "metadata": {},
     "output_type": "execute_result"
    }
   ],
   "source": [
    "X"
   ]
  },
  {
   "cell_type": "code",
   "execution_count": 14,
   "metadata": {
    "ExecuteTime": {
     "end_time": "2020-01-16T07:25:18.272296Z",
     "start_time": "2020-01-16T07:25:18.258927Z"
    }
   },
   "outputs": [],
   "source": [
    "pca = PCA(random_state=1)"
   ]
  },
  {
   "cell_type": "code",
   "execution_count": 15,
   "metadata": {
    "ExecuteTime": {
     "end_time": "2020-01-16T07:25:18.322539Z",
     "start_time": "2020-01-16T07:25:18.275329Z"
    }
   },
   "outputs": [
    {
     "data": {
      "text/plain": [
       "PCA(random_state=1)"
      ]
     },
     "execution_count": 15,
     "metadata": {},
     "output_type": "execute_result"
    }
   ],
   "source": [
    "pca.fit(X)"
   ]
  },
  {
   "cell_type": "code",
   "execution_count": 16,
   "metadata": {
    "ExecuteTime": {
     "end_time": "2020-01-16T07:25:18.339193Z",
     "start_time": "2020-01-16T07:25:18.325547Z"
    }
   },
   "outputs": [
    {
     "data": {
      "text/plain": [
       "(6872, 2)"
      ]
     },
     "execution_count": 16,
     "metadata": {},
     "output_type": "execute_result"
    }
   ],
   "source": [
    "X.shape"
   ]
  },
  {
   "cell_type": "code",
   "execution_count": 17,
   "metadata": {
    "ExecuteTime": {
     "end_time": "2020-01-16T07:25:18.641445Z",
     "start_time": "2020-01-16T07:25:18.342438Z"
    }
   },
   "outputs": [
    {
     "data": {
      "text/plain": [
       "[<matplotlib.lines.Line2D at 0x23c0e1513d0>]"
      ]
     },
     "execution_count": 17,
     "metadata": {},
     "output_type": "execute_result"
    },
    {
     "data": {
      "image/png": "[encoded data removed]",
      "text/plain": [
       "<Figure size 864x360 with 1 Axes>"
      ]
     },
     "metadata": {
      "needs_background": "light"
     },
     "output_type": "display_data"
    }
   ],
   "source": [
    "plt.figure(figsize=(12,5))\n",
    "plt.title('Somme cumulée de variance des composantes de l\\'ACP')\n",
    "plt.xlabel('Nombre de composantes de l\\'ACP')\n",
    "plt.ylabel('Variance cumulée')\n",
    "plt.plot(list(range(X.shape[1])),\n",
    "         np.cumsum(pca.explained_variance_ratio_))\n"
   ]
  },
  {
   "cell_type": "code",
   "execution_count": 20,
   "metadata": {
    "ExecuteTime": {
     "end_time": "2020-01-18T10:49:01.537429Z",
     "start_time": "2020-01-18T10:49:01.521851Z"
    },
    "scrolled": true
   },
   "outputs": [
    {
     "data": {
      "text/plain": [
       "0.9999999999999999"
      ]
     },
     "execution_count": 20,
     "metadata": {},
     "output_type": "execute_result"
    }
   ],
   "source": [
    "np.cumsum(pca.explained_variance_ratio_)[1]"
   ]
  },
  {
   "cell_type": "markdown",
   "metadata": {},
   "source": [
    "avec 19 features on a 93 % de la variance totale"
   ]
  },
  {
   "cell_type": "code",
   "execution_count": null,
   "metadata": {},
   "outputs": [],
   "source": []
  },
  {
   "cell_type": "code",
   "execution_count": null,
   "metadata": {
    "ExecuteTime": {
     "end_time": "2020-01-16T07:25:18.689328Z",
     "start_time": "2020-01-16T07:25:18.672796Z"
    }
   },
   "outputs": [],
   "source": [
    "colonnes_pca = X.columns"
   ]
  },
  {
   "cell_type": "code",
   "execution_count": null,
   "metadata": {
    "ExecuteTime": {
     "end_time": "2020-01-16T07:25:19.378186Z",
     "start_time": "2020-01-16T07:25:18.694463Z"
    }
   },
   "outputs": [],
   "source": [
    "from matplotlib.patches import Circle\n",
    "sns.set_context(\"paper\", font_scale=1.5) \n",
    "plt.figure(figsize=(15,15))\n",
    "chaine = \"Plan factoriel pour les 2 premières composantes de l'ACP\"\n",
    "plt.title(chaine)\n",
    "plt.xlabel('Composante 1')\n",
    "plt.ylabel('Composante 2')\n",
    "ax = plt.gca()\n",
    "ax.add_patch(Circle([0,0], radius=1, color='black', fill=False, linestyle='-', \n",
    "                    clip_on=False))\n",
    "ax.set_xlim(-1,1)\n",
    "ax.set_ylim(-1,1)\n",
    "x_pca = pca.components_[0,:]\n",
    "y_pca = pca.components_[1,:]\n",
    "\n",
    "sns.scatterplot(x = x_pca,\n",
    "                y = y_pca,\n",
    "               alpha = 0.7)\n",
    "plt.plot([-1,1],[0,0], color='grey', alpha=0.8)\n",
    "plt.plot([0,0],[-1,1], color='grey', alpha=0.8)\n",
    "\n",
    "i = 0\n",
    "for x,y,colonne in zip(x_pca,y_pca, colonnes_pca):\n",
    "\n",
    "    plt.annotate(colonne, \n",
    "                 (x,y), \n",
    "                 textcoords=\"offset points\", \n",
    "                 xytext=(0,5+np.random.randint(-10,10)),\n",
    "                 ha='center') \n",
    "    ax.arrow(0, 0, x, y, head_width=0, head_length=0, fc='grey', ec='grey',\n",
    "             alpha=0.2)\n",
    "\n",
    "\n",
    "sns.set_context(\"paper\", font_scale=1) "
   ]
  },
  {
   "cell_type": "code",
   "execution_count": null,
   "metadata": {
    "ExecuteTime": {
     "end_time": "2020-01-16T07:25:19.456843Z",
     "start_time": "2020-01-16T07:25:19.381395Z"
    }
   },
   "outputs": [],
   "source": [
    "x_show = pca.transform(X.select_dtypes(['float64','int32']))[:,0]\n",
    "\n",
    "y_show = pca.transform(X.select_dtypes(['float64','int32']))[:,1]\n",
    "\n",
    "z_show = pca.transform(X.select_dtypes(['float64','int32']))[:,2]"
   ]
  },
  {
   "cell_type": "code",
   "execution_count": null,
   "metadata": {
    "ExecuteTime": {
     "end_time": "2020-01-16T07:25:19.480514Z",
     "start_time": "2020-01-16T07:25:19.457840Z"
    }
   },
   "outputs": [],
   "source": [
    "X_pca = pca.transform(X)[:,:19]"
   ]
  },
  {
   "cell_type": "code",
   "execution_count": null,
   "metadata": {
    "ExecuteTime": {
     "end_time": "2020-01-16T07:25:19.909626Z",
     "start_time": "2020-01-16T07:25:19.483784Z"
    },
    "scrolled": false
   },
   "outputs": [],
   "source": [
    "sns.set_context(\"paper\", font_scale=1.5) \n",
    "plt.figure(figsize=(10,10))\n",
    "chaine = \"Plan factoriel pour les 2 premières composantes de l'ACP\"\n",
    "plt.title(chaine)\n",
    "plt.xlabel('Composante 1')\n",
    "plt.ylabel('Composante 2')\n",
    "ax = plt.gca()\n",
    "\n",
    "sns.scatterplot(x = x_show,\n",
    "                y = y_show,\n",
    "                #hue = hue_show,\n",
    "                alpha=0.8, s=10)\n",
    "\n",
    "sns.set_context(\"paper\", font_scale=1) \n"
   ]
  },
  {
   "cell_type": "code",
   "execution_count": null,
   "metadata": {
    "ExecuteTime": {
     "end_time": "2020-01-16T07:25:20.325333Z",
     "start_time": "2020-01-16T07:25:19.912987Z"
    }
   },
   "outputs": [],
   "source": [
    "sns.set_context(\"paper\", font_scale=1.5) \n",
    "plt.figure(figsize=(10,10))\n",
    "chaine = \"Plan factoriel pour les composantes 1 et 3 de l'ACP\"\n",
    "plt.title(chaine)\n",
    "plt.xlabel('Composante 1')\n",
    "plt.ylabel('Composante 3')\n",
    "ax = plt.gca()\n",
    "\n",
    "sns.scatterplot(x = x_show,\n",
    "                y = z_show,\n",
    "                #hue = hue_show,\n",
    "                alpha=0.8, s=10)\n",
    "sns.set_context(\"paper\", font_scale=1) \n"
   ]
  },
  {
   "cell_type": "code",
   "execution_count": null,
   "metadata": {
    "ExecuteTime": {
     "end_time": "2020-01-16T07:25:20.724715Z",
     "start_time": "2020-01-16T07:25:20.328918Z"
    }
   },
   "outputs": [],
   "source": [
    "from matplotlib.patches import Circle\n",
    "sns.set_context(\"paper\", font_scale=1.5) \n",
    "plt.figure(figsize=(10,10))\n",
    "chaine = \"Plan factoriel pour composantes 2 et3 de l'ACP\"\n",
    "plt.title(chaine)\n",
    "plt.xlabel('Composante 2')\n",
    "plt.ylabel('Composante 3')\n",
    "ax = plt.gca()\n",
    "\n",
    "sns.scatterplot(x = y_show,\n",
    "                y = z_show,\n",
    "                #hue = hue_show,\n",
    "                alpha=0.8, s=10)\n",
    "\n",
    "sns.set_context(\"paper\", font_scale=1) \n"
   ]
  },
  {
   "cell_type": "markdown",
   "metadata": {},
   "source": [
    "## T-SNE"
   ]
  },
  {
   "cell_type": "markdown",
   "metadata": {},
   "source": [
    "utilisons l'algorithme T-SNE pour avoir une idée en première approche du nombre de groupes homogènes"
   ]
  },
  {
   "cell_type": "code",
   "execution_count": null,
   "metadata": {
    "ExecuteTime": {
     "end_time": "2020-01-16T07:27:06.930094Z",
     "start_time": "2020-01-16T07:25:20.728472Z"
    }
   },
   "outputs": [],
   "source": [
    "tsne = TSNE(n_components=2)\n",
    "T = tsne.fit_transform(X_pca.copy())"
   ]
  },
  {
   "cell_type": "code",
   "execution_count": null,
   "metadata": {
    "ExecuteTime": {
     "end_time": "2020-01-16T07:27:07.514404Z",
     "start_time": "2020-01-16T07:27:06.933181Z"
    }
   },
   "outputs": [],
   "source": [
    "plt.figure(figsize=(8,8))\n",
    "plt.title('Représentation du jeu de données via T-SNE')\n",
    "sns.scatterplot(T[:,0], T[:,1])"
   ]
  },
  {
   "cell_type": "markdown",
   "metadata": {},
   "source": [
    "## Kmeans"
   ]
  },
  {
   "cell_type": "markdown",
   "metadata": {},
   "source": [
    "### Premier essai"
   ]
  },
  {
   "cell_type": "code",
   "execution_count": null,
   "metadata": {
    "ExecuteTime": {
     "end_time": "2020-01-15T14:33:00.602469Z",
     "start_time": "2020-01-15T14:33:00.128627Z"
    }
   },
   "outputs": [],
   "source": []
  },
  {
   "cell_type": "code",
   "execution_count": null,
   "metadata": {
    "ExecuteTime": {
     "end_time": "2020-01-16T07:27:16.292033Z",
     "start_time": "2020-01-16T07:27:07.518392Z"
    }
   },
   "outputs": [],
   "source": [
    "kmeans = KMeans(n_clusters=5, \n",
    "                verbose=1, \n",
    "                random_state=0,\n",
    "               n_jobs=-1).fit(X_pca)"
   ]
  },
  {
   "cell_type": "code",
   "execution_count": null,
   "metadata": {
    "ExecuteTime": {
     "end_time": "2020-01-16T07:27:16.307413Z",
     "start_time": "2020-01-16T07:27:16.296979Z"
    },
    "scrolled": true
   },
   "outputs": [],
   "source": [
    "kmeans.labels_"
   ]
  },
  {
   "cell_type": "markdown",
   "metadata": {},
   "source": [
    "### Recherche d'un optimum du nombre de clusters\n",
    "\n",
    "NB : intertia = Sum of squared distances of samples to their closest cluster center.\n"
   ]
  },
  {
   "cell_type": "markdown",
   "metadata": {},
   "source": [
    "#### 1 sample"
   ]
  },
  {
   "cell_type": "code",
   "execution_count": null,
   "metadata": {
    "ExecuteTime": {
     "end_time": "2020-01-16T07:28:46.781239Z",
     "start_time": "2020-01-16T07:27:16.313612Z"
    }
   },
   "outputs": [],
   "source": [
    "inertia = {}\n",
    "dict_kmeans = {}\n",
    "for k in range(1,25):\n",
    "    print(k)\n",
    "    kmeans = KMeans(n_clusters=k,\n",
    "                   verbose=1,\n",
    "                   random_state=0,\n",
    "                   n_jobs=-1).fit(X_pca)\n",
    "    inertia[k] = kmeans.inertia_\n",
    "    dict_kmeans[k] = kmeans\n",
    "    "
   ]
  },
  {
   "cell_type": "code",
   "execution_count": null,
   "metadata": {
    "ExecuteTime": {
     "end_time": "2020-01-16T07:28:47.313721Z",
     "start_time": "2020-01-16T07:28:46.787332Z"
    }
   },
   "outputs": [],
   "source": [
    "plt.figure(figsize=(8,5))\n",
    "plt.title('Kmeans: Comparaison de la somme des inerties en fonction du nombre de clusters')\n",
    "sns.lineplot(list(inertia.keys()),\n",
    "             list(inertia.values())\n",
    "            )"
   ]
  },
  {
   "cell_type": "markdown",
   "metadata": {},
   "source": [
    "#### n samples"
   ]
  },
  {
   "cell_type": "code",
   "execution_count": null,
   "metadata": {
    "ExecuteTime": {
     "end_time": "2020-01-16T07:42:34.705611Z",
     "start_time": "2020-01-16T07:38:58.191170Z"
    },
    "scrolled": true
   },
   "outputs": [],
   "source": [
    "inertia = {}\n",
    "dict_kmeans = {}\n",
    "\n",
    "nb_boucles=3\n",
    "max_clusters = 25\n",
    "\n",
    "for k in range(1,nb_boucles+1):\n",
    "    print('Boucle ',k)\n",
    "    for i in range(1,max_clusters+1):\n",
    "        kmeans = KMeans(n_clusters=i,\n",
    "                       verbose=1,\n",
    "                       n_jobs=-1).fit(X_pca)\n",
    "        inertia[(k,i)] = kmeans.inertia_\n",
    "        dict_kmeans[k,i] = kmeans"
   ]
  },
  {
   "cell_type": "code",
   "execution_count": null,
   "metadata": {
    "ExecuteTime": {
     "end_time": "2020-01-16T07:42:35.205591Z",
     "start_time": "2020-01-16T07:42:34.708757Z"
    },
    "scrolled": true
   },
   "outputs": [],
   "source": [
    "chaine = 'Kmeans: Comparaison de la somme des inerties en fonction du\\nnombre de clusters (' + str(nb_boucles) + ' itérations)'\n",
    "plt.figure(figsize=(8,5))\n",
    "plt.title(chaine)\n",
    "for i in range(0,nb_boucles):\n",
    "    index_plot = [cluster+i*(max_clusters) for cluster in list(range(0,max_clusters))][0:max_clusters]\n",
    "    sous_liste = [list(inertia.values())[index] for index in index_plot]\n",
    "    sns.lineplot(list(range(0,max_clusters)),\n",
    "                 sous_liste, alpha=1/nb_boucles, color='grey')"
   ]
  },
  {
   "cell_type": "markdown",
   "metadata": {},
   "source": [
    "#### Coefficient de silhouette"
   ]
  },
  {
   "cell_type": "code",
   "execution_count": null,
   "metadata": {
    "ExecuteTime": {
     "end_time": "2020-01-16T07:43:48.695443Z",
     "start_time": "2020-01-16T07:42:35.207928Z"
    }
   },
   "outputs": [],
   "source": [
    "silhouettes_kmeans = {}\n",
    "for i in range(2,max_clusters):\n",
    "    silhouettes_kmeans[i] = silhouette_score(X = X_pca,\n",
    "                                             labels= list(dict_kmeans[(1,i)].labels_))"
   ]
  },
  {
   "cell_type": "code",
   "execution_count": null,
   "metadata": {
    "ExecuteTime": {
     "end_time": "2020-01-16T07:43:49.029009Z",
     "start_time": "2020-01-16T07:43:48.702949Z"
    }
   },
   "outputs": [],
   "source": [
    "plt.figure(figsize=(8,6)),\n",
    "plt.title('Coefficient de silhouette moyen en fonction du nombre de clusters (kmeans)')\n",
    "sns.scatterplot(x = list(silhouettes_kmeans.keys()),\n",
    "               y = list(silhouettes_kmeans.values()))\n",
    "plt.show()"
   ]
  },
  {
   "cell_type": "code",
   "execution_count": null,
   "metadata": {
    "ExecuteTime": {
     "end_time": "2020-01-16T07:43:49.045834Z",
     "start_time": "2020-01-16T07:43:49.035232Z"
    }
   },
   "outputs": [],
   "source": [
    "for key, value in silhouettes_kmeans.items():\n",
    "    if value == max(silhouettes_kmeans.values()):\n",
    "        print('le coefficient de silhouette est maximal pour {} clusters (score = {})'.format(key, value))\n",
    "        nb_clusters = key"
   ]
  },
  {
   "cell_type": "code",
   "execution_count": null,
   "metadata": {
    "ExecuteTime": {
     "end_time": "2020-01-16T07:43:49.076253Z",
     "start_time": "2020-01-16T07:43:49.049411Z"
    }
   },
   "outputs": [],
   "source": [
    "nb_clusters"
   ]
  },
  {
   "cell_type": "markdown",
   "metadata": {},
   "source": [
    "#### Indice de Davies Bouldin"
   ]
  },
  {
   "cell_type": "code",
   "execution_count": null,
   "metadata": {
    "ExecuteTime": {
     "end_time": "2020-01-15T14:33:44.977793Z",
     "start_time": "2020-01-15T14:33:44.960930Z"
    }
   },
   "outputs": [],
   "source": []
  },
  {
   "cell_type": "code",
   "execution_count": null,
   "metadata": {
    "ExecuteTime": {
     "end_time": "2020-01-16T07:43:49.412846Z",
     "start_time": "2020-01-16T07:43:49.079214Z"
    }
   },
   "outputs": [],
   "source": [
    "\n",
    "davies_bouldin_kmeans = {}\n",
    "for i in range(2,max_clusters):\n",
    "    davies_bouldin_kmeans[i] = davies_bouldin_score(X = X_pca,\n",
    "                                             labels= list(dict_kmeans[(1,i)].labels_))"
   ]
  },
  {
   "cell_type": "code",
   "execution_count": null,
   "metadata": {},
   "outputs": [],
   "source": [
    "nb_clusters"
   ]
  },
  {
   "cell_type": "code",
   "execution_count": null,
   "metadata": {
    "ExecuteTime": {
     "end_time": "2020-01-16T07:43:49.666373Z",
     "start_time": "2020-01-16T07:43:49.419750Z"
    }
   },
   "outputs": [],
   "source": [
    "plt.figure(figsize=(8,6)),\n",
    "plt.title('Davies Bouldin Score moyen en fonction du nombre de clusters (kmeans)')\n",
    "sns.scatterplot(x = list(davies_bouldin_kmeans.keys()),\n",
    "               y = list(davies_bouldin_kmeans.values()))\n",
    "plt.show()"
   ]
  },
  {
   "cell_type": "code",
   "execution_count": null,
   "metadata": {
    "ExecuteTime": {
     "end_time": "2020-01-16T07:43:49.686378Z",
     "start_time": "2020-01-16T07:43:49.670020Z"
    }
   },
   "outputs": [],
   "source": [
    "for key, value in davies_bouldin_kmeans.items():\n",
    "    if value == min(davies_bouldin_kmeans.values()):\n",
    "        print('lescore de Davies Bouldin est minimal pour {} clusters (score = {})'.format(key, value))"
   ]
  },
  {
   "cell_type": "markdown",
   "metadata": {},
   "source": [
    "### Représentation"
   ]
  },
  {
   "cell_type": "code",
   "execution_count": null,
   "metadata": {
    "ExecuteTime": {
     "end_time": "2020-01-16T07:46:16.316348Z",
     "start_time": "2020-01-16T07:46:15.479952Z"
    }
   },
   "outputs": [],
   "source": [
    "plt.figure(figsize=(8,8))\n",
    "plt.title('Représentation T-SNE de la séparation du jeu de données via KMeans (14 clusters)')\n",
    "sns.scatterplot(T[:,0], \n",
    "                T[:,1],\n",
    "               hue=dict_kmeans[(1,14)].labels_,\n",
    "                legend='full',\n",
    "               palette=sns.color_palette(\"Spectral\",as_cmap=True))"
   ]
  },
  {
   "cell_type": "markdown",
   "metadata": {},
   "source": [
    "## DBScan "
   ]
  },
  {
   "cell_type": "markdown",
   "metadata": {},
   "source": [
    "### Application"
   ]
  },
  {
   "cell_type": "code",
   "execution_count": 1,
   "metadata": {},
   "outputs": [],
   "source": [
    "from sklearn.cluster import DBSCAN"
   ]
  },
  {
   "cell_type": "code",
   "execution_count": 2,
   "metadata": {
    "ExecuteTime": {
     "end_time": "2020-01-16T07:43:52.726193Z",
     "start_time": "2020-01-16T07:43:50.670439Z"
    }
   },
   "outputs": [
    {
     "ename": "NameError",
     "evalue": "name 'X_pca' is not defined",
     "output_type": "error",
     "traceback": [
      "\u001b[1;31m---------------------------------------------------------------------------\u001b[0m",
      "\u001b[1;31mNameError\u001b[0m                                 Traceback (most recent call last)",
      "\u001b[1;32m<ipython-input-2-f3f30976a841>\u001b[0m in \u001b[0;36m<module>\u001b[1;34m\u001b[0m\n\u001b[0;32m      1\u001b[0m dbs = DBSCAN(eps = 1, \n\u001b[0;32m      2\u001b[0m              \u001b[0mmin_samples\u001b[0m\u001b[1;33m=\u001b[0m\u001b[1;36m5\u001b[0m\u001b[1;33m,\u001b[0m\u001b[1;33m\u001b[0m\u001b[1;33m\u001b[0m\u001b[0m\n\u001b[1;32m----> 3\u001b[1;33m                n_jobs=-1).fit(X_pca.copy())\n\u001b[0m",
      "\u001b[1;31mNameError\u001b[0m: name 'X_pca' is not defined"
     ]
    }
   ],
   "source": [
    "dbs = DBSCAN(eps = 1, \n",
    "             min_samples=5,\n",
    "               n_jobs=-1).fit(X_pca.copy())"
   ]
  },
  {
   "cell_type": "code",
   "execution_count": null,
   "metadata": {},
   "outputs": [],
   "source": []
  },
  {
   "cell_type": "markdown",
   "metadata": {},
   "source": [
    "### Représentation des variables"
   ]
  },
  {
   "cell_type": "code",
   "execution_count": null,
   "metadata": {
    "ExecuteTime": {
     "end_time": "2020-01-16T07:43:53.651083Z",
     "start_time": "2020-01-16T07:43:52.728851Z"
    }
   },
   "outputs": [],
   "source": [
    "plt.figure(figsize=(8,8))\n",
    "plt.title('Représentation de la séparation des données du DBSCAN via T-SNE')\n",
    "sns.scatterplot(T[:,0], T[:,1], dbs.labels_)"
   ]
  },
  {
   "cell_type": "markdown",
   "metadata": {},
   "source": [
    "## Clustering Hiérarchique"
   ]
  },
  {
   "cell_type": "code",
   "execution_count": null,
   "metadata": {
    "ExecuteTime": {
     "end_time": "2020-01-11T13:28:19.370229Z",
     "start_time": "2020-01-11T13:28:19.364205Z"
    }
   },
   "outputs": [],
   "source": []
  },
  {
   "cell_type": "code",
   "execution_count": null,
   "metadata": {
    "ExecuteTime": {
     "end_time": "2020-01-16T07:43:53.666276Z",
     "start_time": "2020-01-16T07:43:53.654263Z"
    }
   },
   "outputs": [],
   "source": [
    "nb_clusters_agg = nb_clusters"
   ]
  },
  {
   "cell_type": "code",
   "execution_count": null,
   "metadata": {
    "ExecuteTime": {
     "end_time": "2020-01-16T07:44:02.825982Z",
     "start_time": "2020-01-16T07:43:53.674003Z"
    }
   },
   "outputs": [],
   "source": [
    "cah = AgglomerativeClustering(n_clusters = nb_clusters_agg\n",
    "                             ).fit(X_pca.copy())"
   ]
  },
  {
   "cell_type": "code",
   "execution_count": null,
   "metadata": {
    "ExecuteTime": {
     "end_time": "2020-01-16T07:44:03.546306Z",
     "start_time": "2020-01-16T07:44:02.831092Z"
    }
   },
   "outputs": [],
   "source": [
    "graph = pd.DataFrame(data = [T[:,0], T[:,1], dict_kmeans[(1,11)].labels_]).T\n",
    "graph.columns = ['X', 'Y', 'label_kmeans']"
   ]
  },
  {
   "cell_type": "code",
   "execution_count": null,
   "metadata": {
    "ExecuteTime": {
     "end_time": "2020-01-16T07:44:03.561911Z",
     "start_time": "2020-01-16T07:44:03.549488Z"
    }
   },
   "outputs": [],
   "source": [
    "graph['x_pca'] = x_show\n",
    "graph['y_pca'] = y_show\n",
    "graph['z_pca'] = z_show"
   ]
  },
  {
   "cell_type": "code",
   "execution_count": null,
   "metadata": {
    "ExecuteTime": {
     "end_time": "2020-01-16T07:44:03.616281Z",
     "start_time": "2020-01-16T07:44:03.566492Z"
    }
   },
   "outputs": [],
   "source": [
    "graph"
   ]
  },
  {
   "cell_type": "code",
   "execution_count": null,
   "metadata": {
    "ExecuteTime": {
     "end_time": "2020-01-16T07:44:04.761636Z",
     "start_time": "2020-01-16T07:44:03.619342Z"
    }
   },
   "outputs": [],
   "source": [
    "plt.figure(figsize=(10,10))\n",
    "plt.title('Représentation de la séparation des données du CAH via T-SNE')\n",
    "sns.scatterplot(graph['X'], \n",
    "                graph['Y'], \n",
    "                hue = cah.labels_, \n",
    "                legend='full',\n",
    "               palette=sns.color_palette(\"hls\",nb_clusters_agg))\n",
    "plt.legend(loc='upper left', labels=graph['label_kmeans'].unique())\n",
    "plt.show()"
   ]
  },
  {
   "cell_type": "code",
   "execution_count": null,
   "metadata": {
    "ExecuteTime": {
     "end_time": "2020-01-16T07:44:06.264608Z",
     "start_time": "2020-01-16T07:44:04.766259Z"
    }
   },
   "outputs": [],
   "source": [
    "from matplotlib.patches import Circle\n",
    "sns.set_context(\"paper\", font_scale=1.5) \n",
    "plt.figure(figsize=(10,10))\n",
    "chaine = \"Plan factoriel pour les 2 premières composantes de l'ACP\\\n",
    " du clustering CAH\"\n",
    "plt.title(chaine)\n",
    "plt.xlabel('Composante 1')\n",
    "plt.ylabel('Composante 2')\n",
    "ax = plt.gca()\n",
    "\n",
    "sns.scatterplot(x = graph['x_pca'], \n",
    "                y = graph['y_pca'], \n",
    "                hue = cah.labels_,\n",
    "                alpha=1, s=15, legend='full')\n",
    "\n",
    "sns.set_context(\"paper\", font_scale=1) \n"
   ]
  },
  {
   "cell_type": "code",
   "execution_count": null,
   "metadata": {
    "ExecuteTime": {
     "end_time": "2020-01-16T07:44:07.498367Z",
     "start_time": "2020-01-16T07:44:06.269026Z"
    }
   },
   "outputs": [],
   "source": [
    "from matplotlib.patches import Circle\n",
    "sns.set_context(\"paper\", font_scale=1.5) \n",
    "plt.figure(figsize=(10,10))\n",
    "chaine = \"Plan factoriel pour les 2 premières composantes de l'ACP \\\n",
    "du clustering KMeans\"\n",
    "plt.title(chaine)\n",
    "plt.xlabel('Composante 1')\n",
    "plt.ylabel('Composante 2')\n",
    "ax = plt.gca()\n",
    "\n",
    "sns.scatterplot(x = graph['x_pca'], \n",
    "                y = graph['y_pca'], \n",
    "                hue = graph['label_kmeans'],\n",
    "                alpha=1, s=15, legend='full')\n",
    "\n",
    "sns.set_context(\"paper\", font_scale=1) \n"
   ]
  },
  {
   "cell_type": "code",
   "execution_count": null,
   "metadata": {
    "ExecuteTime": {
     "end_time": "2020-01-16T07:44:10.600602Z",
     "start_time": "2020-01-16T07:44:07.504585Z"
    }
   },
   "outputs": [],
   "source": [
    "silhouette_score(X = X_pca, labels= cah.labels_)"
   ]
  },
  {
   "cell_type": "markdown",
   "metadata": {},
   "source": [
    "## Conclusion"
   ]
  },
  {
   "cell_type": "markdown",
   "metadata": {},
   "source": [
    "Le Kmeans semble mieux fonctionner que les autres méthodes de clustering, essayons d'appliquer cet algorithme à l'ensemble du jeu de données.\n"
   ]
  },
  {
   "cell_type": "markdown",
   "metadata": {},
   "source": [
    "# Ensemble du jeu de données"
   ]
  },
  {
   "cell_type": "markdown",
   "metadata": {},
   "source": [
    "## Préparation jeu de donnée complet"
   ]
  },
  {
   "cell_type": "code",
   "execution_count": null,
   "metadata": {
    "ExecuteTime": {
     "end_time": "2020-01-18T13:57:09.315393Z",
     "start_time": "2020-01-18T13:57:08.908822Z"
    }
   },
   "outputs": [],
   "source": [
    "X_tot=data.copy()\n",
    "\n",
    "categorical_columns = X_tot.select_dtypes(['category','object']).columns\n",
    "numerical_columns = X_tot.select_dtypes(['int32','float64']).columns\n",
    "\n",
    "ohe = OneHotEncoder(sparse=False)\n",
    "ss = StandardScaler()\n",
    "X_tot[numerical_columns] = ss.fit_transform(X_tot[numerical_columns])\n",
    "ohe.fit(X_tot[categorical_columns])"
   ]
  },
  {
   "cell_type": "code",
   "execution_count": null,
   "metadata": {
    "ExecuteTime": {
     "end_time": "2020-01-18T13:57:09.853490Z",
     "start_time": "2020-01-18T13:57:09.728516Z"
    }
   },
   "outputs": [],
   "source": [
    "X_tot = pd.merge(X_tot[numerical_columns], \n",
    "          pd.DataFrame(columns = ohe.get_feature_names().tolist(),\n",
    "              data = ohe.fit_transform(X_tot[categorical_columns])).set_index(X_tot.index),\n",
    "        left_index = True, right_index = True)"
   ]
  },
  {
   "cell_type": "markdown",
   "metadata": {},
   "source": [
    "## ACP"
   ]
  },
  {
   "cell_type": "code",
   "execution_count": null,
   "metadata": {
    "ExecuteTime": {
     "end_time": "2020-01-16T07:44:11.178101Z",
     "start_time": "2020-01-16T07:44:11.158230Z"
    }
   },
   "outputs": [],
   "source": [
    "pca_tot = PCA(random_state=1)"
   ]
  },
  {
   "cell_type": "code",
   "execution_count": null,
   "metadata": {
    "ExecuteTime": {
     "end_time": "2020-01-16T07:44:11.431175Z",
     "start_time": "2020-01-16T07:44:11.181142Z"
    }
   },
   "outputs": [],
   "source": [
    "pca_tot.fit(X_tot)"
   ]
  },
  {
   "cell_type": "code",
   "execution_count": null,
   "metadata": {
    "ExecuteTime": {
     "end_time": "2020-01-16T07:44:11.685159Z",
     "start_time": "2020-01-16T07:44:11.434459Z"
    }
   },
   "outputs": [],
   "source": [
    "plt.figure(figsize=(12,5))\n",
    "plt.title('Somme cumulée de variance des composantes de l\\'ACP')\n",
    "plt.xlabel('Nombre de composantes de l\\'ACP')\n",
    "plt.ylabel('Variance cumulée')\n",
    "plt.plot(list(range(X_tot.shape[1])),\n",
    "         np.cumsum(pca_tot.explained_variance_ratio_))\n"
   ]
  },
  {
   "cell_type": "code",
   "execution_count": null,
   "metadata": {
    "ExecuteTime": {
     "end_time": "2020-01-18T10:48:43.514749Z",
     "start_time": "2020-01-18T10:48:43.476989Z"
    }
   },
   "outputs": [],
   "source": [
    "np.cumsum(pca_tot.explained_variance_ratio_)[18]"
   ]
  },
  {
   "cell_type": "markdown",
   "metadata": {},
   "source": [
    "On a  94 % de variance avec 19 features"
   ]
  },
  {
   "cell_type": "code",
   "execution_count": null,
   "metadata": {
    "ExecuteTime": {
     "end_time": "2020-01-16T07:44:11.748494Z",
     "start_time": "2020-01-16T07:44:11.691124Z"
    }
   },
   "outputs": [],
   "source": [
    "X_pca_tot = pca_tot.transform(X_tot)[:,:18]"
   ]
  },
  {
   "cell_type": "code",
   "execution_count": null,
   "metadata": {
    "ExecuteTime": {
     "end_time": "2020-01-16T07:44:11.802454Z",
     "start_time": "2020-01-16T07:44:11.767439Z"
    }
   },
   "outputs": [],
   "source": [
    "colonnes_pca = X_tot.columns"
   ]
  },
  {
   "cell_type": "markdown",
   "metadata": {},
   "source": [
    "## Représentation des données"
   ]
  },
  {
   "cell_type": "code",
   "execution_count": null,
   "metadata": {
    "ExecuteTime": {
     "end_time": "2020-01-16T07:44:12.019182Z",
     "start_time": "2020-01-16T07:44:11.809132Z"
    }
   },
   "outputs": [],
   "source": [
    "x_show = pca_tot.transform(X_tot.select_dtypes(['float64','int32']))[:,0]\n",
    "\n",
    "y_show = pca_tot.transform(X_tot.select_dtypes(['float64','int32']))[:,1]\n",
    "\n",
    "z_show = pca_tot.transform(X_tot.select_dtypes(['float64','int32']))[:,2]"
   ]
  },
  {
   "cell_type": "code",
   "execution_count": null,
   "metadata": {
    "ExecuteTime": {
     "end_time": "2020-01-16T07:44:13.038064Z",
     "start_time": "2020-01-16T07:44:12.025073Z"
    }
   },
   "outputs": [],
   "source": [
    "from matplotlib.patches import Circle\n",
    "sns.set_context(\"paper\", font_scale=1.5) \n",
    "plt.figure(figsize=(10,10))\n",
    "chaine = \"Plan factoriel pour les 2 premières composantes de l'ACP\"\n",
    "plt.title(chaine)\n",
    "plt.xlabel('Composante 1')\n",
    "plt.ylabel('Composante 2')\n",
    "ax = plt.gca()\n",
    "\n",
    "sns.scatterplot(x = x_show,\n",
    "                y = y_show,\n",
    "                #hue = hue_show,\n",
    "                alpha=0.8, s=10)\n",
    "\n",
    "\n",
    "i = 0\n",
    "'''for x,y,colonne in zip(x_pca,y_pca, colonnes_pca):\n",
    "\n",
    "    plt.annotate(colonne, # this is the text\n",
    "                 (x,y), # this is the point to label\n",
    "                 textcoords=\"offset points\", # how to position the text\n",
    "                 xytext=(0,5+np.random.randint(-10,10)), # distance from text to points (x,y)\n",
    "                 ha='center') # horizontal alignment can be left, right or center\n",
    "    ax.arrow(0, 0, x, y, head_width=0, head_length=0, fc='grey', ec='grey',alpha=0.2)'''\n",
    "\n",
    "\n",
    "sns.set_context(\"paper\", font_scale=1) \n"
   ]
  },
  {
   "cell_type": "markdown",
   "metadata": {},
   "source": [
    "## KMeans"
   ]
  },
  {
   "cell_type": "markdown",
   "metadata": {},
   "source": [
    "Modèle KMeans avec le nombre de clusters optimal identifié sur le jeu de données réduit"
   ]
  },
  {
   "cell_type": "code",
   "execution_count": null,
   "metadata": {
    "ExecuteTime": {
     "end_time": "2020-01-16T07:50:07.139306Z",
     "start_time": "2020-01-16T07:49:46.761237Z"
    }
   },
   "outputs": [],
   "source": [
    "kmeans = KMeans(n_clusters=14, \n",
    "                verbose=1, \n",
    "                random_state=0,\n",
    "               n_jobs=-1).fit(X_pca_tot)"
   ]
  },
  {
   "cell_type": "code",
   "execution_count": null,
   "metadata": {
    "ExecuteTime": {
     "end_time": "2020-01-16T07:50:07.155043Z",
     "start_time": "2020-01-16T07:50:07.142682Z"
    }
   },
   "outputs": [],
   "source": [
    "kmeans.labels_.shape"
   ]
  },
  {
   "cell_type": "code",
   "execution_count": null,
   "metadata": {
    "ExecuteTime": {
     "end_time": "2020-01-16T07:52:27.614415Z",
     "start_time": "2020-01-16T07:50:07.158881Z"
    }
   },
   "outputs": [],
   "source": [
    "silhouette_score(X = X_pca_tot, labels= kmeans.labels_)"
   ]
  },
  {
   "cell_type": "code",
   "execution_count": null,
   "metadata": {
    "ExecuteTime": {
     "end_time": "2020-01-16T07:59:30.713189Z",
     "start_time": "2020-01-16T07:52:27.618378Z"
    }
   },
   "outputs": [],
   "source": [
    "inertia = {}\n",
    "dict_kmeans = {}\n",
    "dict_silhouette = {}\n",
    "for k in range(13,16):\n",
    "    kmeans = KMeans(n_clusters=k,\n",
    "                   verbose=1,\n",
    "                   random_state=0,\n",
    "                   n_jobs=-1).fit(X_pca_tot)\n",
    "    inertia[k] = kmeans.inertia_\n",
    "    dict_kmeans[k] = kmeans\n",
    "    dict_silhouette[k] = silhouette_score(X = X_pca_tot, labels= kmeans.labels_)\n",
    "    print('Boucle {} - Silhouette score : {}'.format(k, dict_silhouette[k]))\n",
    "    "
   ]
  },
  {
   "cell_type": "code",
   "execution_count": null,
   "metadata": {
    "ExecuteTime": {
     "end_time": "2020-01-16T07:59:30.744406Z",
     "start_time": "2020-01-16T07:59:30.723329Z"
    }
   },
   "outputs": [],
   "source": [
    "if False:\n",
    "    inertia = {}\n",
    "    dict_kmeans = {}\n",
    "    dict_silhouette = {}\n",
    "    for k in range(3,15):\n",
    "        kmeans = KMeans(n_clusters=k,\n",
    "                       verbose=1,\n",
    "                       random_state=0,\n",
    "                       n_jobs=-1).fit(X_pca_tot)\n",
    "        inertia[k] = kmeans.inertia_\n",
    "        dict_kmeans[k] = kmeans\n",
    "        dict_silhouette[k] = silhouette_score(X = X_pca_tot, labels= kmeans.labels_)\n",
    "        print('Boucle {} - Silhouette score : {}'.format(k, dict_silhouette[k]))\n",
    "    "
   ]
  },
  {
   "cell_type": "markdown",
   "metadata": {},
   "source": [
    "* Boucle 13 - Silhouette score : 0.22938337882766385\n",
    "* Boucle 14 - Silhouette score : 0.2380033975405801\n",
    "* Boucle 15 - Silhouette score : 0.14908158723434908\n"
   ]
  },
  {
   "cell_type": "code",
   "execution_count": null,
   "metadata": {
    "ExecuteTime": {
     "end_time": "2020-01-16T07:59:31.649117Z",
     "start_time": "2020-01-16T07:59:30.765812Z"
    }
   },
   "outputs": [],
   "source": [
    "plt.figure(figsize=(8,6)),\n",
    "plt.title('Coefficient de silhouette moyen en fonction du nombre de clusters (kmeans)')\n",
    "sns.scatterplot(x = list(dict_silhouette.keys()),\n",
    "               y = list(dict_silhouette.values()))\n",
    "plt.show()"
   ]
  },
  {
   "cell_type": "markdown",
   "metadata": {
    "ExecuteTime": {
     "end_time": "2020-01-11T10:13:26.271306Z",
     "start_time": "2020-01-11T10:13:26.257347Z"
    }
   },
   "source": [
    "Le coefficient de silhouette est maximal pour 14 clusters"
   ]
  },
  {
   "cell_type": "markdown",
   "metadata": {},
   "source": []
  },
  {
   "cell_type": "code",
   "execution_count": null,
   "metadata": {
    "ExecuteTime": {
     "end_time": "2020-01-16T07:59:31.680740Z",
     "start_time": "2020-01-16T07:59:31.654893Z"
    }
   },
   "outputs": [],
   "source": []
  },
  {
   "cell_type": "markdown",
   "metadata": {},
   "source": []
  },
  {
   "cell_type": "markdown",
   "metadata": {},
   "source": [
    "## Exports"
   ]
  },
  {
   "cell_type": "markdown",
   "metadata": {
    "ExecuteTime": {
     "end_time": "2020-01-11T10:13:59.287388Z",
     "start_time": "2020-01-11T10:13:59.279410Z"
    }
   },
   "source": [
    "Exportons notre modèle et notre jeu de données"
   ]
  },
  {
   "cell_type": "code",
   "execution_count": null,
   "metadata": {
    "ExecuteTime": {
     "end_time": "2020-01-18T14:30:11.836319Z",
     "start_time": "2020-01-18T14:30:11.726971Z"
    },
    "scrolled": true
   },
   "outputs": [],
   "source": [
    "#export kmeans\n",
    "filename = 'models/kmeans_14_full_dataset.obj' \n",
    "with  open(filename, 'wb') as filehandler :\n",
    "    pickle.dump(dict_kmeans[14], filehandler)"
   ]
  },
  {
   "cell_type": "code",
   "execution_count": null,
   "metadata": {
    "ExecuteTime": {
     "end_time": "2020-01-18T14:30:14.096852Z",
     "start_time": "2020-01-18T14:30:14.034361Z"
    }
   },
   "outputs": [],
   "source": [
    "#export OHE\n",
    "filename = 'ohe.obj' \n",
    "with  open(filename, 'wb') as filehandler :\n",
    "    pickle.dump(ohe, filehandler)\n",
    "    \n",
    "#export SS\n",
    "filename = 'models/ss.obj' \n",
    "with  open(filename, 'wb') as filehandler :\n",
    "    pickle.dump(ss, filehandler)\n",
    "    \n",
    "#export modèle PCA\n",
    "filename = 'models/pca_tot.obj' \n",
    "with  open(filename, 'wb') as filehandler :\n",
    "    pickle.dump(pca_tot, filehandler)"
   ]
  },
  {
   "cell_type": "markdown",
   "metadata": {},
   "source": [
    "### Import"
   ]
  },
  {
   "cell_type": "code",
   "execution_count": null,
   "metadata": {
    "ExecuteTime": {
     "end_time": "2020-01-18T14:30:17.268007Z",
     "start_time": "2020-01-18T14:30:17.205484Z"
    }
   },
   "outputs": [],
   "source": [
    "file = open('kmeans_14_full_dataset.obj', 'rb')\n",
    "model = pickle.load(file)"
   ]
  },
  {
   "cell_type": "markdown",
   "metadata": {},
   "source": [
    "## Représentation des variables "
   ]
  },
  {
   "cell_type": "code",
   "execution_count": null,
   "metadata": {
    "ExecuteTime": {
     "end_time": "2020-01-18T14:31:02.017089Z",
     "start_time": "2020-01-18T14:30:52.751057Z"
    },
    "scrolled": false
   },
   "outputs": [],
   "source": [
    "nb_clusters = 14\n",
    "if False:\n",
    "    tsne = TSNE(n_components=2)\n",
    "    T = tsne.fit_transform(X_pca_tot.copy())\n",
    "    graph = pd.DataFrame(data = [T[:,0], T[:,1], model.labels_]).T\n",
    "    graph.columns = ['X', 'Y', 'label']\n",
    "    plt.figure(figsize=(10,10))\n",
    "    plt.title('Représentation de la séparation des données du KMEANS via T-SNE')\n",
    "    sns.scatterplot(graph['X'], graph['Y'], hue = graph['label'], legend='full',\n",
    "                   palette=sns.color_palette(\"hls\",14),\n",
    "                    alpha=1, s=15,)\n",
    "    plt.legend(loc='upper left', labels=graph['label'].unique())\n",
    "    plt.show()\n",
    "    \n",
    "else:\n",
    "        graph = pd.DataFrame(data = [model.labels_]).T\n",
    "        graph.columns = ['label']\n"
   ]
  },
  {
   "cell_type": "code",
   "execution_count": null,
   "metadata": {
    "ExecuteTime": {
     "end_time": "2020-01-18T14:31:02.366725Z",
     "start_time": "2020-01-18T14:31:02.017089Z"
    }
   },
   "outputs": [],
   "source": [
    "graph['x_pca'] = x_show\n",
    "graph['y_pca'] = y_show\n",
    "graph['z_pca'] = z_show"
   ]
  },
  {
   "cell_type": "code",
   "execution_count": null,
   "metadata": {
    "ExecuteTime": {
     "end_time": "2020-01-18T14:31:12.379352Z",
     "start_time": "2020-01-18T14:31:02.368770Z"
    }
   },
   "outputs": [],
   "source": [
    "from matplotlib.patches import Circle\n",
    "sns.set_context(\"paper\", font_scale=1.5) \n",
    "plt.figure(figsize=(10,10))\n",
    "chaine = \"Plan factoriel pour les 2 premières composantes de l'ACP\"\n",
    "plt.title(chaine)\n",
    "plt.xlabel('Composante 1')\n",
    "plt.ylabel('Composante 2')\n",
    "ax = plt.gca()\n",
    "\n",
    "sns.scatterplot(x = graph['x_pca'], \n",
    "                y = graph['y_pca'], \n",
    "                hue = graph['label'],\n",
    "                alpha=1, s=15, legend='full')\n",
    "\n",
    "sns.set_context(\"paper\", font_scale=1) \n"
   ]
  },
  {
   "cell_type": "code",
   "execution_count": null,
   "metadata": {
    "ExecuteTime": {
     "end_time": "2020-01-18T14:31:12.957339Z",
     "start_time": "2020-01-18T14:31:12.379352Z"
    }
   },
   "outputs": [],
   "source": [
    "plt.figure(figsize=(8,6))\n",
    "plt.title('Distribution du nombre d\\'individus par cluster, en pourcentage')\n",
    "sns.barplot(x = graph['label'].value_counts().index, \n",
    "           y=graph['label'].value_counts().values/len(graph)*100)"
   ]
  },
  {
   "cell_type": "markdown",
   "metadata": {},
   "source": [
    "## Caractérisation des clusters "
   ]
  },
  {
   "cell_type": "markdown",
   "metadata": {},
   "source": [
    "### Représentation"
   ]
  },
  {
   "cell_type": "code",
   "execution_count": null,
   "metadata": {
    "ExecuteTime": {
     "end_time": "2020-01-18T14:31:12.988582Z",
     "start_time": "2020-01-18T14:31:12.957339Z"
    }
   },
   "outputs": [],
   "source": [
    "graph.sample(10)"
   ]
  },
  {
   "cell_type": "code",
   "execution_count": null,
   "metadata": {
    "ExecuteTime": {
     "end_time": "2020-01-18T14:31:13.129180Z",
     "start_time": "2020-01-18T14:31:12.988582Z"
    }
   },
   "outputs": [],
   "source": [
    "X2=X_tot.copy()"
   ]
  },
  {
   "cell_type": "code",
   "execution_count": null,
   "metadata": {
    "ExecuteTime": {
     "end_time": "2020-01-18T14:31:13.160414Z",
     "start_time": "2020-01-18T14:31:13.129180Z"
    }
   },
   "outputs": [],
   "source": [
    "X2.shape"
   ]
  },
  {
   "cell_type": "code",
   "execution_count": null,
   "metadata": {
    "ExecuteTime": {
     "end_time": "2020-01-18T14:31:13.441599Z",
     "start_time": "2020-01-18T14:31:13.160414Z"
    }
   },
   "outputs": [],
   "source": [
    "X2['label'] = graph['label']\n",
    "group_columns = X2.groupby('label').mean()"
   ]
  },
  {
   "cell_type": "markdown",
   "metadata": {},
   "source": [
    "### Répartition par feature "
   ]
  },
  {
   "cell_type": "code",
   "execution_count": null,
   "metadata": {
    "ExecuteTime": {
     "end_time": "2020-01-18T14:31:13.655888Z",
     "start_time": "2020-01-18T14:31:13.441599Z"
    }
   },
   "outputs": [],
   "source": [
    "X_tot_2 = data.copy()\n",
    "X_tot_2['label'] = model.labels_"
   ]
  },
  {
   "cell_type": "code",
   "execution_count": null,
   "metadata": {
    "ExecuteTime": {
     "end_time": "2020-01-18T14:31:13.832705Z",
     "start_time": "2020-01-18T14:31:13.655888Z"
    }
   },
   "outputs": [],
   "source": [
    "X_tot_2.head(2)"
   ]
  },
  {
   "cell_type": "code",
   "execution_count": null,
   "metadata": {
    "ExecuteTime": {
     "end_time": "2020-01-18T14:31:22.263402Z",
     "start_time": "2020-01-18T14:31:13.832705Z"
    },
    "scrolled": true
   },
   "outputs": [],
   "source": [
    "for column in group_columns.columns:\n",
    "    try:\n",
    "        plt.figure(figsize=(7,5))\n",
    "        titre = 'Moyenne de ' + str(column) + ' pour chaque cluster' \n",
    "        plt.title(titre)\n",
    "        sns.barplot(x = 'label',\n",
    "                    y = column,\n",
    "                    data = X_tot_2, \n",
    "                    ci=\"sd\")\n",
    "        plt.show()\n",
    "    except:\n",
    "        print('Erreur colonne : ', column)"
   ]
  },
  {
   "cell_type": "markdown",
   "metadata": {},
   "source": [
    "Observation du mode des différents clusters pour chaque feature"
   ]
  },
  {
   "cell_type": "code",
   "execution_count": null,
   "metadata": {
    "ExecuteTime": {
     "end_time": "2020-01-18T14:31:23.160927Z",
     "start_time": "2020-01-18T14:31:22.263402Z"
    }
   },
   "outputs": [],
   "source": [
    "X_tot_2.groupby('label').agg(lambda x:x.value_counts().index[0])"
   ]
  },
  {
   "cell_type": "code",
   "execution_count": null,
   "metadata": {
    "ExecuteTime": {
     "end_time": "2020-01-18T17:19:43.778745Z",
     "start_time": "2020-01-18T17:19:43.573757Z"
    }
   },
   "outputs": [],
   "source": [
    "X_tot_2.groupby('label').agg('mean')"
   ]
  },
  {
   "cell_type": "code",
   "execution_count": null,
   "metadata": {
    "ExecuteTime": {
     "end_time": "2020-01-18T17:46:32.780947Z",
     "start_time": "2020-01-18T17:46:32.517967Z"
    }
   },
   "outputs": [],
   "source": [
    "X_tot_2.groupby('label').agg('mean')['delai_dernier_achat'].tolist()"
   ]
  },
  {
   "cell_type": "markdown",
   "metadata": {},
   "source": [
    "Observations : \n",
    "\n",
    "* Le cluster 9 correspond aux clients qui ont acheté le plus de produits et aux acheteurs majoritaires de la catégorie 'home'\n",
    "* le cluster 3 correspond au client qui ont un long délai de traitement de leur commande et également à ceux qui mettent les plus mauvaises notes en moyenne. Ils ne sont pas attachés à une catégorie de produit en particulier\n",
    "* le cluster 6 correspond au client qui ont fait leur commande le plus récemment et aux acheteurs majoritaires de la catégorie 'construction'\n",
    "* Le cluster 11 correspond aux acheteurs majoritaires de la catégorie 'appliances' \n",
    "* Le cluster 4 correspond aux acheteurs majoritaires de la catégorie  'office'\n",
    "* Le cluster 13 correspond aux acheteurs majoritaires de la catégorie 'electronics'\n",
    "* Le cluster 2 correspond aux acheteurs majoritaires de la catégorie 'arts\n",
    "* Le cluster 0 correspond aux acheteurs majoritaires de la catégorie 'fashion' \n",
    "* Le cluster 8 correspond aux acheteurs majoritaires de la catégorie 'health/beauty' \n",
    "* Le cluster 1 correspond aux acheteurs majoritaires de la catégorie 'sports_leisure'\n",
    "* Le cluster 12 correspond aux acheteurs majoritaires de la catégorie 'garden_pets'\n",
    "* Le cluster 10 correspond aux acheteurs majoritaires de la catégorie 'auto'\n",
    "* Le cluster 7 correspond aux acheteurs majoritaires de la catégorie 'other'\n",
    "* pas de catégorie spécifique d'achat identifiée pour le cluster 5 (cluster qui comprend la moitié de notre échantillon)\n",
    "\n",
    "\n",
    "Premier bilan:\n",
    "* des clusters d'acheteurs potentiels pour certaines catégories de produits ont été identifiés\n",
    "* les clients avec un long délai de traitement de commande, qui menttent de moins bonnes notes en moyenne, ont été identifiés\n",
    "* le cluster des clients qui achète le plus de produits en quantité a également été identifié\n",
    "\n",
    "Peut-on aller plus loin?"
   ]
  },
  {
   "cell_type": "markdown",
   "metadata": {},
   "source": [
    "### latitude et longitude"
   ]
  },
  {
   "cell_type": "code",
   "execution_count": null,
   "metadata": {
    "ExecuteTime": {
     "end_time": "2020-01-18T14:31:23.176549Z",
     "start_time": "2020-01-18T14:31:23.160927Z"
    }
   },
   "outputs": [],
   "source": [
    "graph.columns"
   ]
  },
  {
   "cell_type": "code",
   "execution_count": null,
   "metadata": {
    "ExecuteTime": {
     "end_time": "2020-01-18T14:31:23.192165Z",
     "start_time": "2020-01-18T14:31:23.176549Z"
    }
   },
   "outputs": [],
   "source": [
    "graph['label'].nunique()"
   ]
  },
  {
   "cell_type": "code",
   "execution_count": null,
   "metadata": {
    "ExecuteTime": {
     "end_time": "2020-01-18T14:37:59.194730Z",
     "start_time": "2020-01-18T14:37:59.147828Z"
    }
   },
   "outputs": [],
   "source": [
    "graph['colors']=pd.cut(graph['label'], bins=nb_clusters, \n",
    "                       labels=['red', 'blue', 'green', 'purple', \n",
    "                               'orange', 'darkred', 'lightred', 'beige', \n",
    "                               'darkblue', 'darkgreen', 'cadetblue', 'darkpurple',\n",
    "                               'pink','black'])"
   ]
  },
  {
   "cell_type": "code",
   "execution_count": null,
   "metadata": {
    "ExecuteTime": {
     "end_time": "2020-01-18T14:38:01.773965Z",
     "start_time": "2020-01-18T14:38:01.758380Z"
    }
   },
   "outputs": [],
   "source": [
    "len(graph)"
   ]
  },
  {
   "cell_type": "code",
   "execution_count": null,
   "metadata": {
    "ExecuteTime": {
     "end_time": "2020-01-18T14:38:01.805206Z",
     "start_time": "2020-01-18T14:38:01.773965Z"
    }
   },
   "outputs": [],
   "source": [
    "\n",
    "if False:\n",
    "    n = folium.Map()\n",
    "    n = folium.Map(location=[data['geolocation_lat'].mean().mean(), data['geolocation_lng'].mean().mean()],\n",
    "                   zoom_start=11)\n",
    "    for i in range(0,20000):    \n",
    "        folium.Circle([data.iloc[i]['geolocation_lat'],data.iloc[i]['geolocation_lng']],\n",
    "                      popup=graph.iloc[i]['label'], \n",
    "                      color = graph.iloc[i]['colors']\n",
    "                      ,radius =500).add_to(n)"
   ]
  },
  {
   "cell_type": "markdown",
   "metadata": {},
   "source": [
    "Bilan : on n'observe pas de tendance nette sur la localisation des points : regroupement des groupes par quartier ou autre."
   ]
  },
  {
   "cell_type": "markdown",
   "metadata": {},
   "source": [
    "# Essai de Kmeans en supprimant des features"
   ]
  },
  {
   "cell_type": "markdown",
   "metadata": {},
   "source": [
    "Peut-on obtenir un autre clustering (éventuellement avec une répartition plus homogène des tailles de clusters) en supprimant des features"
   ]
  },
  {
   "cell_type": "code",
   "execution_count": null,
   "metadata": {
    "ExecuteTime": {
     "end_time": "2020-01-18T14:38:01.867728Z",
     "start_time": "2020-01-18T14:38:01.805206Z"
    }
   },
   "outputs": [],
   "source": [
    "X_tot.head()"
   ]
  },
  {
   "cell_type": "code",
   "execution_count": null,
   "metadata": {
    "ExecuteTime": {
     "end_time": "2020-01-18T14:38:01.898934Z",
     "start_time": "2020-01-18T14:38:01.867728Z"
    }
   },
   "outputs": [],
   "source": [
    "features_to_drop = ['Delai_Moy_Commande',\n",
    "                    'heure_achat',\n",
    "                    'Facilités',\n",
    "                    'jour_achat', \n",
    "                    'Note_Moy_Com']\n",
    "X_reduce = X_tot.drop(features_to_drop, axis=1)"
   ]
  },
  {
   "cell_type": "code",
   "execution_count": null,
   "metadata": {
    "ExecuteTime": {
     "end_time": "2020-01-18T14:38:01.945797Z",
     "start_time": "2020-01-18T14:38:01.898934Z"
    }
   },
   "outputs": [],
   "source": [
    "X_reduce.head()"
   ]
  },
  {
   "cell_type": "code",
   "execution_count": null,
   "metadata": {
    "ExecuteTime": {
     "end_time": "2020-01-18T14:38:02.133253Z",
     "start_time": "2020-01-18T14:38:01.945797Z"
    }
   },
   "outputs": [],
   "source": [
    "pca_reduce = PCA(random_state=1)\n",
    "pca_reduce.fit(X_reduce)"
   ]
  },
  {
   "cell_type": "code",
   "execution_count": null,
   "metadata": {
    "ExecuteTime": {
     "end_time": "2020-01-18T14:38:02.148874Z",
     "start_time": "2020-01-18T14:38:02.133253Z"
    }
   },
   "outputs": [],
   "source": [
    "np.cumsum(pca_reduce.explained_variance_ratio_)[14]"
   ]
  },
  {
   "cell_type": "code",
   "execution_count": null,
   "metadata": {
    "ExecuteTime": {
     "end_time": "2020-01-18T14:38:02.211360Z",
     "start_time": "2020-01-18T14:38:02.148874Z"
    }
   },
   "outputs": [],
   "source": [
    "X_pca_reduce = pca_reduce.transform(X_reduce)[:,:14]"
   ]
  },
  {
   "cell_type": "code",
   "execution_count": null,
   "metadata": {},
   "outputs": [],
   "source": []
  },
  {
   "cell_type": "code",
   "execution_count": null,
   "metadata": {
    "ExecuteTime": {
     "end_time": "2020-01-18T14:38:50.872300Z",
     "start_time": "2020-01-18T14:38:36.109565Z"
    }
   },
   "outputs": [],
   "source": [
    "kmeans_reduce = KMeans(n_clusters=14, \n",
    "                verbose=1, \n",
    "                random_state=0,\n",
    "               n_jobs=-1).fit(X_reduce)"
   ]
  },
  {
   "cell_type": "code",
   "execution_count": null,
   "metadata": {
    "ExecuteTime": {
     "end_time": "2020-01-18T14:40:51.700512Z",
     "start_time": "2020-01-18T14:38:50.872300Z"
    }
   },
   "outputs": [],
   "source": [
    "silhouette_score(X = X_pca_reduce, labels= kmeans_reduce.labels_)"
   ]
  },
  {
   "cell_type": "code",
   "execution_count": null,
   "metadata": {
    "ExecuteTime": {
     "end_time": "2020-01-18T14:40:52.372229Z",
     "start_time": "2020-01-18T14:40:51.716133Z"
    },
    "scrolled": true
   },
   "outputs": [],
   "source": [
    "sns.barplot(y = pd.Series(kmeans_reduce.labels_).value_counts().values,\n",
    "           x = pd.Series(kmeans_reduce.labels_).value_counts().index)"
   ]
  },
  {
   "cell_type": "markdown",
   "metadata": {
    "ExecuteTime": {
     "end_time": "2020-01-13T20:28:31.639506Z",
     "start_time": "2020-01-13T20:28:31.529446Z"
    }
   },
   "source": [
    "taille des clusters"
   ]
  },
  {
   "cell_type": "code",
   "execution_count": null,
   "metadata": {
    "ExecuteTime": {
     "end_time": "2020-01-18T16:29:12.152582Z",
     "start_time": "2020-01-18T16:29:12.122832Z"
    }
   },
   "outputs": [],
   "source": [
    "pd.DataFrame(kmeans_reduce.labels_, columns=['cluster'])['cluster'].value_counts().sort_values()"
   ]
  },
  {
   "cell_type": "code",
   "execution_count": null,
   "metadata": {
    "ExecuteTime": {
     "end_time": "2020-01-18T14:40:52.481579Z",
     "start_time": "2020-01-18T14:40:52.419099Z"
    }
   },
   "outputs": [],
   "source": [
    "X_tot_2['label_reduce'] = kmeans_reduce.labels_"
   ]
  },
  {
   "cell_type": "code",
   "execution_count": null,
   "metadata": {
    "ExecuteTime": {
     "end_time": "2020-01-18T14:41:01.124910Z",
     "start_time": "2020-01-18T14:40:52.481579Z"
    }
   },
   "outputs": [],
   "source": [
    "for column in group_columns.columns:\n",
    "    try:\n",
    "        plt.figure(figsize=(7,5))\n",
    "        titre = 'Moyenne de ' + str(column) + ' pour chaque cluster' \n",
    "        plt.title(titre)\n",
    "        sns.barplot(x = 'label_reduce',\n",
    "                    y = column,\n",
    "                    data = X_tot_2, \n",
    "                    ci=\"sd\")\n",
    "        plt.show()\n",
    "    except:\n",
    "        print('Erreur colonne : ', column)"
   ]
  },
  {
   "cell_type": "markdown",
   "metadata": {},
   "source": [
    "Le Kmeans réduit semble réaliser un clustering comparable : on observe les mêmes features qui se détachent en fonction des catégories (catégories de dépenses, nombre d'achats, etc.)"
   ]
  },
  {
   "cell_type": "markdown",
   "metadata": {},
   "source": [
    "# Résultats et problématique"
   ]
  },
  {
   "cell_type": "markdown",
   "metadata": {},
   "source": [
    "Les résultats ne sont pas parfaitement satisfaisants vis à vis de la problématique:  \n",
    "* on obtient un trop grand nombre de clusters, non adapté à la problématique business\n",
    "* un cluster principal qui contient trop de données\n",
    "* coefficient de silhouette relativement faible indiquant un chevauchement partiel des clusters,\n",
    "* le clustering suit principalement les catégories de produits prédéfinies. On aurait pu faire ce tri sans faire appel à des algorithmes \n",
    "\n",
    "La base de données permet de faire difficilement mieux par des algorithmes traditionnels car peu de clients ont fait plusieurs achats, ce qui limite le nombre de possibilités qu'on peut envisager (fréquence des achats, complémentarité des catégories d'achats, date du dernier achat, etc.)"
   ]
  },
  {
   "cell_type": "markdown",
   "metadata": {},
   "source": [
    "Revenons à une analyse manuelle des données pour identifier des segments exploitables pour les équipes marketing"
   ]
  },
  {
   "cell_type": "markdown",
   "metadata": {},
   "source": [
    "## Clusters actionnables"
   ]
  },
  {
   "cell_type": "markdown",
   "metadata": {},
   "source": [
    "**Identification des clusters**"
   ]
  },
  {
   "cell_type": "code",
   "execution_count": null,
   "metadata": {},
   "outputs": [],
   "source": [
    "X3 = pd.DataFrame(X_pca_tot, index = data.index)"
   ]
  },
  {
   "cell_type": "code",
   "execution_count": null,
   "metadata": {
    "ExecuteTime": {
     "end_time": "2020-01-18T16:32:34.242205Z",
     "start_time": "2020-01-18T16:32:34.092243Z"
    }
   },
   "outputs": [],
   "source": [
    "cluster = []\n",
    "for i in range(14):\n",
    "    cluster.append(data.loc[X_tot_2['label'] == i])"
   ]
  },
  {
   "cell_type": "markdown",
   "metadata": {},
   "source": [
    "Nombre de clients par cluster"
   ]
  },
  {
   "cell_type": "code",
   "execution_count": null,
   "metadata": {
    "ExecuteTime": {
     "end_time": "2020-01-18T16:32:40.231781Z",
     "start_time": "2020-01-18T16:32:40.202171Z"
    }
   },
   "outputs": [],
   "source": [
    "a = 0\n",
    "for i in range(14):\n",
    "    b = cluster[i].shape[0]\n",
    "    a += b\n",
    "    print('cluster {} : {} clients'.format(i,b))"
   ]
  },
  {
   "cell_type": "markdown",
   "metadata": {},
   "source": [
    "la catégorie 5 contient trop de clients et est difficilement exploitable directement. Peut-on la redécouper?"
   ]
  },
  {
   "cell_type": "markdown",
   "metadata": {},
   "source": [
    "### Clustering de la catégorie 5"
   ]
  },
  {
   "cell_type": "code",
   "execution_count": null,
   "metadata": {
    "ExecuteTime": {
     "end_time": "2020-01-18T14:53:01.322187Z",
     "start_time": "2020-01-18T14:41:01.312367Z"
    }
   },
   "outputs": [],
   "source": [
    "dict_silhouette_cat5 = {}\n",
    "dict_kmeans_cat5 = {}\n",
    "for i in range(2,15,1):\n",
    "    dict_kmeans_cat5[i] = KMeans(n_clusters=i, \n",
    "                    verbose=1, \n",
    "                    random_state=0,\n",
    "                   n_jobs=-1).fit(X3.loc[X_tot_2[X_tot_2['label'] == 5].index])\n",
    "    dict_silhouette_cat5[i] = (silhouette_score(X = X3.loc[X_tot_2[X_tot_2['label'] == 5].index],\n",
    "                         labels= list(dict_kmeans_cat5[i].labels_)))"
   ]
  },
  {
   "cell_type": "code",
   "execution_count": null,
   "metadata": {
    "ExecuteTime": {
     "end_time": "2020-01-18T14:53:01.384676Z",
     "start_time": "2020-01-18T14:53:01.337812Z"
    }
   },
   "outputs": [],
   "source": [
    "dict_silhouette_cat5"
   ]
  },
  {
   "cell_type": "markdown",
   "metadata": {},
   "source": [
    "Ce sous clustering n'est pas concluant"
   ]
  },
  {
   "cell_type": "markdown",
   "metadata": {},
   "source": [
    "### Les clients les plus dépensiers"
   ]
  },
  {
   "cell_type": "code",
   "execution_count": null,
   "metadata": {
    "ExecuteTime": {
     "end_time": "2020-01-18T14:53:01.770040Z",
     "start_time": "2020-01-18T14:53:01.384676Z"
    }
   },
   "outputs": [],
   "source": [
    "recap = X_tot_2.drop(['Nb_pdts', 'Tot_moy_achats', 'Delai_Moy_Commande',\n",
    "       'order_purchase_timestamp', 'heure_achat', 'jour_achat',\n",
    "       'delai_dernier_achat', 'Note_Moy_Com', 'Moy_Paiment', 'Facilités',\n",
    "       'geolocation_lat', 'geolocation_lng','label_reduce'], axis=1).groupby('label').sum()"
   ]
  },
  {
   "cell_type": "code",
   "execution_count": null,
   "metadata": {
    "ExecuteTime": {
     "end_time": "2020-01-18T14:53:01.785673Z",
     "start_time": "2020-01-18T14:53:01.770040Z"
    }
   },
   "outputs": [],
   "source": [
    "recap.columns"
   ]
  },
  {
   "cell_type": "code",
   "execution_count": null,
   "metadata": {
    "ExecuteTime": {
     "end_time": "2020-01-18T14:53:01.801281Z",
     "start_time": "2020-01-18T14:53:01.785673Z"
    }
   },
   "outputs": [],
   "source": [
    "recap = pd.DataFrame(recap)"
   ]
  },
  {
   "cell_type": "code",
   "execution_count": null,
   "metadata": {
    "ExecuteTime": {
     "end_time": "2020-01-18T14:53:01.839037Z",
     "start_time": "2020-01-18T14:53:01.801281Z"
    }
   },
   "outputs": [],
   "source": []
  },
  {
   "cell_type": "code",
   "execution_count": null,
   "metadata": {
    "ExecuteTime": {
     "end_time": "2020-01-18T14:53:01.901524Z",
     "start_time": "2020-01-18T14:53:01.839037Z"
    }
   },
   "outputs": [],
   "source": [
    "recap['count'] = X_tot_2.groupby('label').count().mean(axis=1)"
   ]
  },
  {
   "cell_type": "code",
   "execution_count": null,
   "metadata": {
    "ExecuteTime": {
     "end_time": "2020-01-18T14:53:01.917146Z",
     "start_time": "2020-01-18T14:53:01.901524Z"
    }
   },
   "outputs": [],
   "source": []
  },
  {
   "cell_type": "code",
   "execution_count": null,
   "metadata": {
    "ExecuteTime": {
     "end_time": "2020-01-18T14:53:02.001769Z",
     "start_time": "2020-01-18T14:53:01.917146Z"
    }
   },
   "outputs": [],
   "source": []
  },
  {
   "cell_type": "code",
   "execution_count": null,
   "metadata": {
    "ExecuteTime": {
     "end_time": "2020-01-18T16:34:18.031868Z",
     "start_time": "2020-01-18T16:34:18.011619Z"
    }
   },
   "outputs": [],
   "source": []
  },
  {
   "cell_type": "code",
   "execution_count": null,
   "metadata": {
    "ExecuteTime": {
     "end_time": "2020-01-18T14:53:02.017392Z",
     "start_time": "2020-01-18T14:53:02.001769Z"
    }
   },
   "outputs": [],
   "source": []
  },
  {
   "cell_type": "code",
   "execution_count": null,
   "metadata": {
    "ExecuteTime": {
     "end_time": "2020-01-18T14:53:02.572039Z",
     "start_time": "2020-01-18T14:53:02.023908Z"
    }
   },
   "outputs": [],
   "source": []
  },
  {
   "cell_type": "markdown",
   "metadata": {
    "ExecuteTime": {
     "end_time": "2020-01-12T17:55:40.813806Z",
     "start_time": "2020-01-12T17:55:40.587067Z"
    }
   },
   "source": [
    "Clusters les plus dépensiers : Clusters 9 et 13\n",
    "il s'agit des catégories qui dépensent le plus dans les catégories \"home\" et \"electronics\""
   ]
  },
  {
   "cell_type": "code",
   "execution_count": null,
   "metadata": {
    "ExecuteTime": {
     "end_time": "2020-01-18T14:53:02.872790Z",
     "start_time": "2020-01-18T14:53:02.741298Z"
    }
   },
   "outputs": [],
   "source": [
    "cluster[9].describe().loc[['mean', 'std', 'min','50%','max']]"
   ]
  },
  {
   "cell_type": "code",
   "execution_count": null,
   "metadata": {
    "ExecuteTime": {
     "end_time": "2020-01-18T16:35:16.971586Z",
     "start_time": "2020-01-18T16:35:16.776392Z"
    }
   },
   "outputs": [],
   "source": [
    "cluster[13].describe().loc[['mean', 'std', 'min','50%','max']]"
   ]
  },
  {
   "cell_type": "code",
   "execution_count": null,
   "metadata": {
    "ExecuteTime": {
     "end_time": "2020-01-18T16:35:28.961578Z",
     "start_time": "2020-01-18T16:35:28.941466Z"
    }
   },
   "outputs": [],
   "source": [
    "for i in [9,13]:\n",
    "    print('Nombre clients cluster ',i,': ', cluster[i].shape[0])"
   ]
  },
  {
   "cell_type": "markdown",
   "metadata": {},
   "source": [
    "### Les clients les moins dépensiers"
   ]
  },
  {
   "cell_type": "markdown",
   "metadata": {},
   "source": [
    "Cluster 5 : les moins dépensiers et qui ont le moins recours aux facilités de paiement => opportunité de leur faire des offres sur les facilités de paiement"
   ]
  },
  {
   "cell_type": "code",
   "execution_count": null,
   "metadata": {
    "ExecuteTime": {
     "end_time": "2020-01-18T14:53:03.258167Z",
     "start_time": "2020-01-18T14:53:03.042041Z"
    }
   },
   "outputs": [],
   "source": [
    "cluster[5].describe().loc[['mean', 'std', 'min','50%','max']]"
   ]
  },
  {
   "cell_type": "code",
   "execution_count": null,
   "metadata": {
    "ExecuteTime": {
     "end_time": "2020-01-18T14:53:03.273787Z",
     "start_time": "2020-01-18T14:53:03.258167Z"
    }
   },
   "outputs": [],
   "source": [
    "print('Nombre clients cluster ',5,': ', cluster[5].shape[0])"
   ]
  },
  {
   "cell_type": "markdown",
   "metadata": {},
   "source": [
    "### Les clients qui ont acheté le plus grand nombre de produits"
   ]
  },
  {
   "cell_type": "markdown",
   "metadata": {},
   "source": [
    "Cluster 12 : ils mettent en moyenne une moins bonne note"
   ]
  },
  {
   "cell_type": "code",
   "execution_count": null,
   "metadata": {
    "ExecuteTime": {
     "end_time": "2020-01-18T14:53:03.458698Z",
     "start_time": "2020-01-18T14:53:03.273787Z"
    }
   },
   "outputs": [],
   "source": [
    "cluster[9].describe().loc[['mean', 'std', 'min','50%','max']]"
   ]
  },
  {
   "cell_type": "code",
   "execution_count": null,
   "metadata": {
    "ExecuteTime": {
     "end_time": "2020-01-18T14:53:03.474321Z",
     "start_time": "2020-01-18T14:53:03.458698Z"
    }
   },
   "outputs": [],
   "source": [
    "print('Nombre clients cluster ',9,': ', cluster[9].shape[0])"
   ]
  },
  {
   "cell_type": "markdown",
   "metadata": {},
   "source": [
    "### Les longs délais de livraison"
   ]
  },
  {
   "cell_type": "markdown",
   "metadata": {},
   "source": [
    "Cluster 3 : ceux qui ont eu un long délai de commande et mettent des mauvaises notes => leur proposer une livraison rapide pour améliorer leur expérience"
   ]
  },
  {
   "cell_type": "code",
   "execution_count": null,
   "metadata": {
    "ExecuteTime": {
     "end_time": "2020-01-18T14:53:03.621428Z",
     "start_time": "2020-01-18T14:53:03.474321Z"
    }
   },
   "outputs": [],
   "source": [
    "cluster[3].describe().loc[['mean', 'std', 'min','50%','max']]"
   ]
  },
  {
   "cell_type": "code",
   "execution_count": null,
   "metadata": {
    "ExecuteTime": {
     "end_time": "2020-01-18T14:53:03.643569Z",
     "start_time": "2020-01-18T14:53:03.621428Z"
    }
   },
   "outputs": [],
   "source": [
    "print('Nombre clients cluster ',3,': ', cluster[3].shape[0])"
   ]
  },
  {
   "cell_type": "markdown",
   "metadata": {},
   "source": [
    "### Les très longs délais de livraison (> 1 mois)"
   ]
  },
  {
   "cell_type": "code",
   "execution_count": null,
   "metadata": {
    "ExecuteTime": {
     "end_time": "2020-01-18T14:53:03.790685Z",
     "start_time": "2020-01-18T14:53:03.643569Z"
    }
   },
   "outputs": [],
   "source": [
    "cluster[3][cluster[3]['Delai_Moy_Commande']>30].describe()"
   ]
  },
  {
   "cell_type": "code",
   "execution_count": null,
   "metadata": {
    "ExecuteTime": {
     "end_time": "2020-01-18T14:53:03.821924Z",
     "start_time": "2020-01-18T14:53:03.790685Z"
    }
   },
   "outputs": [],
   "source": [
    "cluster[3][cluster[3]['Delai_Moy_Commande']>30].shape"
   ]
  },
  {
   "cell_type": "markdown",
   "metadata": {},
   "source": [
    "### Les catégories les plus achetées"
   ]
  },
  {
   "cell_type": "markdown",
   "metadata": {
    "ExecuteTime": {
     "end_time": "2020-01-18T09:56:28.170126Z",
     "start_time": "2020-01-18T09:56:28.138884Z"
    }
   },
   "source": [
    "**les catégories les plus achetées:**"
   ]
  },
  {
   "cell_type": "code",
   "execution_count": null,
   "metadata": {
    "ExecuteTime": {
     "end_time": "2020-01-18T14:53:04.260553Z",
     "start_time": "2020-01-18T14:53:03.821924Z"
    }
   },
   "outputs": [],
   "source": [
    "liste_col = [('price', 'home'), ('price', 'appliances'),\n",
    "       ('price', 'construction'), ('price', 'office'),\n",
    "       ('price', 'electronics'), ('price', 'arts'), ('price', 'fashion'),\n",
    "       ('price', 'health_beauty'), ('price', 'sports_leisure'),\n",
    "       ('price', 'garden_pets'), ('price', 'auto'),\n",
    "       ('price', 'food_drinks'), ('price', 'other')]\n",
    "dict_val = {}\n",
    "for column in liste_col:\n",
    "    dict_val[str(column).split(\"'\")[3]] = data[str(column)].sum()/data.shape[0]\n",
    "\n",
    "plt.figure(figsize=(8,5))\n",
    "plt.title('Montant moyen de dépense par catégorie de produit')\n",
    "sns.barplot(y = 'index',\n",
    "            x='price',\n",
    "            data = pd.DataFrame(dict_val, index=['price']).T.reset_index().sort_values(by='price', ascending=False))"
   ]
  },
  {
   "cell_type": "code",
   "execution_count": null,
   "metadata": {
    "ExecuteTime": {
     "end_time": "2020-01-18T14:53:04.423308Z",
     "start_time": "2020-01-18T14:53:04.260553Z"
    }
   },
   "outputs": [],
   "source": [
    "cluster[11].describe().loc[['mean', 'std', 'min','50%','max']]"
   ]
  },
  {
   "cell_type": "code",
   "execution_count": null,
   "metadata": {
    "ExecuteTime": {
     "end_time": "2020-01-18T14:53:04.576964Z",
     "start_time": "2020-01-18T14:53:04.423308Z"
    }
   },
   "outputs": [],
   "source": [
    "cluster[7][cluster[7]['Nb_pdts']>2].describe().loc[['mean', 'std', 'min','50%','max']]"
   ]
  },
  {
   "cell_type": "code",
   "execution_count": null,
   "metadata": {
    "ExecuteTime": {
     "end_time": "2020-01-18T14:53:04.746214Z",
     "start_time": "2020-01-18T14:53:04.576964Z"
    },
    "scrolled": true
   },
   "outputs": [],
   "source": [
    "cluster[7][cluster[7]['Nb_pdts']>2].describe().loc[['mean', 'std', 'min','50%','max']]"
   ]
  },
  {
   "cell_type": "code",
   "execution_count": null,
   "metadata": {
    "ExecuteTime": {
     "end_time": "2020-01-18T14:53:04.761834Z",
     "start_time": "2020-01-18T14:53:04.746214Z"
    }
   },
   "outputs": [],
   "source": [
    "for i in range(13):\n",
    "    print('Nombre clients cluster ',i,': ', cluster[i].shape[0])"
   ]
  },
  {
   "cell_type": "markdown",
   "metadata": {},
   "source": [
    "### Les clients ayant acheté le plus de produits"
   ]
  },
  {
   "cell_type": "code",
   "execution_count": null,
   "metadata": {
    "ExecuteTime": {
     "end_time": "2020-01-18T14:53:04.808699Z",
     "start_time": "2020-01-18T14:53:04.761834Z"
    }
   },
   "outputs": [],
   "source": [
    "data[data['Nb_pdts'] >=4].shape"
   ]
  },
  {
   "cell_type": "code",
   "execution_count": null,
   "metadata": {
    "ExecuteTime": {
     "end_time": "2020-01-18T14:53:04.846455Z",
     "start_time": "2020-01-18T14:53:04.808699Z"
    }
   },
   "outputs": [],
   "source": [
    "data.loc[data[data['Nb_pdts'] >=2].index].shape"
   ]
  },
  {
   "cell_type": "markdown",
   "metadata": {},
   "source": [
    "### Les clients les plus satisfaits de leurs produits"
   ]
  },
  {
   "cell_type": "code",
   "execution_count": null,
   "metadata": {
    "ExecuteTime": {
     "end_time": "2020-01-18T14:53:04.893318Z",
     "start_time": "2020-01-18T14:53:04.846455Z"
    },
    "scrolled": true
   },
   "outputs": [],
   "source": [
    "data['Note_Moy_Com'].describe()"
   ]
  },
  {
   "cell_type": "code",
   "execution_count": null,
   "metadata": {
    "ExecuteTime": {
     "end_time": "2020-01-18T14:53:04.924560Z",
     "start_time": "2020-01-18T14:53:04.893318Z"
    }
   },
   "outputs": [],
   "source": [
    "data[data['Note_Moy_Com']==5].shape"
   ]
  },
  {
   "cell_type": "code",
   "execution_count": null,
   "metadata": {
    "ExecuteTime": {
     "end_time": "2020-01-18T14:53:04.993561Z",
     "start_time": "2020-01-18T14:53:04.924560Z"
    }
   },
   "outputs": [],
   "source": [
    "data.head()"
   ]
  },
  {
   "cell_type": "code",
   "execution_count": null,
   "metadata": {
    "ExecuteTime": {
     "end_time": "2020-01-18T14:53:05.024805Z",
     "start_time": "2020-01-18T14:53:04.993561Z"
    }
   },
   "outputs": [],
   "source": [
    "data.loc[data[data['Nb_pdts'] >=2].index].shape"
   ]
  },
  {
   "cell_type": "markdown",
   "metadata": {},
   "source": [
    "### clients les moins satisfaits de leurs produits"
   ]
  },
  {
   "cell_type": "code",
   "execution_count": null,
   "metadata": {
    "ExecuteTime": {
     "end_time": "2020-01-18T14:53:05.046943Z",
     "start_time": "2020-01-18T14:53:05.024805Z"
    }
   },
   "outputs": [],
   "source": [
    "data[data['Note_Moy_Com']==1].shape"
   ]
  },
  {
   "cell_type": "markdown",
   "metadata": {},
   "source": [
    "### clustering des clients qui consomment le plus"
   ]
  },
  {
   "cell_type": "code",
   "execution_count": null,
   "metadata": {
    "ExecuteTime": {
     "end_time": "2020-01-18T14:53:05.062563Z",
     "start_time": "2020-01-18T14:53:05.046943Z"
    }
   },
   "outputs": [],
   "source": [
    "X3 = pd.DataFrame(X_pca_tot, index = data.index)"
   ]
  },
  {
   "cell_type": "markdown",
   "metadata": {},
   "source": [
    "Sélection des clients qui ont acheté plus de 4 produits"
   ]
  },
  {
   "cell_type": "code",
   "execution_count": null,
   "metadata": {
    "ExecuteTime": {
     "end_time": "2020-01-18T14:53:18.302483Z",
     "start_time": "2020-01-18T14:53:05.062563Z"
    },
    "scrolled": true
   },
   "outputs": [],
   "source": [
    "dict_silhouette = {}\n",
    "dict_kmeans_consumers = {}\n",
    "for i in range(3,15,1):\n",
    "    dict_kmeans_consumers[i] = KMeans(n_clusters=i, \n",
    "                    verbose=1, \n",
    "                    random_state=0,\n",
    "                   n_jobs=-1).fit(X3.loc[data[data['Nb_pdts'] >=4].index])\n",
    "    dict_silhouette[i] = (silhouette_score(X = X3.loc[data[data['Nb_pdts'] >=4].index],\n",
    "                         labels= list(dict_kmeans_consumers[i].labels_)))"
   ]
  },
  {
   "cell_type": "code",
   "execution_count": null,
   "metadata": {
    "ExecuteTime": {
     "end_time": "2020-01-18T14:53:18.324620Z",
     "start_time": "2020-01-18T14:53:18.302483Z"
    }
   },
   "outputs": [],
   "source": [
    "dict_silhouette"
   ]
  },
  {
   "cell_type": "code",
   "execution_count": null,
   "metadata": {
    "ExecuteTime": {
     "end_time": "2020-01-18T14:53:18.340241Z",
     "start_time": "2020-01-18T14:53:18.324620Z"
    }
   },
   "outputs": [],
   "source": [
    "print(max(dict_silhouette.values()))"
   ]
  },
  {
   "cell_type": "code",
   "execution_count": null,
   "metadata": {
    "ExecuteTime": {
     "end_time": "2020-01-18T14:53:18.355863Z",
     "start_time": "2020-01-18T14:53:18.340241Z"
    }
   },
   "outputs": [],
   "source": [
    "list(dict_silhouette.keys())[list(dict_silhouette.values()).index(max(dict_silhouette.values()))]"
   ]
  },
  {
   "cell_type": "code",
   "execution_count": null,
   "metadata": {
    "ExecuteTime": {
     "end_time": "2020-01-18T14:53:18.424878Z",
     "start_time": "2020-01-18T14:53:18.355863Z"
    }
   },
   "outputs": [],
   "source": [
    "X_most_imp_cat = data.copy()[data['Nb_pdts'] >=4]\n",
    "X_most_imp_cat['label'] = dict_kmeans_consumers[8].labels_"
   ]
  },
  {
   "cell_type": "code",
   "execution_count": null,
   "metadata": {
    "ExecuteTime": {
     "end_time": "2020-01-18T14:53:18.441570Z",
     "start_time": "2020-01-18T14:53:18.425916Z"
    }
   },
   "outputs": [],
   "source": [
    "X_most_imp_cat.shape"
   ]
  },
  {
   "cell_type": "markdown",
   "metadata": {},
   "source": [
    "cela représente 4600 clients potentiels"
   ]
  },
  {
   "cell_type": "code",
   "execution_count": null,
   "metadata": {
    "ExecuteTime": {
     "end_time": "2020-01-18T14:53:22.713979Z",
     "start_time": "2020-01-18T14:53:18.441570Z"
    }
   },
   "outputs": [],
   "source": [
    "for column in X_most_imp_cat.drop(['order_purchase_timestamp', 'heure_achat', 'jour_achat', 'label'], axis=1).columns:\n",
    "    plt.figure(figsize=(7,5))\n",
    "    titre = 'Moyenne de ' + str(column) + ' pour chaque cluster' \n",
    "    plt.title(titre)\n",
    "    sns.barplot(x = 'label',\n",
    "                y = column,\n",
    "                data = X_most_imp_cat, \n",
    "                ci=\"sd\")\n",
    "    plt.show()"
   ]
  },
  {
   "cell_type": "code",
   "execution_count": null,
   "metadata": {
    "ExecuteTime": {
     "end_time": "2020-01-18T14:53:22.736156Z",
     "start_time": "2020-01-18T14:53:22.713979Z"
    }
   },
   "outputs": [],
   "source": [
    "X_most_imp_cat.shape"
   ]
  },
  {
   "cell_type": "markdown",
   "metadata": {},
   "source": [
    "La différence entre les clusters se fait principalement par les catégories de dépense:\n",
    "* les individus du cluster 1 a dépensé en moyenne 1200 en produit 'home'\n",
    "* les individus du  du cluster 3 ont dépensé en moyenne plus de 370 dans la catégorie 'appliances'\n",
    "* les individus du cluster 5 ont dépensé en moyenne 600 dans la catégorie electronics\n",
    "* les individus du cluster 0 ont dépensé en moyenne 600 dans la catégorie health/beauty\n",
    "* les individus du cluster 6 ont dépensé en moyenne 350 dans la catégorie fashion\n",
    "* les individus du cluster 7 ont dépensé en moyenne 400 dans la catégorie sport/leisure\n",
    "* les individus du cluster 2 ont dépensé en moyenne plus de 400 dans la catégorie \"garden\" / pets\n",
    "* les individus du cluster 4 ont dépensé en moyenne 300 dans la catégorie 'home' \n",
    "\n",
    "on peut par exemple cibler prioritairement ces clients pour des publicités de produits des catégories indiquées ci-dessus\n",
    "\n",
    "Certaines catégories de produits séduisent davantage de catégories de clients que d'autres, c'est notamment le cas des catégories home, electronics et health beauty qui ont des acheteurs dans tous les clusters. Il y a un levier potentiellement exploitable pour rediriger les clients des autres catégories vers ces catégories"
   ]
  },
  {
   "cell_type": "code",
   "execution_count": null,
   "metadata": {},
   "outputs": [],
   "source": []
  },
  {
   "cell_type": "code",
   "execution_count": null,
   "metadata": {},
   "outputs": [],
   "source": []
  },
  {
   "cell_type": "code",
   "execution_count": null,
   "metadata": {},
   "outputs": [],
   "source": []
  },
  {
   "cell_type": "code",
   "execution_count": null,
   "metadata": {},
   "outputs": [],
   "source": []
  },
  {
   "cell_type": "markdown",
   "metadata": {},
   "source": [
    "# Caractérisation évolution dans le temps  "
   ]
  },
  {
   "cell_type": "markdown",
   "metadata": {},
   "source": [
    "* Idée : on pourrait réduire les données en retirant les derniers mois de données et voir si les clusters évoluent ou non : si oui cela veut dire qu’il faut actualiser sur une période de temps plus faible\n",
    "* Essayer en isolant une région ou autre variable pour voir si le cluster est robuste ou non\n"
   ]
  },
  {
   "cell_type": "code",
   "execution_count": null,
   "metadata": {
    "ExecuteTime": {
     "end_time": "2020-01-18T14:53:22.751790Z",
     "start_time": "2020-01-18T14:53:22.736156Z"
    }
   },
   "outputs": [],
   "source": [
    "data['order_purchase_timestamp'] = data['order_purchase_timestamp'].astype('datetime64')"
   ]
  },
  {
   "cell_type": "code",
   "execution_count": null,
   "metadata": {
    "ExecuteTime": {
     "end_time": "2020-01-18T14:53:22.814227Z",
     "start_time": "2020-01-18T14:53:22.751790Z"
    }
   },
   "outputs": [],
   "source": [
    "data['order_purchase_timestamp'].describe()"
   ]
  },
  {
   "cell_type": "markdown",
   "metadata": {},
   "source": [
    "Pour voir si le clustering est stable:\n",
    "* on va retirer du jeu de données tous les clients dont le dernier achat date d'il y a moins de n mois avec différents pas"
   ]
  },
  {
   "cell_type": "code",
   "execution_count": null,
   "metadata": {
    "ExecuteTime": {
     "end_time": "2020-01-18T14:53:22.898852Z",
     "start_time": "2020-01-18T14:53:22.814227Z"
    }
   },
   "outputs": [],
   "source": [
    "X_tot"
   ]
  },
  {
   "cell_type": "markdown",
   "metadata": {},
   "source": [
    "## Préparation jeu de données"
   ]
  },
  {
   "cell_type": "markdown",
   "metadata": {},
   "source": [
    "Faisons un test de clustering en retirant les 3 derniers mois du jeu de données (test de faisabilité en retirant tous les clients qui ont fait un achat dans les 3 derniers mois)"
   ]
  },
  {
   "cell_type": "code",
   "execution_count": null,
   "metadata": {
    "ExecuteTime": {
     "end_time": "2020-01-18T14:53:22.914472Z",
     "start_time": "2020-01-18T14:53:22.898852Z"
    }
   },
   "outputs": [],
   "source": [
    "data['order_purchase_timestamp'].max()"
   ]
  },
  {
   "cell_type": "code",
   "execution_count": null,
   "metadata": {
    "ExecuteTime": {
     "end_time": "2020-01-18T14:53:22.952231Z",
     "start_time": "2020-01-18T14:53:22.914472Z"
    }
   },
   "outputs": [],
   "source": [
    "data[data['order_purchase_timestamp'] < '2018-05-21 09:04:45'].shape"
   ]
  },
  {
   "cell_type": "code",
   "execution_count": null,
   "metadata": {
    "ExecuteTime": {
     "end_time": "2020-01-18T14:53:22.999099Z",
     "start_time": "2020-01-18T14:53:22.952231Z"
    }
   },
   "outputs": [],
   "source": [
    "X_old = data[data['order_purchase_timestamp'] < '2018-05-21 09:04:45'].copy()"
   ]
  },
  {
   "cell_type": "code",
   "execution_count": null,
   "metadata": {
    "ExecuteTime": {
     "end_time": "2020-01-18T14:53:23.315489Z",
     "start_time": "2020-01-18T14:53:22.999099Z"
    }
   },
   "outputs": [],
   "source": [
    "categorical_columns = X_old.select_dtypes(['category','object']).columns\n",
    "numerical_columns = X_old.select_dtypes(['int32','float64']).columns\n",
    "\n",
    "\n",
    "X_old[numerical_columns] = ss.transform(X_old[numerical_columns])\n",
    "ohe.fit(X_old[categorical_columns])"
   ]
  },
  {
   "cell_type": "code",
   "execution_count": null,
   "metadata": {
    "ExecuteTime": {
     "end_time": "2020-01-18T14:53:23.469129Z",
     "start_time": "2020-01-18T14:53:23.315489Z"
    }
   },
   "outputs": [],
   "source": [
    "X_old = pd.merge(X_old[numerical_columns], \n",
    "          pd.DataFrame(columns = ohe.get_feature_names().tolist(),\n",
    "              data = ohe.fit_transform(X_old[categorical_columns])).set_index(X_old.index),\n",
    "        left_index = True, right_index = True)"
   ]
  },
  {
   "cell_type": "markdown",
   "metadata": {},
   "source": [
    "## ACP"
   ]
  },
  {
   "cell_type": "code",
   "execution_count": null,
   "metadata": {
    "ExecuteTime": {
     "end_time": "2020-01-18T14:53:23.538140Z",
     "start_time": "2020-01-18T14:53:23.469129Z"
    }
   },
   "outputs": [],
   "source": [
    "X_pca_old = pca_tot.transform(X_old)[:,:18]"
   ]
  },
  {
   "cell_type": "markdown",
   "metadata": {},
   "source": [
    "## Kmeans"
   ]
  },
  {
   "cell_type": "code",
   "execution_count": null,
   "metadata": {
    "ExecuteTime": {
     "end_time": "2020-01-18T18:26:57.908977Z",
     "start_time": "2020-01-18T18:00:56.454276Z"
    }
   },
   "outputs": [],
   "source": [
    "inertia = {}\n",
    "dict_kmeans = {}\n",
    "dict_silhouette = {}\n",
    "for k in range(5,20):\n",
    "    kmeans_old = KMeans(n_clusters=k,\n",
    "                   verbose=1,\n",
    "                   random_state=0,\n",
    "                   n_jobs=-1).fit(X_pca_old)\n",
    "    inertia[k] = kmeans.inertia_\n",
    "    dict_kmeans[k] = kmeans\n",
    "    dict_silhouette[k] = silhouette_score(X = X_pca_old, labels= kmeans_old.labels_)\n",
    "    print('Boucle {} - Silhouette score : {}'.format(k, dict_silhouette[k]))\n",
    "    "
   ]
  },
  {
   "cell_type": "markdown",
   "metadata": {
    "ExecuteTime": {
     "end_time": "2020-01-18T21:02:00.007094Z",
     "start_time": "2020-01-18T21:01:59.738810Z"
    }
   },
   "source": [
    "Le nombre de clusters qui maximise le coefficient de silhouette est toujours 14. Sa valeur est comparable à celle obtenue pour le jeu complet"
   ]
  },
  {
   "cell_type": "markdown",
   "metadata": {},
   "source": [
    "## Représentation"
   ]
  },
  {
   "cell_type": "code",
   "execution_count": null,
   "metadata": {
    "ExecuteTime": {
     "end_time": "2020-01-18T17:17:32.763971Z",
     "start_time": "2020-01-18T17:17:32.713869Z"
    }
   },
   "outputs": [],
   "source": [
    "X_old.shape"
   ]
  },
  {
   "cell_type": "code",
   "execution_count": null,
   "metadata": {
    "ExecuteTime": {
     "end_time": "2020-01-18T17:17:32.804084Z",
     "start_time": "2020-01-18T17:17:32.773723Z"
    }
   },
   "outputs": [],
   "source": [
    "kmeans_old.labels_.shape"
   ]
  },
  {
   "cell_type": "code",
   "execution_count": null,
   "metadata": {
    "ExecuteTime": {
     "end_time": "2020-01-18T17:50:02.121168Z",
     "start_time": "2020-01-18T17:50:01.642029Z"
    }
   },
   "outputs": [],
   "source": [
    "X_tot_old = data[data['order_purchase_timestamp'] < '2018-05-21 09:04:45'].copy().copy()\n",
    "X_tot_old['label'] = kmeans_old.labels_"
   ]
  },
  {
   "cell_type": "code",
   "execution_count": null,
   "metadata": {
    "ExecuteTime": {
     "end_time": "2020-01-18T17:50:13.329723Z",
     "start_time": "2020-01-18T17:50:02.205792Z"
    }
   },
   "outputs": [],
   "source": [
    "for column in group_columns.columns:\n",
    "    try:\n",
    "        plt.figure(figsize=(7,5))\n",
    "        titre = 'Moyenne de ' + str(column) + ' pour chaque cluster' \n",
    "        plt.title(titre)\n",
    "        sns.barplot(x = 'label',\n",
    "                    y = column,\n",
    "                    data = X_tot_old, \n",
    "                    ci=\"sd\")\n",
    "        plt.show()\n",
    "    except:\n",
    "        print('Erreur colonne : ', column)"
   ]
  },
  {
   "cell_type": "markdown",
   "metadata": {},
   "source": [
    "On constate que les différentes observations constatées dans le précédent clustering sont conservées, notamment:\n",
    "* cat 8 : les plus dépensiers pour home et ceux qui ont acheté le plus de produits\n",
    "* cat 3 : les 2e plus dépensiers et les plus dépensiers dans la catégorie électronics\n",
    "* cat 2 : délai moyen de commande plus élevé que les autres et moyenne de notes commentaires plus basse que la moyenne\n",
    "* pour le reste les catégories semblent représentées de façon similaire\n"
   ]
  },
  {
   "cell_type": "markdown",
   "metadata": {},
   "source": [
    "On constate par contre que différentes valeurs évoluent sensiblement comme les notes moyennes de commentaires (de 3,1 à 3,4 par exemple pour la catégorie la moins satisfaite).\n",
    "On peut "
   ]
  },
  {
   "cell_type": "code",
   "execution_count": null,
   "metadata": {},
   "outputs": [],
   "source": []
  },
  {
   "cell_type": "code",
   "execution_count": null,
   "metadata": {},
   "outputs": [],
   "source": []
  }
 ],
 "metadata": {
  "kernelspec": {
   "display_name": "Python 3",
   "language": "python",
   "name": "python3"
  },
  "language_info": {
   "codemirror_mode": {
    "name": "ipython",
    "version": 3
   },
   "file_extension": ".py",
   "mimetype": "text/x-python",
   "name": "python",
   "nbconvert_exporter": "python",
   "pygments_lexer": "ipython3",
   "version": "3.8.5"
  },
  "toc": {
   "base_numbering": 1,
   "nav_menu": {},
   "number_sections": true,
   "sideBar": true,
   "skip_h1_title": false,
   "title_cell": "Table of Contents",
   "title_sidebar": "Contents",
   "toc_cell": false,
   "toc_position": {
    "height": "calc(100% - 180px)",
    "left": "10px",
    "top": "150px",
    "width": "375.167px"
   },
   "toc_section_display": true,
   "toc_window_display": true
  }
 },
 "nbformat": 4,
 "nbformat_minor": 2
}
